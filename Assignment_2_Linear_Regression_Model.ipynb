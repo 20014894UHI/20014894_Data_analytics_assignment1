{
  "nbformat": 4,
  "nbformat_minor": 0,
  "metadata": {
    "colab": {
      "provenance": [],
      "toc_visible": true,
      "include_colab_link": true
    },
    "kernelspec": {
      "name": "python3",
      "display_name": "Python 3"
    }
  },
  "cells": [
    {
      "cell_type": "markdown",
      "metadata": {
        "id": "view-in-github",
        "colab_type": "text"
      },
      "source": [
        "<a href=\"https://colab.research.google.com/github/20014894UHI/20014894_Data_analytics_assignment1/blob/main/Assignment_2_Linear_Regression_Model.ipynb\" target=\"_parent\"><img src=\"https://colab.research.google.com/assets/colab-badge.svg\" alt=\"Open In Colab\"/></a>"
      ]
    },
    {
      "cell_type": "markdown",
      "source": [
        "# Assignment 2 - Linear Regression Model\n",
        "## Train and test a linear regressor"
      ],
      "metadata": {
        "id": "ukc7zuaWmgH5"
      }
    },
    {
      "cell_type": "markdown",
      "source": [
        "(Shared with 1122131uhi)"
      ],
      "metadata": {
        "id": "Mh4R-ujkpg6b"
      }
    },
    {
      "cell_type": "markdown",
      "source": [
        "End-to-end workflow  consists of\n",
        "- Training\n",
        "- Validation on a holdout set generated from the original training data\n",
        "- Evaluation on the test data"
      ],
      "metadata": {
        "id": "iCbUZsRfbw6Q"
      }
    },
    {
      "cell_type": "code",
      "metadata": {
        "id": "cMHC3fEGpEp_"
      },
      "source": [
        "# needed to create the data frame\n",
        "import pandas as pd\n",
        "\n",
        "# needed to help with speedy maths based calculations\n",
        "import numpy as np\n",
        "\n",
        "# create data frame from csv file we hosted on our github\n",
        "# lrdf = pd.read_csv(\"https://raw.githubusercontent.com/20014894UHI/20014894_Data_analytics_assignment1/main/daassignment2lineardata_b.csv\", index_col=0,)\n",
        "# This one has num_collisions re-included\n",
        "lrdf = pd.read_csv(\"https://raw.githubusercontent.com/20014894UHI/20014894_Data_analytics_assignment1/main/daassignment2lineardata_c.csv\", index_col=0,)\n",
        "#df1 = pd.read_csv('https://raw.githubusercontent.com/20014894UHI/20014894_Data_analytics_assignment1/main/daassignment2lineardata.csv', index_col=0, )"
      ],
      "execution_count": 2,
      "outputs": []
    },
    {
      "cell_type": "code",
      "metadata": {
        "id": "DEw-Y4JWNkh1",
        "outputId": "620eabfe-3b07-44ad-eed0-0d3a92eadad1",
        "colab": {
          "base_uri": "https://localhost:8080/"
        }
      },
      "source": [
        "# make sure we have our data by printing it out\n",
        "print(lrdf[:7])\n",
        "#print(lrdf[:6])\n",
        "# print(df) #all"
      ],
      "execution_count": 5,
      "outputs": [
        {
          "output_type": "stream",
          "name": "stdout",
          "text": [
            "   dowStartSun  scaledCollisions      dewp  temperature  visibility  \\\n",
            "1            6          0.357843 -4.111111     2.500000         9.8   \n",
            "2            7          0.176471  1.833333     5.277778         5.9   \n",
            "3            2          0.284314  0.055556     3.166667         9.2   \n",
            "4            3          0.215686 -1.333333     3.555556        10.0   \n",
            "5            4          0.176471 -3.055556     3.000000        10.0   \n",
            "6            5          0.495098 -6.333333     1.833333        10.0   \n",
            "7            6          0.431373 -6.944444     0.000000        10.0   \n",
            "\n",
            "   wind_speed  snow_depth  bft_wind_scale  num_collisions  fatalities  \\\n",
            "1         4.4         0.0               2             257           2   \n",
            "2         6.2         0.0               2             220           1   \n",
            "3         5.3         0.0               2             242           1   \n",
            "4         3.9         0.0               1             228           0   \n",
            "5         6.4         0.0               2             220           1   \n",
            "6         7.2         0.0               3             285           3   \n",
            "7         4.5         0.0               2             272           0   \n",
            "\n",
            "   injured  weighted_fatalities_injuries  \n",
            "1      105                          12.5  \n",
            "2      106                          11.6  \n",
            "3      101                          11.1  \n",
            "4       92                           9.2  \n",
            "5       87                           9.7  \n",
            "6      125                          15.5  \n",
            "7      117                          11.7  \n"
          ]
        }
      ]
    },
    {
      "cell_type": "code",
      "metadata": {
        "id": "vTMxwMfGPdWJ"
      },
      "source": [
        "# A scale is not required here, but the constant will be useful in the assignment.\n",
        "SCALE_NUM_COLLISIONS = 1.0"
      ],
      "execution_count": 6,
      "outputs": []
    },
    {
      "cell_type": "code",
      "source": [
        "import tensorflow as tf\n",
        "\n",
        "from tensorflow import keras\n",
        "from tensorflow.keras import layers\n",
        "\n",
        "print(tf.__version__) # 2.12"
      ],
      "metadata": {
        "id": "5DzJzm8VY1rG",
        "outputId": "8bd7e769-3df2-4db4-c031-8a56fdf43ac4",
        "colab": {
          "base_uri": "https://localhost:8080/"
        }
      },
      "execution_count": 11,
      "outputs": [
        {
          "output_type": "stream",
          "name": "stdout",
          "text": [
            "2.12.0\n"
          ]
        }
      ]
    },
    {
      "cell_type": "markdown",
      "source": [
        "# Method 1\n",
        "## Univariate linear regression"
      ],
      "metadata": {
        "id": "T0ZZxZoBo0fi"
      }
    },
    {
      "cell_type": "markdown",
      "source": [
        "A linear regression model assumes a linear relationship.\n",
        "scaledCollisions = intercept + temperature * slope + error\n",
        "This is an example of a univariate regression.\n"
      ],
      "metadata": {
        "id": "Xw9ZcaKgtcTS"
      }
    },
    {
      "cell_type": "code",
      "metadata": {
        "id": "2p-7cPGENClE"
      },
      "source": [
        "# create data frame from csv file we hosted on our github\n",
        "lrdc = pd.read_csv(\"https://raw.githubusercontent.com/20014894UHI/20014894_Data_analytics_assignment1/main/daassignment2lineardata_c.csv\", index_col=0,)\n",
        "\n",
        "# DEFINE THE targets and features\n",
        "scaledCollisions = np.array(lrdc['scaledCollisions'], np.float32)\n",
        "temperature = np.array(lrdc['temperature'], np.float32)\n",
        "snow_depth = np.array(lrdc['snow_depth'], np.float32)\n",
        "\n",
        "# define the intercept and slope as trainable variables\n",
        "intercept = tf.Variable (0.1, np.float32)\n",
        "slope = tf.Variable(0.1, np.float32)"
      ],
      "execution_count": null,
      "outputs": []
    },
    {
      "cell_type": "code",
      "source": [
        "# univariate regression model with temperature\n",
        "# Define a Linear Regression Model which we will use to make predictions by multiplying\n",
        "# temperature and slope and adding the intercept\n",
        "def linear_regression(intercept, slope, features = temperature):\n",
        "  return intercept + features * slope\n",
        "\n",
        "#def linear_regression(intercept, slope, feature1 = temperature, feature2 = snow_depth):\n",
        "#  \treturn intercept[0] + feature1*intercept[1] + feature2*intercept[2]\n",
        "\n",
        "# compute the predicted values and loss\n",
        "# Use Mean Squared Error Loss this time\n",
        "def loss_function(intercept, slope, targets = scaledCollisions, features = temperature):\n",
        "  #predictions = linear_regression (intercept, slope) # one example omitted features but think it should be included\n",
        "  predictions = linear_regression (intercept, slope, features)\n",
        "  return tf.keras.losses.mse(targets, predictions)\n",
        "\n",
        "# define an optimization operation\n",
        "# This will change the slope and intercept in a direction that will lower the value of the loss.\n",
        "opt = tf.keras.optimizers.Adam()\n",
        "\n",
        "# aDDED Compute the loss for different slope and intercept values\n",
        "print(loss_function(0.1, 0.1).numpy())\n",
        "print(loss_function(0.1, 0.5).numpy())\n",
        "\n",
        "# Minimise the loss function and print the loss\n",
        "for j in range(1000): # execute 1000 times\n",
        "\t# Apply minimize, pass the loss function, and supply the variables\n",
        "  opt.minimize(lambda:loss_function(intercept, slope), \\\n",
        "  var_list = [intercept, slope])\n",
        "  print (loss_function(intercept,slope))\n",
        "\n",
        "# print the trained parameters\n",
        "# print (intercept.numpy, slope.numpy())\n",
        "# Print every 10th value of the loss\n",
        "if j % 100 == 0:\n",
        "\t\tprint(loss_function(intercept, slope).numpy())"
      ],
      "metadata": {
        "id": "YXUW9TfU5-I0"
      },
      "execution_count": null,
      "outputs": []
    },
    {
      "cell_type": "markdown",
      "source": [
        "The loss tends to decline and move closer to the minimum value with each iteration."
      ],
      "metadata": {
        "id": "05SRH8UJ3qYO"
      }
    },
    {
      "cell_type": "code",
      "source": [
        "import matplotlib.pyplot as plt\n",
        "\n",
        "def plot_results(intercept, slope):\n",
        "    temp_range = np.linspace(-10,40,100)\n",
        "    scaledCollisions_pred = [intercept + slope * s for s in temp_range]\n",
        "    plt.figure(figsize=(8, 8))\n",
        "    plt.scatter(temperature, scaledCollisions, color = 'black');\n",
        "    plt.plot(temp_range, scaledCollisions_pred, linewidth=3.0, color='red');\n",
        "    plt.xlabel('temperature');\n",
        "    plt.ylabel('scaledCollisions');\n",
        "    plt.title('Scatterplot of data and fitted regression line');"
      ],
      "metadata": {
        "id": "29j4fx7azIBW"
      },
      "execution_count": 26,
      "outputs": []
    },
    {
      "cell_type": "code",
      "source": [
        "# Plot data and regression line\n",
        "plot_results(intercept, slope)"
      ],
      "metadata": {
        "colab": {
          "base_uri": "https://localhost:8080/",
          "height": 718
        },
        "id": "3MpQLIjvy3Vl",
        "outputId": "5d39ff5a-5625-4c4e-eee5-d7b68e882034"
      },
      "execution_count": 24,
      "outputs": [
        {
          "output_type": "display_data",
          "data": {
            "text/plain": [
              "<Figure size 800x800 with 1 Axes>"
            ],
            "image/png": "[encoded data removed]"
          },
          "metadata": {}
        }
      ]
    },
    {
      "cell_type": "markdown",
      "source": [
        "## Multivariate linear regression"
      ],
      "metadata": {
        "id": "KsQsUqlt5v8T"
      }
    },
    {
      "cell_type": "markdown",
      "source": [
        "Multiple regression model\n",
        "Again scaledCollisions is the target and temperature and snow_depth are the features. This example switches from the mean squared error loss to the mean absolute error loss: keras.losses.mae().\n",
        "The predicted values are computed as follows: params[0] + feature1 * params[1] + feature2 * params[2]. A vector of parameters (params) is defined as a variable, rather than using three variables. params[0] is the intercept and params[1] and params[2] are the slopes."
      ],
      "metadata": {
        "id": "LCJA18jyTpkf"
      }
    },
    {
      "cell_type": "code",
      "source": [
        "def print_results(params):\n",
        "    return print('loss: {:0.3f}, intercept: {:0.3f}, slope_1: {:0.3f}, slope_2: {:0.3f}'\n",
        "                 .format(loss_function(params).numpy(),\n",
        "                         params[0].numpy(),\n",
        "                         params[1].numpy(),\n",
        "                         params[2].numpy()))"
      ],
      "metadata": {
        "id": "DOHqCKWrXkJm"
      },
      "execution_count": 36,
      "outputs": []
    },
    {
      "cell_type": "code",
      "source": [
        "# Multivariate linear regression\n",
        "params = tf.Variable([0.1, 0.05, 0.02], tf.float32)\n",
        "# Define a Linear Regression Model which we will use to make predictions by multiplying\n",
        "# temperature and slope and adding the intercept\n",
        "def linear_regression(params, feature1=temperature, feature2=snow_depth):\n",
        "\treturn params[0] + feature1*params[1] + feature2*params[2]\n",
        "\n",
        "# Define the loss function\n",
        "def loss_function(params, targets=scaledCollisions, feature1=temperature, feature2=snow_depth):\n",
        "  # Set the predicted values\n",
        "\tpredictions = linear_regression(params, feature1, feature2)\n",
        "  # The predicted values are computed as follows:\n",
        "  # params[0] + feature1 * params[1] + feature2 * params[2].\n",
        "  # A vector of parameters (params) is defined as a variable, rather than using three variables.\n",
        "  # params[0] is the intercept and params[1] and params[2] are the slopes.\n",
        "\n",
        "  # Use the mean absolute error loss this time\n",
        "\treturn keras.losses.mae(targets, predictions)\n",
        "\n",
        "# Define the optimize operation\n",
        "opt = keras.optimizers.Adam()\n",
        "\n",
        "# Perform minimization and print trainable variables\n",
        "for j in range(10):\n",
        "\topt.minimize(lambda: loss_function(params), var_list=[params])\n",
        "\tprint_results(params)\n",
        "\n",
        " # ADDED\n",
        " # Print trained parameters\n",
        "print(params.numpy(), slope.numpy())"
      ],
      "metadata": {
        "colab": {
          "base_uri": "https://localhost:8080/"
        },
        "id": "DCD6PjRh1hJI",
        "outputId": "c877b2de-ed61-4deb-c5ba-a417fafa6877"
      },
      "execution_count": 41,
      "outputs": [
        {
          "output_type": "stream",
          "name": "stdout",
          "text": [
            "loss: 0.470, intercept: 0.099, slope_1: 0.049, slope_2: 0.019\n",
            "loss: 0.452, intercept: 0.098, slope_1: 0.048, slope_2: 0.018\n",
            "loss: 0.435, intercept: 0.097, slope_1: 0.047, slope_2: 0.017\n",
            "loss: 0.417, intercept: 0.096, slope_1: 0.046, slope_2: 0.016\n",
            "loss: 0.400, intercept: 0.095, slope_1: 0.045, slope_2: 0.015\n",
            "loss: 0.383, intercept: 0.094, slope_1: 0.044, slope_2: 0.014\n",
            "loss: 0.367, intercept: 0.093, slope_1: 0.043, slope_2: 0.013\n",
            "loss: 0.352, intercept: 0.092, slope_1: 0.042, slope_2: 0.012\n",
            "loss: 0.337, intercept: 0.091, slope_1: 0.041, slope_2: 0.011\n",
            "loss: 0.322, intercept: 0.090, slope_1: 0.040, slope_2: 0.010\n",
            "[0.09034121 0.04010541 0.01000575] 0.012984519\n"
          ]
        }
      ]
    },
    {
      "cell_type": "markdown",
      "source": [
        "# Model 0 - Day of week starting Sunday and collisions"
      ],
      "metadata": {
        "id": "JovHPmArsu9S"
      }
    },
    {
      "cell_type": "markdown",
      "source": [
        "To train the system, we will give it many examples of weather collision data including the labels and predictors."
      ],
      "metadata": {
        "id": "LZxEr1kXRS8H"
      }
    },
    {
      "cell_type": "code",
      "source": [
        "# create a dataframe with the inputs and the output at the end using the imported dataframe.\n",
        "df_input_data_day = [lrdf[\"dowStartSun\"], lrdf[\"scaledCollisions\"]]\n",
        "# create headers for our new dataframe. These should correlate with the above.\n",
        "df_input_headers_day = [\"dowStartSun\", \"scaledCollisions\"]\n",
        "# create a final dataframe using our new dataframe and headers.\n",
        "df_input_day = pd.concat(df_input_data_day, axis=1, keys=df_input_headers_day)"
      ],
      "metadata": {
        "id": "FWRaDMLVs3mk"
      },
      "execution_count": 8,
      "outputs": []
    },
    {
      "cell_type": "markdown",
      "source": [
        "### Construct a training set for running through the model and a test set\n"
      ],
      "metadata": {
        "id": "Lm9VNXl1X9Sa"
      }
    },
    {
      "cell_type": "code",
      "source": [
        "# construct a training set for running through the model and a test set\n",
        "# Use a sample with 0.8 for an 80% training set and 20% for test.\n",
        "training_set_day = df_input_day.sample(frac=0.8, random_state=0)\n",
        "test_set_day = df_input_day.drop(training_set_day.index)"
      ],
      "metadata": {
        "id": "Ty0VniOOvFR0"
      },
      "execution_count": 9,
      "outputs": []
    },
    {
      "cell_type": "code",
      "source": [
        "# copy the datasets\n",
        "training_features_day = training_set_day.copy()\n",
        "test_features_day = test_set_day.copy()\n",
        "\n",
        "# Remove the output (scaledCollisions) column\n",
        "training_labels_day = training_features_day.pop('scaledCollisions')\n",
        "test_labels_day = test_features_day.pop('scaledCollisions')"
      ],
      "metadata": {
        "id": "5ojr1YWGvOEj"
      },
      "execution_count": 10,
      "outputs": []
    },
    {
      "cell_type": "markdown",
      "source": [
        "### Scale factor"
      ],
      "metadata": {
        "id": "FyxvyPH7YXPo"
      }
    },
    {
      "cell_type": "code",
      "source": [
        "# Put in a scale factor and divide by it.\n",
        "# In this dataset, it was already scaled so it is 1.\n",
        "# We will use a referece table of scaledCollisions versus corresponding collisions by year to test\n",
        "\n",
        "# DELETE However, 600000 is what would make sense based on the data here and we can use this later when testing our model..\n",
        "training_labels_day = training_labels_day/SCALE_NUM_COLLISIONS\n",
        "test_labels_day = test_labels_day/SCALE_NUM_COLLISIONS"
      ],
      "metadata": {
        "id": "rxC88xHsvYTM"
      },
      "execution_count": 11,
      "outputs": []
    },
    {
      "cell_type": "code",
      "source": [
        "print(training_features_day)"
      ],
      "metadata": {
        "id": "n_OkqLwdx6X4",
        "outputId": "b212fb29-02fd-4126-f70d-7fc7109e18c7",
        "colab": {
          "base_uri": "https://localhost:8080/"
        }
      },
      "execution_count": 12,
      "outputs": [
        {
          "output_type": "stream",
          "name": "stdout",
          "text": [
            "     dowStartSun\n",
            "9              2\n",
            "576            1\n",
            "617            7\n",
            "143            4\n",
            "237            1\n",
            "..           ...\n",
            "465            7\n",
            "26             5\n",
            "111            6\n",
            "150            4\n",
            "153            7\n",
            "\n",
            "[643 rows x 1 columns]\n"
          ]
        }
      ]
    },
    {
      "cell_type": "markdown",
      "source": [
        "### Normalization layer"
      ],
      "metadata": {
        "id": "0AHVVc_YeKIz"
      }
    },
    {
      "cell_type": "code",
      "source": [
        "# boiler plate for this model. training_features used here for our normalisation layer that we try and fit to the outputs.\n",
        "normaliser_day = tf.keras.layers.Normalization(input_shape=[1,], axis=None)\n",
        "# axis =None => the layer will normalize all elements in the input by a scalar mean and variance. (TF Docs)\n",
        "# tf.keras.layers.Normalization(axis=-1)\n",
        "# adapt() - alternative to passing in mean and variance arguments during layer construction.\n",
        "# A Normalization layer should always either be adapted over a dataset or passed mean and variance.(TF docs)\n",
        "normaliser_day.adapt(np.array(training_features_day))"
      ],
      "metadata": {
        "id": "Qpi6HgPbveSv"
      },
      "execution_count": 13,
      "outputs": []
    },
    {
      "cell_type": "code",
      "source": [
        "print(test_features_day)"
      ],
      "metadata": {
        "colab": {
          "base_uri": "https://localhost:8080/"
        },
        "id": "usszjNqcTRiz",
        "outputId": "b53a014c-6dfd-4e82-d3d7-8b028584a5f2"
      },
      "execution_count": 14,
      "outputs": [
        {
          "output_type": "stream",
          "name": "stdout",
          "text": [
            "      dowStartSun\n",
            "10              3\n",
            "12              5\n",
            "20              6\n",
            "24              3\n",
            "29              1\n",
            "...           ...\n",
            "3902            3\n",
            "3905            6\n",
            "3907            1\n",
            "3912            6\n",
            "3919            6\n",
            "\n",
            "[161 rows x 1 columns]\n"
          ]
        }
      ]
    },
    {
      "cell_type": "code",
      "source": [
        "# Model model_0. Add normaliser and we are expecting a single output.\n",
        "model_0 = tf.keras.Sequential([\n",
        "    normaliser_day,\n",
        "    layers.Dense(units=1)\n",
        "])"
      ],
      "metadata": {
        "id": "y1-BThwAvhqH"
      },
      "execution_count": 15,
      "outputs": []
    },
    {
      "cell_type": "code",
      "source": [
        "# We specify the training configuration (optimizer, loss, metrics):\n",
        "#model.compile(\n",
        " #   optimizer=keras.optimizers.RMSprop(),  # Optimizer\n",
        "    # Loss function to minimize\n",
        "  #  loss=keras.losses.SparseCategoricalCrossentropy(),\n",
        "    # List of metrics to monitor\n",
        "   # metrics=[keras.metrics.SparseCategoricalAccuracy()],\n",
        "#)\n",
        "\n",
        "# Optimizer that implements the Adam algorithm. (TF Docs).\n",
        "model_0.compile(\n",
        "    optimizer=tf.optimizers.Adam(learning_rate=0.1),\n",
        "    loss='mean_absolute_error')"
      ],
      "metadata": {
        "id": "ddgDNLTfvqOx"
      },
      "execution_count": 17,
      "outputs": []
    },
    {
      "cell_type": "markdown",
      "source": [
        "### Train the model"
      ],
      "metadata": {
        "id": "9JKokFC6eU-h"
      }
    },
    {
      "cell_type": "markdown",
      "source": [
        "We call fit() to train the model and repeatedly iterate over the dataset for 100 epochs.This specifies to use 20% of the data for validation."
      ],
      "metadata": {
        "id": "KgwterYEcbG6"
      }
    },
    {
      "cell_type": "code",
      "source": [
        "print(\"Fit model on training data\")"
      ],
      "metadata": {
        "id": "ZFeAZ2dgezRL"
      },
      "execution_count": null,
      "outputs": []
    },
    {
      "cell_type": "code",
      "source": [
        "# Fit the model where we require the training features and labels.\n",
        "# We will run it 100 times i.e. epochs and we have applied a further 20% validation split.\n",
        "%%time\n",
        "history = model_0.fit(\n",
        "    training_features_day,\n",
        "    training_labels_day,\n",
        "    epochs=100,\n",
        "    verbose=0,\n",
        "    validation_split = 0.2) # Further validation split - use 20% of the data for validation\"\n",
        "\n",
        "#%%time\n",
        "#history = model_0.fit(\n",
        " #   training_features_day,\n",
        "  #  training_labels_day,\n",
        "    #batch_size=64, # added\n",
        "   # epochs=100,\n",
        "    #verbose=0,\n",
        "    # We pass some validation for\n",
        "    # monitoring validation loss and metrics\n",
        "    # at the end of each epoch\n",
        "    # validation_data=(x_val, y_val),\n",
        "   # validation_split = 0.2) # Further validation split"
      ],
      "metadata": {
        "id": "CaJk8EUMvt5s",
        "outputId": "f1a99d3d-d9af-49cf-ddbd-8b6ad674e8a1",
        "colab": {
          "base_uri": "https://localhost:8080/"
        }
      },
      "execution_count": 20,
      "outputs": [
        {
          "output_type": "stream",
          "name": "stdout",
          "text": [
            "CPU times: user 6.84 s, sys: 304 ms, total: 7.14 s\n",
            "Wall time: 7.62 s\n"
          ]
        }
      ]
    },
    {
      "cell_type": "markdown",
      "source": [
        "The returned history object holds a record of the loss values and metric values during training."
      ],
      "metadata": {
        "id": "DqVH7wBIdpEX"
      }
    },
    {
      "cell_type": "code",
      "source": [
        "history.history"
      ],
      "metadata": {
        "colab": {
          "base_uri": "https://localhost:8080/"
        },
        "id": "9iBoREMbdlI6",
        "outputId": "8479d46b-1a27-4a7e-f255-bd77b6fc1bff"
      },
      "execution_count": 154,
      "outputs": [
        {
          "output_type": "execute_result",
          "data": {
            "text/plain": [
              "{'loss': [0.4920499622821808,\n",
              "  0.21022096276283264,\n",
              "  0.1701233983039856,\n",
              "  0.16009175777435303,\n",
              "  0.16270039975643158,\n",
              "  0.17362859845161438,\n",
              "  0.1749451905488968,\n",
              "  0.16322197020053864,\n",
              "  0.1686091125011444,\n",
              "  0.16732661426067352,\n",
              "  0.16629253327846527,\n",
              "  0.17254124581813812,\n",
              "  0.1779935657978058,\n",
              "  0.15854014456272125,\n",
              "  0.16098269820213318,\n",
              "  0.16632823646068573,\n",
              "  0.18428035080432892,\n",
              "  0.16284562647342682,\n",
              "  0.18584050238132477,\n",
              "  0.16856160759925842,\n",
              "  0.16979046165943146,\n",
              "  0.17089363932609558,\n",
              "  0.17118598520755768,\n",
              "  0.16933698952198029,\n",
              "  0.16013453900814056,\n",
              "  0.16956116259098053,\n",
              "  0.17261235415935516,\n",
              "  0.16012577712535858,\n",
              "  0.1645456701517105,\n",
              "  0.17242681980133057,\n",
              "  0.15785939991474152,\n",
              "  0.1722985804080963,\n",
              "  0.16277988255023956,\n",
              "  0.17529191076755524,\n",
              "  0.16542819142341614,\n",
              "  0.17845922708511353,\n",
              "  0.1675305962562561,\n",
              "  0.17274510860443115,\n",
              "  0.18025967478752136,\n",
              "  0.18196028470993042,\n",
              "  0.1606353372335434,\n",
              "  0.16645218431949615,\n",
              "  0.1623295098543167,\n",
              "  0.16696731746196747,\n",
              "  0.16290606558322906,\n",
              "  0.16265663504600525,\n",
              "  0.1695600003004074,\n",
              "  0.16347278654575348,\n",
              "  0.1796978861093521,\n",
              "  0.16471491754055023,\n",
              "  0.16690972447395325,\n",
              "  0.1678077131509781,\n",
              "  0.16440562903881073,\n",
              "  0.16707056760787964,\n",
              "  0.16148169338703156,\n",
              "  0.16147509217262268,\n",
              "  0.16084110736846924,\n",
              "  0.17631970345973969,\n",
              "  0.17749962210655212,\n",
              "  0.16583748161792755,\n",
              "  0.16116392612457275,\n",
              "  0.16125352680683136,\n",
              "  0.16178569197654724,\n",
              "  0.16927605867385864,\n",
              "  0.1688997894525528,\n",
              "  0.16351552307605743,\n",
              "  0.16388995945453644,\n",
              "  0.15855900943279266,\n",
              "  0.15982195734977722,\n",
              "  0.1691264808177948,\n",
              "  0.16589964926242828,\n",
              "  0.16383233666419983,\n",
              "  0.16665300726890564,\n",
              "  0.15901349484920502,\n",
              "  0.16439001262187958,\n",
              "  0.15987856686115265,\n",
              "  0.16425025463104248,\n",
              "  0.16003620624542236,\n",
              "  0.15981058776378632,\n",
              "  0.16574633121490479,\n",
              "  0.16917036473751068,\n",
              "  0.1749856173992157,\n",
              "  0.17525610327720642,\n",
              "  0.163410946726799,\n",
              "  0.16569463908672333,\n",
              "  0.17149131000041962,\n",
              "  0.15992625057697296,\n",
              "  0.16926288604736328,\n",
              "  0.171060249209404,\n",
              "  0.15969789028167725,\n",
              "  0.1692432016134262,\n",
              "  0.1698317974805832,\n",
              "  0.1600288450717926,\n",
              "  0.16139088571071625,\n",
              "  0.16882792115211487,\n",
              "  0.1631113588809967,\n",
              "  0.16108307242393494,\n",
              "  0.16332852840423584,\n",
              "  0.16485291719436646,\n",
              "  0.16333137452602386],\n",
              " 'val_loss': [0.26394903659820557,\n",
              "  0.15864074230194092,\n",
              "  0.15025369822978973,\n",
              "  0.1615135222673416,\n",
              "  0.15768881142139435,\n",
              "  0.15502426028251648,\n",
              "  0.16423116624355316,\n",
              "  0.1522923707962036,\n",
              "  0.15099674463272095,\n",
              "  0.16775719821453094,\n",
              "  0.1547141820192337,\n",
              "  0.16594219207763672,\n",
              "  0.15105843544006348,\n",
              "  0.16601276397705078,\n",
              "  0.16072894632816315,\n",
              "  0.17606963217258453,\n",
              "  0.1587197482585907,\n",
              "  0.1711893230676651,\n",
              "  0.16206754744052887,\n",
              "  0.14709855616092682,\n",
              "  0.15556494891643524,\n",
              "  0.16441212594509125,\n",
              "  0.17197009921073914,\n",
              "  0.1684800237417221,\n",
              "  0.1693493127822876,\n",
              "  0.15081322193145752,\n",
              "  0.1582728773355484,\n",
              "  0.1496535986661911,\n",
              "  0.14767253398895264,\n",
              "  0.15103380382061005,\n",
              "  0.1642521470785141,\n",
              "  0.15312761068344116,\n",
              "  0.1549002230167389,\n",
              "  0.14711172878742218,\n",
              "  0.14677809178829193,\n",
              "  0.15651105344295502,\n",
              "  0.18068954348564148,\n",
              "  0.17514534294605255,\n",
              "  0.17160917818546295,\n",
              "  0.14896176755428314,\n",
              "  0.1472332775592804,\n",
              "  0.15234649181365967,\n",
              "  0.16156885027885437,\n",
              "  0.15060503780841827,\n",
              "  0.17160870134830475,\n",
              "  0.14890433847904205,\n",
              "  0.1742689460515976,\n",
              "  0.16659851372241974,\n",
              "  0.1522410660982132,\n",
              "  0.15157946944236755,\n",
              "  0.15111617743968964,\n",
              "  0.14694060385227203,\n",
              "  0.14895521104335785,\n",
              "  0.16165198385715485,\n",
              "  0.1529189497232437,\n",
              "  0.16233870387077332,\n",
              "  0.1597665697336197,\n",
              "  0.15922358632087708,\n",
              "  0.15049637854099274,\n",
              "  0.14667275547981262,\n",
              "  0.14672087132930756,\n",
              "  0.1508389264345169,\n",
              "  0.16887003183364868,\n",
              "  0.156110480427742,\n",
              "  0.15471476316452026,\n",
              "  0.16258329153060913,\n",
              "  0.1498827189207077,\n",
              "  0.15952855348587036,\n",
              "  0.16797514259815216,\n",
              "  0.15738257765769958,\n",
              "  0.15505200624465942,\n",
              "  0.1483469009399414,\n",
              "  0.15254387259483337,\n",
              "  0.16361165046691895,\n",
              "  0.16282008588314056,\n",
              "  0.16344988346099854,\n",
              "  0.15807779133319855,\n",
              "  0.151447132229805,\n",
              "  0.14709784090518951,\n",
              "  0.15677623450756073,\n",
              "  0.1465645432472229,\n",
              "  0.15484817326068878,\n",
              "  0.15180622041225433,\n",
              "  0.14701829850673676,\n",
              "  0.14744074642658234,\n",
              "  0.15506099164485931,\n",
              "  0.16026179492473602,\n",
              "  0.16159673035144806,\n",
              "  0.15213198959827423,\n",
              "  0.14861132204532623,\n",
              "  0.15084701776504517,\n",
              "  0.14831191301345825,\n",
              "  0.15942497551441193,\n",
              "  0.1776105910539627,\n",
              "  0.15983927249908447,\n",
              "  0.16360753774642944,\n",
              "  0.15372587740421295,\n",
              "  0.15349142253398895,\n",
              "  0.1523153930902481,\n",
              "  0.148037850856781]}"
            ]
          },
          "metadata": {},
          "execution_count": 154
        }
      ]
    },
    {
      "cell_type": "markdown",
      "source": [
        "### Evaluate the model on the test data\n"
      ],
      "metadata": {
        "id": "7JtQVIhPdcip"
      }
    },
    {
      "cell_type": "code",
      "source": [
        "# Cost function that measures the distance between the linear model’s predictions and the training examples\n",
        "# objective is to minimise this distance.\n",
        "# Training the model.\n",
        "# Feed training examples into Linear Regression algorithm.\n",
        "# It finds the parameters that make the linear model fit best the data.\n",
        "\n",
        "# The error rate on new cases is called the generalisation error (or out-of-sample error), and by evaluating your model on the test set, you get an estimation of this error.\n",
        "# This value tells you how well the model will perform on instances it has never seen before.\n",
        "# by evaluating the model on the test set, you get an estimation of this error.\n",
        "# If the training error is low (i.e. your model makes few mistakes on the training set) but the generalisation error is high,\n",
        "# it means that your model is overfitting the training data.\n",
        "\n",
        "print(\"Evaluate on test data\")\n",
        "# Evaluate our model using the test features and labels using `evaluate`\n",
        "mean_absolute_error_model_0 = model_0.evaluate(\n",
        "    test_features_day,\n",
        "    test_labels_day, verbose=0)"
      ],
      "metadata": {
        "id": "g_r2YIo8vzjS",
        "colab": {
          "base_uri": "https://localhost:8080/"
        },
        "outputId": "57354186-ff01-42b3-b7e9-686e73b81691"
      },
      "execution_count": 25,
      "outputs": [
        {
          "output_type": "stream",
          "name": "stdout",
          "text": [
            "Evaluate on test data\n"
          ]
        }
      ]
    },
    {
      "cell_type": "code",
      "source": [
        "# Print mean absolute error of the model. We want to minimise this.\n",
        "# It will also vary on each training run due to randomisation.\n",
        "# print(mean_absolute_error_model_0)\n",
        "print('LinearRegression has MAE of {0}'.format(mean_absolute_error_model_0));"
      ],
      "metadata": {
        "id": "ENe5nS8Qv5vq",
        "outputId": "a0684c05-d8e0-4902-801a-485b146afa52",
        "colab": {
          "base_uri": "https://localhost:8080/"
        }
      },
      "execution_count": 73,
      "outputs": [
        {
          "output_type": "stream",
          "name": "stdout",
          "text": [
            "LinearRegression has MAE of 0.1499038189649582\n"
          ]
        }
      ]
    },
    {
      "cell_type": "markdown",
      "source": [
        "### Reference table of sample scaledCollision and corresponding collision values for 2022 for testing purposes"
      ],
      "metadata": {
        "id": "KkyLlJ89McvH"
      }
    },
    {
      "cell_type": "code",
      "source": [
        "# Reference of min and max collisions for 2021, 2022, 2023\n",
        "refMinMaxCollByYear = pd.DataFrame.from_dict(data =\n",
        "\t\t\t\t{\n",
        "            'Year' : ['2021','2022','2023'],\n",
        "            'Min Collisions' : [184, 180, 128 ],\n",
        "            'Max Collisions' : [388, 365,314 ]\n",
        "\n",
        "        })\n",
        "refMinMaxCollByYear"
      ],
      "metadata": {
        "colab": {
          "base_uri": "https://localhost:8080/",
          "height": 143
        },
        "id": "aC6unGUP3_YU",
        "outputId": "731241b5-a828-42e9-9f66-724329177e08"
      },
      "execution_count": 26,
      "outputs": [
        {
          "output_type": "execute_result",
          "data": {
            "text/plain": [
              "   Year  Min Collisions  Max Collisions\n",
              "0  2021             184             388\n",
              "1  2022             180             365\n",
              "2  2023             128             314"
            ],
            "text/html": [
              "\n",
              "\n",
              "  <div id=\"df-5f5d58f4-8934-466b-8df0-e9760404df3b\">\n",
              "    <div class=\"colab-df-container\">\n",
              "      <div>\n",
              "<style scoped>\n",
              "    .dataframe tbody tr th:only-of-type {\n",
              "        vertical-align: middle;\n",
              "    }\n",
              "\n",
              "    .dataframe tbody tr th {\n",
              "        vertical-align: top;\n",
              "    }\n",
              "\n",
              "    .dataframe thead th {\n",
              "        text-align: right;\n",
              "    }\n",
              "</style>\n",
              "<table border=\"1\" class=\"dataframe\">\n",
              "  <thead>\n",
              "    <tr style=\"text-align: right;\">\n",
              "      <th></th>\n",
              "      <th>Year</th>\n",
              "      <th>Min Collisions</th>\n",
              "      <th>Max Collisions</th>\n",
              "    </tr>\n",
              "  </thead>\n",
              "  <tbody>\n",
              "    <tr>\n",
              "      <th>0</th>\n",
              "      <td>2021</td>\n",
              "      <td>184</td>\n",
              "      <td>388</td>\n",
              "    </tr>\n",
              "    <tr>\n",
              "      <th>1</th>\n",
              "      <td>2022</td>\n",
              "      <td>180</td>\n",
              "      <td>365</td>\n",
              "    </tr>\n",
              "    <tr>\n",
              "      <th>2</th>\n",
              "      <td>2023</td>\n",
              "      <td>128</td>\n",
              "      <td>314</td>\n",
              "    </tr>\n",
              "  </tbody>\n",
              "</table>\n",
              "</div>\n",
              "      <button class=\"colab-df-convert\" onclick=\"convertToInteractive('df-5f5d58f4-8934-466b-8df0-e9760404df3b')\"\n",
              "              title=\"Convert this dataframe to an interactive table.\"\n",
              "              style=\"display:none;\">\n",
              "\n",
              "  <svg xmlns=\"http://www.w3.org/2000/svg\" height=\"24px\"viewBox=\"0 0 24 24\"\n",
              "       width=\"24px\">\n",
              "    <path d=\"M0 0h24v24H0V0z\" fill=\"none\"/>\n",
              "    <path d=\"M18.56 5.44l.94 2.06.94-2.06 2.06-.94-2.06-.94-.94-2.06-.94 2.06-2.06.94zm-11 1L8.5 8.5l.94-2.06 2.06-.94-2.06-.94L8.5 2.5l-.94 2.06-2.06.94zm10 10l.94 2.06.94-2.06 2.06-.94-2.06-.94-.94-2.06-.94 2.06-2.06.94z\"/><path d=\"M17.41 7.96l-1.37-1.37c-.4-.4-.92-.59-1.43-.59-.52 0-1.04.2-1.43.59L10.3 9.45l-7.72 7.72c-.78.78-.78 2.05 0 2.83L4 21.41c.39.39.9.59 1.41.59.51 0 1.02-.2 1.41-.59l7.78-7.78 2.81-2.81c.8-.78.8-2.07 0-2.86zM5.41 20L4 18.59l7.72-7.72 1.47 1.35L5.41 20z\"/>\n",
              "  </svg>\n",
              "      </button>\n",
              "\n",
              "\n",
              "\n",
              "    <div id=\"df-7f60607d-55f5-443b-bf41-446f8fea6401\">\n",
              "      <button class=\"colab-df-quickchart\" onclick=\"quickchart('df-7f60607d-55f5-443b-bf41-446f8fea6401')\"\n",
              "              title=\"Suggest charts.\"\n",
              "              style=\"display:none;\">\n",
              "\n",
              "<svg xmlns=\"http://www.w3.org/2000/svg\" height=\"24px\"viewBox=\"0 0 24 24\"\n",
              "     width=\"24px\">\n",
              "    <g>\n",
              "        <path d=\"M19 3H5c-1.1 0-2 .9-2 2v14c0 1.1.9 2 2 2h14c1.1 0 2-.9 2-2V5c0-1.1-.9-2-2-2zM9 17H7v-7h2v7zm4 0h-2V7h2v10zm4 0h-2v-4h2v4z\"/>\n",
              "    </g>\n",
              "</svg>\n",
              "      </button>\n",
              "    </div>\n",
              "\n",
              "<style>\n",
              "  .colab-df-quickchart {\n",
              "    background-color: #E8F0FE;\n",
              "    border: none;\n",
              "    border-radius: 50%;\n",
              "    cursor: pointer;\n",
              "    display: none;\n",
              "    fill: #1967D2;\n",
              "    height: 32px;\n",
              "    padding: 0 0 0 0;\n",
              "    width: 32px;\n",
              "  }\n",
              "\n",
              "  .colab-df-quickchart:hover {\n",
              "    background-color: #E2EBFA;\n",
              "    box-shadow: 0px 1px 2px rgba(60, 64, 67, 0.3), 0px 1px 3px 1px rgba(60, 64, 67, 0.15);\n",
              "    fill: #174EA6;\n",
              "  }\n",
              "\n",
              "  [theme=dark] .colab-df-quickchart {\n",
              "    background-color: #3B4455;\n",
              "    fill: #D2E3FC;\n",
              "  }\n",
              "\n",
              "  [theme=dark] .colab-df-quickchart:hover {\n",
              "    background-color: #434B5C;\n",
              "    box-shadow: 0px 1px 3px 1px rgba(0, 0, 0, 0.15);\n",
              "    filter: drop-shadow(0px 1px 2px rgba(0, 0, 0, 0.3));\n",
              "    fill: #FFFFFF;\n",
              "  }\n",
              "</style>\n",
              "\n",
              "    <script>\n",
              "      async function quickchart(key) {\n",
              "        const containerElement = document.querySelector('#' + key);\n",
              "        const charts = await google.colab.kernel.invokeFunction(\n",
              "            'suggestCharts', [key], {});\n",
              "      }\n",
              "    </script>\n",
              "\n",
              "      <script>\n",
              "\n",
              "function displayQuickchartButton(domScope) {\n",
              "  let quickchartButtonEl =\n",
              "    domScope.querySelector('#df-7f60607d-55f5-443b-bf41-446f8fea6401 button.colab-df-quickchart');\n",
              "  quickchartButtonEl.style.display =\n",
              "    google.colab.kernel.accessAllowed ? 'block' : 'none';\n",
              "}\n",
              "\n",
              "        displayQuickchartButton(document);\n",
              "      </script>\n",
              "      <style>\n",
              "    .colab-df-container {\n",
              "      display:flex;\n",
              "      flex-wrap:wrap;\n",
              "      gap: 12px;\n",
              "    }\n",
              "\n",
              "    .colab-df-convert {\n",
              "      background-color: #E8F0FE;\n",
              "      border: none;\n",
              "      border-radius: 50%;\n",
              "      cursor: pointer;\n",
              "      display: none;\n",
              "      fill: #1967D2;\n",
              "      height: 32px;\n",
              "      padding: 0 0 0 0;\n",
              "      width: 32px;\n",
              "    }\n",
              "\n",
              "    .colab-df-convert:hover {\n",
              "      background-color: #E2EBFA;\n",
              "      box-shadow: 0px 1px 2px rgba(60, 64, 67, 0.3), 0px 1px 3px 1px rgba(60, 64, 67, 0.15);\n",
              "      fill: #174EA6;\n",
              "    }\n",
              "\n",
              "    [theme=dark] .colab-df-convert {\n",
              "      background-color: #3B4455;\n",
              "      fill: #D2E3FC;\n",
              "    }\n",
              "\n",
              "    [theme=dark] .colab-df-convert:hover {\n",
              "      background-color: #434B5C;\n",
              "      box-shadow: 0px 1px 3px 1px rgba(0, 0, 0, 0.15);\n",
              "      filter: drop-shadow(0px 1px 2px rgba(0, 0, 0, 0.3));\n",
              "      fill: #FFFFFF;\n",
              "    }\n",
              "  </style>\n",
              "\n",
              "      <script>\n",
              "        const buttonEl =\n",
              "          document.querySelector('#df-5f5d58f4-8934-466b-8df0-e9760404df3b button.colab-df-convert');\n",
              "        buttonEl.style.display =\n",
              "          google.colab.kernel.accessAllowed ? 'block' : 'none';\n",
              "\n",
              "        async function convertToInteractive(key) {\n",
              "          const element = document.querySelector('#df-5f5d58f4-8934-466b-8df0-e9760404df3b');\n",
              "          const dataTable =\n",
              "            await google.colab.kernel.invokeFunction('convertToInteractive',\n",
              "                                                     [key], {});\n",
              "          if (!dataTable) return;\n",
              "\n",
              "          const docLinkHtml = 'Like what you see? Visit the ' +\n",
              "            '<a target=\"_blank\" href=https://colab.research.google.com/notebooks/data_table.ipynb>data table notebook</a>'\n",
              "            + ' to learn more about interactive tables.';\n",
              "          element.innerHTML = '';\n",
              "          dataTable['output_type'] = 'display_data';\n",
              "          await google.colab.output.renderOutput(dataTable, element);\n",
              "          const docLink = document.createElement('div');\n",
              "          docLink.innerHTML = docLinkHtml;\n",
              "          element.appendChild(docLink);\n",
              "        }\n",
              "      </script>\n",
              "    </div>\n",
              "  </div>\n"
            ]
          },
          "metadata": {},
          "execution_count": 26
        }
      ]
    },
    {
      "cell_type": "code",
      "source": [
        "# The feature scaling formula we used in the R sheet was:\n",
        "# x-min(x) / max(x) - min(x).\n",
        "# scaledCollisions=(num_collisions - min(num_collisions)) /(max(num_collisions-min(num_collisions))\n",
        "# So for 2022 it was:\n",
        "# scaledCollisions = (num_collisions - 180) / 185\n",
        "# scaledCollisions * 185 = num_collisions - 180\n",
        "# Take the example of .4 for scaledCollisions\n",
        "# .4 * 185 = num_collisions - 180\n",
        "# 74 = num_collisions - 180\n",
        "# num_collisions = 254"
      ],
      "metadata": {
        "id": "D8izujEDxAy2"
      },
      "execution_count": null,
      "outputs": []
    },
    {
      "cell_type": "code",
      "source": [
        "# For testing, create a dataframe as a reference with the scaledCollision value for 2022 and\n",
        "# corresponding collision value that the scaledCollision equates to for 2022\n",
        "a22 = 185\n",
        "b22 = 180\n",
        "referencedf = pd.DataFrame.from_dict(data =\n",
        "\t\t\t\t{\n",
        "            'scaledCollision2022' : [.1,.2,.3,.4,.5,.6,.7,.8,.9],\n",
        "            # This would be much neater in a mutate equivalent ...\n",
        "            'Collisions' : [(.1 * a22 +b22),(.2 *a22 +b22) ,(.3 *a22 +b22), (.4 *a22 +b22),(.5 *a22 +b22),  (.6 *a22 +b22),(.7 *a22 +b22),(.8 *a22 +b22),(.9 *a22 + b22) ]\n",
        "        })\n",
        "referencedf"
      ],
      "metadata": {
        "colab": {
          "base_uri": "https://localhost:8080/",
          "height": 236
        },
        "id": "ArpmrBYPvymK",
        "outputId": "4beb1de1-21a1-4c65-be89-eb2e6309a41e"
      },
      "execution_count": 1,
      "outputs": [
        {
          "output_type": "error",
          "ename": "NameError",
          "evalue": "ignored",
          "traceback": [
            "\u001b[0;31m---------------------------------------------------------------------------\u001b[0m",
            "\u001b[0;31mNameError\u001b[0m                                 Traceback (most recent call last)",
            "\u001b[0;32m<ipython-input-1-5461a2ec5b6f>\u001b[0m in \u001b[0;36m<cell line: 5>\u001b[0;34m()\u001b[0m\n\u001b[1;32m      3\u001b[0m \u001b[0ma22\u001b[0m \u001b[0;34m=\u001b[0m \u001b[0;36m185\u001b[0m\u001b[0;34m\u001b[0m\u001b[0;34m\u001b[0m\u001b[0m\n\u001b[1;32m      4\u001b[0m \u001b[0mb22\u001b[0m \u001b[0;34m=\u001b[0m \u001b[0;36m180\u001b[0m\u001b[0;34m\u001b[0m\u001b[0;34m\u001b[0m\u001b[0m\n\u001b[0;32m----> 5\u001b[0;31m referencedf = pd.DataFrame.from_dict(data =\n\u001b[0m\u001b[1;32m      6\u001b[0m \t\t\t\t{\n\u001b[1;32m      7\u001b[0m             \u001b[0;34m'scaledCollision2022'\u001b[0m \u001b[0;34m:\u001b[0m \u001b[0;34m[\u001b[0m\u001b[0;36m.1\u001b[0m\u001b[0;34m,\u001b[0m\u001b[0;36m.2\u001b[0m\u001b[0;34m,\u001b[0m\u001b[0;36m.3\u001b[0m\u001b[0;34m,\u001b[0m\u001b[0;36m.4\u001b[0m\u001b[0;34m,\u001b[0m\u001b[0;36m.5\u001b[0m\u001b[0;34m,\u001b[0m\u001b[0;36m.6\u001b[0m\u001b[0;34m,\u001b[0m\u001b[0;36m.7\u001b[0m\u001b[0;34m,\u001b[0m\u001b[0;36m.8\u001b[0m\u001b[0;34m,\u001b[0m\u001b[0;36m.9\u001b[0m\u001b[0;34m]\u001b[0m\u001b[0;34m,\u001b[0m\u001b[0;34m\u001b[0m\u001b[0;34m\u001b[0m\u001b[0m\n",
            "\u001b[0;31mNameError\u001b[0m: name 'pd' is not defined"
          ]
        }
      ]
    },
    {
      "cell_type": "markdown",
      "source": [
        "### Generate predictions based on test data"
      ],
      "metadata": {
        "id": "2CYoLKxMgu2Z"
      }
    },
    {
      "cell_type": "code",
      "source": [
        "# Generate predictions (probabilities -- the output of the last layer)\n",
        "# on new data using `predict`\n",
        "print(\"Generate predictions for 3 samples\")\n",
        "predictions0 = model_0.predict(test_features_day[:3])\n",
        "# Could do the conversion step from scaled collisions to collisions here instead\n",
        "# predictions0 = model_0.predict(test_features_day[:3] * a22 +b22 )\n",
        "print(\"predictions shape:\", predictions0.shape)"
      ],
      "metadata": {
        "colab": {
          "base_uri": "https://localhost:8080/"
        },
        "id": "jZQELiW4ghJV",
        "outputId": "e653f22a-9f8b-4e84-b806-e383dccad2ab"
      },
      "execution_count": 151,
      "outputs": [
        {
          "output_type": "stream",
          "name": "stdout",
          "text": [
            "Generate predictions for 3 samples\n",
            "1/1 [==============================] - 0s 25ms/step\n",
            "predictions shape: (3, 1)\n"
          ]
        }
      ]
    },
    {
      "cell_type": "markdown",
      "source": [
        "View predictions for 3 samples.\n"
      ],
      "metadata": {
        "id": "auCfr8vDmXJM"
      }
    },
    {
      "cell_type": "code",
      "source": [
        "a22 = 185\n",
        "b22 = 180\n",
        "print(test_features_day[:3])\n",
        "#predictions\n",
        "print(predictions0[0])\n",
        "# corresponding collision value that the scaledCollision equates to based on scaled collisions for 2022\n",
        "print (predictions0[0])# * a22 +b22 )\n",
        "\n",
        "print(predictions0[1])\n",
        "# corresponding collision value that the scaledCollision equates to based on scaled collisions for 2022\n",
        "print (predictions0[1] * a22 +b22 )\n",
        "\n",
        "print(predictions0[2])\n",
        "# corresponding collision value that the scaledCollision equates to based on scaled collisions for 2022\n",
        "print (predictions0[2] * a22 +b22 )"
      ],
      "metadata": {
        "colab": {
          "base_uri": "https://localhost:8080/"
        },
        "id": "gRXvkdNymFQz",
        "outputId": "0d835503-a10e-4f7f-cde7-b86941117601"
      },
      "execution_count": 150,
      "outputs": [
        {
          "output_type": "stream",
          "name": "stdout",
          "text": [
            "    dowStartSun\n",
            "10            3\n",
            "12            5\n",
            "20            6\n",
            "[8.131664]\n",
            "[8.131664]\n",
            "[11.94655]\n",
            "[2390.1118]\n",
            "[13.853992]\n",
            "[2742.9885]\n"
          ]
        }
      ]
    },
    {
      "cell_type": "markdown",
      "source": [
        "# Model 1 - Day of week starting Sunday, Temperature and Scaled Collisions"
      ],
      "metadata": {
        "id": "TS_y_-9uspzs"
      }
    },
    {
      "cell_type": "code",
      "source": [
        "# create a dataframe with the inputs and the output at the end using the imported dataframe.\n",
        "# This instance has day of week, temperature, snow depth\n",
        "df1_input_data = [lrdf[\"dowStartSun\"], lrdf[\"temperature\"], lrdf[\"snow_depth\"], lrdf[\"scaledCollisions\"]]\n",
        "# create headers for our new dataframe.\n",
        "df1_input_headers = [\"dowStartSun\", \"temperature\", \"snow_depth\", \"scaledCollisions\"]\n",
        "# create a final dataframe using our new dataframe and headers.\n",
        "df1_input = pd.concat(df1_input_data, axis=1, keys=df1_input_headers)"
      ],
      "metadata": {
        "id": "WHuSnr6LdC3J"
      },
      "execution_count": 81,
      "outputs": []
    },
    {
      "cell_type": "markdown",
      "source": [
        "### Create training and test set and sequential model and fit the model"
      ],
      "metadata": {
        "id": "n2r0ehDcRQW7"
      }
    },
    {
      "cell_type": "code",
      "source": [
        "# construct a training set for running through the model and a test set.  Use sample with 0.8 for an 80% training set and 20% for test.\n",
        "training_set1 = df1_input.sample(frac=0.8, random_state=0)\n",
        "test_set1 = df1_input.drop(training_set1.index)"
      ],
      "metadata": {
        "id": "d5JtvdLBcruq"
      },
      "execution_count": 82,
      "outputs": []
    },
    {
      "cell_type": "code",
      "source": [
        "# copy the datasets and remove the final column\n",
        "training_features1 = training_set1.copy()\n",
        "test_features1 = test_set1.copy()\n",
        "\n",
        "training_labels1 = training_features1.pop('scaledCollisions')\n",
        "test_labels1 = test_features1.pop('scaledCollisions')"
      ],
      "metadata": {
        "id": "EILvYoDid0wI"
      },
      "execution_count": 83,
      "outputs": []
    },
    {
      "cell_type": "code",
      "source": [
        "# Here I have put in a scale factor and divided by it. In this dataset, I had already normalised and thus it is 1.\n",
        "# However, 600000 is what would make sense based on the data here and we can use this later when testing our model..\n",
        "training_labels1 = training_labels1/SCALE_NUM_COLLISIONS\n",
        "test_labels1 = test_labels1/SCALE_NUM_COLLISIONS"
      ],
      "metadata": {
        "id": "3NBSa-Wyf2r6"
      },
      "execution_count": 84,
      "outputs": []
    },
    {
      "cell_type": "code",
      "source": [
        "# boiler plate for this model. You can see that we have used the training_features here for our normalisation layer that we try and fit to the outputs.\n",
        "normaliser = tf.keras.layers.Normalization(axis=-1)\n",
        "normaliser.adapt(np.array(training_features1))"
      ],
      "metadata": {
        "id": "VQuNfPpdf9al"
      },
      "execution_count": 85,
      "outputs": []
    },
    {
      "cell_type": "code",
      "source": [
        "# model_1. We add our normaliser and we are expecting a single output.\n",
        "model_1 = tf.keras.Sequential([\n",
        "    normaliser,\n",
        "    layers.Dense(units=1)\n",
        "])"
      ],
      "metadata": {
        "id": "JKiP5GIrgIJH"
      },
      "execution_count": 86,
      "outputs": []
    },
    {
      "cell_type": "code",
      "source": [
        "# more boiler plate for creating a sequential model, we need an optimiser and loss parameter.\n",
        "model_1.compile(\n",
        "    optimizer=tf.optimizers.Adam(learning_rate=0.1),\n",
        "    loss='mean_absolute_error')"
      ],
      "metadata": {
        "id": "4odNLaUHgNb7"
      },
      "execution_count": 87,
      "outputs": []
    },
    {
      "cell_type": "code",
      "source": [
        "# fit the model where we require the training features and labels. We will run it 100 times i.e. epochs\n",
        "# and applied a further 20% validation split.\n",
        "%%time\n",
        "history1 = model_1.fit(\n",
        "    training_features1,\n",
        "    training_labels1,\n",
        "    epochs=100,\n",
        "    verbose=0,\n",
        "    validation_split = 0.2)"
      ],
      "metadata": {
        "id": "rW1K3GxUgQyC",
        "outputId": "84e2ec44-99bb-46cb-bf80-1d95ea6e3c00",
        "colab": {
          "base_uri": "https://localhost:8080/"
        }
      },
      "execution_count": 88,
      "outputs": [
        {
          "output_type": "stream",
          "name": "stdout",
          "text": [
            "CPU times: user 7.12 s, sys: 251 ms, total: 7.37 s\n",
            "Wall time: 10.7 s\n"
          ]
        }
      ]
    },
    {
      "cell_type": "markdown",
      "source": [
        "### Evaluate the model on the test data\n"
      ],
      "metadata": {
        "id": "gcHLuBYY3PK_"
      }
    },
    {
      "cell_type": "code",
      "source": [
        "print(\"Evaluate on test data\")\n",
        "# Evaluate our model using the test features and labels using `evaluate`\n",
        "mean_absolute_error_model_1 = model_1.evaluate(\n",
        "    test_features1,\n",
        "    test_labels1, verbose=0)\n",
        "\n",
        "# results = model.evaluate(x_test, y_test, batch_size=128)\n",
        "# The mean absolute error of the model can be printed out. Remember, we want to minimise this. Perhaps a model with just day and NUM_TRIPS would be better. It will also vary on each training run due to randomisation.\n",
        "# print(\"test loss, test accuracy:\", mean_absolute_error_model_0)"
      ],
      "metadata": {
        "colab": {
          "base_uri": "https://localhost:8080/"
        },
        "outputId": "9b38824d-83e0-4853-f8a7-860c94a3519c",
        "id": "Do6z4RL93PLF"
      },
      "execution_count": 120,
      "outputs": [
        {
          "output_type": "stream",
          "name": "stdout",
          "text": [
            "Evaluate on test data\n"
          ]
        }
      ]
    },
    {
      "cell_type": "markdown",
      "source": [
        "### Evaluate model and mean absolute error"
      ],
      "metadata": {
        "id": "Jk9e96VNZHh2"
      }
    },
    {
      "cell_type": "code",
      "source": [
        "# Print mean absolute error of the model; we want to minimise this.\n",
        "print('LinearRegression has Mean Absolute Error of {0}'.format(mean_absolute_error_model_1));"
      ],
      "metadata": {
        "id": "NVLVxc_aghcD",
        "outputId": "a654153e-bf40-4dac-b2b2-42a4110cd0ec",
        "colab": {
          "base_uri": "https://localhost:8080/"
        }
      },
      "execution_count": 122,
      "outputs": [
        {
          "output_type": "stream",
          "name": "stdout",
          "text": [
            "LinearRegression has Mean Absolute Error of 0.13897696137428284\n"
          ]
        }
      ]
    },
    {
      "cell_type": "markdown",
      "source": [
        "### Generate predictions for samples from Test set"
      ],
      "metadata": {
        "id": "WD7qZMyH5xNB"
      }
    },
    {
      "cell_type": "code",
      "source": [
        "# Generate predictions (the output of the last layer) on new data using `predict`\n",
        "print(\"Generate predictions for 3 samples from test set\")\n",
        "predictions1 = model_1.predict(test_features1[:3])\n",
        "# Could do the conversion step from scaled collisions to collisions here instead\n",
        "# predictions1 = model_1.predict(test_features1[:3] * a22 +b22 )\n",
        "print(\"predictions shape:\", predictions1.shape)"
      ],
      "metadata": {
        "colab": {
          "base_uri": "https://localhost:8080/"
        },
        "outputId": "2fa3b5d8-a8d0-4d57-c806-8f69f408717e",
        "id": "lacIpGa05xNH"
      },
      "execution_count": 124,
      "outputs": [
        {
          "output_type": "stream",
          "name": "stdout",
          "text": [
            "Generate predictions for 3 samples from test set\n",
            "1/1 [==============================] - 0s 22ms/step\n",
            "predictions shape: (3, 1)\n"
          ]
        }
      ]
    },
    {
      "cell_type": "markdown",
      "source": [
        "View predictions for 3 samples.\n"
      ],
      "metadata": {
        "id": "A7wFJ0YJ5xNI"
      }
    },
    {
      "cell_type": "code",
      "source": [
        "a22 = 185\n",
        "b22 = 180\n",
        "print(test_features1[:3])\n",
        "print()\n",
        "\n",
        "# predictions for scaled collisions\n",
        "print('Predictions for scaled collisions{0}'. format(np.round(predictions1[0],4)));\n",
        "# corresponding collision value that the scaledCollision equates to based on scaled collisions for 2022\n",
        "print('Corresponding collision value based on 2022 {0}'.format(np.round(predictions1[0] * a22 +b22,0 )));\n",
        "print()\n",
        "\n",
        "print('Predictions for scaled collisions{0}'. format(np.round(predictions1[1],4)));\n",
        "# corresponding collision value that the scaledCollision equates to based on scaled collisions for 2022\n",
        "print('Corresponding collision value based on 2022 {0}'.format(np.round(predictions1[1] * a22 +b22,0 )));\n",
        "print()\n",
        "\n",
        "print('Predictions for scaled collisions{0}'. format(np.round(predictions1[2],4)));\n",
        "# corresponding collision value that the scaledCollision equates to based on scaled collisions for 2022\n",
        "print('Corresponding collision value based on 2022 {0}'.format(np.round(predictions1[2] * a22 +b22,0 )));\n"
      ],
      "metadata": {
        "colab": {
          "base_uri": "https://localhost:8080/"
        },
        "outputId": "f84773d5-04b5-48f9-da30-7ac826b72bb9",
        "id": "v8-bEu535xNI"
      },
      "execution_count": 148,
      "outputs": [
        {
          "output_type": "stream",
          "name": "stdout",
          "text": [
            "    dowStartSun  temperature  snow_depth\n",
            "10            3     2.944444         0.0\n",
            "12            5     6.055556         0.0\n",
            "20            6     4.944444         0.0\n",
            "\n",
            "Predictions for scaled collisions[0.5298]\n",
            "Corresponding collision value based on 2022 [278.]\n",
            "\n",
            "Predictions for scaled collisions[0.551]\n",
            "Corresponding collision value based on 2022 [282.]\n",
            "\n",
            "Predictions for scaled collisions[0.5459]\n",
            "Corresponding collision value based on 2022 [281.]\n"
          ]
        }
      ]
    },
    {
      "cell_type": "markdown",
      "source": [
        "### Test data with 3 hypothetical values with moderate temperatures on Friday"
      ],
      "metadata": {
        "id": "Hlw4dE5WEx_b"
      }
    },
    {
      "cell_type": "code",
      "source": [
        "# we create a custom dataframe with 3 values per feature.\n",
        "input_1 = pd.DataFrame.from_dict(data =\n",
        "\t\t\t\t{\n",
        "            'dowStartSun' : [5,5,5], #  Friday, Friday, Friday\n",
        "            'temperature' : [20, 25, 30], # Low temp C to correspond to\n",
        "            'snow_depth' :  [0, 0, 0] # lowest values for NY in dataset were approx 38mm for when snow present\n",
        "        })"
      ],
      "metadata": {
        "id": "hdG-BTFwhNT1"
      },
      "execution_count": 91,
      "outputs": []
    },
    {
      "cell_type": "code",
      "source": [
        "input_1.head()"
      ],
      "metadata": {
        "id": "g91lv_a0uoSh",
        "outputId": "a121c362-e0f6-43e3-e9c9-24bf13f14aa0",
        "colab": {
          "base_uri": "https://localhost:8080/",
          "height": 143
        }
      },
      "execution_count": 98,
      "outputs": [
        {
          "output_type": "execute_result",
          "data": {
            "text/plain": [
              "   dowStartSun  temperature  snow_depth\n",
              "0            5           20           0\n",
              "1            5           25           0\n",
              "2            5           30           0"
            ],
            "text/html": [
              "\n",
              "\n",
              "  <div id=\"df-41a9544f-a59a-40b4-b1a9-1ef4a69e5a56\">\n",
              "    <div class=\"colab-df-container\">\n",
              "      <div>\n",
              "<style scoped>\n",
              "    .dataframe tbody tr th:only-of-type {\n",
              "        vertical-align: middle;\n",
              "    }\n",
              "\n",
              "    .dataframe tbody tr th {\n",
              "        vertical-align: top;\n",
              "    }\n",
              "\n",
              "    .dataframe thead th {\n",
              "        text-align: right;\n",
              "    }\n",
              "</style>\n",
              "<table border=\"1\" class=\"dataframe\">\n",
              "  <thead>\n",
              "    <tr style=\"text-align: right;\">\n",
              "      <th></th>\n",
              "      <th>dowStartSun</th>\n",
              "      <th>temperature</th>\n",
              "      <th>snow_depth</th>\n",
              "    </tr>\n",
              "  </thead>\n",
              "  <tbody>\n",
              "    <tr>\n",
              "      <th>0</th>\n",
              "      <td>5</td>\n",
              "      <td>20</td>\n",
              "      <td>0</td>\n",
              "    </tr>\n",
              "    <tr>\n",
              "      <th>1</th>\n",
              "      <td>5</td>\n",
              "      <td>25</td>\n",
              "      <td>0</td>\n",
              "    </tr>\n",
              "    <tr>\n",
              "      <th>2</th>\n",
              "      <td>5</td>\n",
              "      <td>30</td>\n",
              "      <td>0</td>\n",
              "    </tr>\n",
              "  </tbody>\n",
              "</table>\n",
              "</div>\n",
              "      <button class=\"colab-df-convert\" onclick=\"convertToInteractive('df-41a9544f-a59a-40b4-b1a9-1ef4a69e5a56')\"\n",
              "              title=\"Convert this dataframe to an interactive table.\"\n",
              "              style=\"display:none;\">\n",
              "\n",
              "  <svg xmlns=\"http://www.w3.org/2000/svg\" height=\"24px\"viewBox=\"0 0 24 24\"\n",
              "       width=\"24px\">\n",
              "    <path d=\"M0 0h24v24H0V0z\" fill=\"none\"/>\n",
              "    <path d=\"M18.56 5.44l.94 2.06.94-2.06 2.06-.94-2.06-.94-.94-2.06-.94 2.06-2.06.94zm-11 1L8.5 8.5l.94-2.06 2.06-.94-2.06-.94L8.5 2.5l-.94 2.06-2.06.94zm10 10l.94 2.06.94-2.06 2.06-.94-2.06-.94-.94-2.06-.94 2.06-2.06.94z\"/><path d=\"M17.41 7.96l-1.37-1.37c-.4-.4-.92-.59-1.43-.59-.52 0-1.04.2-1.43.59L10.3 9.45l-7.72 7.72c-.78.78-.78 2.05 0 2.83L4 21.41c.39.39.9.59 1.41.59.51 0 1.02-.2 1.41-.59l7.78-7.78 2.81-2.81c.8-.78.8-2.07 0-2.86zM5.41 20L4 18.59l7.72-7.72 1.47 1.35L5.41 20z\"/>\n",
              "  </svg>\n",
              "      </button>\n",
              "\n",
              "\n",
              "\n",
              "    <div id=\"df-ea2c75c2-cd47-4b5e-9e0f-587f8f37eeb6\">\n",
              "      <button class=\"colab-df-quickchart\" onclick=\"quickchart('df-ea2c75c2-cd47-4b5e-9e0f-587f8f37eeb6')\"\n",
              "              title=\"Suggest charts.\"\n",
              "              style=\"display:none;\">\n",
              "\n",
              "<svg xmlns=\"http://www.w3.org/2000/svg\" height=\"24px\"viewBox=\"0 0 24 24\"\n",
              "     width=\"24px\">\n",
              "    <g>\n",
              "        <path d=\"M19 3H5c-1.1 0-2 .9-2 2v14c0 1.1.9 2 2 2h14c1.1 0 2-.9 2-2V5c0-1.1-.9-2-2-2zM9 17H7v-7h2v7zm4 0h-2V7h2v10zm4 0h-2v-4h2v4z\"/>\n",
              "    </g>\n",
              "</svg>\n",
              "      </button>\n",
              "    </div>\n",
              "\n",
              "<style>\n",
              "  .colab-df-quickchart {\n",
              "    background-color: #E8F0FE;\n",
              "    border: none;\n",
              "    border-radius: 50%;\n",
              "    cursor: pointer;\n",
              "    display: none;\n",
              "    fill: #1967D2;\n",
              "    height: 32px;\n",
              "    padding: 0 0 0 0;\n",
              "    width: 32px;\n",
              "  }\n",
              "\n",
              "  .colab-df-quickchart:hover {\n",
              "    background-color: #E2EBFA;\n",
              "    box-shadow: 0px 1px 2px rgba(60, 64, 67, 0.3), 0px 1px 3px 1px rgba(60, 64, 67, 0.15);\n",
              "    fill: #174EA6;\n",
              "  }\n",
              "\n",
              "  [theme=dark] .colab-df-quickchart {\n",
              "    background-color: #3B4455;\n",
              "    fill: #D2E3FC;\n",
              "  }\n",
              "\n",
              "  [theme=dark] .colab-df-quickchart:hover {\n",
              "    background-color: #434B5C;\n",
              "    box-shadow: 0px 1px 3px 1px rgba(0, 0, 0, 0.15);\n",
              "    filter: drop-shadow(0px 1px 2px rgba(0, 0, 0, 0.3));\n",
              "    fill: #FFFFFF;\n",
              "  }\n",
              "</style>\n",
              "\n",
              "    <script>\n",
              "      async function quickchart(key) {\n",
              "        const containerElement = document.querySelector('#' + key);\n",
              "        const charts = await google.colab.kernel.invokeFunction(\n",
              "            'suggestCharts', [key], {});\n",
              "      }\n",
              "    </script>\n",
              "\n",
              "      <script>\n",
              "\n",
              "function displayQuickchartButton(domScope) {\n",
              "  let quickchartButtonEl =\n",
              "    domScope.querySelector('#df-ea2c75c2-cd47-4b5e-9e0f-587f8f37eeb6 button.colab-df-quickchart');\n",
              "  quickchartButtonEl.style.display =\n",
              "    google.colab.kernel.accessAllowed ? 'block' : 'none';\n",
              "}\n",
              "\n",
              "        displayQuickchartButton(document);\n",
              "      </script>\n",
              "      <style>\n",
              "    .colab-df-container {\n",
              "      display:flex;\n",
              "      flex-wrap:wrap;\n",
              "      gap: 12px;\n",
              "    }\n",
              "\n",
              "    .colab-df-convert {\n",
              "      background-color: #E8F0FE;\n",
              "      border: none;\n",
              "      border-radius: 50%;\n",
              "      cursor: pointer;\n",
              "      display: none;\n",
              "      fill: #1967D2;\n",
              "      height: 32px;\n",
              "      padding: 0 0 0 0;\n",
              "      width: 32px;\n",
              "    }\n",
              "\n",
              "    .colab-df-convert:hover {\n",
              "      background-color: #E2EBFA;\n",
              "      box-shadow: 0px 1px 2px rgba(60, 64, 67, 0.3), 0px 1px 3px 1px rgba(60, 64, 67, 0.15);\n",
              "      fill: #174EA6;\n",
              "    }\n",
              "\n",
              "    [theme=dark] .colab-df-convert {\n",
              "      background-color: #3B4455;\n",
              "      fill: #D2E3FC;\n",
              "    }\n",
              "\n",
              "    [theme=dark] .colab-df-convert:hover {\n",
              "      background-color: #434B5C;\n",
              "      box-shadow: 0px 1px 3px 1px rgba(0, 0, 0, 0.15);\n",
              "      filter: drop-shadow(0px 1px 2px rgba(0, 0, 0, 0.3));\n",
              "      fill: #FFFFFF;\n",
              "    }\n",
              "  </style>\n",
              "\n",
              "      <script>\n",
              "        const buttonEl =\n",
              "          document.querySelector('#df-41a9544f-a59a-40b4-b1a9-1ef4a69e5a56 button.colab-df-convert');\n",
              "        buttonEl.style.display =\n",
              "          google.colab.kernel.accessAllowed ? 'block' : 'none';\n",
              "\n",
              "        async function convertToInteractive(key) {\n",
              "          const element = document.querySelector('#df-41a9544f-a59a-40b4-b1a9-1ef4a69e5a56');\n",
              "          const dataTable =\n",
              "            await google.colab.kernel.invokeFunction('convertToInteractive',\n",
              "                                                     [key], {});\n",
              "          if (!dataTable) return;\n",
              "\n",
              "          const docLinkHtml = 'Like what you see? Visit the ' +\n",
              "            '<a target=\"_blank\" href=https://colab.research.google.com/notebooks/data_table.ipynb>data table notebook</a>'\n",
              "            + ' to learn more about interactive tables.';\n",
              "          element.innerHTML = '';\n",
              "          dataTable['output_type'] = 'display_data';\n",
              "          await google.colab.output.renderOutput(dataTable, element);\n",
              "          const docLink = document.createElement('div');\n",
              "          docLink.innerHTML = docLinkHtml;\n",
              "          element.appendChild(docLink);\n",
              "        }\n",
              "      </script>\n",
              "    </div>\n",
              "  </div>\n"
            ]
          },
          "metadata": {},
          "execution_count": 98
        }
      ]
    },
    {
      "cell_type": "markdown",
      "source": [
        "#### Predictions for hypothetical data"
      ],
      "metadata": {
        "id": "qmzwWzBvQHSe"
      }
    },
    {
      "cell_type": "code",
      "source": [
        "# Not using the multiplication but leaving for reference - we can check this out, you can multiply by 600000 to get more realistic collision values.\n",
        "linear_day_predictions_1 = model_1.predict(input_1[:3])*SCALE_NUM_COLLISIONS #*600000\n",
        "# This is not being applied in this case but useful for future reference: essentially 600000 in this instance would give back realistic numbers based on the collision data\n",
        "# Could do the conversion step from scaled collisions to collisions here instead of below\n",
        "# predictions0 = model_0.predict(test_features_day[:3] * a22 +b22 )\n",
        "print(linear_day_predictions_1)"
      ],
      "metadata": {
        "id": "bk96l6IfjA_1",
        "outputId": "073211aa-2dba-4c51-cda1-e16466f9fdd0",
        "colab": {
          "base_uri": "https://localhost:8080/"
        }
      },
      "execution_count": 99,
      "outputs": [
        {
          "output_type": "stream",
          "name": "stdout",
          "text": [
            "1/1 [==============================] - 0s 56ms/step\n",
            "[[0.7110062]\n",
            " [0.7482315]\n",
            " [0.7854567]]\n"
          ]
        }
      ]
    },
    {
      "cell_type": "code",
      "source": [
        "# Calculate the corresponding number of collisions based on the scaled collisions\n",
        "scaledToNumCollisions = pd.DataFrame.from_dict(data =\n",
        "\t\t\t\t{\n",
        "            'dowStartSun' : [5,5,5], #  Friday, Friday, Friday\n",
        "            'temperature' : [20, 25, 30], # Low temp C to correspond to\n",
        "            'snow_depth' :  [0, 0, 0], # lowest values for NY in dataset were approx 38mm for when snow present\n",
        "            'scaledCollision predicted' : [0.67876846,0.7318595  ,0.78495055],\n",
        "            'Corresponding Predicted Collisions based on 2022' : [np.round(.61788183 * a22 +b22),\n",
        "                                                                  np.round(0.7139833 *a22 +b22) ,\n",
        "                                                                  np.round(0.7212413 *a22 +b22) ]\n",
        "        })\n",
        "scaledToNumCollisions"
      ],
      "metadata": {
        "colab": {
          "base_uri": "https://localhost:8080/",
          "height": 205
        },
        "id": "2NaFeKrTAmp3",
        "outputId": "081d06e9-0bde-42eb-a6b4-c017e1280bf8"
      },
      "execution_count": 102,
      "outputs": [
        {
          "output_type": "execute_result",
          "data": {
            "text/plain": [
              "   dowStartSun  temperature  snow_depth  scaledCollision predicted  \\\n",
              "0            5           20           0                   0.678768   \n",
              "1            5           25           0                   0.731859   \n",
              "2            5           30           0                   0.784951   \n",
              "\n",
              "   Corresponding Predicted Collisions based on 2022  \n",
              "0                                             294.0  \n",
              "1                                             312.0  \n",
              "2                                             313.0  "
            ],
            "text/html": [
              "\n",
              "\n",
              "  <div id=\"df-da91cd35-fd98-4b29-9231-4253b344ce1d\">\n",
              "    <div class=\"colab-df-container\">\n",
              "      <div>\n",
              "<style scoped>\n",
              "    .dataframe tbody tr th:only-of-type {\n",
              "        vertical-align: middle;\n",
              "    }\n",
              "\n",
              "    .dataframe tbody tr th {\n",
              "        vertical-align: top;\n",
              "    }\n",
              "\n",
              "    .dataframe thead th {\n",
              "        text-align: right;\n",
              "    }\n",
              "</style>\n",
              "<table border=\"1\" class=\"dataframe\">\n",
              "  <thead>\n",
              "    <tr style=\"text-align: right;\">\n",
              "      <th></th>\n",
              "      <th>dowStartSun</th>\n",
              "      <th>temperature</th>\n",
              "      <th>snow_depth</th>\n",
              "      <th>scaledCollision predicted</th>\n",
              "      <th>Corresponding Predicted Collisions based on 2022</th>\n",
              "    </tr>\n",
              "  </thead>\n",
              "  <tbody>\n",
              "    <tr>\n",
              "      <th>0</th>\n",
              "      <td>5</td>\n",
              "      <td>20</td>\n",
              "      <td>0</td>\n",
              "      <td>0.678768</td>\n",
              "      <td>294.0</td>\n",
              "    </tr>\n",
              "    <tr>\n",
              "      <th>1</th>\n",
              "      <td>5</td>\n",
              "      <td>25</td>\n",
              "      <td>0</td>\n",
              "      <td>0.731859</td>\n",
              "      <td>312.0</td>\n",
              "    </tr>\n",
              "    <tr>\n",
              "      <th>2</th>\n",
              "      <td>5</td>\n",
              "      <td>30</td>\n",
              "      <td>0</td>\n",
              "      <td>0.784951</td>\n",
              "      <td>313.0</td>\n",
              "    </tr>\n",
              "  </tbody>\n",
              "</table>\n",
              "</div>\n",
              "      <button class=\"colab-df-convert\" onclick=\"convertToInteractive('df-da91cd35-fd98-4b29-9231-4253b344ce1d')\"\n",
              "              title=\"Convert this dataframe to an interactive table.\"\n",
              "              style=\"display:none;\">\n",
              "\n",
              "  <svg xmlns=\"http://www.w3.org/2000/svg\" height=\"24px\"viewBox=\"0 0 24 24\"\n",
              "       width=\"24px\">\n",
              "    <path d=\"M0 0h24v24H0V0z\" fill=\"none\"/>\n",
              "    <path d=\"M18.56 5.44l.94 2.06.94-2.06 2.06-.94-2.06-.94-.94-2.06-.94 2.06-2.06.94zm-11 1L8.5 8.5l.94-2.06 2.06-.94-2.06-.94L8.5 2.5l-.94 2.06-2.06.94zm10 10l.94 2.06.94-2.06 2.06-.94-2.06-.94-.94-2.06-.94 2.06-2.06.94z\"/><path d=\"M17.41 7.96l-1.37-1.37c-.4-.4-.92-.59-1.43-.59-.52 0-1.04.2-1.43.59L10.3 9.45l-7.72 7.72c-.78.78-.78 2.05 0 2.83L4 21.41c.39.39.9.59 1.41.59.51 0 1.02-.2 1.41-.59l7.78-7.78 2.81-2.81c.8-.78.8-2.07 0-2.86zM5.41 20L4 18.59l7.72-7.72 1.47 1.35L5.41 20z\"/>\n",
              "  </svg>\n",
              "      </button>\n",
              "\n",
              "\n",
              "\n",
              "    <div id=\"df-0637fa51-1528-4b20-81eb-249453f1bef1\">\n",
              "      <button class=\"colab-df-quickchart\" onclick=\"quickchart('df-0637fa51-1528-4b20-81eb-249453f1bef1')\"\n",
              "              title=\"Suggest charts.\"\n",
              "              style=\"display:none;\">\n",
              "\n",
              "<svg xmlns=\"http://www.w3.org/2000/svg\" height=\"24px\"viewBox=\"0 0 24 24\"\n",
              "     width=\"24px\">\n",
              "    <g>\n",
              "        <path d=\"M19 3H5c-1.1 0-2 .9-2 2v14c0 1.1.9 2 2 2h14c1.1 0 2-.9 2-2V5c0-1.1-.9-2-2-2zM9 17H7v-7h2v7zm4 0h-2V7h2v10zm4 0h-2v-4h2v4z\"/>\n",
              "    </g>\n",
              "</svg>\n",
              "      </button>\n",
              "    </div>\n",
              "\n",
              "<style>\n",
              "  .colab-df-quickchart {\n",
              "    background-color: #E8F0FE;\n",
              "    border: none;\n",
              "    border-radius: 50%;\n",
              "    cursor: pointer;\n",
              "    display: none;\n",
              "    fill: #1967D2;\n",
              "    height: 32px;\n",
              "    padding: 0 0 0 0;\n",
              "    width: 32px;\n",
              "  }\n",
              "\n",
              "  .colab-df-quickchart:hover {\n",
              "    background-color: #E2EBFA;\n",
              "    box-shadow: 0px 1px 2px rgba(60, 64, 67, 0.3), 0px 1px 3px 1px rgba(60, 64, 67, 0.15);\n",
              "    fill: #174EA6;\n",
              "  }\n",
              "\n",
              "  [theme=dark] .colab-df-quickchart {\n",
              "    background-color: #3B4455;\n",
              "    fill: #D2E3FC;\n",
              "  }\n",
              "\n",
              "  [theme=dark] .colab-df-quickchart:hover {\n",
              "    background-color: #434B5C;\n",
              "    box-shadow: 0px 1px 3px 1px rgba(0, 0, 0, 0.15);\n",
              "    filter: drop-shadow(0px 1px 2px rgba(0, 0, 0, 0.3));\n",
              "    fill: #FFFFFF;\n",
              "  }\n",
              "</style>\n",
              "\n",
              "    <script>\n",
              "      async function quickchart(key) {\n",
              "        const containerElement = document.querySelector('#' + key);\n",
              "        const charts = await google.colab.kernel.invokeFunction(\n",
              "            'suggestCharts', [key], {});\n",
              "      }\n",
              "    </script>\n",
              "\n",
              "      <script>\n",
              "\n",
              "function displayQuickchartButton(domScope) {\n",
              "  let quickchartButtonEl =\n",
              "    domScope.querySelector('#df-0637fa51-1528-4b20-81eb-249453f1bef1 button.colab-df-quickchart');\n",
              "  quickchartButtonEl.style.display =\n",
              "    google.colab.kernel.accessAllowed ? 'block' : 'none';\n",
              "}\n",
              "\n",
              "        displayQuickchartButton(document);\n",
              "      </script>\n",
              "      <style>\n",
              "    .colab-df-container {\n",
              "      display:flex;\n",
              "      flex-wrap:wrap;\n",
              "      gap: 12px;\n",
              "    }\n",
              "\n",
              "    .colab-df-convert {\n",
              "      background-color: #E8F0FE;\n",
              "      border: none;\n",
              "      border-radius: 50%;\n",
              "      cursor: pointer;\n",
              "      display: none;\n",
              "      fill: #1967D2;\n",
              "      height: 32px;\n",
              "      padding: 0 0 0 0;\n",
              "      width: 32px;\n",
              "    }\n",
              "\n",
              "    .colab-df-convert:hover {\n",
              "      background-color: #E2EBFA;\n",
              "      box-shadow: 0px 1px 2px rgba(60, 64, 67, 0.3), 0px 1px 3px 1px rgba(60, 64, 67, 0.15);\n",
              "      fill: #174EA6;\n",
              "    }\n",
              "\n",
              "    [theme=dark] .colab-df-convert {\n",
              "      background-color: #3B4455;\n",
              "      fill: #D2E3FC;\n",
              "    }\n",
              "\n",
              "    [theme=dark] .colab-df-convert:hover {\n",
              "      background-color: #434B5C;\n",
              "      box-shadow: 0px 1px 3px 1px rgba(0, 0, 0, 0.15);\n",
              "      filter: drop-shadow(0px 1px 2px rgba(0, 0, 0, 0.3));\n",
              "      fill: #FFFFFF;\n",
              "    }\n",
              "  </style>\n",
              "\n",
              "      <script>\n",
              "        const buttonEl =\n",
              "          document.querySelector('#df-da91cd35-fd98-4b29-9231-4253b344ce1d button.colab-df-convert');\n",
              "        buttonEl.style.display =\n",
              "          google.colab.kernel.accessAllowed ? 'block' : 'none';\n",
              "\n",
              "        async function convertToInteractive(key) {\n",
              "          const element = document.querySelector('#df-da91cd35-fd98-4b29-9231-4253b344ce1d');\n",
              "          const dataTable =\n",
              "            await google.colab.kernel.invokeFunction('convertToInteractive',\n",
              "                                                     [key], {});\n",
              "          if (!dataTable) return;\n",
              "\n",
              "          const docLinkHtml = 'Like what you see? Visit the ' +\n",
              "            '<a target=\"_blank\" href=https://colab.research.google.com/notebooks/data_table.ipynb>data table notebook</a>'\n",
              "            + ' to learn more about interactive tables.';\n",
              "          element.innerHTML = '';\n",
              "          dataTable['output_type'] = 'display_data';\n",
              "          await google.colab.output.renderOutput(dataTable, element);\n",
              "          const docLink = document.createElement('div');\n",
              "          docLink.innerHTML = docLinkHtml;\n",
              "          element.appendChild(docLink);\n",
              "        }\n",
              "      </script>\n",
              "    </div>\n",
              "  </div>\n"
            ]
          },
          "metadata": {},
          "execution_count": 102
        }
      ]
    },
    {
      "cell_type": "markdown",
      "source": [
        "We used Friday for the 3 test records and incremented the temperature by 5 degrees each day, which should occur alongside an increasing number of collisions. There is a marginal increase corresponding to the linear regressor developed earlier for temperature and collisions.  "
      ],
      "metadata": {
        "id": "QVeOV16dCP9L"
      }
    },
    {
      "cell_type": "markdown",
      "source": [
        "### Test hypothetical data for colder days with snow"
      ],
      "metadata": {
        "id": "oRPBQNoSIzPS"
      }
    },
    {
      "cell_type": "code",
      "source": [
        "# Colder days with and without snow\n",
        "input_1a = pd.DataFrame.from_dict(data =\n",
        "\t\t\t\t{\n",
        "            'dowStartSun' : [5, 5,5,5], #  Friday, Friday, Friday, Fri\n",
        "            'temperature' : [10, -1, -1, -3], # Low temp C to correspond to\n",
        "            'snow_depth' :  [0, 0, 39.5, 60] # lowest values for NY in dataset were approx 38mm for when snow present\n",
        "        })\n",
        "input_1a.head()"
      ],
      "metadata": {
        "colab": {
          "base_uri": "https://localhost:8080/",
          "height": 175
        },
        "id": "NNRcqLgnD0e5",
        "outputId": "4d9736c6-4ee0-48a5-bd46-72b3fd42e73b"
      },
      "execution_count": 104,
      "outputs": [
        {
          "output_type": "execute_result",
          "data": {
            "text/plain": [
              "   dowStartSun  temperature  snow_depth\n",
              "0            5           10         0.0\n",
              "1            5           -1         0.0\n",
              "2            5           -1        39.5\n",
              "3            5           -3        60.0"
            ],
            "text/html": [
              "\n",
              "\n",
              "  <div id=\"df-732aff5c-ddd3-49b7-9174-5b3b37463a06\">\n",
              "    <div class=\"colab-df-container\">\n",
              "      <div>\n",
              "<style scoped>\n",
              "    .dataframe tbody tr th:only-of-type {\n",
              "        vertical-align: middle;\n",
              "    }\n",
              "\n",
              "    .dataframe tbody tr th {\n",
              "        vertical-align: top;\n",
              "    }\n",
              "\n",
              "    .dataframe thead th {\n",
              "        text-align: right;\n",
              "    }\n",
              "</style>\n",
              "<table border=\"1\" class=\"dataframe\">\n",
              "  <thead>\n",
              "    <tr style=\"text-align: right;\">\n",
              "      <th></th>\n",
              "      <th>dowStartSun</th>\n",
              "      <th>temperature</th>\n",
              "      <th>snow_depth</th>\n",
              "    </tr>\n",
              "  </thead>\n",
              "  <tbody>\n",
              "    <tr>\n",
              "      <th>0</th>\n",
              "      <td>5</td>\n",
              "      <td>10</td>\n",
              "      <td>0.0</td>\n",
              "    </tr>\n",
              "    <tr>\n",
              "      <th>1</th>\n",
              "      <td>5</td>\n",
              "      <td>-1</td>\n",
              "      <td>0.0</td>\n",
              "    </tr>\n",
              "    <tr>\n",
              "      <th>2</th>\n",
              "      <td>5</td>\n",
              "      <td>-1</td>\n",
              "      <td>39.5</td>\n",
              "    </tr>\n",
              "    <tr>\n",
              "      <th>3</th>\n",
              "      <td>5</td>\n",
              "      <td>-3</td>\n",
              "      <td>60.0</td>\n",
              "    </tr>\n",
              "  </tbody>\n",
              "</table>\n",
              "</div>\n",
              "      <button class=\"colab-df-convert\" onclick=\"convertToInteractive('df-732aff5c-ddd3-49b7-9174-5b3b37463a06')\"\n",
              "              title=\"Convert this dataframe to an interactive table.\"\n",
              "              style=\"display:none;\">\n",
              "\n",
              "  <svg xmlns=\"http://www.w3.org/2000/svg\" height=\"24px\"viewBox=\"0 0 24 24\"\n",
              "       width=\"24px\">\n",
              "    <path d=\"M0 0h24v24H0V0z\" fill=\"none\"/>\n",
              "    <path d=\"M18.56 5.44l.94 2.06.94-2.06 2.06-.94-2.06-.94-.94-2.06-.94 2.06-2.06.94zm-11 1L8.5 8.5l.94-2.06 2.06-.94-2.06-.94L8.5 2.5l-.94 2.06-2.06.94zm10 10l.94 2.06.94-2.06 2.06-.94-2.06-.94-.94-2.06-.94 2.06-2.06.94z\"/><path d=\"M17.41 7.96l-1.37-1.37c-.4-.4-.92-.59-1.43-.59-.52 0-1.04.2-1.43.59L10.3 9.45l-7.72 7.72c-.78.78-.78 2.05 0 2.83L4 21.41c.39.39.9.59 1.41.59.51 0 1.02-.2 1.41-.59l7.78-7.78 2.81-2.81c.8-.78.8-2.07 0-2.86zM5.41 20L4 18.59l7.72-7.72 1.47 1.35L5.41 20z\"/>\n",
              "  </svg>\n",
              "      </button>\n",
              "\n",
              "\n",
              "\n",
              "    <div id=\"df-2a5dfbd7-76c9-4783-8897-e1513678c4af\">\n",
              "      <button class=\"colab-df-quickchart\" onclick=\"quickchart('df-2a5dfbd7-76c9-4783-8897-e1513678c4af')\"\n",
              "              title=\"Suggest charts.\"\n",
              "              style=\"display:none;\">\n",
              "\n",
              "<svg xmlns=\"http://www.w3.org/2000/svg\" height=\"24px\"viewBox=\"0 0 24 24\"\n",
              "     width=\"24px\">\n",
              "    <g>\n",
              "        <path d=\"M19 3H5c-1.1 0-2 .9-2 2v14c0 1.1.9 2 2 2h14c1.1 0 2-.9 2-2V5c0-1.1-.9-2-2-2zM9 17H7v-7h2v7zm4 0h-2V7h2v10zm4 0h-2v-4h2v4z\"/>\n",
              "    </g>\n",
              "</svg>\n",
              "      </button>\n",
              "    </div>\n",
              "\n",
              "<style>\n",
              "  .colab-df-quickchart {\n",
              "    background-color: #E8F0FE;\n",
              "    border: none;\n",
              "    border-radius: 50%;\n",
              "    cursor: pointer;\n",
              "    display: none;\n",
              "    fill: #1967D2;\n",
              "    height: 32px;\n",
              "    padding: 0 0 0 0;\n",
              "    width: 32px;\n",
              "  }\n",
              "\n",
              "  .colab-df-quickchart:hover {\n",
              "    background-color: #E2EBFA;\n",
              "    box-shadow: 0px 1px 2px rgba(60, 64, 67, 0.3), 0px 1px 3px 1px rgba(60, 64, 67, 0.15);\n",
              "    fill: #174EA6;\n",
              "  }\n",
              "\n",
              "  [theme=dark] .colab-df-quickchart {\n",
              "    background-color: #3B4455;\n",
              "    fill: #D2E3FC;\n",
              "  }\n",
              "\n",
              "  [theme=dark] .colab-df-quickchart:hover {\n",
              "    background-color: #434B5C;\n",
              "    box-shadow: 0px 1px 3px 1px rgba(0, 0, 0, 0.15);\n",
              "    filter: drop-shadow(0px 1px 2px rgba(0, 0, 0, 0.3));\n",
              "    fill: #FFFFFF;\n",
              "  }\n",
              "</style>\n",
              "\n",
              "    <script>\n",
              "      async function quickchart(key) {\n",
              "        const containerElement = document.querySelector('#' + key);\n",
              "        const charts = await google.colab.kernel.invokeFunction(\n",
              "            'suggestCharts', [key], {});\n",
              "      }\n",
              "    </script>\n",
              "\n",
              "      <script>\n",
              "\n",
              "function displayQuickchartButton(domScope) {\n",
              "  let quickchartButtonEl =\n",
              "    domScope.querySelector('#df-2a5dfbd7-76c9-4783-8897-e1513678c4af button.colab-df-quickchart');\n",
              "  quickchartButtonEl.style.display =\n",
              "    google.colab.kernel.accessAllowed ? 'block' : 'none';\n",
              "}\n",
              "\n",
              "        displayQuickchartButton(document);\n",
              "      </script>\n",
              "      <style>\n",
              "    .colab-df-container {\n",
              "      display:flex;\n",
              "      flex-wrap:wrap;\n",
              "      gap: 12px;\n",
              "    }\n",
              "\n",
              "    .colab-df-convert {\n",
              "      background-color: #E8F0FE;\n",
              "      border: none;\n",
              "      border-radius: 50%;\n",
              "      cursor: pointer;\n",
              "      display: none;\n",
              "      fill: #1967D2;\n",
              "      height: 32px;\n",
              "      padding: 0 0 0 0;\n",
              "      width: 32px;\n",
              "    }\n",
              "\n",
              "    .colab-df-convert:hover {\n",
              "      background-color: #E2EBFA;\n",
              "      box-shadow: 0px 1px 2px rgba(60, 64, 67, 0.3), 0px 1px 3px 1px rgba(60, 64, 67, 0.15);\n",
              "      fill: #174EA6;\n",
              "    }\n",
              "\n",
              "    [theme=dark] .colab-df-convert {\n",
              "      background-color: #3B4455;\n",
              "      fill: #D2E3FC;\n",
              "    }\n",
              "\n",
              "    [theme=dark] .colab-df-convert:hover {\n",
              "      background-color: #434B5C;\n",
              "      box-shadow: 0px 1px 3px 1px rgba(0, 0, 0, 0.15);\n",
              "      filter: drop-shadow(0px 1px 2px rgba(0, 0, 0, 0.3));\n",
              "      fill: #FFFFFF;\n",
              "    }\n",
              "  </style>\n",
              "\n",
              "      <script>\n",
              "        const buttonEl =\n",
              "          document.querySelector('#df-732aff5c-ddd3-49b7-9174-5b3b37463a06 button.colab-df-convert');\n",
              "        buttonEl.style.display =\n",
              "          google.colab.kernel.accessAllowed ? 'block' : 'none';\n",
              "\n",
              "        async function convertToInteractive(key) {\n",
              "          const element = document.querySelector('#df-732aff5c-ddd3-49b7-9174-5b3b37463a06');\n",
              "          const dataTable =\n",
              "            await google.colab.kernel.invokeFunction('convertToInteractive',\n",
              "                                                     [key], {});\n",
              "          if (!dataTable) return;\n",
              "\n",
              "          const docLinkHtml = 'Like what you see? Visit the ' +\n",
              "            '<a target=\"_blank\" href=https://colab.research.google.com/notebooks/data_table.ipynb>data table notebook</a>'\n",
              "            + ' to learn more about interactive tables.';\n",
              "          element.innerHTML = '';\n",
              "          dataTable['output_type'] = 'display_data';\n",
              "          await google.colab.output.renderOutput(dataTable, element);\n",
              "          const docLink = document.createElement('div');\n",
              "          docLink.innerHTML = docLinkHtml;\n",
              "          element.appendChild(docLink);\n",
              "        }\n",
              "      </script>\n",
              "    </div>\n",
              "  </div>\n"
            ]
          },
          "metadata": {},
          "execution_count": 104
        }
      ]
    },
    {
      "cell_type": "markdown",
      "source": [
        "#### Predictions for hypothetical data and comment"
      ],
      "metadata": {
        "id": "U0N04W6UQUz-"
      }
    },
    {
      "cell_type": "code",
      "source": [
        "# Not using multiplication by x this but leaving for reference - different example - multiply by 600000 to get more realistic collision values.\n",
        "linear_day_predictions_1a = model_1.predict(input_1a[:4])*SCALE_NUM_COLLISIONS #*600000\n",
        "print(linear_day_predictions_1a)"
      ],
      "metadata": {
        "outputId": "9ce5e10d-2536-4cc3-969b-e17c392e7048",
        "colab": {
          "base_uri": "https://localhost:8080/"
        },
        "id": "hAeb6KdvJW8Z"
      },
      "execution_count": 105,
      "outputs": [
        {
          "output_type": "stream",
          "name": "stdout",
          "text": [
            "1/1 [==============================] - 0s 92ms/step\n",
            "[[0.57430744]\n",
            " [0.50942206]\n",
            " [0.50187373]\n",
            " [0.4861589 ]]\n"
          ]
        }
      ]
    },
    {
      "cell_type": "code",
      "source": [
        "# Calculate the corresponding number of collisions based on the scaled collisions\n",
        "scaledToNumCollisions = pd.DataFrame.from_dict(data =\n",
        "\t\t\t\t{\n",
        "            'dowStartSun' : [5, 5,5,5], #  Friday, Friday, Friday, Fri\n",
        "            'temperature' : [10, -1, -1, -3], # Low temp C to correspond to\n",
        "            'snow_depth' :  [0, 0, 39.5, 60], # lowest values for NY in dataset were approx 38mm for when snow present\n",
        "          'scaledCollision predicted' : [\n",
        "                                        linear_day_predictions_1a[0],\n",
        "                                         linear_day_predictions_1a[1],\n",
        "                                         linear_day_predictions_1a[2],\n",
        "                                         linear_day_predictions_1a[3]\n",
        "                                         ],\n",
        "            'Corresponding Predicted Collisions based on 2022' :\n",
        "             [np.rint(linear_day_predictions_1a[0] * a22 +b22),\n",
        "              np.rint(linear_day_predictions_1a[1] *a22 +b22),\n",
        "              np.rint(linear_day_predictions_1a[2] *a22 +b22),\n",
        "              np.rint(linear_day_predictions_1a[3] *a22 +b22)]\n",
        "        })\n",
        "scaledToNumCollisions"
      ],
      "metadata": {
        "colab": {
          "base_uri": "https://localhost:8080/",
          "height": 236
        },
        "id": "rMb3ihb1JwVS",
        "outputId": "ed222921-6477-4b60-a450-34508ee2252d"
      },
      "execution_count": 103,
      "outputs": [
        {
          "output_type": "execute_result",
          "data": {
            "text/plain": [
              "   dowStartSun  temperature  snow_depth scaledCollision predicted  \\\n",
              "0            5           10         0.0               [0.6365557]   \n",
              "1            5           -1         0.0              [0.55466014]   \n",
              "2            5           -1        39.5              [0.45406404]   \n",
              "3            5           -3        60.0              [0.38696584]   \n",
              "\n",
              "  Corresponding Predicted Collisions based on 2022  \n",
              "0                                          [298.0]  \n",
              "1                                          [283.0]  \n",
              "2                                          [264.0]  \n",
              "3                                          [252.0]  "
            ],
            "text/html": [
              "\n",
              "\n",
              "  <div id=\"df-af8037ec-e2e5-44c4-a1b4-f27020e973ec\">\n",
              "    <div class=\"colab-df-container\">\n",
              "      <div>\n",
              "<style scoped>\n",
              "    .dataframe tbody tr th:only-of-type {\n",
              "        vertical-align: middle;\n",
              "    }\n",
              "\n",
              "    .dataframe tbody tr th {\n",
              "        vertical-align: top;\n",
              "    }\n",
              "\n",
              "    .dataframe thead th {\n",
              "        text-align: right;\n",
              "    }\n",
              "</style>\n",
              "<table border=\"1\" class=\"dataframe\">\n",
              "  <thead>\n",
              "    <tr style=\"text-align: right;\">\n",
              "      <th></th>\n",
              "      <th>dowStartSun</th>\n",
              "      <th>temperature</th>\n",
              "      <th>snow_depth</th>\n",
              "      <th>scaledCollision predicted</th>\n",
              "      <th>Corresponding Predicted Collisions based on 2022</th>\n",
              "    </tr>\n",
              "  </thead>\n",
              "  <tbody>\n",
              "    <tr>\n",
              "      <th>0</th>\n",
              "      <td>5</td>\n",
              "      <td>10</td>\n",
              "      <td>0.0</td>\n",
              "      <td>[0.6365557]</td>\n",
              "      <td>[298.0]</td>\n",
              "    </tr>\n",
              "    <tr>\n",
              "      <th>1</th>\n",
              "      <td>5</td>\n",
              "      <td>-1</td>\n",
              "      <td>0.0</td>\n",
              "      <td>[0.55466014]</td>\n",
              "      <td>[283.0]</td>\n",
              "    </tr>\n",
              "    <tr>\n",
              "      <th>2</th>\n",
              "      <td>5</td>\n",
              "      <td>-1</td>\n",
              "      <td>39.5</td>\n",
              "      <td>[0.45406404]</td>\n",
              "      <td>[264.0]</td>\n",
              "    </tr>\n",
              "    <tr>\n",
              "      <th>3</th>\n",
              "      <td>5</td>\n",
              "      <td>-3</td>\n",
              "      <td>60.0</td>\n",
              "      <td>[0.38696584]</td>\n",
              "      <td>[252.0]</td>\n",
              "    </tr>\n",
              "  </tbody>\n",
              "</table>\n",
              "</div>\n",
              "      <button class=\"colab-df-convert\" onclick=\"convertToInteractive('df-af8037ec-e2e5-44c4-a1b4-f27020e973ec')\"\n",
              "              title=\"Convert this dataframe to an interactive table.\"\n",
              "              style=\"display:none;\">\n",
              "\n",
              "  <svg xmlns=\"http://www.w3.org/2000/svg\" height=\"24px\"viewBox=\"0 0 24 24\"\n",
              "       width=\"24px\">\n",
              "    <path d=\"M0 0h24v24H0V0z\" fill=\"none\"/>\n",
              "    <path d=\"M18.56 5.44l.94 2.06.94-2.06 2.06-.94-2.06-.94-.94-2.06-.94 2.06-2.06.94zm-11 1L8.5 8.5l.94-2.06 2.06-.94-2.06-.94L8.5 2.5l-.94 2.06-2.06.94zm10 10l.94 2.06.94-2.06 2.06-.94-2.06-.94-.94-2.06-.94 2.06-2.06.94z\"/><path d=\"M17.41 7.96l-1.37-1.37c-.4-.4-.92-.59-1.43-.59-.52 0-1.04.2-1.43.59L10.3 9.45l-7.72 7.72c-.78.78-.78 2.05 0 2.83L4 21.41c.39.39.9.59 1.41.59.51 0 1.02-.2 1.41-.59l7.78-7.78 2.81-2.81c.8-.78.8-2.07 0-2.86zM5.41 20L4 18.59l7.72-7.72 1.47 1.35L5.41 20z\"/>\n",
              "  </svg>\n",
              "      </button>\n",
              "\n",
              "\n",
              "\n",
              "    <div id=\"df-cfb1a762-9b0e-49f5-a720-f3e1c1a34b04\">\n",
              "      <button class=\"colab-df-quickchart\" onclick=\"quickchart('df-cfb1a762-9b0e-49f5-a720-f3e1c1a34b04')\"\n",
              "              title=\"Suggest charts.\"\n",
              "              style=\"display:none;\">\n",
              "\n",
              "<svg xmlns=\"http://www.w3.org/2000/svg\" height=\"24px\"viewBox=\"0 0 24 24\"\n",
              "     width=\"24px\">\n",
              "    <g>\n",
              "        <path d=\"M19 3H5c-1.1 0-2 .9-2 2v14c0 1.1.9 2 2 2h14c1.1 0 2-.9 2-2V5c0-1.1-.9-2-2-2zM9 17H7v-7h2v7zm4 0h-2V7h2v10zm4 0h-2v-4h2v4z\"/>\n",
              "    </g>\n",
              "</svg>\n",
              "      </button>\n",
              "    </div>\n",
              "\n",
              "<style>\n",
              "  .colab-df-quickchart {\n",
              "    background-color: #E8F0FE;\n",
              "    border: none;\n",
              "    border-radius: 50%;\n",
              "    cursor: pointer;\n",
              "    display: none;\n",
              "    fill: #1967D2;\n",
              "    height: 32px;\n",
              "    padding: 0 0 0 0;\n",
              "    width: 32px;\n",
              "  }\n",
              "\n",
              "  .colab-df-quickchart:hover {\n",
              "    background-color: #E2EBFA;\n",
              "    box-shadow: 0px 1px 2px rgba(60, 64, 67, 0.3), 0px 1px 3px 1px rgba(60, 64, 67, 0.15);\n",
              "    fill: #174EA6;\n",
              "  }\n",
              "\n",
              "  [theme=dark] .colab-df-quickchart {\n",
              "    background-color: #3B4455;\n",
              "    fill: #D2E3FC;\n",
              "  }\n",
              "\n",
              "  [theme=dark] .colab-df-quickchart:hover {\n",
              "    background-color: #434B5C;\n",
              "    box-shadow: 0px 1px 3px 1px rgba(0, 0, 0, 0.15);\n",
              "    filter: drop-shadow(0px 1px 2px rgba(0, 0, 0, 0.3));\n",
              "    fill: #FFFFFF;\n",
              "  }\n",
              "</style>\n",
              "\n",
              "    <script>\n",
              "      async function quickchart(key) {\n",
              "        const containerElement = document.querySelector('#' + key);\n",
              "        const charts = await google.colab.kernel.invokeFunction(\n",
              "            'suggestCharts', [key], {});\n",
              "      }\n",
              "    </script>\n",
              "\n",
              "      <script>\n",
              "\n",
              "function displayQuickchartButton(domScope) {\n",
              "  let quickchartButtonEl =\n",
              "    domScope.querySelector('#df-cfb1a762-9b0e-49f5-a720-f3e1c1a34b04 button.colab-df-quickchart');\n",
              "  quickchartButtonEl.style.display =\n",
              "    google.colab.kernel.accessAllowed ? 'block' : 'none';\n",
              "}\n",
              "\n",
              "        displayQuickchartButton(document);\n",
              "      </script>\n",
              "      <style>\n",
              "    .colab-df-container {\n",
              "      display:flex;\n",
              "      flex-wrap:wrap;\n",
              "      gap: 12px;\n",
              "    }\n",
              "\n",
              "    .colab-df-convert {\n",
              "      background-color: #E8F0FE;\n",
              "      border: none;\n",
              "      border-radius: 50%;\n",
              "      cursor: pointer;\n",
              "      display: none;\n",
              "      fill: #1967D2;\n",
              "      height: 32px;\n",
              "      padding: 0 0 0 0;\n",
              "      width: 32px;\n",
              "    }\n",
              "\n",
              "    .colab-df-convert:hover {\n",
              "      background-color: #E2EBFA;\n",
              "      box-shadow: 0px 1px 2px rgba(60, 64, 67, 0.3), 0px 1px 3px 1px rgba(60, 64, 67, 0.15);\n",
              "      fill: #174EA6;\n",
              "    }\n",
              "\n",
              "    [theme=dark] .colab-df-convert {\n",
              "      background-color: #3B4455;\n",
              "      fill: #D2E3FC;\n",
              "    }\n",
              "\n",
              "    [theme=dark] .colab-df-convert:hover {\n",
              "      background-color: #434B5C;\n",
              "      box-shadow: 0px 1px 3px 1px rgba(0, 0, 0, 0.15);\n",
              "      filter: drop-shadow(0px 1px 2px rgba(0, 0, 0, 0.3));\n",
              "      fill: #FFFFFF;\n",
              "    }\n",
              "  </style>\n",
              "\n",
              "      <script>\n",
              "        const buttonEl =\n",
              "          document.querySelector('#df-af8037ec-e2e5-44c4-a1b4-f27020e973ec button.colab-df-convert');\n",
              "        buttonEl.style.display =\n",
              "          google.colab.kernel.accessAllowed ? 'block' : 'none';\n",
              "\n",
              "        async function convertToInteractive(key) {\n",
              "          const element = document.querySelector('#df-af8037ec-e2e5-44c4-a1b4-f27020e973ec');\n",
              "          const dataTable =\n",
              "            await google.colab.kernel.invokeFunction('convertToInteractive',\n",
              "                                                     [key], {});\n",
              "          if (!dataTable) return;\n",
              "\n",
              "          const docLinkHtml = 'Like what you see? Visit the ' +\n",
              "            '<a target=\"_blank\" href=https://colab.research.google.com/notebooks/data_table.ipynb>data table notebook</a>'\n",
              "            + ' to learn more about interactive tables.';\n",
              "          element.innerHTML = '';\n",
              "          dataTable['output_type'] = 'display_data';\n",
              "          await google.colab.output.renderOutput(dataTable, element);\n",
              "          const docLink = document.createElement('div');\n",
              "          docLink.innerHTML = docLinkHtml;\n",
              "          element.appendChild(docLink);\n",
              "        }\n",
              "      </script>\n",
              "    </div>\n",
              "  </div>\n"
            ]
          },
          "metadata": {},
          "execution_count": 103
        }
      ]
    },
    {
      "cell_type": "markdown",
      "source": [
        "We see a general decrease to lower band of collisions in comparison to the test data for a summer temperature range. For colder times of year, the predicted collisions drop with rising snow levels for a constant day of the week.\n",
        "The test data uses low temperatures. The marginally cold day (10 degrees) has higher collisions than the days below freezing. The collisions drop as the temperature goes down. The days that have the same day and temperature but differing snow levels have different collision levels.The ealier linear regressor modelling indicates that we should expect rising snow depths to be associated with fewer collisions. The predicted collisions for the day with a higher snow depth with a constant temperature and day of week has lower collisions. These findings are in line with the linear regressor modelling."
      ],
      "metadata": {
        "id": "01WHHMPXKvCr"
      }
    },
    {
      "cell_type": "markdown",
      "source": [
        "# Model 2: Day of week starting Sunday, Temperature and Weighted fatalities and injuries"
      ],
      "metadata": {
        "id": "u8v2swaGU7Gv"
      }
    },
    {
      "cell_type": "code",
      "source": [
        "# create a dataframe with the inputs and the output at the end using the imported dataframe.\n",
        "# This instance day of week, temperature, weighted fatalities and injuries\n",
        "df2_input_data = [lrdf[\"dowStartSun\"], lrdf[\"temperature\"], lrdf[\"weighted_fatalities_injuries\"]]\n",
        "# create headers for our new dataframe.\n",
        "df2_input_headers = [\"dowStartSun\", \"temperature\", \"weighted_fatalities_injuries\"]\n",
        "df2_input = pd.concat(df2_input_data, axis=1, keys=df2_input_headers)"
      ],
      "metadata": {
        "id": "F74qzuKvU7G9"
      },
      "execution_count": 107,
      "outputs": []
    },
    {
      "cell_type": "markdown",
      "source": [
        "### Create training and test set and sequential model and fit the model"
      ],
      "metadata": {
        "id": "AN9X3gLcU7G9"
      }
    },
    {
      "cell_type": "code",
      "source": [
        "# construct a training set for running through the model and a test set.  Use sample with 0.8 for an 80% training set and 20% for test.\n",
        "training_set2 = df2_input.sample(frac=0.8, random_state=0)\n",
        "test_set2 = df2_input.drop(training_set2.index)"
      ],
      "metadata": {
        "id": "UcwVII43U7G-"
      },
      "execution_count": 108,
      "outputs": []
    },
    {
      "cell_type": "code",
      "source": [
        "# copy the datasets and remove the final column\n",
        "training_features2 = training_set2.copy()\n",
        "test_features2 = test_set2.copy()\n",
        "training_labels2 = training_features2.pop('weighted_fatalities_injuries')\n",
        "test_labels2 = test_features2.pop('weighted_fatalities_injuries')"
      ],
      "metadata": {
        "id": "8O0ixMCSU7G-"
      },
      "execution_count": 109,
      "outputs": []
    },
    {
      "cell_type": "code",
      "source": [
        "# Here I have put in a scale factor and divided by it. In this dataset, I had already normalised and thus it is 1. However, 600000 is what would make sense based on the data here and we can use this later when testing our model..\n",
        "training_labels2 = training_labels2/SCALE_NUM_COLLISIONS\n",
        "test_labels2 = test_labels2/SCALE_NUM_COLLISIONS"
      ],
      "metadata": {
        "id": "WiJJqis3U7G-"
      },
      "execution_count": 110,
      "outputs": []
    },
    {
      "cell_type": "code",
      "source": [
        "# boiler plate for this model. You can see that we have used the training_features here for our normalisation layer that we try and fit to the outputs.\n",
        "normaliser = tf.keras.layers.Normalization(axis=-1)\n",
        "normaliser.adapt(np.array(training_features2))"
      ],
      "metadata": {
        "id": "EmPa_-CsU7G-"
      },
      "execution_count": 111,
      "outputs": []
    },
    {
      "cell_type": "code",
      "source": [
        "# model_2. We add our normaliser and we are expecting a single output.\n",
        "model_2 = tf.keras.Sequential([\n",
        "    normaliser,\n",
        "    layers.Dense(units=1)\n",
        "])"
      ],
      "metadata": {
        "id": "nsZeXnAnU7G-"
      },
      "execution_count": 112,
      "outputs": []
    },
    {
      "cell_type": "code",
      "source": [
        "# more boiler plate for creating a sequential model, we need an optimiser and loss parameter. Here we are going to be using the mean absolute error MAE\n",
        "model_2.compile(\n",
        "    optimizer=tf.optimizers.Adam(learning_rate=0.1),\n",
        "    loss='mean_absolute_error')"
      ],
      "metadata": {
        "id": "CdYQXR-zU7G-"
      },
      "execution_count": 113,
      "outputs": []
    },
    {
      "cell_type": "code",
      "source": [
        "# now we are going to fit the model where we require the training features and labels. We will run it 100 times i.e. epochs and we have applied a further 20% validation split.\n",
        "%%time\n",
        "history2 = model_2.fit(\n",
        "    training_features2,\n",
        "    training_labels2,\n",
        "    epochs=100,\n",
        "    verbose=0,\n",
        "    validation_split = 0.2)"
      ],
      "metadata": {
        "outputId": "78d5ac41-7c5f-43ef-de2c-9204df1ccac5",
        "colab": {
          "base_uri": "https://localhost:8080/"
        },
        "id": "zpQJMYBJU7G-"
      },
      "execution_count": 114,
      "outputs": [
        {
          "output_type": "stream",
          "name": "stdout",
          "text": [
            "CPU times: user 6.95 s, sys: 253 ms, total: 7.21 s\n",
            "Wall time: 10.8 s\n"
          ]
        }
      ]
    },
    {
      "cell_type": "markdown",
      "source": [
        "### Evaluate model"
      ],
      "metadata": {
        "id": "vgRgqTEOU7G_"
      }
    },
    {
      "cell_type": "code",
      "source": [
        "# Now, we will evaluate our model using the test features and labels.\n",
        "mean_absolute_error_model_2 = model_2.evaluate(\n",
        "    test_features2,\n",
        "    test_labels2, verbose=0)"
      ],
      "metadata": {
        "id": "S4pfutcIU7G_"
      },
      "execution_count": 115,
      "outputs": []
    },
    {
      "cell_type": "markdown",
      "source": [
        "### Evaluate mean absolute error"
      ],
      "metadata": {
        "id": "K7t7AUU5CqAY"
      }
    },
    {
      "cell_type": "code",
      "source": [
        "# Print mean absolute error of the model; we want to minimise this.\n",
        "# It will also vary on each training run due to randomisation.\n",
        "# Here we are going to be using the mean absolute error MAE\n",
        "print('LinearRegression has Mean Absolute Error of {0}'.format(mean_absolute_error_model_2));"
      ],
      "metadata": {
        "outputId": "a654153e-bf40-4dac-b2b2-42a4110cd0ec",
        "colab": {
          "base_uri": "https://localhost:8080/"
        },
        "id": "P_Q82RixCqAY"
      },
      "execution_count": null,
      "outputs": [
        {
          "output_type": "stream",
          "name": "stdout",
          "text": [
            "LinearRegression has Mean Absolute Error of 0.13897696137428284\n"
          ]
        }
      ]
    },
    {
      "cell_type": "markdown",
      "source": [
        "#### Generate predictions for samples from Test set"
      ],
      "metadata": {
        "id": "EEmvsHjUCqAZ"
      }
    },
    {
      "cell_type": "code",
      "source": [
        "# Generate predictions (the output of the last layer)\n",
        "# on new data using `predict`\n",
        "print(\"Generate predictions for 3 samples from test set\")\n",
        "predictions2 = model_2.predict(test_features2[:3])\n",
        "print(\"predictions shape:\", predictions.shape)"
      ],
      "metadata": {
        "colab": {
          "base_uri": "https://localhost:8080/"
        },
        "outputId": "2fa3b5d8-a8d0-4d57-c806-8f69f408717e",
        "id": "2vpo-1SzCqAZ"
      },
      "execution_count": null,
      "outputs": [
        {
          "output_type": "stream",
          "name": "stdout",
          "text": [
            "Generate predictions for 3 samples from test set\n",
            "1/1 [==============================] - 0s 22ms/step\n",
            "predictions shape: (3, 1)\n"
          ]
        }
      ]
    },
    {
      "cell_type": "markdown",
      "source": [
        "View predictions for 3 samples.\n"
      ],
      "metadata": {
        "id": "KEWPa8HiCqAZ"
      }
    },
    {
      "cell_type": "code",
      "source": [
        "a22 = 185\n",
        "b22 = 180\n",
        "print(test_features2[:3])\n",
        "print()\n",
        "\n",
        "print('Predictions for scaled collisions{0}'. format(np.round(predictions2[0],4)));\n",
        "# corresponding collision value that the scaledCollision equates to based on scaled collisions for 2022\n",
        "print('Corresponding collision value based on 2022 {0}'.format(np.round(predictions2[0] * a22 +b22,0 )));\n",
        "print()\n",
        "\n",
        "print('Predictions for scaled collisions{0}'. format(np.round(predictions1[1],4)));\n",
        "# corresponding collision value that the scaledCollision equates to based on scaled collisions for 2022\n",
        "print('Corresponding collision value based on 2022 {0}'.format(np.round(predictions2[1] * a22 +b22,0 )));\n",
        "print()\n",
        "\n",
        "print('Predictions for scaled collisions{0}'. format(np.round(predictions1[2],4)));\n",
        "# corresponding collision value that the scaledCollision equates to based on scaled collisions for 2022\n",
        "print('Corresponding collision value based on 2022 {0}'.format(np.round(predictions2[2] * a22 +b22,0 )));\n"
      ],
      "metadata": {
        "colab": {
          "base_uri": "https://localhost:8080/"
        },
        "outputId": "f84773d5-04b5-48f9-da30-7ac826b72bb9",
        "id": "aG5XdnRwCqAZ"
      },
      "execution_count": null,
      "outputs": [
        {
          "output_type": "stream",
          "name": "stdout",
          "text": [
            "    dowStartSun  temperature  snow_depth\n",
            "10            3     2.944444         0.0\n",
            "12            5     6.055556         0.0\n",
            "20            6     4.944444         0.0\n",
            "\n",
            "Predictions for scaled collisions[0.5298]\n",
            "Corresponding collision value based on 2022 [278.]\n",
            "\n",
            "Predictions for scaled collisions[0.551]\n",
            "Corresponding collision value based on 2022 [282.]\n",
            "\n",
            "Predictions for scaled collisions[0.5459]\n",
            "Corresponding collision value based on 2022 [281.]\n"
          ]
        }
      ]
    },
    {
      "cell_type": "code",
      "source": [
        "# Print mean absolute error of the model\n",
        "# Remember, we want to minimise this.\n",
        "# Perhaps a model with just day and NUM_TRIPS would be better.\n",
        "# It will also vary on each training run due to randomisation.\n",
        "print(mean_absolute_error_model_2)"
      ],
      "metadata": {
        "outputId": "8418e9b1-f63d-41a3-871d-21c18c453ee8",
        "colab": {
          "base_uri": "https://localhost:8080/"
        },
        "id": "V2_vLy45U7G_"
      },
      "execution_count": 116,
      "outputs": [
        {
          "output_type": "stream",
          "name": "stdout",
          "text": [
            "2.052436113357544\n"
          ]
        }
      ]
    },
    {
      "cell_type": "markdown",
      "source": [
        "### Test data with 3 hypothetical values with moderate temperatures on Friday"
      ],
      "metadata": {
        "id": "qaH8_4foU7G_"
      }
    },
    {
      "cell_type": "code",
      "source": [
        "# we create a custom dataframe with 3 values per feature.\n",
        "input_2 = pd.DataFrame.from_dict(data =\n",
        "\t\t\t\t{\n",
        "            'dowStartSun' : [5,5,5], #  Friday, Friday, Friday\n",
        "            'temperature' : [20, 25, 30], # Low temp C to correspond to\n",
        "        })"
      ],
      "metadata": {
        "id": "tBRf6gHFU7G_"
      },
      "execution_count": 117,
      "outputs": []
    },
    {
      "cell_type": "code",
      "source": [
        "input_2.head()"
      ],
      "metadata": {
        "outputId": "5d299ef6-ed05-4223-a188-ecacf2e3714d",
        "colab": {
          "base_uri": "https://localhost:8080/",
          "height": 143
        },
        "id": "hy1E6mZIU7HA"
      },
      "execution_count": 115,
      "outputs": [
        {
          "output_type": "execute_result",
          "data": {
            "text/plain": [
              "   dowStartSun  temperature\n",
              "0            5           20\n",
              "1            5           25\n",
              "2            5           30"
            ],
            "text/html": [
              "\n",
              "\n",
              "  <div id=\"df-175f6800-12f2-41fb-a4fa-3e81c8381bef\">\n",
              "    <div class=\"colab-df-container\">\n",
              "      <div>\n",
              "<style scoped>\n",
              "    .dataframe tbody tr th:only-of-type {\n",
              "        vertical-align: middle;\n",
              "    }\n",
              "\n",
              "    .dataframe tbody tr th {\n",
              "        vertical-align: top;\n",
              "    }\n",
              "\n",
              "    .dataframe thead th {\n",
              "        text-align: right;\n",
              "    }\n",
              "</style>\n",
              "<table border=\"1\" class=\"dataframe\">\n",
              "  <thead>\n",
              "    <tr style=\"text-align: right;\">\n",
              "      <th></th>\n",
              "      <th>dowStartSun</th>\n",
              "      <th>temperature</th>\n",
              "    </tr>\n",
              "  </thead>\n",
              "  <tbody>\n",
              "    <tr>\n",
              "      <th>0</th>\n",
              "      <td>5</td>\n",
              "      <td>20</td>\n",
              "    </tr>\n",
              "    <tr>\n",
              "      <th>1</th>\n",
              "      <td>5</td>\n",
              "      <td>25</td>\n",
              "    </tr>\n",
              "    <tr>\n",
              "      <th>2</th>\n",
              "      <td>5</td>\n",
              "      <td>30</td>\n",
              "    </tr>\n",
              "  </tbody>\n",
              "</table>\n",
              "</div>\n",
              "      <button class=\"colab-df-convert\" onclick=\"convertToInteractive('df-175f6800-12f2-41fb-a4fa-3e81c8381bef')\"\n",
              "              title=\"Convert this dataframe to an interactive table.\"\n",
              "              style=\"display:none;\">\n",
              "\n",
              "  <svg xmlns=\"http://www.w3.org/2000/svg\" height=\"24px\"viewBox=\"0 0 24 24\"\n",
              "       width=\"24px\">\n",
              "    <path d=\"M0 0h24v24H0V0z\" fill=\"none\"/>\n",
              "    <path d=\"M18.56 5.44l.94 2.06.94-2.06 2.06-.94-2.06-.94-.94-2.06-.94 2.06-2.06.94zm-11 1L8.5 8.5l.94-2.06 2.06-.94-2.06-.94L8.5 2.5l-.94 2.06-2.06.94zm10 10l.94 2.06.94-2.06 2.06-.94-2.06-.94-.94-2.06-.94 2.06-2.06.94z\"/><path d=\"M17.41 7.96l-1.37-1.37c-.4-.4-.92-.59-1.43-.59-.52 0-1.04.2-1.43.59L10.3 9.45l-7.72 7.72c-.78.78-.78 2.05 0 2.83L4 21.41c.39.39.9.59 1.41.59.51 0 1.02-.2 1.41-.59l7.78-7.78 2.81-2.81c.8-.78.8-2.07 0-2.86zM5.41 20L4 18.59l7.72-7.72 1.47 1.35L5.41 20z\"/>\n",
              "  </svg>\n",
              "      </button>\n",
              "\n",
              "\n",
              "\n",
              "    <div id=\"df-0cb0cc40-4b19-45f1-9046-ade9248fe652\">\n",
              "      <button class=\"colab-df-quickchart\" onclick=\"quickchart('df-0cb0cc40-4b19-45f1-9046-ade9248fe652')\"\n",
              "              title=\"Suggest charts.\"\n",
              "              style=\"display:none;\">\n",
              "\n",
              "<svg xmlns=\"http://www.w3.org/2000/svg\" height=\"24px\"viewBox=\"0 0 24 24\"\n",
              "     width=\"24px\">\n",
              "    <g>\n",
              "        <path d=\"M19 3H5c-1.1 0-2 .9-2 2v14c0 1.1.9 2 2 2h14c1.1 0 2-.9 2-2V5c0-1.1-.9-2-2-2zM9 17H7v-7h2v7zm4 0h-2V7h2v10zm4 0h-2v-4h2v4z\"/>\n",
              "    </g>\n",
              "</svg>\n",
              "      </button>\n",
              "    </div>\n",
              "\n",
              "<style>\n",
              "  .colab-df-quickchart {\n",
              "    background-color: #E8F0FE;\n",
              "    border: none;\n",
              "    border-radius: 50%;\n",
              "    cursor: pointer;\n",
              "    display: none;\n",
              "    fill: #1967D2;\n",
              "    height: 32px;\n",
              "    padding: 0 0 0 0;\n",
              "    width: 32px;\n",
              "  }\n",
              "\n",
              "  .colab-df-quickchart:hover {\n",
              "    background-color: #E2EBFA;\n",
              "    box-shadow: 0px 1px 2px rgba(60, 64, 67, 0.3), 0px 1px 3px 1px rgba(60, 64, 67, 0.15);\n",
              "    fill: #174EA6;\n",
              "  }\n",
              "\n",
              "  [theme=dark] .colab-df-quickchart {\n",
              "    background-color: #3B4455;\n",
              "    fill: #D2E3FC;\n",
              "  }\n",
              "\n",
              "  [theme=dark] .colab-df-quickchart:hover {\n",
              "    background-color: #434B5C;\n",
              "    box-shadow: 0px 1px 3px 1px rgba(0, 0, 0, 0.15);\n",
              "    filter: drop-shadow(0px 1px 2px rgba(0, 0, 0, 0.3));\n",
              "    fill: #FFFFFF;\n",
              "  }\n",
              "</style>\n",
              "\n",
              "    <script>\n",
              "      async function quickchart(key) {\n",
              "        const containerElement = document.querySelector('#' + key);\n",
              "        const charts = await google.colab.kernel.invokeFunction(\n",
              "            'suggestCharts', [key], {});\n",
              "      }\n",
              "    </script>\n",
              "\n",
              "      <script>\n",
              "\n",
              "function displayQuickchartButton(domScope) {\n",
              "  let quickchartButtonEl =\n",
              "    domScope.querySelector('#df-0cb0cc40-4b19-45f1-9046-ade9248fe652 button.colab-df-quickchart');\n",
              "  quickchartButtonEl.style.display =\n",
              "    google.colab.kernel.accessAllowed ? 'block' : 'none';\n",
              "}\n",
              "\n",
              "        displayQuickchartButton(document);\n",
              "      </script>\n",
              "      <style>\n",
              "    .colab-df-container {\n",
              "      display:flex;\n",
              "      flex-wrap:wrap;\n",
              "      gap: 12px;\n",
              "    }\n",
              "\n",
              "    .colab-df-convert {\n",
              "      background-color: #E8F0FE;\n",
              "      border: none;\n",
              "      border-radius: 50%;\n",
              "      cursor: pointer;\n",
              "      display: none;\n",
              "      fill: #1967D2;\n",
              "      height: 32px;\n",
              "      padding: 0 0 0 0;\n",
              "      width: 32px;\n",
              "    }\n",
              "\n",
              "    .colab-df-convert:hover {\n",
              "      background-color: #E2EBFA;\n",
              "      box-shadow: 0px 1px 2px rgba(60, 64, 67, 0.3), 0px 1px 3px 1px rgba(60, 64, 67, 0.15);\n",
              "      fill: #174EA6;\n",
              "    }\n",
              "\n",
              "    [theme=dark] .colab-df-convert {\n",
              "      background-color: #3B4455;\n",
              "      fill: #D2E3FC;\n",
              "    }\n",
              "\n",
              "    [theme=dark] .colab-df-convert:hover {\n",
              "      background-color: #434B5C;\n",
              "      box-shadow: 0px 1px 3px 1px rgba(0, 0, 0, 0.15);\n",
              "      filter: drop-shadow(0px 1px 2px rgba(0, 0, 0, 0.3));\n",
              "      fill: #FFFFFF;\n",
              "    }\n",
              "  </style>\n",
              "\n",
              "      <script>\n",
              "        const buttonEl =\n",
              "          document.querySelector('#df-175f6800-12f2-41fb-a4fa-3e81c8381bef button.colab-df-convert');\n",
              "        buttonEl.style.display =\n",
              "          google.colab.kernel.accessAllowed ? 'block' : 'none';\n",
              "\n",
              "        async function convertToInteractive(key) {\n",
              "          const element = document.querySelector('#df-175f6800-12f2-41fb-a4fa-3e81c8381bef');\n",
              "          const dataTable =\n",
              "            await google.colab.kernel.invokeFunction('convertToInteractive',\n",
              "                                                     [key], {});\n",
              "          if (!dataTable) return;\n",
              "\n",
              "          const docLinkHtml = 'Like what you see? Visit the ' +\n",
              "            '<a target=\"_blank\" href=https://colab.research.google.com/notebooks/data_table.ipynb>data table notebook</a>'\n",
              "            + ' to learn more about interactive tables.';\n",
              "          element.innerHTML = '';\n",
              "          dataTable['output_type'] = 'display_data';\n",
              "          await google.colab.output.renderOutput(dataTable, element);\n",
              "          const docLink = document.createElement('div');\n",
              "          docLink.innerHTML = docLinkHtml;\n",
              "          element.appendChild(docLink);\n",
              "        }\n",
              "      </script>\n",
              "    </div>\n",
              "  </div>\n"
            ]
          },
          "metadata": {},
          "execution_count": 115
        }
      ]
    },
    {
      "cell_type": "markdown",
      "source": [
        "#### Predictions for the hypothetical values"
      ],
      "metadata": {
        "id": "PkF7kNiCU7HA"
      }
    },
    {
      "cell_type": "code",
      "source": [
        "# Not using this but leaving for reference - we can check this out, you can multiply by 600000 to get more realistic collision values.\n",
        "linear_day_predictions_2 = model_2.predict(input_2[:3])*SCALE_NUM_COLLISIONS #*600000\n",
        "# This is not being applied in this case but useful for future reference: essentially 600000 in this instance would give back realistic numbers based on the collision data\n",
        "print(linear_day_predictions_2)"
      ],
      "metadata": {
        "outputId": "27683058-e46c-497a-dfe3-642e94217893",
        "colab": {
          "base_uri": "https://localhost:8080/"
        },
        "id": "saxn4q9PU7HA"
      },
      "execution_count": 121,
      "outputs": [
        {
          "output_type": "stream",
          "name": "stdout",
          "text": [
            "1/1 [==============================] - 0s 21ms/step\n",
            "[[16.411005]\n",
            " [17.529741]\n",
            " [18.648478]]\n"
          ]
        }
      ]
    },
    {
      "cell_type": "code",
      "source": [
        "# Calculate the corresponding number of collisions based on the scaled collisions\n",
        "predictedWfi = pd.DataFrame.from_dict(data =\n",
        "\t\t\t\t{\n",
        "            'dowStartSun' : [5,5,5], #  Friday, Friday, Friday\n",
        "            'temperature' : [20, 25, 30], # Low temp C to correspond to\n",
        "            'Predicted Weighted fatalities and injuries' : [linear_day_predictions_2[0],\n",
        "                                                            linear_day_predictions_2[1]  ,\n",
        "                                                            linear_day_predictions_2[2]]\n",
        "        })\n",
        "predictedWfi"
      ],
      "metadata": {
        "colab": {
          "base_uri": "https://localhost:8080/",
          "height": 143
        },
        "outputId": "4789320d-1910-4b33-883a-1626f4436b17",
        "id": "EUkCmoC9U7HA"
      },
      "execution_count": 122,
      "outputs": [
        {
          "output_type": "execute_result",
          "data": {
            "text/plain": [
              "   dowStartSun  temperature Predicted Weighted fatalities and injuries\n",
              "0            5           20                                [16.411005]\n",
              "1            5           25                                [17.529741]\n",
              "2            5           30                                [18.648478]"
            ],
            "text/html": [
              "\n",
              "\n",
              "  <div id=\"df-fc36aa29-749c-4d8b-8e34-480ec73331e0\">\n",
              "    <div class=\"colab-df-container\">\n",
              "      <div>\n",
              "<style scoped>\n",
              "    .dataframe tbody tr th:only-of-type {\n",
              "        vertical-align: middle;\n",
              "    }\n",
              "\n",
              "    .dataframe tbody tr th {\n",
              "        vertical-align: top;\n",
              "    }\n",
              "\n",
              "    .dataframe thead th {\n",
              "        text-align: right;\n",
              "    }\n",
              "</style>\n",
              "<table border=\"1\" class=\"dataframe\">\n",
              "  <thead>\n",
              "    <tr style=\"text-align: right;\">\n",
              "      <th></th>\n",
              "      <th>dowStartSun</th>\n",
              "      <th>temperature</th>\n",
              "      <th>Predicted Weighted fatalities and injuries</th>\n",
              "    </tr>\n",
              "  </thead>\n",
              "  <tbody>\n",
              "    <tr>\n",
              "      <th>0</th>\n",
              "      <td>5</td>\n",
              "      <td>20</td>\n",
              "      <td>[16.411005]</td>\n",
              "    </tr>\n",
              "    <tr>\n",
              "      <th>1</th>\n",
              "      <td>5</td>\n",
              "      <td>25</td>\n",
              "      <td>[17.529741]</td>\n",
              "    </tr>\n",
              "    <tr>\n",
              "      <th>2</th>\n",
              "      <td>5</td>\n",
              "      <td>30</td>\n",
              "      <td>[18.648478]</td>\n",
              "    </tr>\n",
              "  </tbody>\n",
              "</table>\n",
              "</div>\n",
              "      <button class=\"colab-df-convert\" onclick=\"convertToInteractive('df-fc36aa29-749c-4d8b-8e34-480ec73331e0')\"\n",
              "              title=\"Convert this dataframe to an interactive table.\"\n",
              "              style=\"display:none;\">\n",
              "\n",
              "  <svg xmlns=\"http://www.w3.org/2000/svg\" height=\"24px\"viewBox=\"0 0 24 24\"\n",
              "       width=\"24px\">\n",
              "    <path d=\"M0 0h24v24H0V0z\" fill=\"none\"/>\n",
              "    <path d=\"M18.56 5.44l.94 2.06.94-2.06 2.06-.94-2.06-.94-.94-2.06-.94 2.06-2.06.94zm-11 1L8.5 8.5l.94-2.06 2.06-.94-2.06-.94L8.5 2.5l-.94 2.06-2.06.94zm10 10l.94 2.06.94-2.06 2.06-.94-2.06-.94-.94-2.06-.94 2.06-2.06.94z\"/><path d=\"M17.41 7.96l-1.37-1.37c-.4-.4-.92-.59-1.43-.59-.52 0-1.04.2-1.43.59L10.3 9.45l-7.72 7.72c-.78.78-.78 2.05 0 2.83L4 21.41c.39.39.9.59 1.41.59.51 0 1.02-.2 1.41-.59l7.78-7.78 2.81-2.81c.8-.78.8-2.07 0-2.86zM5.41 20L4 18.59l7.72-7.72 1.47 1.35L5.41 20z\"/>\n",
              "  </svg>\n",
              "      </button>\n",
              "\n",
              "\n",
              "\n",
              "    <div id=\"df-b437accb-59dd-4d0a-b236-d9f237f480d1\">\n",
              "      <button class=\"colab-df-quickchart\" onclick=\"quickchart('df-b437accb-59dd-4d0a-b236-d9f237f480d1')\"\n",
              "              title=\"Suggest charts.\"\n",
              "              style=\"display:none;\">\n",
              "\n",
              "<svg xmlns=\"http://www.w3.org/2000/svg\" height=\"24px\"viewBox=\"0 0 24 24\"\n",
              "     width=\"24px\">\n",
              "    <g>\n",
              "        <path d=\"M19 3H5c-1.1 0-2 .9-2 2v14c0 1.1.9 2 2 2h14c1.1 0 2-.9 2-2V5c0-1.1-.9-2-2-2zM9 17H7v-7h2v7zm4 0h-2V7h2v10zm4 0h-2v-4h2v4z\"/>\n",
              "    </g>\n",
              "</svg>\n",
              "      </button>\n",
              "    </div>\n",
              "\n",
              "<style>\n",
              "  .colab-df-quickchart {\n",
              "    background-color: #E8F0FE;\n",
              "    border: none;\n",
              "    border-radius: 50%;\n",
              "    cursor: pointer;\n",
              "    display: none;\n",
              "    fill: #1967D2;\n",
              "    height: 32px;\n",
              "    padding: 0 0 0 0;\n",
              "    width: 32px;\n",
              "  }\n",
              "\n",
              "  .colab-df-quickchart:hover {\n",
              "    background-color: #E2EBFA;\n",
              "    box-shadow: 0px 1px 2px rgba(60, 64, 67, 0.3), 0px 1px 3px 1px rgba(60, 64, 67, 0.15);\n",
              "    fill: #174EA6;\n",
              "  }\n",
              "\n",
              "  [theme=dark] .colab-df-quickchart {\n",
              "    background-color: #3B4455;\n",
              "    fill: #D2E3FC;\n",
              "  }\n",
              "\n",
              "  [theme=dark] .colab-df-quickchart:hover {\n",
              "    background-color: #434B5C;\n",
              "    box-shadow: 0px 1px 3px 1px rgba(0, 0, 0, 0.15);\n",
              "    filter: drop-shadow(0px 1px 2px rgba(0, 0, 0, 0.3));\n",
              "    fill: #FFFFFF;\n",
              "  }\n",
              "</style>\n",
              "\n",
              "    <script>\n",
              "      async function quickchart(key) {\n",
              "        const containerElement = document.querySelector('#' + key);\n",
              "        const charts = await google.colab.kernel.invokeFunction(\n",
              "            'suggestCharts', [key], {});\n",
              "      }\n",
              "    </script>\n",
              "\n",
              "      <script>\n",
              "\n",
              "function displayQuickchartButton(domScope) {\n",
              "  let quickchartButtonEl =\n",
              "    domScope.querySelector('#df-b437accb-59dd-4d0a-b236-d9f237f480d1 button.colab-df-quickchart');\n",
              "  quickchartButtonEl.style.display =\n",
              "    google.colab.kernel.accessAllowed ? 'block' : 'none';\n",
              "}\n",
              "\n",
              "        displayQuickchartButton(document);\n",
              "      </script>\n",
              "      <style>\n",
              "    .colab-df-container {\n",
              "      display:flex;\n",
              "      flex-wrap:wrap;\n",
              "      gap: 12px;\n",
              "    }\n",
              "\n",
              "    .colab-df-convert {\n",
              "      background-color: #E8F0FE;\n",
              "      border: none;\n",
              "      border-radius: 50%;\n",
              "      cursor: pointer;\n",
              "      display: none;\n",
              "      fill: #1967D2;\n",
              "      height: 32px;\n",
              "      padding: 0 0 0 0;\n",
              "      width: 32px;\n",
              "    }\n",
              "\n",
              "    .colab-df-convert:hover {\n",
              "      background-color: #E2EBFA;\n",
              "      box-shadow: 0px 1px 2px rgba(60, 64, 67, 0.3), 0px 1px 3px 1px rgba(60, 64, 67, 0.15);\n",
              "      fill: #174EA6;\n",
              "    }\n",
              "\n",
              "    [theme=dark] .colab-df-convert {\n",
              "      background-color: #3B4455;\n",
              "      fill: #D2E3FC;\n",
              "    }\n",
              "\n",
              "    [theme=dark] .colab-df-convert:hover {\n",
              "      background-color: #434B5C;\n",
              "      box-shadow: 0px 1px 3px 1px rgba(0, 0, 0, 0.15);\n",
              "      filter: drop-shadow(0px 1px 2px rgba(0, 0, 0, 0.3));\n",
              "      fill: #FFFFFF;\n",
              "    }\n",
              "  </style>\n",
              "\n",
              "      <script>\n",
              "        const buttonEl =\n",
              "          document.querySelector('#df-fc36aa29-749c-4d8b-8e34-480ec73331e0 button.colab-df-convert');\n",
              "        buttonEl.style.display =\n",
              "          google.colab.kernel.accessAllowed ? 'block' : 'none';\n",
              "\n",
              "        async function convertToInteractive(key) {\n",
              "          const element = document.querySelector('#df-fc36aa29-749c-4d8b-8e34-480ec73331e0');\n",
              "          const dataTable =\n",
              "            await google.colab.kernel.invokeFunction('convertToInteractive',\n",
              "                                                     [key], {});\n",
              "          if (!dataTable) return;\n",
              "\n",
              "          const docLinkHtml = 'Like what you see? Visit the ' +\n",
              "            '<a target=\"_blank\" href=https://colab.research.google.com/notebooks/data_table.ipynb>data table notebook</a>'\n",
              "            + ' to learn more about interactive tables.';\n",
              "          element.innerHTML = '';\n",
              "          dataTable['output_type'] = 'display_data';\n",
              "          await google.colab.output.renderOutput(dataTable, element);\n",
              "          const docLink = document.createElement('div');\n",
              "          docLink.innerHTML = docLinkHtml;\n",
              "          element.appendChild(docLink);\n",
              "        }\n",
              "      </script>\n",
              "    </div>\n",
              "  </div>\n"
            ]
          },
          "metadata": {},
          "execution_count": 122
        }
      ]
    }
  ]
}