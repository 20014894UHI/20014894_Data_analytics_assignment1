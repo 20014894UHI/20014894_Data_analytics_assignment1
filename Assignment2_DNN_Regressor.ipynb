{
  "nbformat": 4,
  "nbformat_minor": 0,
  "metadata": {
    "colab": {
      "provenance": [],
      "toc_visible": true,
      "include_colab_link": true
    },
    "kernelspec": {
      "name": "python3",
      "display_name": "Python 3"
    }
  },
  "cells": [
    {
      "cell_type": "markdown",
      "metadata": {
        "id": "view-in-github",
        "colab_type": "text"
      },
      "source": [
        "<a href=\"https://colab.research.google.com/github/20014894UHI/20014894_Data_analytics_assignment1/blob/main/Assignment2_DNN_Regressor.ipynb\" target=\"_parent\"><img src=\"https://colab.research.google.com/assets/colab-badge.svg\" alt=\"Open In Colab\"/></a>"
      ]
    },
    {
      "cell_type": "markdown",
      "source": [
        "# Assignment 2 - DNN Regressor"
      ],
      "metadata": {
        "id": "dEOoQivI_zAW"
      }
    },
    {
      "cell_type": "markdown",
      "source": [
        "[Shared with 1122131uhi]"
      ],
      "metadata": {
        "id": "J-49SfEA0aCi"
      }
    },
    {
      "cell_type": "markdown",
      "source": [
        "In this sheet we will use the data to build a DNN regressor models.\n",
        "These models aim to measure the interactions between the elements and how they affect collisions. Neural networks account for interactions and capture complex interactions. A DNN model includes hidden layers that aggregate interactions that are not observed directly.\n"
      ],
      "metadata": {
        "id": "aCprotKPj_-B"
      }
    },
    {
      "cell_type": "code",
      "metadata": {
        "id": "9-vuVzC7urdA"
      },
      "source": [
        "# needed to create the data frame\n",
        "import pandas as pd\n",
        "# for reading data, for speedy maths based calculations\n",
        "import numpy as np"
      ],
      "execution_count": 1,
      "outputs": []
    },
    {
      "cell_type": "markdown",
      "source": [
        "We will use the Keras interface to the TensorFlow library."
      ],
      "metadata": {
        "id": "ZMv-cY4AFXBz"
      }
    },
    {
      "cell_type": "code",
      "source": [
        "import tensorflow as tf\n",
        "from tensorflow import keras\n",
        "from tensorflow.keras import layers\n",
        "print(tf.__version__) # 2.12.0"
      ],
      "metadata": {
        "id": "C2vGQ_0T4d5o",
        "outputId": "e9129c43-1600-449a-b905-4963478c5a66",
        "colab": {
          "base_uri": "https://localhost:8080/"
        }
      },
      "execution_count": 2,
      "outputs": [
        {
          "output_type": "stream",
          "name": "stdout",
          "text": [
            "2.12.0\n"
          ]
        }
      ]
    },
    {
      "cell_type": "markdown",
      "source": [
        "# For reference and comparison create a dataframe with scaledCollision and corresponding collision value\n",
        "\n",
        "This is calculated based on the the values for 2022. 2021 and 2023 are also included.\n"
      ],
      "metadata": {
        "id": "SOB5yxY2YTaE"
      }
    },
    {
      "cell_type": "code",
      "source": [
        "# The feature scaling formula we used in the R sheet was:\n",
        "# x-min(x) / max(x) - min(x).\n",
        "# scaledCollisions=(num_collisions - min(num_collisions)) /(max(num_collisions-min(num_collisions))\n",
        "# So for 2022 it was:\n",
        "# scaledCollisions = (num_collisions - 180) / 185\n",
        "# scaledCollisions * 185 = num_collisions - 180\n",
        "# Take the example of .4 for scaledCollisions\n",
        "# .4 * 185 = num_collisions - 180\n",
        "# 74 = num_collisions - 180\n",
        "# num_collisions = 254\n",
        "\n",
        "# So for 2021 it was:\n",
        "# scaledCollisions = (num_collisions - 184) / (388-184)\n",
        "# scaledCollisions = (num_collisions - 184) / 204\n",
        "# scaledCollisions * 204 = num_collisions - 184\n",
        "# Take the example of .4 for scaledCollisions\n",
        "# .4 * 204 = num_collisions - 184\n",
        "# 81.6 = num_collisions - 184\n",
        "# num_collisions = 265.5\n",
        "\n",
        "\n",
        "# So for 2023 it was:\n",
        "# scaledCollisions = (num_collisions - 128) / (314-128)\n",
        "# scaledCollisions = (num_collisions - 128) / 186\n",
        "# scaledCollisions * 186 = num_collisions - 128\n",
        "# Take the example of .4 for scaledCollisions\n",
        "# .4 * 186 = num_collisions - 128\n",
        "# 74.4 = num_collisions - 128\n",
        "# num_collisions = 202.4\n",
        "\n"
      ],
      "metadata": {
        "id": "D8izujEDxAy2"
      },
      "execution_count": 3,
      "outputs": []
    },
    {
      "cell_type": "code",
      "source": [
        "# For testing, create a dataframe as a reference with the scaledCollision value for 2022 and\n",
        "# corresponding collision value that the scaledCollision equates to for 2022\n",
        "a22 = 185\n",
        "b22 = 180\n",
        "a21= 204\n",
        "b21 = 184\n",
        "a23 = 186\n",
        "b23 = 128\n",
        "referencedf = pd.DataFrame.from_dict(data =\n",
        "\t\t\t\t{\n",
        "            'scaledCollision2022' : [.1,.2,.3,.4,.5,.6,.7,.8,.9],\n",
        "            'Collisions' : [(.1 * a22 +b22),(.2 *a22 +b22) ,(.3 *a22 +b22), (.4 *a22 +b22),(.5 *a22 +b22),  (.6 *a22 +b22),(.7 *a22 +b22),(.8 *a22 +b22),(.9 *a22 + b22) ]\n",
        "        })\n",
        "referencedf"
      ],
      "metadata": {
        "colab": {
          "base_uri": "https://localhost:8080/",
          "height": 331
        },
        "id": "ArpmrBYPvymK",
        "outputId": "7c50f555-c191-4f8b-904c-0db0677bcfe5"
      },
      "execution_count": 4,
      "outputs": [
        {
          "output_type": "execute_result",
          "data": {
            "text/plain": [
              "   scaledCollision2022  Collisions\n",
              "0                  0.1       198.5\n",
              "1                  0.2       217.0\n",
              "2                  0.3       235.5\n",
              "3                  0.4       254.0\n",
              "4                  0.5       272.5\n",
              "5                  0.6       291.0\n",
              "6                  0.7       309.5\n",
              "7                  0.8       328.0\n",
              "8                  0.9       346.5"
            ],
            "text/html": [
              "\n",
              "\n",
              "  <div id=\"df-2480b14b-f554-4513-ab18-15a57484f8ce\">\n",
              "    <div class=\"colab-df-container\">\n",
              "      <div>\n",
              "<style scoped>\n",
              "    .dataframe tbody tr th:only-of-type {\n",
              "        vertical-align: middle;\n",
              "    }\n",
              "\n",
              "    .dataframe tbody tr th {\n",
              "        vertical-align: top;\n",
              "    }\n",
              "\n",
              "    .dataframe thead th {\n",
              "        text-align: right;\n",
              "    }\n",
              "</style>\n",
              "<table border=\"1\" class=\"dataframe\">\n",
              "  <thead>\n",
              "    <tr style=\"text-align: right;\">\n",
              "      <th></th>\n",
              "      <th>scaledCollision2022</th>\n",
              "      <th>Collisions</th>\n",
              "    </tr>\n",
              "  </thead>\n",
              "  <tbody>\n",
              "    <tr>\n",
              "      <th>0</th>\n",
              "      <td>0.1</td>\n",
              "      <td>198.5</td>\n",
              "    </tr>\n",
              "    <tr>\n",
              "      <th>1</th>\n",
              "      <td>0.2</td>\n",
              "      <td>217.0</td>\n",
              "    </tr>\n",
              "    <tr>\n",
              "      <th>2</th>\n",
              "      <td>0.3</td>\n",
              "      <td>235.5</td>\n",
              "    </tr>\n",
              "    <tr>\n",
              "      <th>3</th>\n",
              "      <td>0.4</td>\n",
              "      <td>254.0</td>\n",
              "    </tr>\n",
              "    <tr>\n",
              "      <th>4</th>\n",
              "      <td>0.5</td>\n",
              "      <td>272.5</td>\n",
              "    </tr>\n",
              "    <tr>\n",
              "      <th>5</th>\n",
              "      <td>0.6</td>\n",
              "      <td>291.0</td>\n",
              "    </tr>\n",
              "    <tr>\n",
              "      <th>6</th>\n",
              "      <td>0.7</td>\n",
              "      <td>309.5</td>\n",
              "    </tr>\n",
              "    <tr>\n",
              "      <th>7</th>\n",
              "      <td>0.8</td>\n",
              "      <td>328.0</td>\n",
              "    </tr>\n",
              "    <tr>\n",
              "      <th>8</th>\n",
              "      <td>0.9</td>\n",
              "      <td>346.5</td>\n",
              "    </tr>\n",
              "  </tbody>\n",
              "</table>\n",
              "</div>\n",
              "      <button class=\"colab-df-convert\" onclick=\"convertToInteractive('df-2480b14b-f554-4513-ab18-15a57484f8ce')\"\n",
              "              title=\"Convert this dataframe to an interactive table.\"\n",
              "              style=\"display:none;\">\n",
              "\n",
              "  <svg xmlns=\"http://www.w3.org/2000/svg\" height=\"24px\"viewBox=\"0 0 24 24\"\n",
              "       width=\"24px\">\n",
              "    <path d=\"M0 0h24v24H0V0z\" fill=\"none\"/>\n",
              "    <path d=\"M18.56 5.44l.94 2.06.94-2.06 2.06-.94-2.06-.94-.94-2.06-.94 2.06-2.06.94zm-11 1L8.5 8.5l.94-2.06 2.06-.94-2.06-.94L8.5 2.5l-.94 2.06-2.06.94zm10 10l.94 2.06.94-2.06 2.06-.94-2.06-.94-.94-2.06-.94 2.06-2.06.94z\"/><path d=\"M17.41 7.96l-1.37-1.37c-.4-.4-.92-.59-1.43-.59-.52 0-1.04.2-1.43.59L10.3 9.45l-7.72 7.72c-.78.78-.78 2.05 0 2.83L4 21.41c.39.39.9.59 1.41.59.51 0 1.02-.2 1.41-.59l7.78-7.78 2.81-2.81c.8-.78.8-2.07 0-2.86zM5.41 20L4 18.59l7.72-7.72 1.47 1.35L5.41 20z\"/>\n",
              "  </svg>\n",
              "      </button>\n",
              "\n",
              "\n",
              "\n",
              "    <div id=\"df-f61934e1-95bd-4546-b330-fa90ff436de8\">\n",
              "      <button class=\"colab-df-quickchart\" onclick=\"quickchart('df-f61934e1-95bd-4546-b330-fa90ff436de8')\"\n",
              "              title=\"Suggest charts.\"\n",
              "              style=\"display:none;\">\n",
              "\n",
              "<svg xmlns=\"http://www.w3.org/2000/svg\" height=\"24px\"viewBox=\"0 0 24 24\"\n",
              "     width=\"24px\">\n",
              "    <g>\n",
              "        <path d=\"M19 3H5c-1.1 0-2 .9-2 2v14c0 1.1.9 2 2 2h14c1.1 0 2-.9 2-2V5c0-1.1-.9-2-2-2zM9 17H7v-7h2v7zm4 0h-2V7h2v10zm4 0h-2v-4h2v4z\"/>\n",
              "    </g>\n",
              "</svg>\n",
              "      </button>\n",
              "    </div>\n",
              "\n",
              "<style>\n",
              "  .colab-df-quickchart {\n",
              "    background-color: #E8F0FE;\n",
              "    border: none;\n",
              "    border-radius: 50%;\n",
              "    cursor: pointer;\n",
              "    display: none;\n",
              "    fill: #1967D2;\n",
              "    height: 32px;\n",
              "    padding: 0 0 0 0;\n",
              "    width: 32px;\n",
              "  }\n",
              "\n",
              "  .colab-df-quickchart:hover {\n",
              "    background-color: #E2EBFA;\n",
              "    box-shadow: 0px 1px 2px rgba(60, 64, 67, 0.3), 0px 1px 3px 1px rgba(60, 64, 67, 0.15);\n",
              "    fill: #174EA6;\n",
              "  }\n",
              "\n",
              "  [theme=dark] .colab-df-quickchart {\n",
              "    background-color: #3B4455;\n",
              "    fill: #D2E3FC;\n",
              "  }\n",
              "\n",
              "  [theme=dark] .colab-df-quickchart:hover {\n",
              "    background-color: #434B5C;\n",
              "    box-shadow: 0px 1px 3px 1px rgba(0, 0, 0, 0.15);\n",
              "    filter: drop-shadow(0px 1px 2px rgba(0, 0, 0, 0.3));\n",
              "    fill: #FFFFFF;\n",
              "  }\n",
              "</style>\n",
              "\n",
              "    <script>\n",
              "      async function quickchart(key) {\n",
              "        const containerElement = document.querySelector('#' + key);\n",
              "        const charts = await google.colab.kernel.invokeFunction(\n",
              "            'suggestCharts', [key], {});\n",
              "      }\n",
              "    </script>\n",
              "\n",
              "      <script>\n",
              "\n",
              "function displayQuickchartButton(domScope) {\n",
              "  let quickchartButtonEl =\n",
              "    domScope.querySelector('#df-f61934e1-95bd-4546-b330-fa90ff436de8 button.colab-df-quickchart');\n",
              "  quickchartButtonEl.style.display =\n",
              "    google.colab.kernel.accessAllowed ? 'block' : 'none';\n",
              "}\n",
              "\n",
              "        displayQuickchartButton(document);\n",
              "      </script>\n",
              "      <style>\n",
              "    .colab-df-container {\n",
              "      display:flex;\n",
              "      flex-wrap:wrap;\n",
              "      gap: 12px;\n",
              "    }\n",
              "\n",
              "    .colab-df-convert {\n",
              "      background-color: #E8F0FE;\n",
              "      border: none;\n",
              "      border-radius: 50%;\n",
              "      cursor: pointer;\n",
              "      display: none;\n",
              "      fill: #1967D2;\n",
              "      height: 32px;\n",
              "      padding: 0 0 0 0;\n",
              "      width: 32px;\n",
              "    }\n",
              "\n",
              "    .colab-df-convert:hover {\n",
              "      background-color: #E2EBFA;\n",
              "      box-shadow: 0px 1px 2px rgba(60, 64, 67, 0.3), 0px 1px 3px 1px rgba(60, 64, 67, 0.15);\n",
              "      fill: #174EA6;\n",
              "    }\n",
              "\n",
              "    [theme=dark] .colab-df-convert {\n",
              "      background-color: #3B4455;\n",
              "      fill: #D2E3FC;\n",
              "    }\n",
              "\n",
              "    [theme=dark] .colab-df-convert:hover {\n",
              "      background-color: #434B5C;\n",
              "      box-shadow: 0px 1px 3px 1px rgba(0, 0, 0, 0.15);\n",
              "      filter: drop-shadow(0px 1px 2px rgba(0, 0, 0, 0.3));\n",
              "      fill: #FFFFFF;\n",
              "    }\n",
              "  </style>\n",
              "\n",
              "      <script>\n",
              "        const buttonEl =\n",
              "          document.querySelector('#df-2480b14b-f554-4513-ab18-15a57484f8ce button.colab-df-convert');\n",
              "        buttonEl.style.display =\n",
              "          google.colab.kernel.accessAllowed ? 'block' : 'none';\n",
              "\n",
              "        async function convertToInteractive(key) {\n",
              "          const element = document.querySelector('#df-2480b14b-f554-4513-ab18-15a57484f8ce');\n",
              "          const dataTable =\n",
              "            await google.colab.kernel.invokeFunction('convertToInteractive',\n",
              "                                                     [key], {});\n",
              "          if (!dataTable) return;\n",
              "\n",
              "          const docLinkHtml = 'Like what you see? Visit the ' +\n",
              "            '<a target=\"_blank\" href=https://colab.research.google.com/notebooks/data_table.ipynb>data table notebook</a>'\n",
              "            + ' to learn more about interactive tables.';\n",
              "          element.innerHTML = '';\n",
              "          dataTable['output_type'] = 'display_data';\n",
              "          await google.colab.output.renderOutput(dataTable, element);\n",
              "          const docLink = document.createElement('div');\n",
              "          docLink.innerHTML = docLinkHtml;\n",
              "          element.appendChild(docLink);\n",
              "        }\n",
              "      </script>\n",
              "    </div>\n",
              "  </div>\n"
            ]
          },
          "metadata": {},
          "execution_count": 4
        }
      ]
    },
    {
      "cell_type": "markdown",
      "source": [
        "# Reference of min, max and mean num_collisions for 2021 - 2023 as a reference"
      ],
      "metadata": {
        "id": "i3Q2PHTcl20I"
      }
    },
    {
      "cell_type": "markdown",
      "source": [
        "Referring back to the earlier datasets (previous R sheets), the minimum and maximum collisions in our datasets with outliers removed were as follows. These figures are a guide as to whether results are in line or outlandish.\n"
      ],
      "metadata": {
        "id": "1jERNtgbmAZM"
      }
    },
    {
      "cell_type": "code",
      "source": [
        "# Min and max collisions for 2021 - 2023 based on datasets with outliers removed.\n",
        "referencedf1 = pd.DataFrame.from_dict(data =\n",
        "\t\t\t\t{\n",
        "            'Year' : [2021,2022,2023],\n",
        "            'Min num_collisions' : [184,180,128],\n",
        "            'Max num_collisions' : [388,365,314],\n",
        "            'Median' : [310,284,244],\n",
        "            'Mean' : [303,282,243]\n",
        " })\n",
        "referencedf1"
      ],
      "metadata": {
        "colab": {
          "base_uri": "https://localhost:8080/",
          "height": 143
        },
        "id": "nuhlQbtjm8_e",
        "outputId": "f0090e31-9457-466a-cdc2-a195a981001c"
      },
      "execution_count": 5,
      "outputs": [
        {
          "output_type": "execute_result",
          "data": {
            "text/plain": [
              "   Year  Min num_collisions  Max num_collisions  Median  Mean\n",
              "0  2021                 184                 388     310   303\n",
              "1  2022                 180                 365     284   282\n",
              "2  2023                 128                 314     244   243"
            ],
            "text/html": [
              "\n",
              "\n",
              "  <div id=\"df-b499a95e-10fb-4a19-8f90-94e0419133b4\">\n",
              "    <div class=\"colab-df-container\">\n",
              "      <div>\n",
              "<style scoped>\n",
              "    .dataframe tbody tr th:only-of-type {\n",
              "        vertical-align: middle;\n",
              "    }\n",
              "\n",
              "    .dataframe tbody tr th {\n",
              "        vertical-align: top;\n",
              "    }\n",
              "\n",
              "    .dataframe thead th {\n",
              "        text-align: right;\n",
              "    }\n",
              "</style>\n",
              "<table border=\"1\" class=\"dataframe\">\n",
              "  <thead>\n",
              "    <tr style=\"text-align: right;\">\n",
              "      <th></th>\n",
              "      <th>Year</th>\n",
              "      <th>Min num_collisions</th>\n",
              "      <th>Max num_collisions</th>\n",
              "      <th>Median</th>\n",
              "      <th>Mean</th>\n",
              "    </tr>\n",
              "  </thead>\n",
              "  <tbody>\n",
              "    <tr>\n",
              "      <th>0</th>\n",
              "      <td>2021</td>\n",
              "      <td>184</td>\n",
              "      <td>388</td>\n",
              "      <td>310</td>\n",
              "      <td>303</td>\n",
              "    </tr>\n",
              "    <tr>\n",
              "      <th>1</th>\n",
              "      <td>2022</td>\n",
              "      <td>180</td>\n",
              "      <td>365</td>\n",
              "      <td>284</td>\n",
              "      <td>282</td>\n",
              "    </tr>\n",
              "    <tr>\n",
              "      <th>2</th>\n",
              "      <td>2023</td>\n",
              "      <td>128</td>\n",
              "      <td>314</td>\n",
              "      <td>244</td>\n",
              "      <td>243</td>\n",
              "    </tr>\n",
              "  </tbody>\n",
              "</table>\n",
              "</div>\n",
              "      <button class=\"colab-df-convert\" onclick=\"convertToInteractive('df-b499a95e-10fb-4a19-8f90-94e0419133b4')\"\n",
              "              title=\"Convert this dataframe to an interactive table.\"\n",
              "              style=\"display:none;\">\n",
              "\n",
              "  <svg xmlns=\"http://www.w3.org/2000/svg\" height=\"24px\"viewBox=\"0 0 24 24\"\n",
              "       width=\"24px\">\n",
              "    <path d=\"M0 0h24v24H0V0z\" fill=\"none\"/>\n",
              "    <path d=\"M18.56 5.44l.94 2.06.94-2.06 2.06-.94-2.06-.94-.94-2.06-.94 2.06-2.06.94zm-11 1L8.5 8.5l.94-2.06 2.06-.94-2.06-.94L8.5 2.5l-.94 2.06-2.06.94zm10 10l.94 2.06.94-2.06 2.06-.94-2.06-.94-.94-2.06-.94 2.06-2.06.94z\"/><path d=\"M17.41 7.96l-1.37-1.37c-.4-.4-.92-.59-1.43-.59-.52 0-1.04.2-1.43.59L10.3 9.45l-7.72 7.72c-.78.78-.78 2.05 0 2.83L4 21.41c.39.39.9.59 1.41.59.51 0 1.02-.2 1.41-.59l7.78-7.78 2.81-2.81c.8-.78.8-2.07 0-2.86zM5.41 20L4 18.59l7.72-7.72 1.47 1.35L5.41 20z\"/>\n",
              "  </svg>\n",
              "      </button>\n",
              "\n",
              "\n",
              "\n",
              "    <div id=\"df-85372093-0c89-4157-8b3c-47ae8811e96d\">\n",
              "      <button class=\"colab-df-quickchart\" onclick=\"quickchart('df-85372093-0c89-4157-8b3c-47ae8811e96d')\"\n",
              "              title=\"Suggest charts.\"\n",
              "              style=\"display:none;\">\n",
              "\n",
              "<svg xmlns=\"http://www.w3.org/2000/svg\" height=\"24px\"viewBox=\"0 0 24 24\"\n",
              "     width=\"24px\">\n",
              "    <g>\n",
              "        <path d=\"M19 3H5c-1.1 0-2 .9-2 2v14c0 1.1.9 2 2 2h14c1.1 0 2-.9 2-2V5c0-1.1-.9-2-2-2zM9 17H7v-7h2v7zm4 0h-2V7h2v10zm4 0h-2v-4h2v4z\"/>\n",
              "    </g>\n",
              "</svg>\n",
              "      </button>\n",
              "    </div>\n",
              "\n",
              "<style>\n",
              "  .colab-df-quickchart {\n",
              "    background-color: #E8F0FE;\n",
              "    border: none;\n",
              "    border-radius: 50%;\n",
              "    cursor: pointer;\n",
              "    display: none;\n",
              "    fill: #1967D2;\n",
              "    height: 32px;\n",
              "    padding: 0 0 0 0;\n",
              "    width: 32px;\n",
              "  }\n",
              "\n",
              "  .colab-df-quickchart:hover {\n",
              "    background-color: #E2EBFA;\n",
              "    box-shadow: 0px 1px 2px rgba(60, 64, 67, 0.3), 0px 1px 3px 1px rgba(60, 64, 67, 0.15);\n",
              "    fill: #174EA6;\n",
              "  }\n",
              "\n",
              "  [theme=dark] .colab-df-quickchart {\n",
              "    background-color: #3B4455;\n",
              "    fill: #D2E3FC;\n",
              "  }\n",
              "\n",
              "  [theme=dark] .colab-df-quickchart:hover {\n",
              "    background-color: #434B5C;\n",
              "    box-shadow: 0px 1px 3px 1px rgba(0, 0, 0, 0.15);\n",
              "    filter: drop-shadow(0px 1px 2px rgba(0, 0, 0, 0.3));\n",
              "    fill: #FFFFFF;\n",
              "  }\n",
              "</style>\n",
              "\n",
              "    <script>\n",
              "      async function quickchart(key) {\n",
              "        const containerElement = document.querySelector('#' + key);\n",
              "        const charts = await google.colab.kernel.invokeFunction(\n",
              "            'suggestCharts', [key], {});\n",
              "      }\n",
              "    </script>\n",
              "\n",
              "      <script>\n",
              "\n",
              "function displayQuickchartButton(domScope) {\n",
              "  let quickchartButtonEl =\n",
              "    domScope.querySelector('#df-85372093-0c89-4157-8b3c-47ae8811e96d button.colab-df-quickchart');\n",
              "  quickchartButtonEl.style.display =\n",
              "    google.colab.kernel.accessAllowed ? 'block' : 'none';\n",
              "}\n",
              "\n",
              "        displayQuickchartButton(document);\n",
              "      </script>\n",
              "      <style>\n",
              "    .colab-df-container {\n",
              "      display:flex;\n",
              "      flex-wrap:wrap;\n",
              "      gap: 12px;\n",
              "    }\n",
              "\n",
              "    .colab-df-convert {\n",
              "      background-color: #E8F0FE;\n",
              "      border: none;\n",
              "      border-radius: 50%;\n",
              "      cursor: pointer;\n",
              "      display: none;\n",
              "      fill: #1967D2;\n",
              "      height: 32px;\n",
              "      padding: 0 0 0 0;\n",
              "      width: 32px;\n",
              "    }\n",
              "\n",
              "    .colab-df-convert:hover {\n",
              "      background-color: #E2EBFA;\n",
              "      box-shadow: 0px 1px 2px rgba(60, 64, 67, 0.3), 0px 1px 3px 1px rgba(60, 64, 67, 0.15);\n",
              "      fill: #174EA6;\n",
              "    }\n",
              "\n",
              "    [theme=dark] .colab-df-convert {\n",
              "      background-color: #3B4455;\n",
              "      fill: #D2E3FC;\n",
              "    }\n",
              "\n",
              "    [theme=dark] .colab-df-convert:hover {\n",
              "      background-color: #434B5C;\n",
              "      box-shadow: 0px 1px 3px 1px rgba(0, 0, 0, 0.15);\n",
              "      filter: drop-shadow(0px 1px 2px rgba(0, 0, 0, 0.3));\n",
              "      fill: #FFFFFF;\n",
              "    }\n",
              "  </style>\n",
              "\n",
              "      <script>\n",
              "        const buttonEl =\n",
              "          document.querySelector('#df-b499a95e-10fb-4a19-8f90-94e0419133b4 button.colab-df-convert');\n",
              "        buttonEl.style.display =\n",
              "          google.colab.kernel.accessAllowed ? 'block' : 'none';\n",
              "\n",
              "        async function convertToInteractive(key) {\n",
              "          const element = document.querySelector('#df-b499a95e-10fb-4a19-8f90-94e0419133b4');\n",
              "          const dataTable =\n",
              "            await google.colab.kernel.invokeFunction('convertToInteractive',\n",
              "                                                     [key], {});\n",
              "          if (!dataTable) return;\n",
              "\n",
              "          const docLinkHtml = 'Like what you see? Visit the ' +\n",
              "            '<a target=\"_blank\" href=https://colab.research.google.com/notebooks/data_table.ipynb>data table notebook</a>'\n",
              "            + ' to learn more about interactive tables.';\n",
              "          element.innerHTML = '';\n",
              "          dataTable['output_type'] = 'display_data';\n",
              "          await google.colab.output.renderOutput(dataTable, element);\n",
              "          const docLink = document.createElement('div');\n",
              "          docLink.innerHTML = docLinkHtml;\n",
              "          element.appendChild(docLink);\n",
              "        }\n",
              "      </script>\n",
              "    </div>\n",
              "  </div>\n"
            ]
          },
          "metadata": {},
          "execution_count": 5
        }
      ]
    },
    {
      "cell_type": "markdown",
      "source": [
        "# Import dataset for further splitting for different models"
      ],
      "metadata": {
        "id": "WE0ab0a7x5TS"
      }
    },
    {
      "cell_type": "code",
      "source": [
        "# create data frame from csv file we hosted on our github\n",
        "# The composite DNN dataset from which we can extract further datasets\n",
        "# dfwc = pd.read_csv('https://raw.githubusercontent.com/20014894UHI/20014894_Data_analytics_assignment1/main/weatherCollisionsDNNdata.csv', index_col=0)\n",
        "# DNN data set to include months, daysofweek, year, temperature, wind speed, scaledCollisions. Added num_collisions as a comparison reference also)\n",
        "dfwc_DNN_mm_day_yr_temp_wind1 = pd.read_csv('https://raw.githubusercontent.com/20014894UHI/20014894_Data_analytics_assignment1/main/wc_DNN_mm_day_yr_temp_wind.csv', index_col=0)\n",
        "# Below does not include num_collisions:\n",
        "#dfwc_DNN_mm_day_yr_temp_wind = pd.read_csv('https://raw.githubusercontent.com/20014894UHI/20014894_Data_analytics_assignment1/main/wc_DNN_mm_day_yr_temp_windv2.csv', index_col=0)"
      ],
      "metadata": {
        "id": "gVj-QG5Kxftk"
      },
      "execution_count": 6,
      "outputs": []
    },
    {
      "cell_type": "markdown",
      "source": [
        "## Shuffle the data"
      ],
      "metadata": {
        "id": "GVLz3616dd78"
      }
    },
    {
      "cell_type": "code",
      "source": [
        "# iloc allows us to select by rows. Shuffle the data by rows determined at random.\n",
        "dfwc_DNN_mm_day_yr_temp_wind = dfwc_DNN_mm_day_yr_temp_wind1.iloc[np.random.permutation(len(dfwc_DNN_mm_day_yr_temp_wind1))]\n",
        "\n",
        "# Select all rows of the columns outlined i.e. The 3rd (2 as indexes start from 0)\n",
        "# predictors = dfwc_DNN_mm_day_yr_temp_wind.iloc[:,2:3]\n",
        "# If it was the last column, could use predictorTest = shuffle.iloc[:,-1]\n",
        "# print out the first 6 rows of predictors.\n",
        "# print(predictors[:6])"
      ],
      "metadata": {
        "id": "v5UDPFxrbHir"
      },
      "execution_count": 7,
      "outputs": []
    },
    {
      "cell_type": "code",
      "source": [
        "# print out the first 6 rows of shuffled data\n",
        "print(dfwc_DNN_mm_day_yr_temp_wind[:6])"
      ],
      "metadata": {
        "colab": {
          "base_uri": "https://localhost:8080/"
        },
        "id": "i5iiXNDl21SW",
        "outputId": "8b677867-8fef-4363-8000-23c1db99f668"
      },
      "execution_count": 8,
      "outputs": [
        {
          "output_type": "stream",
          "name": "stdout",
          "text": [
            "     Apr  Aug  Dec  Feb  Jan  Jul  Jun  Mar  May  Nov  ...  Sat  Sun  Thur  \\\n",
            "509    0    0    0    0    0    0    1    0    0    0  ...    0    0     0   \n",
            "291    0    0    0    0    0    0    0    0    0    0  ...    1    0     0   \n",
            "319    0    0    0    0    0    0    0    0    0    1  ...    1    0     0   \n",
            "260    0    0    0    0    0    0    0    0    0    0  ...    0    0     0   \n",
            "303    0    0    0    0    0    0    0    0    0    1  ...    0    0     1   \n",
            "317    0    0    0    0    0    0    0    0    0    1  ...    0    0     1   \n",
            "\n",
            "     Tue  Wed  year  temperature  wind_speed  scaledCollisions  num_collisions  \n",
            "509    1    0  2022         20.8         5.0          0.686486             307  \n",
            "291    0    0  2021         14.1         6.3          0.823529             352  \n",
            "319    0    0  2021          2.6         8.4          0.392157             264  \n",
            "260    1    0  2021         20.4         8.8          0.549020             296  \n",
            "303    0    0  2021         11.3         3.2          0.529412             292  \n",
            "317    0    0  2021          7.9         3.0          0.161765             217  \n",
            "\n",
            "[6 rows x 24 columns]\n"
          ]
        }
      ]
    },
    {
      "cell_type": "markdown",
      "source": [
        "# Model 2 DNN dataset - days of week, temperature, (scaledCollisions)\n"
      ],
      "metadata": {
        "id": "7BNATQgzxfta"
      }
    },
    {
      "cell_type": "markdown",
      "source": [
        "This was a diagnostic and simple dataset to scale back and troubleshoot a 'nan' result. It is also useful to compare to the models with more features."
      ],
      "metadata": {
        "id": "Jo8Wy4Rgxpr2"
      }
    },
    {
      "cell_type": "code",
      "source": [
        "# remove some columns for this modeel\n",
        "dfwc_DNN_dow_temp = dfwc_DNN_mm_day_yr_temp_wind.drop(\n",
        "    columns=[\n",
        "        'num_collisions',\n",
        "        'Jan', 'Feb','Mar','Apr','May','Jun','Jul','Aug','Sep','Oct','Nov','Dec',\n",
        "        'wind_speed', 'year' #'No.Snow','Snow','No.fog','Fog','Calm','Gentle_breeze','Light_air','Light_breeze','Moderate_breeze','Cold','Freezing.or.below','Hot','Mild','Very.warm','Warm','One','Ten','Three','Four','Five','Six','Seven','Eight','Nine','Dark.orange','Green','Light.blue','Light.green','Light.orange','Red','White','Yellow'\n",
        "        ])"
      ],
      "metadata": {
        "id": "NyrQEJZkxxE-"
      },
      "execution_count": 9,
      "outputs": []
    },
    {
      "cell_type": "markdown",
      "source": [
        "As the data is shuffled there is a variety of temerature values in the range.  "
      ],
      "metadata": {
        "id": "hCMlBx_veN7e"
      }
    },
    {
      "cell_type": "code",
      "source": [
        "# check data - DNN data set to include daysofweek, temperature, scaledCollisions.\n",
        "# removed year, months\n",
        "dfwc_DNN_dow_temp[:5]"
      ],
      "metadata": {
        "colab": {
          "base_uri": "https://localhost:8080/",
          "height": 206
        },
        "outputId": "193f3abd-1811-47e8-d80f-26460d463f2d",
        "id": "WfMPWvv8xftk"
      },
      "execution_count": 10,
      "outputs": [
        {
          "output_type": "execute_result",
          "data": {
            "text/plain": [
              "     Fri  Mon  Sat  Sun  Thur  Tue  Wed  temperature  scaledCollisions\n",
              "509    0    0    0    0     0    1    0         20.8          0.686486\n",
              "291    0    0    1    0     0    0    0         14.1          0.823529\n",
              "319    0    0    1    0     0    0    0          2.6          0.392157\n",
              "260    0    0    0    0     0    1    0         20.4          0.549020\n",
              "303    0    0    0    0     1    0    0         11.3          0.529412"
            ],
            "text/html": [
              "\n",
              "\n",
              "  <div id=\"df-e3ac88fa-4ee8-4cfa-beab-81c7abfd8d55\">\n",
              "    <div class=\"colab-df-container\">\n",
              "      <div>\n",
              "<style scoped>\n",
              "    .dataframe tbody tr th:only-of-type {\n",
              "        vertical-align: middle;\n",
              "    }\n",
              "\n",
              "    .dataframe tbody tr th {\n",
              "        vertical-align: top;\n",
              "    }\n",
              "\n",
              "    .dataframe thead th {\n",
              "        text-align: right;\n",
              "    }\n",
              "</style>\n",
              "<table border=\"1\" class=\"dataframe\">\n",
              "  <thead>\n",
              "    <tr style=\"text-align: right;\">\n",
              "      <th></th>\n",
              "      <th>Fri</th>\n",
              "      <th>Mon</th>\n",
              "      <th>Sat</th>\n",
              "      <th>Sun</th>\n",
              "      <th>Thur</th>\n",
              "      <th>Tue</th>\n",
              "      <th>Wed</th>\n",
              "      <th>temperature</th>\n",
              "      <th>scaledCollisions</th>\n",
              "    </tr>\n",
              "  </thead>\n",
              "  <tbody>\n",
              "    <tr>\n",
              "      <th>509</th>\n",
              "      <td>0</td>\n",
              "      <td>0</td>\n",
              "      <td>0</td>\n",
              "      <td>0</td>\n",
              "      <td>0</td>\n",
              "      <td>1</td>\n",
              "      <td>0</td>\n",
              "      <td>20.8</td>\n",
              "      <td>0.686486</td>\n",
              "    </tr>\n",
              "    <tr>\n",
              "      <th>291</th>\n",
              "      <td>0</td>\n",
              "      <td>0</td>\n",
              "      <td>1</td>\n",
              "      <td>0</td>\n",
              "      <td>0</td>\n",
              "      <td>0</td>\n",
              "      <td>0</td>\n",
              "      <td>14.1</td>\n",
              "      <td>0.823529</td>\n",
              "    </tr>\n",
              "    <tr>\n",
              "      <th>319</th>\n",
              "      <td>0</td>\n",
              "      <td>0</td>\n",
              "      <td>1</td>\n",
              "      <td>0</td>\n",
              "      <td>0</td>\n",
              "      <td>0</td>\n",
              "      <td>0</td>\n",
              "      <td>2.6</td>\n",
              "      <td>0.392157</td>\n",
              "    </tr>\n",
              "    <tr>\n",
              "      <th>260</th>\n",
              "      <td>0</td>\n",
              "      <td>0</td>\n",
              "      <td>0</td>\n",
              "      <td>0</td>\n",
              "      <td>0</td>\n",
              "      <td>1</td>\n",
              "      <td>0</td>\n",
              "      <td>20.4</td>\n",
              "      <td>0.549020</td>\n",
              "    </tr>\n",
              "    <tr>\n",
              "      <th>303</th>\n",
              "      <td>0</td>\n",
              "      <td>0</td>\n",
              "      <td>0</td>\n",
              "      <td>0</td>\n",
              "      <td>1</td>\n",
              "      <td>0</td>\n",
              "      <td>0</td>\n",
              "      <td>11.3</td>\n",
              "      <td>0.529412</td>\n",
              "    </tr>\n",
              "  </tbody>\n",
              "</table>\n",
              "</div>\n",
              "      <button class=\"colab-df-convert\" onclick=\"convertToInteractive('df-e3ac88fa-4ee8-4cfa-beab-81c7abfd8d55')\"\n",
              "              title=\"Convert this dataframe to an interactive table.\"\n",
              "              style=\"display:none;\">\n",
              "\n",
              "  <svg xmlns=\"http://www.w3.org/2000/svg\" height=\"24px\"viewBox=\"0 0 24 24\"\n",
              "       width=\"24px\">\n",
              "    <path d=\"M0 0h24v24H0V0z\" fill=\"none\"/>\n",
              "    <path d=\"M18.56 5.44l.94 2.06.94-2.06 2.06-.94-2.06-.94-.94-2.06-.94 2.06-2.06.94zm-11 1L8.5 8.5l.94-2.06 2.06-.94-2.06-.94L8.5 2.5l-.94 2.06-2.06.94zm10 10l.94 2.06.94-2.06 2.06-.94-2.06-.94-.94-2.06-.94 2.06-2.06.94z\"/><path d=\"M17.41 7.96l-1.37-1.37c-.4-.4-.92-.59-1.43-.59-.52 0-1.04.2-1.43.59L10.3 9.45l-7.72 7.72c-.78.78-.78 2.05 0 2.83L4 21.41c.39.39.9.59 1.41.59.51 0 1.02-.2 1.41-.59l7.78-7.78 2.81-2.81c.8-.78.8-2.07 0-2.86zM5.41 20L4 18.59l7.72-7.72 1.47 1.35L5.41 20z\"/>\n",
              "  </svg>\n",
              "      </button>\n",
              "\n",
              "\n",
              "\n",
              "    <div id=\"df-5e8a60b5-5645-48c0-8c47-dd78b5580aed\">\n",
              "      <button class=\"colab-df-quickchart\" onclick=\"quickchart('df-5e8a60b5-5645-48c0-8c47-dd78b5580aed')\"\n",
              "              title=\"Suggest charts.\"\n",
              "              style=\"display:none;\">\n",
              "\n",
              "<svg xmlns=\"http://www.w3.org/2000/svg\" height=\"24px\"viewBox=\"0 0 24 24\"\n",
              "     width=\"24px\">\n",
              "    <g>\n",
              "        <path d=\"M19 3H5c-1.1 0-2 .9-2 2v14c0 1.1.9 2 2 2h14c1.1 0 2-.9 2-2V5c0-1.1-.9-2-2-2zM9 17H7v-7h2v7zm4 0h-2V7h2v10zm4 0h-2v-4h2v4z\"/>\n",
              "    </g>\n",
              "</svg>\n",
              "      </button>\n",
              "    </div>\n",
              "\n",
              "<style>\n",
              "  .colab-df-quickchart {\n",
              "    background-color: #E8F0FE;\n",
              "    border: none;\n",
              "    border-radius: 50%;\n",
              "    cursor: pointer;\n",
              "    display: none;\n",
              "    fill: #1967D2;\n",
              "    height: 32px;\n",
              "    padding: 0 0 0 0;\n",
              "    width: 32px;\n",
              "  }\n",
              "\n",
              "  .colab-df-quickchart:hover {\n",
              "    background-color: #E2EBFA;\n",
              "    box-shadow: 0px 1px 2px rgba(60, 64, 67, 0.3), 0px 1px 3px 1px rgba(60, 64, 67, 0.15);\n",
              "    fill: #174EA6;\n",
              "  }\n",
              "\n",
              "  [theme=dark] .colab-df-quickchart {\n",
              "    background-color: #3B4455;\n",
              "    fill: #D2E3FC;\n",
              "  }\n",
              "\n",
              "  [theme=dark] .colab-df-quickchart:hover {\n",
              "    background-color: #434B5C;\n",
              "    box-shadow: 0px 1px 3px 1px rgba(0, 0, 0, 0.15);\n",
              "    filter: drop-shadow(0px 1px 2px rgba(0, 0, 0, 0.3));\n",
              "    fill: #FFFFFF;\n",
              "  }\n",
              "</style>\n",
              "\n",
              "    <script>\n",
              "      async function quickchart(key) {\n",
              "        const containerElement = document.querySelector('#' + key);\n",
              "        const charts = await google.colab.kernel.invokeFunction(\n",
              "            'suggestCharts', [key], {});\n",
              "      }\n",
              "    </script>\n",
              "\n",
              "      <script>\n",
              "\n",
              "function displayQuickchartButton(domScope) {\n",
              "  let quickchartButtonEl =\n",
              "    domScope.querySelector('#df-5e8a60b5-5645-48c0-8c47-dd78b5580aed button.colab-df-quickchart');\n",
              "  quickchartButtonEl.style.display =\n",
              "    google.colab.kernel.accessAllowed ? 'block' : 'none';\n",
              "}\n",
              "\n",
              "        displayQuickchartButton(document);\n",
              "      </script>\n",
              "      <style>\n",
              "    .colab-df-container {\n",
              "      display:flex;\n",
              "      flex-wrap:wrap;\n",
              "      gap: 12px;\n",
              "    }\n",
              "\n",
              "    .colab-df-convert {\n",
              "      background-color: #E8F0FE;\n",
              "      border: none;\n",
              "      border-radius: 50%;\n",
              "      cursor: pointer;\n",
              "      display: none;\n",
              "      fill: #1967D2;\n",
              "      height: 32px;\n",
              "      padding: 0 0 0 0;\n",
              "      width: 32px;\n",
              "    }\n",
              "\n",
              "    .colab-df-convert:hover {\n",
              "      background-color: #E2EBFA;\n",
              "      box-shadow: 0px 1px 2px rgba(60, 64, 67, 0.3), 0px 1px 3px 1px rgba(60, 64, 67, 0.15);\n",
              "      fill: #174EA6;\n",
              "    }\n",
              "\n",
              "    [theme=dark] .colab-df-convert {\n",
              "      background-color: #3B4455;\n",
              "      fill: #D2E3FC;\n",
              "    }\n",
              "\n",
              "    [theme=dark] .colab-df-convert:hover {\n",
              "      background-color: #434B5C;\n",
              "      box-shadow: 0px 1px 3px 1px rgba(0, 0, 0, 0.15);\n",
              "      filter: drop-shadow(0px 1px 2px rgba(0, 0, 0, 0.3));\n",
              "      fill: #FFFFFF;\n",
              "    }\n",
              "  </style>\n",
              "\n",
              "      <script>\n",
              "        const buttonEl =\n",
              "          document.querySelector('#df-e3ac88fa-4ee8-4cfa-beab-81c7abfd8d55 button.colab-df-convert');\n",
              "        buttonEl.style.display =\n",
              "          google.colab.kernel.accessAllowed ? 'block' : 'none';\n",
              "\n",
              "        async function convertToInteractive(key) {\n",
              "          const element = document.querySelector('#df-e3ac88fa-4ee8-4cfa-beab-81c7abfd8d55');\n",
              "          const dataTable =\n",
              "            await google.colab.kernel.invokeFunction('convertToInteractive',\n",
              "                                                     [key], {});\n",
              "          if (!dataTable) return;\n",
              "\n",
              "          const docLinkHtml = 'Like what you see? Visit the ' +\n",
              "            '<a target=\"_blank\" href=https://colab.research.google.com/notebooks/data_table.ipynb>data table notebook</a>'\n",
              "            + ' to learn more about interactive tables.';\n",
              "          element.innerHTML = '';\n",
              "          dataTable['output_type'] = 'display_data';\n",
              "          await google.colab.output.renderOutput(dataTable, element);\n",
              "          const docLink = document.createElement('div');\n",
              "          docLink.innerHTML = docLinkHtml;\n",
              "          element.appendChild(docLink);\n",
              "        }\n",
              "      </script>\n",
              "    </div>\n",
              "  </div>\n"
            ]
          },
          "metadata": {},
          "execution_count": 10
        }
      ]
    },
    {
      "cell_type": "code",
      "source": [
        "# iterating the columns\n",
        "for col in dfwc_DNN_dow_temp.columns:\n",
        "    print(col)\n",
        "# This one has month, day of week, year, temperature, wind speed, num_trips"
      ],
      "metadata": {
        "colab": {
          "base_uri": "https://localhost:8080/"
        },
        "outputId": "a3f3e26a-8335-4d05-b8b3-54428f652fdf",
        "id": "WyMptV2bxftl"
      },
      "execution_count": 11,
      "outputs": [
        {
          "output_type": "stream",
          "name": "stdout",
          "text": [
            "Fri\n",
            "Mon\n",
            "Sat\n",
            "Sun\n",
            "Thur\n",
            "Tue\n",
            "Wed\n",
            "temperature\n",
            "scaledCollisions\n"
          ]
        }
      ]
    },
    {
      "cell_type": "code",
      "metadata": {
        "id": "XIIxy69zxftl"
      },
      "source": [
        "dnn_dow_temp_input_data = [dfwc_DNN_dow_temp[\"temperature\"],\n",
        "                  dfwc_DNN_dow_temp[\"Sat\"], dfwc_DNN_dow_temp[\"Sun\"], dfwc_DNN_dow_temp[\"Mon\"], dfwc_DNN_dow_temp[\"Tue\"], dfwc_DNN_mm_day_yr_temp_wind[\"Wed\"], dfwc_DNN_dow_temp[\"Thur\"], dfwc_DNN_dow_temp[\"Fri\"],\n",
        "                  dfwc_DNN_dow_temp[\"scaledCollisions\"]]\n",
        "headers2 = [\"temperature\", \"Sat\",\"Sun\",\"Mon\",\"Tue\",\"Wed\",\"Thur\",\"Fri\",\n",
        "           \"scaledCollisions\"]\n",
        "dnn_dow_temp_input = pd.concat(dnn_dow_temp_input_data, axis=1, keys=headers2)\n"
      ],
      "execution_count": 12,
      "outputs": []
    },
    {
      "cell_type": "code",
      "source": [
        "dnn_dow_temp_input.head()"
      ],
      "metadata": {
        "colab": {
          "base_uri": "https://localhost:8080/",
          "height": 206
        },
        "outputId": "6727e6db-f834-4b37-dd0e-bdbe2d48c504",
        "id": "xwE-VZvPxftl"
      },
      "execution_count": 13,
      "outputs": [
        {
          "output_type": "execute_result",
          "data": {
            "text/plain": [
              "     temperature  Sat  Sun  Mon  Tue  Wed  Thur  Fri  scaledCollisions\n",
              "509         20.8    0    0    0    1    0     0    0          0.686486\n",
              "291         14.1    1    0    0    0    0     0    0          0.823529\n",
              "319          2.6    1    0    0    0    0     0    0          0.392157\n",
              "260         20.4    0    0    0    1    0     0    0          0.549020\n",
              "303         11.3    0    0    0    0    0     1    0          0.529412"
            ],
            "text/html": [
              "\n",
              "\n",
              "  <div id=\"df-808aed01-b3be-4126-ada8-f5384720f507\">\n",
              "    <div class=\"colab-df-container\">\n",
              "      <div>\n",
              "<style scoped>\n",
              "    .dataframe tbody tr th:only-of-type {\n",
              "        vertical-align: middle;\n",
              "    }\n",
              "\n",
              "    .dataframe tbody tr th {\n",
              "        vertical-align: top;\n",
              "    }\n",
              "\n",
              "    .dataframe thead th {\n",
              "        text-align: right;\n",
              "    }\n",
              "</style>\n",
              "<table border=\"1\" class=\"dataframe\">\n",
              "  <thead>\n",
              "    <tr style=\"text-align: right;\">\n",
              "      <th></th>\n",
              "      <th>temperature</th>\n",
              "      <th>Sat</th>\n",
              "      <th>Sun</th>\n",
              "      <th>Mon</th>\n",
              "      <th>Tue</th>\n",
              "      <th>Wed</th>\n",
              "      <th>Thur</th>\n",
              "      <th>Fri</th>\n",
              "      <th>scaledCollisions</th>\n",
              "    </tr>\n",
              "  </thead>\n",
              "  <tbody>\n",
              "    <tr>\n",
              "      <th>509</th>\n",
              "      <td>20.8</td>\n",
              "      <td>0</td>\n",
              "      <td>0</td>\n",
              "      <td>0</td>\n",
              "      <td>1</td>\n",
              "      <td>0</td>\n",
              "      <td>0</td>\n",
              "      <td>0</td>\n",
              "      <td>0.686486</td>\n",
              "    </tr>\n",
              "    <tr>\n",
              "      <th>291</th>\n",
              "      <td>14.1</td>\n",
              "      <td>1</td>\n",
              "      <td>0</td>\n",
              "      <td>0</td>\n",
              "      <td>0</td>\n",
              "      <td>0</td>\n",
              "      <td>0</td>\n",
              "      <td>0</td>\n",
              "      <td>0.823529</td>\n",
              "    </tr>\n",
              "    <tr>\n",
              "      <th>319</th>\n",
              "      <td>2.6</td>\n",
              "      <td>1</td>\n",
              "      <td>0</td>\n",
              "      <td>0</td>\n",
              "      <td>0</td>\n",
              "      <td>0</td>\n",
              "      <td>0</td>\n",
              "      <td>0</td>\n",
              "      <td>0.392157</td>\n",
              "    </tr>\n",
              "    <tr>\n",
              "      <th>260</th>\n",
              "      <td>20.4</td>\n",
              "      <td>0</td>\n",
              "      <td>0</td>\n",
              "      <td>0</td>\n",
              "      <td>1</td>\n",
              "      <td>0</td>\n",
              "      <td>0</td>\n",
              "      <td>0</td>\n",
              "      <td>0.549020</td>\n",
              "    </tr>\n",
              "    <tr>\n",
              "      <th>303</th>\n",
              "      <td>11.3</td>\n",
              "      <td>0</td>\n",
              "      <td>0</td>\n",
              "      <td>0</td>\n",
              "      <td>0</td>\n",
              "      <td>0</td>\n",
              "      <td>1</td>\n",
              "      <td>0</td>\n",
              "      <td>0.529412</td>\n",
              "    </tr>\n",
              "  </tbody>\n",
              "</table>\n",
              "</div>\n",
              "      <button class=\"colab-df-convert\" onclick=\"convertToInteractive('df-808aed01-b3be-4126-ada8-f5384720f507')\"\n",
              "              title=\"Convert this dataframe to an interactive table.\"\n",
              "              style=\"display:none;\">\n",
              "\n",
              "  <svg xmlns=\"http://www.w3.org/2000/svg\" height=\"24px\"viewBox=\"0 0 24 24\"\n",
              "       width=\"24px\">\n",
              "    <path d=\"M0 0h24v24H0V0z\" fill=\"none\"/>\n",
              "    <path d=\"M18.56 5.44l.94 2.06.94-2.06 2.06-.94-2.06-.94-.94-2.06-.94 2.06-2.06.94zm-11 1L8.5 8.5l.94-2.06 2.06-.94-2.06-.94L8.5 2.5l-.94 2.06-2.06.94zm10 10l.94 2.06.94-2.06 2.06-.94-2.06-.94-.94-2.06-.94 2.06-2.06.94z\"/><path d=\"M17.41 7.96l-1.37-1.37c-.4-.4-.92-.59-1.43-.59-.52 0-1.04.2-1.43.59L10.3 9.45l-7.72 7.72c-.78.78-.78 2.05 0 2.83L4 21.41c.39.39.9.59 1.41.59.51 0 1.02-.2 1.41-.59l7.78-7.78 2.81-2.81c.8-.78.8-2.07 0-2.86zM5.41 20L4 18.59l7.72-7.72 1.47 1.35L5.41 20z\"/>\n",
              "  </svg>\n",
              "      </button>\n",
              "\n",
              "\n",
              "\n",
              "    <div id=\"df-f5dc31d2-3ec6-480e-93f3-456254cc3ba1\">\n",
              "      <button class=\"colab-df-quickchart\" onclick=\"quickchart('df-f5dc31d2-3ec6-480e-93f3-456254cc3ba1')\"\n",
              "              title=\"Suggest charts.\"\n",
              "              style=\"display:none;\">\n",
              "\n",
              "<svg xmlns=\"http://www.w3.org/2000/svg\" height=\"24px\"viewBox=\"0 0 24 24\"\n",
              "     width=\"24px\">\n",
              "    <g>\n",
              "        <path d=\"M19 3H5c-1.1 0-2 .9-2 2v14c0 1.1.9 2 2 2h14c1.1 0 2-.9 2-2V5c0-1.1-.9-2-2-2zM9 17H7v-7h2v7zm4 0h-2V7h2v10zm4 0h-2v-4h2v4z\"/>\n",
              "    </g>\n",
              "</svg>\n",
              "      </button>\n",
              "    </div>\n",
              "\n",
              "<style>\n",
              "  .colab-df-quickchart {\n",
              "    background-color: #E8F0FE;\n",
              "    border: none;\n",
              "    border-radius: 50%;\n",
              "    cursor: pointer;\n",
              "    display: none;\n",
              "    fill: #1967D2;\n",
              "    height: 32px;\n",
              "    padding: 0 0 0 0;\n",
              "    width: 32px;\n",
              "  }\n",
              "\n",
              "  .colab-df-quickchart:hover {\n",
              "    background-color: #E2EBFA;\n",
              "    box-shadow: 0px 1px 2px rgba(60, 64, 67, 0.3), 0px 1px 3px 1px rgba(60, 64, 67, 0.15);\n",
              "    fill: #174EA6;\n",
              "  }\n",
              "\n",
              "  [theme=dark] .colab-df-quickchart {\n",
              "    background-color: #3B4455;\n",
              "    fill: #D2E3FC;\n",
              "  }\n",
              "\n",
              "  [theme=dark] .colab-df-quickchart:hover {\n",
              "    background-color: #434B5C;\n",
              "    box-shadow: 0px 1px 3px 1px rgba(0, 0, 0, 0.15);\n",
              "    filter: drop-shadow(0px 1px 2px rgba(0, 0, 0, 0.3));\n",
              "    fill: #FFFFFF;\n",
              "  }\n",
              "</style>\n",
              "\n",
              "    <script>\n",
              "      async function quickchart(key) {\n",
              "        const containerElement = document.querySelector('#' + key);\n",
              "        const charts = await google.colab.kernel.invokeFunction(\n",
              "            'suggestCharts', [key], {});\n",
              "      }\n",
              "    </script>\n",
              "\n",
              "      <script>\n",
              "\n",
              "function displayQuickchartButton(domScope) {\n",
              "  let quickchartButtonEl =\n",
              "    domScope.querySelector('#df-f5dc31d2-3ec6-480e-93f3-456254cc3ba1 button.colab-df-quickchart');\n",
              "  quickchartButtonEl.style.display =\n",
              "    google.colab.kernel.accessAllowed ? 'block' : 'none';\n",
              "}\n",
              "\n",
              "        displayQuickchartButton(document);\n",
              "      </script>\n",
              "      <style>\n",
              "    .colab-df-container {\n",
              "      display:flex;\n",
              "      flex-wrap:wrap;\n",
              "      gap: 12px;\n",
              "    }\n",
              "\n",
              "    .colab-df-convert {\n",
              "      background-color: #E8F0FE;\n",
              "      border: none;\n",
              "      border-radius: 50%;\n",
              "      cursor: pointer;\n",
              "      display: none;\n",
              "      fill: #1967D2;\n",
              "      height: 32px;\n",
              "      padding: 0 0 0 0;\n",
              "      width: 32px;\n",
              "    }\n",
              "\n",
              "    .colab-df-convert:hover {\n",
              "      background-color: #E2EBFA;\n",
              "      box-shadow: 0px 1px 2px rgba(60, 64, 67, 0.3), 0px 1px 3px 1px rgba(60, 64, 67, 0.15);\n",
              "      fill: #174EA6;\n",
              "    }\n",
              "\n",
              "    [theme=dark] .colab-df-convert {\n",
              "      background-color: #3B4455;\n",
              "      fill: #D2E3FC;\n",
              "    }\n",
              "\n",
              "    [theme=dark] .colab-df-convert:hover {\n",
              "      background-color: #434B5C;\n",
              "      box-shadow: 0px 1px 3px 1px rgba(0, 0, 0, 0.15);\n",
              "      filter: drop-shadow(0px 1px 2px rgba(0, 0, 0, 0.3));\n",
              "      fill: #FFFFFF;\n",
              "    }\n",
              "  </style>\n",
              "\n",
              "      <script>\n",
              "        const buttonEl =\n",
              "          document.querySelector('#df-808aed01-b3be-4126-ada8-f5384720f507 button.colab-df-convert');\n",
              "        buttonEl.style.display =\n",
              "          google.colab.kernel.accessAllowed ? 'block' : 'none';\n",
              "\n",
              "        async function convertToInteractive(key) {\n",
              "          const element = document.querySelector('#df-808aed01-b3be-4126-ada8-f5384720f507');\n",
              "          const dataTable =\n",
              "            await google.colab.kernel.invokeFunction('convertToInteractive',\n",
              "                                                     [key], {});\n",
              "          if (!dataTable) return;\n",
              "\n",
              "          const docLinkHtml = 'Like what you see? Visit the ' +\n",
              "            '<a target=\"_blank\" href=https://colab.research.google.com/notebooks/data_table.ipynb>data table notebook</a>'\n",
              "            + ' to learn more about interactive tables.';\n",
              "          element.innerHTML = '';\n",
              "          dataTable['output_type'] = 'display_data';\n",
              "          await google.colab.output.renderOutput(dataTable, element);\n",
              "          const docLink = document.createElement('div');\n",
              "          docLink.innerHTML = docLinkHtml;\n",
              "          element.appendChild(docLink);\n",
              "        }\n",
              "      </script>\n",
              "    </div>\n",
              "  </div>\n"
            ]
          },
          "metadata": {},
          "execution_count": 13
        }
      ]
    },
    {
      "cell_type": "markdown",
      "source": [
        "### Training and test datasets"
      ],
      "metadata": {
        "id": "aWzaqdqKxftl"
      }
    },
    {
      "cell_type": "code",
      "metadata": {
        "id": "QCC8Ax67xftl"
      },
      "source": [
        "training_dataset2 = dnn_dow_temp_input.sample(frac=0.8, random_state=0)\n",
        "test_dataset2 = dnn_dow_temp_input.drop(training_dataset2.index)"
      ],
      "execution_count": 14,
      "outputs": []
    },
    {
      "cell_type": "code",
      "source": [
        "training_features2 = training_dataset2.copy()\n",
        "test_features2 = test_dataset2.copy()\n",
        "\n",
        "training_labels2 = training_features2.pop('scaledCollisions')\n",
        "test_labels2 = test_features2.pop('scaledCollisions')"
      ],
      "metadata": {
        "id": "re94nYK4xftm"
      },
      "execution_count": 15,
      "outputs": []
    },
    {
      "cell_type": "code",
      "source": [
        "# A scale is not required here, but the constant will be useful in the assignment.\n",
        "SCALE_NUM_COLLISIONS = 1.0"
      ],
      "metadata": {
        "id": "Oh8mjzCaxftm"
      },
      "execution_count": 16,
      "outputs": []
    },
    {
      "cell_type": "code",
      "source": [
        "training_labels2 = training_labels2/SCALE_NUM_COLLISIONS\n",
        "test_labels2 = test_labels2/SCALE_NUM_COLLISIONS"
      ],
      "metadata": {
        "id": "vcyg9u28xftm"
      },
      "execution_count": 17,
      "outputs": []
    },
    {
      "cell_type": "code",
      "source": [
        "for col in dnn_dow_temp_input.columns:\n",
        "    print(col)\n",
        "# 22 excluding scaled collisions"
      ],
      "metadata": {
        "colab": {
          "base_uri": "https://localhost:8080/"
        },
        "outputId": "ab251d8f-047b-46fa-ab8b-234fbdeaec01",
        "id": "h15frkvtxftm"
      },
      "execution_count": 18,
      "outputs": [
        {
          "output_type": "stream",
          "name": "stdout",
          "text": [
            "temperature\n",
            "Sat\n",
            "Sun\n",
            "Mon\n",
            "Tue\n",
            "Wed\n",
            "Thur\n",
            "Fri\n",
            "scaledCollisions\n"
          ]
        }
      ]
    },
    {
      "cell_type": "markdown",
      "source": [
        "## Model specification"
      ],
      "metadata": {
        "id": "mvWddEBSIe_r"
      }
    },
    {
      "cell_type": "code",
      "source": [
        "normaliser2 = tf.keras.layers.Normalization(axis=-1)\n",
        "normaliser2.adapt(np.array(training_features2))"
      ],
      "metadata": {
        "id": "IjQ1Fmzaxftm"
      },
      "execution_count": 19,
      "outputs": []
    },
    {
      "cell_type": "code",
      "source": [
        "# Normalisation layer (22 inputs), 2 layers of 48, with 1 output.\n",
        "# The 48 can be adjusted to improve the net.\n",
        "# Activation function captures non linearities\n",
        "dnn_model_2 = keras.Sequential([\n",
        "      normaliser2,\n",
        "      layers.Dense(48, activation='relu'),\n",
        "      layers.Dense(48, activation='relu'),\n",
        "      layers.Dense(1)\n",
        "  ])\n"
      ],
      "metadata": {
        "id": "wstsRc1axftm"
      },
      "execution_count": 20,
      "outputs": []
    },
    {
      "cell_type": "markdown",
      "source": [
        "## Compile the model"
      ],
      "metadata": {
        "id": "0n7-BQEsNi6_"
      }
    },
    {
      "cell_type": "code",
      "source": [
        "# Specify the optimizer and the loss function\n",
        "dnn_model_2.compile(loss='mean_absolute_error',\n",
        "                optimizer=tf.keras.optimizers.Adam(0.001))"
      ],
      "metadata": {
        "id": "5Ax44wDHNlj_"
      },
      "execution_count": 21,
      "outputs": []
    },
    {
      "cell_type": "code",
      "source": [
        "# Print out the statistics - the model's architecture, shape and number of parameters associated with each layer.\n",
        "dnn_model_2.summary()"
      ],
      "metadata": {
        "colab": {
          "base_uri": "https://localhost:8080/"
        },
        "id": "_7kV5W32vHMC",
        "outputId": "3a70244b-5fae-469f-9796-e5b84438c32e"
      },
      "execution_count": 22,
      "outputs": [
        {
          "output_type": "stream",
          "name": "stdout",
          "text": [
            "Model: \"sequential\"\n",
            "_________________________________________________________________\n",
            " Layer (type)                Output Shape              Param #   \n",
            "=================================================================\n",
            " normalization (Normalizatio  (None, 8)                17        \n",
            " n)                                                              \n",
            "                                                                 \n",
            " dense (Dense)               (None, 48)                432       \n",
            "                                                                 \n",
            " dense_1 (Dense)             (None, 48)                2352      \n",
            "                                                                 \n",
            " dense_2 (Dense)             (None, 1)                 49        \n",
            "                                                                 \n",
            "=================================================================\n",
            "Total params: 2,850\n",
            "Trainable params: 2,833\n",
            "Non-trainable params: 17\n",
            "_________________________________________________________________\n"
          ]
        }
      ]
    },
    {
      "cell_type": "markdown",
      "source": [
        "Non-trainable parameters shows the number of weights that are not updated during training with backpropagation."
      ],
      "metadata": {
        "id": "KTJd8ILnfCiC"
      }
    },
    {
      "cell_type": "markdown",
      "source": [
        "## Train the model"
      ],
      "metadata": {
        "id": "Hjp3PPZ5SEyi"
      }
    },
    {
      "cell_type": "code",
      "source": [
        "#Fit the model. This applies backpropagation and gradient descent with the training data to update the weights.\n",
        "# The fit step specifies what percentage of the data is to be used for validation (validation_split).\n",
        "%%time\n",
        "history2 = dnn_model_2.fit(\n",
        "    training_features2,\n",
        "    training_labels2,\n",
        "    validation_split=0.2,\n",
        "    verbose=0,\n",
        "    epochs=100)"
      ],
      "metadata": {
        "outputId": "e02aa1c7-9136-4b2c-c1e1-d38d6bce53ca",
        "colab": {
          "base_uri": "https://localhost:8080/"
        },
        "id": "55IRFQaXxftn"
      },
      "execution_count": 23,
      "outputs": [
        {
          "output_type": "stream",
          "name": "stdout",
          "text": [
            "CPU times: user 9.95 s, sys: 356 ms, total: 10.3 s\n",
            "Wall time: 23.9 s\n"
          ]
        }
      ]
    },
    {
      "cell_type": "code",
      "source": [
        "#history2.history"
      ],
      "metadata": {
        "id": "RG2F_wBgSvXm"
      },
      "execution_count": 24,
      "outputs": []
    },
    {
      "cell_type": "markdown",
      "source": [
        "As the data was shuffled, there is a good variety of temeratures and days of the week."
      ],
      "metadata": {
        "id": "lKUGm2d5gPhc"
      }
    },
    {
      "cell_type": "code",
      "source": [
        "# View the validation data\n",
        "test_features2[:10]"
      ],
      "metadata": {
        "colab": {
          "base_uri": "https://localhost:8080/",
          "height": 363
        },
        "id": "oZTgFo8caJbZ",
        "outputId": "eaa53580-be69-48ff-f46e-8a156589b864"
      },
      "execution_count": 25,
      "outputs": [
        {
          "output_type": "execute_result",
          "data": {
            "text/plain": [
              "     temperature  Sat  Sun  Mon  Tue  Wed  Thur  Fri\n",
              "191         25.9    0    0    0    1    0     0    0\n",
              "137         26.7    0    1    0    0    0     0    0\n",
              "79          10.3    0    0    1    0    0     0    0\n",
              "227         28.8    0    0    0    0    0     1    0\n",
              "711         15.1    0    0    0    0    1     0    0\n",
              "50          -1.3    0    1    0    0    0     0    0\n",
              "601         21.1    0    0    0    0    0     1    0\n",
              "510         22.7    0    0    0    0    1     0    0\n",
              "750          5.8    0    1    0    0    0     0    0\n",
              "673          9.1    1    0    0    0    0     0    0"
            ],
            "text/html": [
              "\n",
              "\n",
              "  <div id=\"df-e9afb65e-c851-441e-9c50-0d50b2959e44\">\n",
              "    <div class=\"colab-df-container\">\n",
              "      <div>\n",
              "<style scoped>\n",
              "    .dataframe tbody tr th:only-of-type {\n",
              "        vertical-align: middle;\n",
              "    }\n",
              "\n",
              "    .dataframe tbody tr th {\n",
              "        vertical-align: top;\n",
              "    }\n",
              "\n",
              "    .dataframe thead th {\n",
              "        text-align: right;\n",
              "    }\n",
              "</style>\n",
              "<table border=\"1\" class=\"dataframe\">\n",
              "  <thead>\n",
              "    <tr style=\"text-align: right;\">\n",
              "      <th></th>\n",
              "      <th>temperature</th>\n",
              "      <th>Sat</th>\n",
              "      <th>Sun</th>\n",
              "      <th>Mon</th>\n",
              "      <th>Tue</th>\n",
              "      <th>Wed</th>\n",
              "      <th>Thur</th>\n",
              "      <th>Fri</th>\n",
              "    </tr>\n",
              "  </thead>\n",
              "  <tbody>\n",
              "    <tr>\n",
              "      <th>191</th>\n",
              "      <td>25.9</td>\n",
              "      <td>0</td>\n",
              "      <td>0</td>\n",
              "      <td>0</td>\n",
              "      <td>1</td>\n",
              "      <td>0</td>\n",
              "      <td>0</td>\n",
              "      <td>0</td>\n",
              "    </tr>\n",
              "    <tr>\n",
              "      <th>137</th>\n",
              "      <td>26.7</td>\n",
              "      <td>0</td>\n",
              "      <td>1</td>\n",
              "      <td>0</td>\n",
              "      <td>0</td>\n",
              "      <td>0</td>\n",
              "      <td>0</td>\n",
              "      <td>0</td>\n",
              "    </tr>\n",
              "    <tr>\n",
              "      <th>79</th>\n",
              "      <td>10.3</td>\n",
              "      <td>0</td>\n",
              "      <td>0</td>\n",
              "      <td>1</td>\n",
              "      <td>0</td>\n",
              "      <td>0</td>\n",
              "      <td>0</td>\n",
              "      <td>0</td>\n",
              "    </tr>\n",
              "    <tr>\n",
              "      <th>227</th>\n",
              "      <td>28.8</td>\n",
              "      <td>0</td>\n",
              "      <td>0</td>\n",
              "      <td>0</td>\n",
              "      <td>0</td>\n",
              "      <td>0</td>\n",
              "      <td>1</td>\n",
              "      <td>0</td>\n",
              "    </tr>\n",
              "    <tr>\n",
              "      <th>711</th>\n",
              "      <td>15.1</td>\n",
              "      <td>0</td>\n",
              "      <td>0</td>\n",
              "      <td>0</td>\n",
              "      <td>0</td>\n",
              "      <td>1</td>\n",
              "      <td>0</td>\n",
              "      <td>0</td>\n",
              "    </tr>\n",
              "    <tr>\n",
              "      <th>50</th>\n",
              "      <td>-1.3</td>\n",
              "      <td>0</td>\n",
              "      <td>1</td>\n",
              "      <td>0</td>\n",
              "      <td>0</td>\n",
              "      <td>0</td>\n",
              "      <td>0</td>\n",
              "      <td>0</td>\n",
              "    </tr>\n",
              "    <tr>\n",
              "      <th>601</th>\n",
              "      <td>21.1</td>\n",
              "      <td>0</td>\n",
              "      <td>0</td>\n",
              "      <td>0</td>\n",
              "      <td>0</td>\n",
              "      <td>0</td>\n",
              "      <td>1</td>\n",
              "      <td>0</td>\n",
              "    </tr>\n",
              "    <tr>\n",
              "      <th>510</th>\n",
              "      <td>22.7</td>\n",
              "      <td>0</td>\n",
              "      <td>0</td>\n",
              "      <td>0</td>\n",
              "      <td>0</td>\n",
              "      <td>1</td>\n",
              "      <td>0</td>\n",
              "      <td>0</td>\n",
              "    </tr>\n",
              "    <tr>\n",
              "      <th>750</th>\n",
              "      <td>5.8</td>\n",
              "      <td>0</td>\n",
              "      <td>1</td>\n",
              "      <td>0</td>\n",
              "      <td>0</td>\n",
              "      <td>0</td>\n",
              "      <td>0</td>\n",
              "      <td>0</td>\n",
              "    </tr>\n",
              "    <tr>\n",
              "      <th>673</th>\n",
              "      <td>9.1</td>\n",
              "      <td>1</td>\n",
              "      <td>0</td>\n",
              "      <td>0</td>\n",
              "      <td>0</td>\n",
              "      <td>0</td>\n",
              "      <td>0</td>\n",
              "      <td>0</td>\n",
              "    </tr>\n",
              "  </tbody>\n",
              "</table>\n",
              "</div>\n",
              "      <button class=\"colab-df-convert\" onclick=\"convertToInteractive('df-e9afb65e-c851-441e-9c50-0d50b2959e44')\"\n",
              "              title=\"Convert this dataframe to an interactive table.\"\n",
              "              style=\"display:none;\">\n",
              "\n",
              "  <svg xmlns=\"http://www.w3.org/2000/svg\" height=\"24px\"viewBox=\"0 0 24 24\"\n",
              "       width=\"24px\">\n",
              "    <path d=\"M0 0h24v24H0V0z\" fill=\"none\"/>\n",
              "    <path d=\"M18.56 5.44l.94 2.06.94-2.06 2.06-.94-2.06-.94-.94-2.06-.94 2.06-2.06.94zm-11 1L8.5 8.5l.94-2.06 2.06-.94-2.06-.94L8.5 2.5l-.94 2.06-2.06.94zm10 10l.94 2.06.94-2.06 2.06-.94-2.06-.94-.94-2.06-.94 2.06-2.06.94z\"/><path d=\"M17.41 7.96l-1.37-1.37c-.4-.4-.92-.59-1.43-.59-.52 0-1.04.2-1.43.59L10.3 9.45l-7.72 7.72c-.78.78-.78 2.05 0 2.83L4 21.41c.39.39.9.59 1.41.59.51 0 1.02-.2 1.41-.59l7.78-7.78 2.81-2.81c.8-.78.8-2.07 0-2.86zM5.41 20L4 18.59l7.72-7.72 1.47 1.35L5.41 20z\"/>\n",
              "  </svg>\n",
              "      </button>\n",
              "\n",
              "\n",
              "\n",
              "    <div id=\"df-075febfa-a6fa-4f7f-ae5d-e05aa3424d9b\">\n",
              "      <button class=\"colab-df-quickchart\" onclick=\"quickchart('df-075febfa-a6fa-4f7f-ae5d-e05aa3424d9b')\"\n",
              "              title=\"Suggest charts.\"\n",
              "              style=\"display:none;\">\n",
              "\n",
              "<svg xmlns=\"http://www.w3.org/2000/svg\" height=\"24px\"viewBox=\"0 0 24 24\"\n",
              "     width=\"24px\">\n",
              "    <g>\n",
              "        <path d=\"M19 3H5c-1.1 0-2 .9-2 2v14c0 1.1.9 2 2 2h14c1.1 0 2-.9 2-2V5c0-1.1-.9-2-2-2zM9 17H7v-7h2v7zm4 0h-2V7h2v10zm4 0h-2v-4h2v4z\"/>\n",
              "    </g>\n",
              "</svg>\n",
              "      </button>\n",
              "    </div>\n",
              "\n",
              "<style>\n",
              "  .colab-df-quickchart {\n",
              "    background-color: #E8F0FE;\n",
              "    border: none;\n",
              "    border-radius: 50%;\n",
              "    cursor: pointer;\n",
              "    display: none;\n",
              "    fill: #1967D2;\n",
              "    height: 32px;\n",
              "    padding: 0 0 0 0;\n",
              "    width: 32px;\n",
              "  }\n",
              "\n",
              "  .colab-df-quickchart:hover {\n",
              "    background-color: #E2EBFA;\n",
              "    box-shadow: 0px 1px 2px rgba(60, 64, 67, 0.3), 0px 1px 3px 1px rgba(60, 64, 67, 0.15);\n",
              "    fill: #174EA6;\n",
              "  }\n",
              "\n",
              "  [theme=dark] .colab-df-quickchart {\n",
              "    background-color: #3B4455;\n",
              "    fill: #D2E3FC;\n",
              "  }\n",
              "\n",
              "  [theme=dark] .colab-df-quickchart:hover {\n",
              "    background-color: #434B5C;\n",
              "    box-shadow: 0px 1px 3px 1px rgba(0, 0, 0, 0.15);\n",
              "    filter: drop-shadow(0px 1px 2px rgba(0, 0, 0, 0.3));\n",
              "    fill: #FFFFFF;\n",
              "  }\n",
              "</style>\n",
              "\n",
              "    <script>\n",
              "      async function quickchart(key) {\n",
              "        const containerElement = document.querySelector('#' + key);\n",
              "        const charts = await google.colab.kernel.invokeFunction(\n",
              "            'suggestCharts', [key], {});\n",
              "      }\n",
              "    </script>\n",
              "\n",
              "      <script>\n",
              "\n",
              "function displayQuickchartButton(domScope) {\n",
              "  let quickchartButtonEl =\n",
              "    domScope.querySelector('#df-075febfa-a6fa-4f7f-ae5d-e05aa3424d9b button.colab-df-quickchart');\n",
              "  quickchartButtonEl.style.display =\n",
              "    google.colab.kernel.accessAllowed ? 'block' : 'none';\n",
              "}\n",
              "\n",
              "        displayQuickchartButton(document);\n",
              "      </script>\n",
              "      <style>\n",
              "    .colab-df-container {\n",
              "      display:flex;\n",
              "      flex-wrap:wrap;\n",
              "      gap: 12px;\n",
              "    }\n",
              "\n",
              "    .colab-df-convert {\n",
              "      background-color: #E8F0FE;\n",
              "      border: none;\n",
              "      border-radius: 50%;\n",
              "      cursor: pointer;\n",
              "      display: none;\n",
              "      fill: #1967D2;\n",
              "      height: 32px;\n",
              "      padding: 0 0 0 0;\n",
              "      width: 32px;\n",
              "    }\n",
              "\n",
              "    .colab-df-convert:hover {\n",
              "      background-color: #E2EBFA;\n",
              "      box-shadow: 0px 1px 2px rgba(60, 64, 67, 0.3), 0px 1px 3px 1px rgba(60, 64, 67, 0.15);\n",
              "      fill: #174EA6;\n",
              "    }\n",
              "\n",
              "    [theme=dark] .colab-df-convert {\n",
              "      background-color: #3B4455;\n",
              "      fill: #D2E3FC;\n",
              "    }\n",
              "\n",
              "    [theme=dark] .colab-df-convert:hover {\n",
              "      background-color: #434B5C;\n",
              "      box-shadow: 0px 1px 3px 1px rgba(0, 0, 0, 0.15);\n",
              "      filter: drop-shadow(0px 1px 2px rgba(0, 0, 0, 0.3));\n",
              "      fill: #FFFFFF;\n",
              "    }\n",
              "  </style>\n",
              "\n",
              "      <script>\n",
              "        const buttonEl =\n",
              "          document.querySelector('#df-e9afb65e-c851-441e-9c50-0d50b2959e44 button.colab-df-convert');\n",
              "        buttonEl.style.display =\n",
              "          google.colab.kernel.accessAllowed ? 'block' : 'none';\n",
              "\n",
              "        async function convertToInteractive(key) {\n",
              "          const element = document.querySelector('#df-e9afb65e-c851-441e-9c50-0d50b2959e44');\n",
              "          const dataTable =\n",
              "            await google.colab.kernel.invokeFunction('convertToInteractive',\n",
              "                                                     [key], {});\n",
              "          if (!dataTable) return;\n",
              "\n",
              "          const docLinkHtml = 'Like what you see? Visit the ' +\n",
              "            '<a target=\"_blank\" href=https://colab.research.google.com/notebooks/data_table.ipynb>data table notebook</a>'\n",
              "            + ' to learn more about interactive tables.';\n",
              "          element.innerHTML = '';\n",
              "          dataTable['output_type'] = 'display_data';\n",
              "          await google.colab.output.renderOutput(dataTable, element);\n",
              "          const docLink = document.createElement('div');\n",
              "          docLink.innerHTML = docLinkHtml;\n",
              "          element.appendChild(docLink);\n",
              "        }\n",
              "      </script>\n",
              "    </div>\n",
              "  </div>\n"
            ]
          },
          "metadata": {},
          "execution_count": 25
        }
      ]
    },
    {
      "cell_type": "markdown",
      "source": [
        "## Evaluate model 2 on the test data (0.12997516989707947)\n"
      ],
      "metadata": {
        "id": "sPcEkUNjXf4z"
      }
    },
    {
      "cell_type": "code",
      "source": [
        "# we want to minimise this. The model with the lowest is the best.\n",
        "dnn_model_2_results = dnn_model_2.evaluate(test_features2, test_labels2, verbose=1)\n",
        "print(dnn_model_2_results)"
      ],
      "metadata": {
        "outputId": "8e7759de-4e56-4a1f-eb2f-6e45cc41ef7d",
        "colab": {
          "base_uri": "https://localhost:8080/"
        },
        "id": "019--7fexftn"
      },
      "execution_count": 26,
      "outputs": [
        {
          "output_type": "stream",
          "name": "stdout",
          "text": [
            "6/6 [==============================] - 0s 2ms/step - loss: 0.1517\n",
            "0.15173247456550598\n"
          ]
        }
      ]
    },
    {
      "cell_type": "markdown",
      "source": [
        "## Validation - Make predictions based on the validation data"
      ],
      "metadata": {
        "id": "M-MfO9SkygJ6"
      }
    },
    {
      "cell_type": "code",
      "source": [
        "# Make the predictions by the model on tHE TEST data\n",
        "print(\"Generate predictions for 10 samples\")\n",
        "linear_day_predictions2TD = dnn_model_2.predict(test_features2[:10])*SCALE_NUM_COLLISIONS\n",
        "linear_day_predictions2TD\n",
        "#print(\"predictions shape:\", linear_day_predictions2TD.shape)"
      ],
      "metadata": {
        "colab": {
          "base_uri": "https://localhost:8080/"
        },
        "id": "3iBXg0tvynR5",
        "outputId": "79798b03-3c2f-4d32-d36c-1a0d802f7d8a"
      },
      "execution_count": 27,
      "outputs": [
        {
          "output_type": "stream",
          "name": "stdout",
          "text": [
            "Generate predictions for 10 samples\n",
            "1/1 [==============================] - 0s 109ms/step\n"
          ]
        },
        {
          "output_type": "execute_result",
          "data": {
            "text/plain": [
              "array([[0.65886   ],\n",
              "       [0.5589233 ],\n",
              "       [0.5549419 ],\n",
              "       [0.6305053 ],\n",
              "       [0.66793513],\n",
              "       [0.26453573],\n",
              "       [0.6751214 ],\n",
              "       [0.7055102 ],\n",
              "       [0.3518297 ],\n",
              "       [0.59717685]], dtype=float32)"
            ]
          },
          "metadata": {},
          "execution_count": 27
        }
      ]
    },
    {
      "cell_type": "markdown",
      "source": [
        "The above shows the scaled collision values for the validation data."
      ],
      "metadata": {
        "id": "6dBwQnJnhd_5"
      }
    },
    {
      "cell_type": "code",
      "source": [
        "# Make the predictions by the model on the TEST DATA data and convert based on scaledCollisions for 2022\n",
        "linear_day_predictions2TDConverted = np.round(dnn_model_2.predict(test_features2[:10])*a22 +b22)\n",
        "#*a22 +b22 is is to convert scaled collisions based on the values for 2022\n",
        "linear_day_predictions2TDConverted"
      ],
      "metadata": {
        "colab": {
          "base_uri": "https://localhost:8080/"
        },
        "id": "jKbrgWHhzfjN",
        "outputId": "1e9c3164-ace7-4df7-d2f4-1fe6aaf8d25b"
      },
      "execution_count": 28,
      "outputs": [
        {
          "output_type": "stream",
          "name": "stdout",
          "text": [
            "1/1 [==============================] - 0s 32ms/step\n"
          ]
        },
        {
          "output_type": "execute_result",
          "data": {
            "text/plain": [
              "array([[302.],\n",
              "       [283.],\n",
              "       [283.],\n",
              "       [297.],\n",
              "       [304.],\n",
              "       [229.],\n",
              "       [305.],\n",
              "       [311.],\n",
              "       [245.],\n",
              "       [290.]], dtype=float32)"
            ]
          },
          "metadata": {},
          "execution_count": 28
        }
      ]
    },
    {
      "cell_type": "markdown",
      "source": [
        " The above results are the converted collision results for the sample rows of validation data based on the scaled collision calculation for 2022 for example."
      ],
      "metadata": {
        "id": "YnlxBEnkhz01"
      }
    },
    {
      "cell_type": "markdown",
      "source": [
        "## Compare the prediction to the recorded values for collisions in the validation dataset"
      ],
      "metadata": {
        "id": "7_2v3am0p60Q"
      }
    },
    {
      "cell_type": "markdown",
      "source": [
        "### Model 2 - Validation result 1"
      ],
      "metadata": {
        "id": "k4_3qSEhDXuK"
      }
    },
    {
      "cell_type": "markdown",
      "source": [
        "In this run, the first test value had a temperature of 19.3 and occured on a Thursday.\n",
        "The predicted scaled collision value of 0.7295978 corresponds to a **333** collisions (based on 2021 min and max collisions). The actual recorded number of collisions for the single matching record was **324** and occurred on a Thursday, 1st April in 2021.\n",
        "> Difference: Predicted was 9 more than recorded collisions."
      ],
      "metadata": {
        "id": "i3n13szEyOAP"
      }
    },
    {
      "cell_type": "code",
      "source": [
        "# The first 1 test values were\n",
        "test_features2[:1]  # will yield a different result to that described above\n",
        "#test_features2.iloc[0]"
      ],
      "metadata": {
        "colab": {
          "base_uri": "https://localhost:8080/",
          "height": 81
        },
        "id": "TtTRnQDZquIQ",
        "outputId": "9c911c46-80ff-48fe-e01a-faa925214f9a"
      },
      "execution_count": 29,
      "outputs": [
        {
          "output_type": "execute_result",
          "data": {
            "text/plain": [
              "     temperature  Sat  Sun  Mon  Tue  Wed  Thur  Fri\n",
              "191         25.9    0    0    0    1    0     0    0"
            ],
            "text/html": [
              "\n",
              "\n",
              "  <div id=\"df-06f14433-ff8e-4c1a-9c8a-7b6d392c58db\">\n",
              "    <div class=\"colab-df-container\">\n",
              "      <div>\n",
              "<style scoped>\n",
              "    .dataframe tbody tr th:only-of-type {\n",
              "        vertical-align: middle;\n",
              "    }\n",
              "\n",
              "    .dataframe tbody tr th {\n",
              "        vertical-align: top;\n",
              "    }\n",
              "\n",
              "    .dataframe thead th {\n",
              "        text-align: right;\n",
              "    }\n",
              "</style>\n",
              "<table border=\"1\" class=\"dataframe\">\n",
              "  <thead>\n",
              "    <tr style=\"text-align: right;\">\n",
              "      <th></th>\n",
              "      <th>temperature</th>\n",
              "      <th>Sat</th>\n",
              "      <th>Sun</th>\n",
              "      <th>Mon</th>\n",
              "      <th>Tue</th>\n",
              "      <th>Wed</th>\n",
              "      <th>Thur</th>\n",
              "      <th>Fri</th>\n",
              "    </tr>\n",
              "  </thead>\n",
              "  <tbody>\n",
              "    <tr>\n",
              "      <th>191</th>\n",
              "      <td>25.9</td>\n",
              "      <td>0</td>\n",
              "      <td>0</td>\n",
              "      <td>0</td>\n",
              "      <td>1</td>\n",
              "      <td>0</td>\n",
              "      <td>0</td>\n",
              "      <td>0</td>\n",
              "    </tr>\n",
              "  </tbody>\n",
              "</table>\n",
              "</div>\n",
              "      <button class=\"colab-df-convert\" onclick=\"convertToInteractive('df-06f14433-ff8e-4c1a-9c8a-7b6d392c58db')\"\n",
              "              title=\"Convert this dataframe to an interactive table.\"\n",
              "              style=\"display:none;\">\n",
              "\n",
              "  <svg xmlns=\"http://www.w3.org/2000/svg\" height=\"24px\"viewBox=\"0 0 24 24\"\n",
              "       width=\"24px\">\n",
              "    <path d=\"M0 0h24v24H0V0z\" fill=\"none\"/>\n",
              "    <path d=\"M18.56 5.44l.94 2.06.94-2.06 2.06-.94-2.06-.94-.94-2.06-.94 2.06-2.06.94zm-11 1L8.5 8.5l.94-2.06 2.06-.94-2.06-.94L8.5 2.5l-.94 2.06-2.06.94zm10 10l.94 2.06.94-2.06 2.06-.94-2.06-.94-.94-2.06-.94 2.06-2.06.94z\"/><path d=\"M17.41 7.96l-1.37-1.37c-.4-.4-.92-.59-1.43-.59-.52 0-1.04.2-1.43.59L10.3 9.45l-7.72 7.72c-.78.78-.78 2.05 0 2.83L4 21.41c.39.39.9.59 1.41.59.51 0 1.02-.2 1.41-.59l7.78-7.78 2.81-2.81c.8-.78.8-2.07 0-2.86zM5.41 20L4 18.59l7.72-7.72 1.47 1.35L5.41 20z\"/>\n",
              "  </svg>\n",
              "      </button>\n",
              "\n",
              "\n",
              "\n",
              "    <div id=\"df-174b819a-38ca-49dc-b132-c89297c8bc60\">\n",
              "      <button class=\"colab-df-quickchart\" onclick=\"quickchart('df-174b819a-38ca-49dc-b132-c89297c8bc60')\"\n",
              "              title=\"Suggest charts.\"\n",
              "              style=\"display:none;\">\n",
              "\n",
              "<svg xmlns=\"http://www.w3.org/2000/svg\" height=\"24px\"viewBox=\"0 0 24 24\"\n",
              "     width=\"24px\">\n",
              "    <g>\n",
              "        <path d=\"M19 3H5c-1.1 0-2 .9-2 2v14c0 1.1.9 2 2 2h14c1.1 0 2-.9 2-2V5c0-1.1-.9-2-2-2zM9 17H7v-7h2v7zm4 0h-2V7h2v10zm4 0h-2v-4h2v4z\"/>\n",
              "    </g>\n",
              "</svg>\n",
              "      </button>\n",
              "    </div>\n",
              "\n",
              "<style>\n",
              "  .colab-df-quickchart {\n",
              "    background-color: #E8F0FE;\n",
              "    border: none;\n",
              "    border-radius: 50%;\n",
              "    cursor: pointer;\n",
              "    display: none;\n",
              "    fill: #1967D2;\n",
              "    height: 32px;\n",
              "    padding: 0 0 0 0;\n",
              "    width: 32px;\n",
              "  }\n",
              "\n",
              "  .colab-df-quickchart:hover {\n",
              "    background-color: #E2EBFA;\n",
              "    box-shadow: 0px 1px 2px rgba(60, 64, 67, 0.3), 0px 1px 3px 1px rgba(60, 64, 67, 0.15);\n",
              "    fill: #174EA6;\n",
              "  }\n",
              "\n",
              "  [theme=dark] .colab-df-quickchart {\n",
              "    background-color: #3B4455;\n",
              "    fill: #D2E3FC;\n",
              "  }\n",
              "\n",
              "  [theme=dark] .colab-df-quickchart:hover {\n",
              "    background-color: #434B5C;\n",
              "    box-shadow: 0px 1px 3px 1px rgba(0, 0, 0, 0.15);\n",
              "    filter: drop-shadow(0px 1px 2px rgba(0, 0, 0, 0.3));\n",
              "    fill: #FFFFFF;\n",
              "  }\n",
              "</style>\n",
              "\n",
              "    <script>\n",
              "      async function quickchart(key) {\n",
              "        const containerElement = document.querySelector('#' + key);\n",
              "        const charts = await google.colab.kernel.invokeFunction(\n",
              "            'suggestCharts', [key], {});\n",
              "      }\n",
              "    </script>\n",
              "\n",
              "      <script>\n",
              "\n",
              "function displayQuickchartButton(domScope) {\n",
              "  let quickchartButtonEl =\n",
              "    domScope.querySelector('#df-174b819a-38ca-49dc-b132-c89297c8bc60 button.colab-df-quickchart');\n",
              "  quickchartButtonEl.style.display =\n",
              "    google.colab.kernel.accessAllowed ? 'block' : 'none';\n",
              "}\n",
              "\n",
              "        displayQuickchartButton(document);\n",
              "      </script>\n",
              "      <style>\n",
              "    .colab-df-container {\n",
              "      display:flex;\n",
              "      flex-wrap:wrap;\n",
              "      gap: 12px;\n",
              "    }\n",
              "\n",
              "    .colab-df-convert {\n",
              "      background-color: #E8F0FE;\n",
              "      border: none;\n",
              "      border-radius: 50%;\n",
              "      cursor: pointer;\n",
              "      display: none;\n",
              "      fill: #1967D2;\n",
              "      height: 32px;\n",
              "      padding: 0 0 0 0;\n",
              "      width: 32px;\n",
              "    }\n",
              "\n",
              "    .colab-df-convert:hover {\n",
              "      background-color: #E2EBFA;\n",
              "      box-shadow: 0px 1px 2px rgba(60, 64, 67, 0.3), 0px 1px 3px 1px rgba(60, 64, 67, 0.15);\n",
              "      fill: #174EA6;\n",
              "    }\n",
              "\n",
              "    [theme=dark] .colab-df-convert {\n",
              "      background-color: #3B4455;\n",
              "      fill: #D2E3FC;\n",
              "    }\n",
              "\n",
              "    [theme=dark] .colab-df-convert:hover {\n",
              "      background-color: #434B5C;\n",
              "      box-shadow: 0px 1px 3px 1px rgba(0, 0, 0, 0.15);\n",
              "      filter: drop-shadow(0px 1px 2px rgba(0, 0, 0, 0.3));\n",
              "      fill: #FFFFFF;\n",
              "    }\n",
              "  </style>\n",
              "\n",
              "      <script>\n",
              "        const buttonEl =\n",
              "          document.querySelector('#df-06f14433-ff8e-4c1a-9c8a-7b6d392c58db button.colab-df-convert');\n",
              "        buttonEl.style.display =\n",
              "          google.colab.kernel.accessAllowed ? 'block' : 'none';\n",
              "\n",
              "        async function convertToInteractive(key) {\n",
              "          const element = document.querySelector('#df-06f14433-ff8e-4c1a-9c8a-7b6d392c58db');\n",
              "          const dataTable =\n",
              "            await google.colab.kernel.invokeFunction('convertToInteractive',\n",
              "                                                     [key], {});\n",
              "          if (!dataTable) return;\n",
              "\n",
              "          const docLinkHtml = 'Like what you see? Visit the ' +\n",
              "            '<a target=\"_blank\" href=https://colab.research.google.com/notebooks/data_table.ipynb>data table notebook</a>'\n",
              "            + ' to learn more about interactive tables.';\n",
              "          element.innerHTML = '';\n",
              "          dataTable['output_type'] = 'display_data';\n",
              "          await google.colab.output.renderOutput(dataTable, element);\n",
              "          const docLink = document.createElement('div');\n",
              "          docLink.innerHTML = docLinkHtml;\n",
              "          element.appendChild(docLink);\n",
              "        }\n",
              "      </script>\n",
              "    </div>\n",
              "  </div>\n"
            ]
          },
          "metadata": {},
          "execution_count": 29
        }
      ]
    },
    {
      "cell_type": "markdown",
      "source": [
        "![image.png](data:image/png;base64,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)"
      ],
      "metadata": {
        "id": "T90Mx59aSC6D"
      }
    },
    {
      "cell_type": "code",
      "source": [
        "# select row(s) from the entire dataset that match the validation row\n",
        "dffiltered1 = dfwc_DNN_mm_day_yr_temp_wind[dfwc_DNN_mm_day_yr_temp_wind.temperature ==19.3]\n",
        "dffiltered1a = dffiltered1[dffiltered1.Thur == 1]"
      ],
      "metadata": {
        "id": "Qg2193f_p-Xo"
      },
      "execution_count": 30,
      "outputs": []
    },
    {
      "cell_type": "code",
      "source": [
        "print('\\nMatching record :\\n', dffiltered1a)"
      ],
      "metadata": {
        "colab": {
          "base_uri": "https://localhost:8080/"
        },
        "id": "csxnvczLrgUL",
        "outputId": "c10c0378-587d-403a-8239-1e8db115d456"
      },
      "execution_count": 31,
      "outputs": [
        {
          "output_type": "stream",
          "name": "stdout",
          "text": [
            "\n",
            "Matching record :\n",
            "      Apr  Aug  Dec  Feb  Jan  Jul  Jun  Mar  May  Nov  ...  Sat  Sun  Thur  \\\n",
            "116    1    0    0    0    0    0    0    0    0    0  ...    0    0     1   \n",
            "\n",
            "     Tue  Wed  year  temperature  wind_speed  scaledCollisions  num_collisions  \n",
            "116    0    0  2021         19.3         1.3          0.686275             324  \n",
            "\n",
            "[1 rows x 24 columns]\n"
          ]
        }
      ]
    },
    {
      "cell_type": "code",
      "source": [
        "# first results was for example: 0.7295978, The matching year was 2021 (for scaled collision calculation values)\n",
        "#print('\\nPredicted collisions :\\n', np.round(linear_day_predictions2TD[0]*a21 +b21))\n",
        "print('\\nPredicted collisions :\\n', np.round(0.7295978*a21 +b21))\n",
        "print('\\nActual collisions for matching record:\\n', dffiltered1a.num_collisions)\n",
        "print('\\nDifference:\\n', (0.7295978*a21 +b21)-dffiltered1a.num_collisions)\n",
        "#print('\\nDifference:\\n', (linear_day_predictions2TD[0]*a21 +b21)-dffiltered1a.num_collisions)"
      ],
      "metadata": {
        "colab": {
          "base_uri": "https://localhost:8080/"
        },
        "id": "qkHKUBkS81Sz",
        "outputId": "449fc462-5cf6-422e-d916-2ecb8c37ec73"
      },
      "execution_count": 32,
      "outputs": [
        {
          "output_type": "stream",
          "name": "stdout",
          "text": [
            "\n",
            "Predicted collisions :\n",
            " 333.0\n",
            "\n",
            "Actual collisions for matching record:\n",
            " 116    324\n",
            "Name: num_collisions, dtype: int64\n",
            "\n",
            "Difference:\n",
            " 116    8.837951\n",
            "Name: num_collisions, dtype: float64\n"
          ]
        }
      ]
    },
    {
      "cell_type": "markdown",
      "source": [
        "### Model 2 - Validation result 2"
      ],
      "metadata": {
        "id": "8daGodHOWy3-"
      }
    },
    {
      "cell_type": "markdown",
      "source": [
        "The 2nd test value had a temperature of 7.2 and also occured on a Thursday.\n",
        "The predicted scaled collision value was 0.60492176.\n",
        "\n",
        "> Recorded collisions for the 2021 matching record: **223**  \n",
        "> Predicted for 2021: 307\n",
        "> Difference: 84 more predicted\n",
        "\n",
        "> Recorded collisions for the 2022 matching record: **203**  \n",
        "> Predicted for 2022: 292\n",
        "> Difference: 89 more predicted.\n",
        "\n",
        "The model does not provide good indicators."
      ],
      "metadata": {
        "id": "PZwQswvxWy3-"
      }
    },
    {
      "cell_type": "markdown",
      "source": [
        "The differences are 84 and 89 for 2021 and 2022 equivalents and these are quite substantial. The performance is quite poor as would be expected for the data inputs.\n"
      ],
      "metadata": {
        "id": "XW3Sedvsoho5"
      }
    },
    {
      "cell_type": "code",
      "source": [
        "# The 2nd test values were\n",
        "#test_features2[:2]\n",
        "test_features2.iloc[1]"
      ],
      "metadata": {
        "colab": {
          "base_uri": "https://localhost:8080/"
        },
        "outputId": "c09bda19-ecc5-476c-8c6a-ed1fe8677c18",
        "id": "DspXyuR1Wy3-"
      },
      "execution_count": 33,
      "outputs": [
        {
          "output_type": "execute_result",
          "data": {
            "text/plain": [
              "temperature    26.7\n",
              "Sat             0.0\n",
              "Sun             1.0\n",
              "Mon             0.0\n",
              "Tue             0.0\n",
              "Wed             0.0\n",
              "Thur            0.0\n",
              "Fri             0.0\n",
              "Name: 137, dtype: float64"
            ]
          },
          "metadata": {},
          "execution_count": 33
        }
      ]
    },
    {
      "cell_type": "markdown",
      "source": [
        "![image.png](data:image/png;base64,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)"
      ],
      "metadata": {
        "id": "o5Xkm-f2SbW_"
      }
    },
    {
      "cell_type": "code",
      "source": [
        "# select row(s) from the entire dataset that match the validation row\n",
        "dffiltered2 = dfwc_DNN_mm_day_yr_temp_wind[dfwc_DNN_mm_day_yr_temp_wind.temperature ==7.2]\n",
        "dffiltered2a = dffiltered2[dffiltered2.Thur == 1]"
      ],
      "metadata": {
        "id": "QUDU-5N7Wy3_"
      },
      "execution_count": 34,
      "outputs": []
    },
    {
      "cell_type": "code",
      "source": [
        "print('\\nMatching record(s):\\n', dffiltered2a)"
      ],
      "metadata": {
        "colab": {
          "base_uri": "https://localhost:8080/"
        },
        "outputId": "003c2bd8-059e-403c-905f-89e8a52bc8e2",
        "id": "lZ_6uTfAWy3_"
      },
      "execution_count": 35,
      "outputs": [
        {
          "output_type": "stream",
          "name": "stdout",
          "text": [
            "\n",
            "Matching record(s):\n",
            "      Apr  Aug  Dec  Feb  Jan  Jul  Jun  Mar  May  Nov  ...  Sat  Sun  Thur  \\\n",
            "352    0    0    1    0    0    0    0    0    0    0  ...    0    0     1   \n",
            "705    0    0    1    0    0    0    0    0    0    0  ...    0    0     1   \n",
            "\n",
            "     Tue  Wed  year  temperature  wind_speed  scaledCollisions  num_collisions  \n",
            "352    0    0  2021          7.2         2.8          0.191176             223  \n",
            "705    0    0  2022          7.2         5.2          0.124324             203  \n",
            "\n",
            "[2 rows x 24 columns]\n"
          ]
        }
      ]
    },
    {
      "cell_type": "code",
      "source": [
        "# one of matching years was 2021 (for scaled collision calculation values)\n",
        "# 0.60492176\n",
        "# print('\\nPredicted collisions (based on 2021):\\n', np.round(linear_day_predictions2TD[1]*a21 +b21)) # 2021 scaled collisoins\n",
        "print('\\nPredicted collisions (based on 2021):\\n', np.round(0.60492176*a21 +b21)) # 2021 scaled collisoins"
      ],
      "metadata": {
        "colab": {
          "base_uri": "https://localhost:8080/"
        },
        "outputId": "0e9a5b5b-08b5-4ef0-9596-bf2370f751c4",
        "id": "zgqiXBp0Wy3_"
      },
      "execution_count": 36,
      "outputs": [
        {
          "output_type": "stream",
          "name": "stdout",
          "text": [
            "\n",
            "Predicted collisions (based on 2021):\n",
            " 307.0\n"
          ]
        }
      ]
    },
    {
      "cell_type": "code",
      "source": [
        "# Recorded collisions for 2021 record\n",
        "dffiltered2a['num_collisions'].loc[(dffiltered2a[\"Thur\"]==1)   &  (dffiltered2a[\"year\"]==2021)]"
      ],
      "metadata": {
        "colab": {
          "base_uri": "https://localhost:8080/"
        },
        "id": "LFVvS9CBhqNY",
        "outputId": "e6f21adf-06ee-4401-8596-688c7cbf616f"
      },
      "execution_count": 37,
      "outputs": [
        {
          "output_type": "execute_result",
          "data": {
            "text/plain": [
              "352    223\n",
              "Name: num_collisions, dtype: int64"
            ]
          },
          "metadata": {},
          "execution_count": 37
        }
      ]
    },
    {
      "cell_type": "code",
      "source": [
        "# print('\\nPredicted collisions (based on 2022):\\n', np.round(linear_day_predictions2TD[1]*a22 +b22)) # 2021 scaled collisoins\n",
        "print('\\nPredicted collisions (based on 2022):\\n', np.round(0.60492176*a22 +b22)) # 2021 scaled collisoins"
      ],
      "metadata": {
        "colab": {
          "base_uri": "https://localhost:8080/"
        },
        "outputId": "c0fc3000-094d-4d30-d725-c067366b4b00",
        "id": "10Cp3IhAWy3_"
      },
      "execution_count": 38,
      "outputs": [
        {
          "output_type": "stream",
          "name": "stdout",
          "text": [
            "\n",
            "Predicted collisions (based on 2022):\n",
            " 292.0\n"
          ]
        }
      ]
    },
    {
      "cell_type": "code",
      "source": [
        "# Recorded collisions for 2022 record\n",
        "dffiltered2a['num_collisions'].loc[(dffiltered2a[\"Thur\"]==1)   &  (dffiltered2a[\"year\"]==2022)]"
      ],
      "metadata": {
        "colab": {
          "base_uri": "https://localhost:8080/"
        },
        "id": "QewKa5uXmzMB",
        "outputId": "cd48d59b-70eb-4d16-d67d-1c270d59ab4b"
      },
      "execution_count": 39,
      "outputs": [
        {
          "output_type": "execute_result",
          "data": {
            "text/plain": [
              "705    203\n",
              "Name: num_collisions, dtype: int64"
            ]
          },
          "metadata": {},
          "execution_count": 39
        }
      ]
    },
    {
      "cell_type": "code",
      "source": [
        "print(292-203)"
      ],
      "metadata": {
        "colab": {
          "base_uri": "https://localhost:8080/"
        },
        "id": "VPfDdfZ8nKf3",
        "outputId": "6692aadb-391f-4916-c54e-b0ff0a84df17"
      },
      "execution_count": 40,
      "outputs": [
        {
          "output_type": "stream",
          "name": "stdout",
          "text": [
            "89\n"
          ]
        }
      ]
    },
    {
      "cell_type": "code",
      "source": [
        "# first results was for example: 0.7295978, The matching year was 2021 (for scaled collision calculation values)\n",
        "#print('\\nPredicted collisions :\\n', np.round(linear_day_predictions2TD[0]*a21 +b21))\n",
        "print('\\nPredicted collisions based on 2021:\\n', np.round(0.60492176*a21 +b21))\n",
        "print('\\nPredicted collisions based on 2022:\\n', np.round(0.60492176*a22 +b22))\n",
        "\n",
        "print('\\nRecorded collisions for matching records:\\n', dffiltered2a.num_collisions)\n",
        "#print('\\nDifference based on 2021:\\n', (0.60492176*a22 +b21)-dffiltered2a.num_collisions)\n",
        "#print('\\nDifference based on 2022:\\n', (0.60492176*a22 +b22)-dffiltered2a.num_collisions)\n",
        "\n",
        "#print('\\nDifference:\\n', (linear_day_predictions2TD[0]*a21 +b21)-dffiltered1a.num_collisions)"
      ],
      "metadata": {
        "colab": {
          "base_uri": "https://localhost:8080/"
        },
        "id": "I2PrYd5cfnj1",
        "outputId": "ff15775d-6688-4968-b75d-0dbd4c7c881f"
      },
      "execution_count": 41,
      "outputs": [
        {
          "output_type": "stream",
          "name": "stdout",
          "text": [
            "\n",
            "Predicted collisions based on 2021:\n",
            " 307.0\n",
            "\n",
            "Predicted collisions based on 2022:\n",
            " 292.0\n",
            "\n",
            "Recorded collisions for matching records:\n",
            " 352    223\n",
            "705    203\n",
            "Name: num_collisions, dtype: int64\n"
          ]
        }
      ]
    },
    {
      "cell_type": "markdown",
      "source": [
        "## Test also with hypothetical data and run"
      ],
      "metadata": {
        "id": "Tp6UaZDieTX_"
      }
    },
    {
      "cell_type": "code",
      "metadata": {
        "id": "2WxCT6aaxftn"
      },
      "source": [
        "# make sure the labels match up with the dataframe from earlier.\n",
        "input_2 = pd.DataFrame.from_dict(data =\n",
        "\t\t\t\t{\n",
        "         'temperature' : [10, 6, 8],\n",
        "         'Sat' : [0,0,0],\n",
        "         'Sun' : [0,0,0],\n",
        "         'Mon' : [1,1,1],\n",
        "         'Tue' : [0,0,0],\n",
        "         'Wed' : [0,0,0],\n",
        "         'Thur' : [0,0,0],\n",
        "         'Fri' : [0,0,0],\n",
        "        })"
      ],
      "execution_count": 42,
      "outputs": []
    },
    {
      "cell_type": "code",
      "source": [
        "# Make predictions by the model on the hypothetical data\n",
        "linear_day_predictions2 = dnn_model_2.predict(input_2[:3])*SCALE_NUM_COLLISIONS\n",
        "linear_day_predictions2"
      ],
      "metadata": {
        "outputId": "2503b042-a98d-4436-d67a-05fbbed72ce6",
        "colab": {
          "base_uri": "https://localhost:8080/"
        },
        "id": "II1OK1Mbxftn"
      },
      "execution_count": 43,
      "outputs": [
        {
          "output_type": "stream",
          "name": "stdout",
          "text": [
            "1/1 [==============================] - 0s 74ms/step\n"
          ]
        },
        {
          "output_type": "execute_result",
          "data": {
            "text/plain": [
              "array([[0.55414206],\n",
              "       [0.52666676],\n",
              "       [0.54880947]], dtype=float32)"
            ]
          },
          "metadata": {},
          "execution_count": 43
        }
      ]
    },
    {
      "cell_type": "markdown",
      "source": [
        "#### Convert results for hypothetical data to collisions based on scaledCollisions for 2022"
      ],
      "metadata": {
        "id": "4r-ok_sTee_m"
      }
    },
    {
      "cell_type": "code",
      "source": [
        "# Make the predictions by the model on the hypothetical data and convert\n",
        "linear_day_predictions2Converted = dnn_model_2.predict(input_2[:3])*a22 +b22\n",
        "#*a22 +b22 is is to convert scaled collisions based on the values for 2022\n",
        "linear_day_predictions2Converted"
      ],
      "metadata": {
        "colab": {
          "base_uri": "https://localhost:8080/"
        },
        "outputId": "62184f5c-23cd-4e48-aed7-1274f01b7931",
        "id": "ar2OPYLYee_n"
      },
      "execution_count": 44,
      "outputs": [
        {
          "output_type": "stream",
          "name": "stdout",
          "text": [
            "1/1 [==============================] - 0s 21ms/step\n"
          ]
        },
        {
          "output_type": "execute_result",
          "data": {
            "text/plain": [
              "array([[282.5163 ],\n",
              "       [277.43335],\n",
              "       [281.52975]], dtype=float32)"
            ]
          },
          "metadata": {},
          "execution_count": 44
        }
      ]
    },
    {
      "cell_type": "markdown",
      "source": [
        "The above converted collision results for hypothetical data are in line with the pattern for 2022."
      ],
      "metadata": {
        "id": "J5wf1tuJee_n"
      }
    },
    {
      "cell_type": "markdown",
      "source": [
        "# Model 3 DNN - One-hot encoded days of week, months with temperature\n"
      ],
      "metadata": {
        "id": "lxj7a_kh40Vg"
      }
    },
    {
      "cell_type": "markdown",
      "source": [
        "This model is a simple model that only includes the days of the week, months and temperature. I would expect a model that can compute the effect of different years and the relationship of months within the years to perform better than this Model 3."
      ],
      "metadata": {
        "id": "zJKa4Y_Tf5L2"
      }
    },
    {
      "cell_type": "code",
      "source": [
        "# remove some columns for this model\n",
        "dfwc_DNN_dow_temp_mon = dfwc_DNN_mm_day_yr_temp_wind.drop(\n",
        "    columns=[\n",
        "        'num_collisions',\n",
        "       # 'Jan', 'Feb','Mar','Apr','May','Jun','Jul','Aug','Sep','Oct','Nov','Dec',\n",
        "        'wind_speed', 'year' #'No.Snow','Snow','No.fog','Fog','Calm','Gentle_breeze','Light_air','Light_breeze','Moderate_breeze','Cold','Freezing.or.below','Hot','Mild','Very.warm','Warm','One','Ten','Three','Four','Five','Six','Seven','Eight','Nine','Dark.orange','Green','Light.blue','Light.green','Light.orange','Red','White','Yellow'\n",
        "        ])"
      ],
      "metadata": {
        "id": "Z0yUcEWy40Vh"
      },
      "execution_count": 45,
      "outputs": []
    },
    {
      "cell_type": "code",
      "source": [
        "# check data - DNN data set to include daysofweek, temperature, scaledCollisions.\n",
        "# removed year, months\n",
        "dfwc_DNN_dow_temp_mon[:5]"
      ],
      "metadata": {
        "colab": {
          "base_uri": "https://localhost:8080/",
          "height": 299
        },
        "outputId": "8e465743-6281-4e14-fb54-aeedb76e9d2a",
        "id": "hP8vGcDP40Vi"
      },
      "execution_count": 46,
      "outputs": [
        {
          "output_type": "execute_result",
          "data": {
            "text/plain": [
              "     Apr  Aug  Dec  Feb  Jan  Jul  Jun  Mar  May  Nov  ...  Sep  Fri  Mon  \\\n",
              "509    0    0    0    0    0    0    1    0    0    0  ...    0    0    0   \n",
              "291    0    0    0    0    0    0    0    0    0    0  ...    0    0    0   \n",
              "319    0    0    0    0    0    0    0    0    0    1  ...    0    0    0   \n",
              "260    0    0    0    0    0    0    0    0    0    0  ...    1    0    0   \n",
              "303    0    0    0    0    0    0    0    0    0    1  ...    0    0    0   \n",
              "\n",
              "     Sat  Sun  Thur  Tue  Wed  temperature  scaledCollisions  \n",
              "509    0    0     0    1    0         20.8          0.686486  \n",
              "291    1    0     0    0    0         14.1          0.823529  \n",
              "319    1    0     0    0    0          2.6          0.392157  \n",
              "260    0    0     0    1    0         20.4          0.549020  \n",
              "303    0    0     1    0    0         11.3          0.529412  \n",
              "\n",
              "[5 rows x 21 columns]"
            ],
            "text/html": [
              "\n",
              "\n",
              "  <div id=\"df-0af634ec-d77f-41b8-8605-ea91d18399af\">\n",
              "    <div class=\"colab-df-container\">\n",
              "      <div>\n",
              "<style scoped>\n",
              "    .dataframe tbody tr th:only-of-type {\n",
              "        vertical-align: middle;\n",
              "    }\n",
              "\n",
              "    .dataframe tbody tr th {\n",
              "        vertical-align: top;\n",
              "    }\n",
              "\n",
              "    .dataframe thead th {\n",
              "        text-align: right;\n",
              "    }\n",
              "</style>\n",
              "<table border=\"1\" class=\"dataframe\">\n",
              "  <thead>\n",
              "    <tr style=\"text-align: right;\">\n",
              "      <th></th>\n",
              "      <th>Apr</th>\n",
              "      <th>Aug</th>\n",
              "      <th>Dec</th>\n",
              "      <th>Feb</th>\n",
              "      <th>Jan</th>\n",
              "      <th>Jul</th>\n",
              "      <th>Jun</th>\n",
              "      <th>Mar</th>\n",
              "      <th>May</th>\n",
              "      <th>Nov</th>\n",
              "      <th>...</th>\n",
              "      <th>Sep</th>\n",
              "      <th>Fri</th>\n",
              "      <th>Mon</th>\n",
              "      <th>Sat</th>\n",
              "      <th>Sun</th>\n",
              "      <th>Thur</th>\n",
              "      <th>Tue</th>\n",
              "      <th>Wed</th>\n",
              "      <th>temperature</th>\n",
              "      <th>scaledCollisions</th>\n",
              "    </tr>\n",
              "  </thead>\n",
              "  <tbody>\n",
              "    <tr>\n",
              "      <th>509</th>\n",
              "      <td>0</td>\n",
              "      <td>0</td>\n",
              "      <td>0</td>\n",
              "      <td>0</td>\n",
              "      <td>0</td>\n",
              "      <td>0</td>\n",
              "      <td>1</td>\n",
              "      <td>0</td>\n",
              "      <td>0</td>\n",
              "      <td>0</td>\n",
              "      <td>...</td>\n",
              "      <td>0</td>\n",
              "      <td>0</td>\n",
              "      <td>0</td>\n",
              "      <td>0</td>\n",
              "      <td>0</td>\n",
              "      <td>0</td>\n",
              "      <td>1</td>\n",
              "      <td>0</td>\n",
              "      <td>20.8</td>\n",
              "      <td>0.686486</td>\n",
              "    </tr>\n",
              "    <tr>\n",
              "      <th>291</th>\n",
              "      <td>0</td>\n",
              "      <td>0</td>\n",
              "      <td>0</td>\n",
              "      <td>0</td>\n",
              "      <td>0</td>\n",
              "      <td>0</td>\n",
              "      <td>0</td>\n",
              "      <td>0</td>\n",
              "      <td>0</td>\n",
              "      <td>0</td>\n",
              "      <td>...</td>\n",
              "      <td>0</td>\n",
              "      <td>0</td>\n",
              "      <td>0</td>\n",
              "      <td>1</td>\n",
              "      <td>0</td>\n",
              "      <td>0</td>\n",
              "      <td>0</td>\n",
              "      <td>0</td>\n",
              "      <td>14.1</td>\n",
              "      <td>0.823529</td>\n",
              "    </tr>\n",
              "    <tr>\n",
              "      <th>319</th>\n",
              "      <td>0</td>\n",
              "      <td>0</td>\n",
              "      <td>0</td>\n",
              "      <td>0</td>\n",
              "      <td>0</td>\n",
              "      <td>0</td>\n",
              "      <td>0</td>\n",
              "      <td>0</td>\n",
              "      <td>0</td>\n",
              "      <td>1</td>\n",
              "      <td>...</td>\n",
              "      <td>0</td>\n",
              "      <td>0</td>\n",
              "      <td>0</td>\n",
              "      <td>1</td>\n",
              "      <td>0</td>\n",
              "      <td>0</td>\n",
              "      <td>0</td>\n",
              "      <td>0</td>\n",
              "      <td>2.6</td>\n",
              "      <td>0.392157</td>\n",
              "    </tr>\n",
              "    <tr>\n",
              "      <th>260</th>\n",
              "      <td>0</td>\n",
              "      <td>0</td>\n",
              "      <td>0</td>\n",
              "      <td>0</td>\n",
              "      <td>0</td>\n",
              "      <td>0</td>\n",
              "      <td>0</td>\n",
              "      <td>0</td>\n",
              "      <td>0</td>\n",
              "      <td>0</td>\n",
              "      <td>...</td>\n",
              "      <td>1</td>\n",
              "      <td>0</td>\n",
              "      <td>0</td>\n",
              "      <td>0</td>\n",
              "      <td>0</td>\n",
              "      <td>0</td>\n",
              "      <td>1</td>\n",
              "      <td>0</td>\n",
              "      <td>20.4</td>\n",
              "      <td>0.549020</td>\n",
              "    </tr>\n",
              "    <tr>\n",
              "      <th>303</th>\n",
              "      <td>0</td>\n",
              "      <td>0</td>\n",
              "      <td>0</td>\n",
              "      <td>0</td>\n",
              "      <td>0</td>\n",
              "      <td>0</td>\n",
              "      <td>0</td>\n",
              "      <td>0</td>\n",
              "      <td>0</td>\n",
              "      <td>1</td>\n",
              "      <td>...</td>\n",
              "      <td>0</td>\n",
              "      <td>0</td>\n",
              "      <td>0</td>\n",
              "      <td>0</td>\n",
              "      <td>0</td>\n",
              "      <td>1</td>\n",
              "      <td>0</td>\n",
              "      <td>0</td>\n",
              "      <td>11.3</td>\n",
              "      <td>0.529412</td>\n",
              "    </tr>\n",
              "  </tbody>\n",
              "</table>\n",
              "<p>5 rows × 21 columns</p>\n",
              "</div>\n",
              "      <button class=\"colab-df-convert\" onclick=\"convertToInteractive('df-0af634ec-d77f-41b8-8605-ea91d18399af')\"\n",
              "              title=\"Convert this dataframe to an interactive table.\"\n",
              "              style=\"display:none;\">\n",
              "\n",
              "  <svg xmlns=\"http://www.w3.org/2000/svg\" height=\"24px\"viewBox=\"0 0 24 24\"\n",
              "       width=\"24px\">\n",
              "    <path d=\"M0 0h24v24H0V0z\" fill=\"none\"/>\n",
              "    <path d=\"M18.56 5.44l.94 2.06.94-2.06 2.06-.94-2.06-.94-.94-2.06-.94 2.06-2.06.94zm-11 1L8.5 8.5l.94-2.06 2.06-.94-2.06-.94L8.5 2.5l-.94 2.06-2.06.94zm10 10l.94 2.06.94-2.06 2.06-.94-2.06-.94-.94-2.06-.94 2.06-2.06.94z\"/><path d=\"M17.41 7.96l-1.37-1.37c-.4-.4-.92-.59-1.43-.59-.52 0-1.04.2-1.43.59L10.3 9.45l-7.72 7.72c-.78.78-.78 2.05 0 2.83L4 21.41c.39.39.9.59 1.41.59.51 0 1.02-.2 1.41-.59l7.78-7.78 2.81-2.81c.8-.78.8-2.07 0-2.86zM5.41 20L4 18.59l7.72-7.72 1.47 1.35L5.41 20z\"/>\n",
              "  </svg>\n",
              "      </button>\n",
              "\n",
              "\n",
              "\n",
              "    <div id=\"df-8a301c0c-16bd-40e5-ac24-10edc53fb972\">\n",
              "      <button class=\"colab-df-quickchart\" onclick=\"quickchart('df-8a301c0c-16bd-40e5-ac24-10edc53fb972')\"\n",
              "              title=\"Suggest charts.\"\n",
              "              style=\"display:none;\">\n",
              "\n",
              "<svg xmlns=\"http://www.w3.org/2000/svg\" height=\"24px\"viewBox=\"0 0 24 24\"\n",
              "     width=\"24px\">\n",
              "    <g>\n",
              "        <path d=\"M19 3H5c-1.1 0-2 .9-2 2v14c0 1.1.9 2 2 2h14c1.1 0 2-.9 2-2V5c0-1.1-.9-2-2-2zM9 17H7v-7h2v7zm4 0h-2V7h2v10zm4 0h-2v-4h2v4z\"/>\n",
              "    </g>\n",
              "</svg>\n",
              "      </button>\n",
              "    </div>\n",
              "\n",
              "<style>\n",
              "  .colab-df-quickchart {\n",
              "    background-color: #E8F0FE;\n",
              "    border: none;\n",
              "    border-radius: 50%;\n",
              "    cursor: pointer;\n",
              "    display: none;\n",
              "    fill: #1967D2;\n",
              "    height: 32px;\n",
              "    padding: 0 0 0 0;\n",
              "    width: 32px;\n",
              "  }\n",
              "\n",
              "  .colab-df-quickchart:hover {\n",
              "    background-color: #E2EBFA;\n",
              "    box-shadow: 0px 1px 2px rgba(60, 64, 67, 0.3), 0px 1px 3px 1px rgba(60, 64, 67, 0.15);\n",
              "    fill: #174EA6;\n",
              "  }\n",
              "\n",
              "  [theme=dark] .colab-df-quickchart {\n",
              "    background-color: #3B4455;\n",
              "    fill: #D2E3FC;\n",
              "  }\n",
              "\n",
              "  [theme=dark] .colab-df-quickchart:hover {\n",
              "    background-color: #434B5C;\n",
              "    box-shadow: 0px 1px 3px 1px rgba(0, 0, 0, 0.15);\n",
              "    filter: drop-shadow(0px 1px 2px rgba(0, 0, 0, 0.3));\n",
              "    fill: #FFFFFF;\n",
              "  }\n",
              "</style>\n",
              "\n",
              "    <script>\n",
              "      async function quickchart(key) {\n",
              "        const containerElement = document.querySelector('#' + key);\n",
              "        const charts = await google.colab.kernel.invokeFunction(\n",
              "            'suggestCharts', [key], {});\n",
              "      }\n",
              "    </script>\n",
              "\n",
              "      <script>\n",
              "\n",
              "function displayQuickchartButton(domScope) {\n",
              "  let quickchartButtonEl =\n",
              "    domScope.querySelector('#df-8a301c0c-16bd-40e5-ac24-10edc53fb972 button.colab-df-quickchart');\n",
              "  quickchartButtonEl.style.display =\n",
              "    google.colab.kernel.accessAllowed ? 'block' : 'none';\n",
              "}\n",
              "\n",
              "        displayQuickchartButton(document);\n",
              "      </script>\n",
              "      <style>\n",
              "    .colab-df-container {\n",
              "      display:flex;\n",
              "      flex-wrap:wrap;\n",
              "      gap: 12px;\n",
              "    }\n",
              "\n",
              "    .colab-df-convert {\n",
              "      background-color: #E8F0FE;\n",
              "      border: none;\n",
              "      border-radius: 50%;\n",
              "      cursor: pointer;\n",
              "      display: none;\n",
              "      fill: #1967D2;\n",
              "      height: 32px;\n",
              "      padding: 0 0 0 0;\n",
              "      width: 32px;\n",
              "    }\n",
              "\n",
              "    .colab-df-convert:hover {\n",
              "      background-color: #E2EBFA;\n",
              "      box-shadow: 0px 1px 2px rgba(60, 64, 67, 0.3), 0px 1px 3px 1px rgba(60, 64, 67, 0.15);\n",
              "      fill: #174EA6;\n",
              "    }\n",
              "\n",
              "    [theme=dark] .colab-df-convert {\n",
              "      background-color: #3B4455;\n",
              "      fill: #D2E3FC;\n",
              "    }\n",
              "\n",
              "    [theme=dark] .colab-df-convert:hover {\n",
              "      background-color: #434B5C;\n",
              "      box-shadow: 0px 1px 3px 1px rgba(0, 0, 0, 0.15);\n",
              "      filter: drop-shadow(0px 1px 2px rgba(0, 0, 0, 0.3));\n",
              "      fill: #FFFFFF;\n",
              "    }\n",
              "  </style>\n",
              "\n",
              "      <script>\n",
              "        const buttonEl =\n",
              "          document.querySelector('#df-0af634ec-d77f-41b8-8605-ea91d18399af button.colab-df-convert');\n",
              "        buttonEl.style.display =\n",
              "          google.colab.kernel.accessAllowed ? 'block' : 'none';\n",
              "\n",
              "        async function convertToInteractive(key) {\n",
              "          const element = document.querySelector('#df-0af634ec-d77f-41b8-8605-ea91d18399af');\n",
              "          const dataTable =\n",
              "            await google.colab.kernel.invokeFunction('convertToInteractive',\n",
              "                                                     [key], {});\n",
              "          if (!dataTable) return;\n",
              "\n",
              "          const docLinkHtml = 'Like what you see? Visit the ' +\n",
              "            '<a target=\"_blank\" href=https://colab.research.google.com/notebooks/data_table.ipynb>data table notebook</a>'\n",
              "            + ' to learn more about interactive tables.';\n",
              "          element.innerHTML = '';\n",
              "          dataTable['output_type'] = 'display_data';\n",
              "          await google.colab.output.renderOutput(dataTable, element);\n",
              "          const docLink = document.createElement('div');\n",
              "          docLink.innerHTML = docLinkHtml;\n",
              "          element.appendChild(docLink);\n",
              "        }\n",
              "      </script>\n",
              "    </div>\n",
              "  </div>\n"
            ]
          },
          "metadata": {},
          "execution_count": 46
        }
      ]
    },
    {
      "cell_type": "markdown",
      "source": [
        "### View dataset columns"
      ],
      "metadata": {
        "id": "k-iTd0VSqTsp"
      }
    },
    {
      "cell_type": "code",
      "source": [
        "# iterating the columns\n",
        "for col in dfwc_DNN_dow_temp_mon.columns:\n",
        "    print(col)\n",
        "# This one has month, day of week, year, temperature, wind speed, scaledCollisions"
      ],
      "metadata": {
        "colab": {
          "base_uri": "https://localhost:8080/"
        },
        "outputId": "314d79c1-abd9-4631-8d37-813d73da5f44",
        "id": "7eOt1NEH40Vi"
      },
      "execution_count": 47,
      "outputs": [
        {
          "output_type": "stream",
          "name": "stdout",
          "text": [
            "Apr\n",
            "Aug\n",
            "Dec\n",
            "Feb\n",
            "Jan\n",
            "Jul\n",
            "Jun\n",
            "Mar\n",
            "May\n",
            "Nov\n",
            "Oct\n",
            "Sep\n",
            "Fri\n",
            "Mon\n",
            "Sat\n",
            "Sun\n",
            "Thur\n",
            "Tue\n",
            "Wed\n",
            "temperature\n",
            "scaledCollisions\n"
          ]
        }
      ]
    },
    {
      "cell_type": "code",
      "metadata": {
        "id": "RuFbxdMD40Vj"
      },
      "source": [
        "dnn_dow_temp_mon_input_data = [dfwc_DNN_dow_temp_mon[\"temperature\"],\n",
        "                  dfwc_DNN_dow_temp_mon[\"Sat\"], dfwc_DNN_dow_temp_mon[\"Sun\"], dfwc_DNN_dow_temp_mon[\"Mon\"], dfwc_DNN_dow_temp_mon[\"Tue\"], dfwc_DNN_dow_temp_mon[\"Wed\"], dfwc_DNN_dow_temp_mon[\"Thur\"], dfwc_DNN_dow_temp_mon[\"Fri\"],\n",
        "                  dfwc_DNN_dow_temp_mon[\"Jan\"], dfwc_DNN_dow_temp_mon[\"Feb\"], dfwc_DNN_dow_temp_mon[\"Mar\"], dfwc_DNN_dow_temp_mon[\"Apr\"], dfwc_DNN_dow_temp_mon[\"May\"], dfwc_DNN_dow_temp_mon[\"Jun\"], dfwc_DNN_dow_temp_mon[\"Jul\"], dfwc_DNN_dow_temp_mon[\"Aug\"], dfwc_DNN_dow_temp_mon[\"Sep\"], dfwc_DNN_dow_temp_mon[\"Oct\"], dfwc_DNN_dow_temp_mon[\"Nov\"], dfwc_DNN_dow_temp_mon[\"Dec\"],\n",
        "                  dfwc_DNN_dow_temp_mon[\"scaledCollisions\"]]\n",
        "headers3 = [\"temperature\", \"Sat\",\"Sun\",\"Mon\",\"Tue\",\"Wed\",\"Thur\",\"Fri\",\"Jan\",\"Feb\",\"Mar\",\"Apr\",\"May\",\"Jun\",\"Jul\",\"Aug\",\"Sep\",\"Oct\",\"Nov\",\"Dec\",\"scaledCollisions\"]\n",
        "dnn_dow_temp_mon_input = pd.concat(dnn_dow_temp_mon_input_data, axis=1, keys=headers3)\n"
      ],
      "execution_count": 48,
      "outputs": []
    },
    {
      "cell_type": "code",
      "source": [
        "dnn_dow_temp_mon_input.head()"
      ],
      "metadata": {
        "colab": {
          "base_uri": "https://localhost:8080/",
          "height": 299
        },
        "outputId": "07707bf1-9c7e-4365-eb92-5d01a71f04f6",
        "id": "mpXQKZsc40Vj"
      },
      "execution_count": 49,
      "outputs": [
        {
          "output_type": "execute_result",
          "data": {
            "text/plain": [
              "     temperature  Sat  Sun  Mon  Tue  Wed  Thur  Fri  Jan  Feb  ...  Apr  May  \\\n",
              "509         20.8    0    0    0    1    0     0    0    0    0  ...    0    0   \n",
              "291         14.1    1    0    0    0    0     0    0    0    0  ...    0    0   \n",
              "319          2.6    1    0    0    0    0     0    0    0    0  ...    0    0   \n",
              "260         20.4    0    0    0    1    0     0    0    0    0  ...    0    0   \n",
              "303         11.3    0    0    0    0    0     1    0    0    0  ...    0    0   \n",
              "\n",
              "     Jun  Jul  Aug  Sep  Oct  Nov  Dec  scaledCollisions  \n",
              "509    1    0    0    0    0    0    0          0.686486  \n",
              "291    0    0    0    0    1    0    0          0.823529  \n",
              "319    0    0    0    0    0    1    0          0.392157  \n",
              "260    0    0    0    1    0    0    0          0.549020  \n",
              "303    0    0    0    0    0    1    0          0.529412  \n",
              "\n",
              "[5 rows x 21 columns]"
            ],
            "text/html": [
              "\n",
              "\n",
              "  <div id=\"df-8051f5d9-5435-44c2-a86a-9e81446386f3\">\n",
              "    <div class=\"colab-df-container\">\n",
              "      <div>\n",
              "<style scoped>\n",
              "    .dataframe tbody tr th:only-of-type {\n",
              "        vertical-align: middle;\n",
              "    }\n",
              "\n",
              "    .dataframe tbody tr th {\n",
              "        vertical-align: top;\n",
              "    }\n",
              "\n",
              "    .dataframe thead th {\n",
              "        text-align: right;\n",
              "    }\n",
              "</style>\n",
              "<table border=\"1\" class=\"dataframe\">\n",
              "  <thead>\n",
              "    <tr style=\"text-align: right;\">\n",
              "      <th></th>\n",
              "      <th>temperature</th>\n",
              "      <th>Sat</th>\n",
              "      <th>Sun</th>\n",
              "      <th>Mon</th>\n",
              "      <th>Tue</th>\n",
              "      <th>Wed</th>\n",
              "      <th>Thur</th>\n",
              "      <th>Fri</th>\n",
              "      <th>Jan</th>\n",
              "      <th>Feb</th>\n",
              "      <th>...</th>\n",
              "      <th>Apr</th>\n",
              "      <th>May</th>\n",
              "      <th>Jun</th>\n",
              "      <th>Jul</th>\n",
              "      <th>Aug</th>\n",
              "      <th>Sep</th>\n",
              "      <th>Oct</th>\n",
              "      <th>Nov</th>\n",
              "      <th>Dec</th>\n",
              "      <th>scaledCollisions</th>\n",
              "    </tr>\n",
              "  </thead>\n",
              "  <tbody>\n",
              "    <tr>\n",
              "      <th>509</th>\n",
              "      <td>20.8</td>\n",
              "      <td>0</td>\n",
              "      <td>0</td>\n",
              "      <td>0</td>\n",
              "      <td>1</td>\n",
              "      <td>0</td>\n",
              "      <td>0</td>\n",
              "      <td>0</td>\n",
              "      <td>0</td>\n",
              "      <td>0</td>\n",
              "      <td>...</td>\n",
              "      <td>0</td>\n",
              "      <td>0</td>\n",
              "      <td>1</td>\n",
              "      <td>0</td>\n",
              "      <td>0</td>\n",
              "      <td>0</td>\n",
              "      <td>0</td>\n",
              "      <td>0</td>\n",
              "      <td>0</td>\n",
              "      <td>0.686486</td>\n",
              "    </tr>\n",
              "    <tr>\n",
              "      <th>291</th>\n",
              "      <td>14.1</td>\n",
              "      <td>1</td>\n",
              "      <td>0</td>\n",
              "      <td>0</td>\n",
              "      <td>0</td>\n",
              "      <td>0</td>\n",
              "      <td>0</td>\n",
              "      <td>0</td>\n",
              "      <td>0</td>\n",
              "      <td>0</td>\n",
              "      <td>...</td>\n",
              "      <td>0</td>\n",
              "      <td>0</td>\n",
              "      <td>0</td>\n",
              "      <td>0</td>\n",
              "      <td>0</td>\n",
              "      <td>0</td>\n",
              "      <td>1</td>\n",
              "      <td>0</td>\n",
              "      <td>0</td>\n",
              "      <td>0.823529</td>\n",
              "    </tr>\n",
              "    <tr>\n",
              "      <th>319</th>\n",
              "      <td>2.6</td>\n",
              "      <td>1</td>\n",
              "      <td>0</td>\n",
              "      <td>0</td>\n",
              "      <td>0</td>\n",
              "      <td>0</td>\n",
              "      <td>0</td>\n",
              "      <td>0</td>\n",
              "      <td>0</td>\n",
              "      <td>0</td>\n",
              "      <td>...</td>\n",
              "      <td>0</td>\n",
              "      <td>0</td>\n",
              "      <td>0</td>\n",
              "      <td>0</td>\n",
              "      <td>0</td>\n",
              "      <td>0</td>\n",
              "      <td>0</td>\n",
              "      <td>1</td>\n",
              "      <td>0</td>\n",
              "      <td>0.392157</td>\n",
              "    </tr>\n",
              "    <tr>\n",
              "      <th>260</th>\n",
              "      <td>20.4</td>\n",
              "      <td>0</td>\n",
              "      <td>0</td>\n",
              "      <td>0</td>\n",
              "      <td>1</td>\n",
              "      <td>0</td>\n",
              "      <td>0</td>\n",
              "      <td>0</td>\n",
              "      <td>0</td>\n",
              "      <td>0</td>\n",
              "      <td>...</td>\n",
              "      <td>0</td>\n",
              "      <td>0</td>\n",
              "      <td>0</td>\n",
              "      <td>0</td>\n",
              "      <td>0</td>\n",
              "      <td>1</td>\n",
              "      <td>0</td>\n",
              "      <td>0</td>\n",
              "      <td>0</td>\n",
              "      <td>0.549020</td>\n",
              "    </tr>\n",
              "    <tr>\n",
              "      <th>303</th>\n",
              "      <td>11.3</td>\n",
              "      <td>0</td>\n",
              "      <td>0</td>\n",
              "      <td>0</td>\n",
              "      <td>0</td>\n",
              "      <td>0</td>\n",
              "      <td>1</td>\n",
              "      <td>0</td>\n",
              "      <td>0</td>\n",
              "      <td>0</td>\n",
              "      <td>...</td>\n",
              "      <td>0</td>\n",
              "      <td>0</td>\n",
              "      <td>0</td>\n",
              "      <td>0</td>\n",
              "      <td>0</td>\n",
              "      <td>0</td>\n",
              "      <td>0</td>\n",
              "      <td>1</td>\n",
              "      <td>0</td>\n",
              "      <td>0.529412</td>\n",
              "    </tr>\n",
              "  </tbody>\n",
              "</table>\n",
              "<p>5 rows × 21 columns</p>\n",
              "</div>\n",
              "      <button class=\"colab-df-convert\" onclick=\"convertToInteractive('df-8051f5d9-5435-44c2-a86a-9e81446386f3')\"\n",
              "              title=\"Convert this dataframe to an interactive table.\"\n",
              "              style=\"display:none;\">\n",
              "\n",
              "  <svg xmlns=\"http://www.w3.org/2000/svg\" height=\"24px\"viewBox=\"0 0 24 24\"\n",
              "       width=\"24px\">\n",
              "    <path d=\"M0 0h24v24H0V0z\" fill=\"none\"/>\n",
              "    <path d=\"M18.56 5.44l.94 2.06.94-2.06 2.06-.94-2.06-.94-.94-2.06-.94 2.06-2.06.94zm-11 1L8.5 8.5l.94-2.06 2.06-.94-2.06-.94L8.5 2.5l-.94 2.06-2.06.94zm10 10l.94 2.06.94-2.06 2.06-.94-2.06-.94-.94-2.06-.94 2.06-2.06.94z\"/><path d=\"M17.41 7.96l-1.37-1.37c-.4-.4-.92-.59-1.43-.59-.52 0-1.04.2-1.43.59L10.3 9.45l-7.72 7.72c-.78.78-.78 2.05 0 2.83L4 21.41c.39.39.9.59 1.41.59.51 0 1.02-.2 1.41-.59l7.78-7.78 2.81-2.81c.8-.78.8-2.07 0-2.86zM5.41 20L4 18.59l7.72-7.72 1.47 1.35L5.41 20z\"/>\n",
              "  </svg>\n",
              "      </button>\n",
              "\n",
              "\n",
              "\n",
              "    <div id=\"df-7a9ef0cd-e553-4e22-a615-73ef58eda00b\">\n",
              "      <button class=\"colab-df-quickchart\" onclick=\"quickchart('df-7a9ef0cd-e553-4e22-a615-73ef58eda00b')\"\n",
              "              title=\"Suggest charts.\"\n",
              "              style=\"display:none;\">\n",
              "\n",
              "<svg xmlns=\"http://www.w3.org/2000/svg\" height=\"24px\"viewBox=\"0 0 24 24\"\n",
              "     width=\"24px\">\n",
              "    <g>\n",
              "        <path d=\"M19 3H5c-1.1 0-2 .9-2 2v14c0 1.1.9 2 2 2h14c1.1 0 2-.9 2-2V5c0-1.1-.9-2-2-2zM9 17H7v-7h2v7zm4 0h-2V7h2v10zm4 0h-2v-4h2v4z\"/>\n",
              "    </g>\n",
              "</svg>\n",
              "      </button>\n",
              "    </div>\n",
              "\n",
              "<style>\n",
              "  .colab-df-quickchart {\n",
              "    background-color: #E8F0FE;\n",
              "    border: none;\n",
              "    border-radius: 50%;\n",
              "    cursor: pointer;\n",
              "    display: none;\n",
              "    fill: #1967D2;\n",
              "    height: 32px;\n",
              "    padding: 0 0 0 0;\n",
              "    width: 32px;\n",
              "  }\n",
              "\n",
              "  .colab-df-quickchart:hover {\n",
              "    background-color: #E2EBFA;\n",
              "    box-shadow: 0px 1px 2px rgba(60, 64, 67, 0.3), 0px 1px 3px 1px rgba(60, 64, 67, 0.15);\n",
              "    fill: #174EA6;\n",
              "  }\n",
              "\n",
              "  [theme=dark] .colab-df-quickchart {\n",
              "    background-color: #3B4455;\n",
              "    fill: #D2E3FC;\n",
              "  }\n",
              "\n",
              "  [theme=dark] .colab-df-quickchart:hover {\n",
              "    background-color: #434B5C;\n",
              "    box-shadow: 0px 1px 3px 1px rgba(0, 0, 0, 0.15);\n",
              "    filter: drop-shadow(0px 1px 2px rgba(0, 0, 0, 0.3));\n",
              "    fill: #FFFFFF;\n",
              "  }\n",
              "</style>\n",
              "\n",
              "    <script>\n",
              "      async function quickchart(key) {\n",
              "        const containerElement = document.querySelector('#' + key);\n",
              "        const charts = await google.colab.kernel.invokeFunction(\n",
              "            'suggestCharts', [key], {});\n",
              "      }\n",
              "    </script>\n",
              "\n",
              "      <script>\n",
              "\n",
              "function displayQuickchartButton(domScope) {\n",
              "  let quickchartButtonEl =\n",
              "    domScope.querySelector('#df-7a9ef0cd-e553-4e22-a615-73ef58eda00b button.colab-df-quickchart');\n",
              "  quickchartButtonEl.style.display =\n",
              "    google.colab.kernel.accessAllowed ? 'block' : 'none';\n",
              "}\n",
              "\n",
              "        displayQuickchartButton(document);\n",
              "      </script>\n",
              "      <style>\n",
              "    .colab-df-container {\n",
              "      display:flex;\n",
              "      flex-wrap:wrap;\n",
              "      gap: 12px;\n",
              "    }\n",
              "\n",
              "    .colab-df-convert {\n",
              "      background-color: #E8F0FE;\n",
              "      border: none;\n",
              "      border-radius: 50%;\n",
              "      cursor: pointer;\n",
              "      display: none;\n",
              "      fill: #1967D2;\n",
              "      height: 32px;\n",
              "      padding: 0 0 0 0;\n",
              "      width: 32px;\n",
              "    }\n",
              "\n",
              "    .colab-df-convert:hover {\n",
              "      background-color: #E2EBFA;\n",
              "      box-shadow: 0px 1px 2px rgba(60, 64, 67, 0.3), 0px 1px 3px 1px rgba(60, 64, 67, 0.15);\n",
              "      fill: #174EA6;\n",
              "    }\n",
              "\n",
              "    [theme=dark] .colab-df-convert {\n",
              "      background-color: #3B4455;\n",
              "      fill: #D2E3FC;\n",
              "    }\n",
              "\n",
              "    [theme=dark] .colab-df-convert:hover {\n",
              "      background-color: #434B5C;\n",
              "      box-shadow: 0px 1px 3px 1px rgba(0, 0, 0, 0.15);\n",
              "      filter: drop-shadow(0px 1px 2px rgba(0, 0, 0, 0.3));\n",
              "      fill: #FFFFFF;\n",
              "    }\n",
              "  </style>\n",
              "\n",
              "      <script>\n",
              "        const buttonEl =\n",
              "          document.querySelector('#df-8051f5d9-5435-44c2-a86a-9e81446386f3 button.colab-df-convert');\n",
              "        buttonEl.style.display =\n",
              "          google.colab.kernel.accessAllowed ? 'block' : 'none';\n",
              "\n",
              "        async function convertToInteractive(key) {\n",
              "          const element = document.querySelector('#df-8051f5d9-5435-44c2-a86a-9e81446386f3');\n",
              "          const dataTable =\n",
              "            await google.colab.kernel.invokeFunction('convertToInteractive',\n",
              "                                                     [key], {});\n",
              "          if (!dataTable) return;\n",
              "\n",
              "          const docLinkHtml = 'Like what you see? Visit the ' +\n",
              "            '<a target=\"_blank\" href=https://colab.research.google.com/notebooks/data_table.ipynb>data table notebook</a>'\n",
              "            + ' to learn more about interactive tables.';\n",
              "          element.innerHTML = '';\n",
              "          dataTable['output_type'] = 'display_data';\n",
              "          await google.colab.output.renderOutput(dataTable, element);\n",
              "          const docLink = document.createElement('div');\n",
              "          docLink.innerHTML = docLinkHtml;\n",
              "          element.appendChild(docLink);\n",
              "        }\n",
              "      </script>\n",
              "    </div>\n",
              "  </div>\n"
            ]
          },
          "metadata": {},
          "execution_count": 49
        }
      ]
    },
    {
      "cell_type": "markdown",
      "source": [
        "### Training and test datasets"
      ],
      "metadata": {
        "id": "tVoEr3Es40Vk"
      }
    },
    {
      "cell_type": "code",
      "metadata": {
        "id": "qNzfCn_b40Vk"
      },
      "source": [
        "training_dataset3 = dnn_dow_temp_mon_input.sample(frac=0.8, random_state=0)\n",
        "test_dataset3 = dnn_dow_temp_mon_input.drop(training_dataset3.index)"
      ],
      "execution_count": 50,
      "outputs": []
    },
    {
      "cell_type": "code",
      "source": [
        "training_features3 = training_dataset3.copy()\n",
        "test_features3 = test_dataset3.copy()\n",
        "\n",
        "training_labels3 = training_features3.pop('scaledCollisions')\n",
        "test_labels3 = test_features3.pop('scaledCollisions')"
      ],
      "metadata": {
        "id": "kWy89koc40Vk"
      },
      "execution_count": 51,
      "outputs": []
    },
    {
      "cell_type": "code",
      "source": [
        "# A scale is not required here, but the constant will be useful in the assignment.\n",
        "SCALE_NUM_COLLISIONS = 1.0"
      ],
      "metadata": {
        "id": "D7Kz5kbw40Vk"
      },
      "execution_count": 52,
      "outputs": []
    },
    {
      "cell_type": "code",
      "source": [
        "training_labels3 = training_labels3/SCALE_NUM_COLLISIONS\n",
        "test_labels3 = test_labels3/SCALE_NUM_COLLISIONS"
      ],
      "metadata": {
        "id": "aRo6CWaD40Vl"
      },
      "execution_count": 53,
      "outputs": []
    },
    {
      "cell_type": "code",
      "source": [
        "for col in dnn_dow_temp_mon_input.columns:\n",
        "    print(col)\n",
        "# 20 excluding scaled collisions"
      ],
      "metadata": {
        "colab": {
          "base_uri": "https://localhost:8080/"
        },
        "outputId": "66db5cef-6967-4290-945a-681faf0c72b4",
        "id": "CH_iWoZF40Vl"
      },
      "execution_count": 54,
      "outputs": [
        {
          "output_type": "stream",
          "name": "stdout",
          "text": [
            "temperature\n",
            "Sat\n",
            "Sun\n",
            "Mon\n",
            "Tue\n",
            "Wed\n",
            "Thur\n",
            "Fri\n",
            "Jan\n",
            "Feb\n",
            "Mar\n",
            "Apr\n",
            "May\n",
            "Jun\n",
            "Jul\n",
            "Aug\n",
            "Sep\n",
            "Oct\n",
            "Nov\n",
            "Dec\n",
            "scaledCollisions\n"
          ]
        }
      ]
    },
    {
      "cell_type": "markdown",
      "source": [
        "## Model 3 - model specification"
      ],
      "metadata": {
        "id": "0AupLS1dKTqN"
      }
    },
    {
      "cell_type": "code",
      "source": [
        "normaliser3 = tf.keras.layers.Normalization(axis=-1)\n",
        "normaliser3.adapt(np.array(training_features3))"
      ],
      "metadata": {
        "id": "jwQpnANg40Vl"
      },
      "execution_count": 55,
      "outputs": []
    },
    {
      "cell_type": "code",
      "source": [
        "# Normalisation layer (22 inputs), 2 layers of 48, with 1 output.\n",
        "# The 48 can be adjusted to improve the net.\n",
        "dnn_model_3 = keras.Sequential([\n",
        "      normaliser3,\n",
        "      layers.Dense(48, activation='relu'),\n",
        "      layers.Dense(48, activation='relu'),\n",
        "      layers.Dense(1)\n",
        "  ])\n",
        "\n",
        "dnn_model_3.compile(loss='mean_absolute_error',\n",
        "                optimizer=tf.keras.optimizers.Adam(0.001))"
      ],
      "metadata": {
        "id": "mN3zd7Yx40Vl"
      },
      "execution_count": 56,
      "outputs": []
    },
    {
      "cell_type": "code",
      "source": [
        "# Print out the statistics\n",
        "dnn_model_3.summary()"
      ],
      "metadata": {
        "colab": {
          "base_uri": "https://localhost:8080/"
        },
        "id": "PmjpYI7Bwu5_",
        "outputId": "0f68b850-65ed-433a-8d8e-f8c13d111221"
      },
      "execution_count": 57,
      "outputs": [
        {
          "output_type": "stream",
          "name": "stdout",
          "text": [
            "Model: \"sequential_1\"\n",
            "_________________________________________________________________\n",
            " Layer (type)                Output Shape              Param #   \n",
            "=================================================================\n",
            " normalization_1 (Normalizat  (None, 20)               41        \n",
            " ion)                                                            \n",
            "                                                                 \n",
            " dense_3 (Dense)             (None, 48)                1008      \n",
            "                                                                 \n",
            " dense_4 (Dense)             (None, 48)                2352      \n",
            "                                                                 \n",
            " dense_5 (Dense)             (None, 1)                 49        \n",
            "                                                                 \n",
            "=================================================================\n",
            "Total params: 3,450\n",
            "Trainable params: 3,409\n",
            "Non-trainable params: 41\n",
            "_________________________________________________________________\n"
          ]
        }
      ]
    },
    {
      "cell_type": "markdown",
      "source": [
        "## Model 3 - Train the model"
      ],
      "metadata": {
        "id": "gHP2JajmSBos"
      }
    },
    {
      "cell_type": "markdown",
      "source": [
        "We call fit() to train the model and repeatedly iterate over the dataset for 100 epochs.This specifies to use 20% of the data for validation."
      ],
      "metadata": {
        "id": "ALplVB48SPFX"
      }
    },
    {
      "cell_type": "code",
      "source": [
        "%%time\n",
        "history3 = dnn_model_3.fit(\n",
        "    training_features3,\n",
        "    training_labels3,\n",
        "    #batch_size = 64, #  slice the data into \"batches\"\n",
        "    validation_split=0.2,\n",
        "    verbose=0,\n",
        "    epochs=100)"
      ],
      "metadata": {
        "outputId": "e62a6351-54bc-415c-8a4e-1ed0fb14dc52",
        "colab": {
          "base_uri": "https://localhost:8080/"
        },
        "id": "a95vjKcV40Vm"
      },
      "execution_count": 58,
      "outputs": [
        {
          "output_type": "stream",
          "name": "stdout",
          "text": [
            "CPU times: user 7.25 s, sys: 278 ms, total: 7.52 s\n",
            "Wall time: 7.92 s\n"
          ]
        }
      ]
    },
    {
      "cell_type": "markdown",
      "source": [
        "## Evaluate model 3 on the test data (0.1304444670677185)\n"
      ],
      "metadata": {
        "id": "-jgONmcRXjbI"
      }
    },
    {
      "cell_type": "markdown",
      "source": [
        "In this iteration we get a result of 0.1304444670677185."
      ],
      "metadata": {
        "id": "_YwvSg5GggIg"
      }
    },
    {
      "cell_type": "code",
      "source": [
        "# We want to minimise this. The model with the lowest is the best.\n",
        "dnn_model_3_results = dnn_model_3.evaluate(test_features3, test_labels3, verbose=1)\n",
        "print(dnn_model_3_results)"
      ],
      "metadata": {
        "outputId": "5f3ff54a-e7b8-40c5-80be-ef38820c25cf",
        "colab": {
          "base_uri": "https://localhost:8080/"
        },
        "id": "vXpqFWDD40Vm"
      },
      "execution_count": 59,
      "outputs": [
        {
          "output_type": "stream",
          "name": "stdout",
          "text": [
            "6/6 [==============================] - 0s 2ms/step - loss: 0.1598\n",
            "0.15980640053749084\n"
          ]
        }
      ]
    },
    {
      "cell_type": "code",
      "source": [
        "#history3.history"
      ],
      "metadata": {
        "id": "17Vp4s0mS839"
      },
      "execution_count": 60,
      "outputs": []
    },
    {
      "cell_type": "markdown",
      "source": [
        "## Make predictions based on test data"
      ],
      "metadata": {
        "id": "KDT6lby1z3TI"
      }
    },
    {
      "cell_type": "code",
      "source": [
        "# Make the predictions by the model on tHE TEST data\n",
        "print(\"Generate predictions for 10 samples\")\n",
        "linear_day_predictions3TD = dnn_model_3.predict(test_features3[:10])*SCALE_NUM_COLLISIONS\n",
        "linear_day_predictions3TD\n",
        "#print(\"predictions shape:\", linear_day_predictions2TD.shape)"
      ],
      "metadata": {
        "colab": {
          "base_uri": "https://localhost:8080/"
        },
        "outputId": "272d9593-998d-446d-f062-1b2e4c55d4a0",
        "id": "GeT7c2Riz3TP"
      },
      "execution_count": 61,
      "outputs": [
        {
          "output_type": "stream",
          "name": "stdout",
          "text": [
            "Generate predictions for 10 samples\n",
            "1/1 [==============================] - 0s 71ms/step\n"
          ]
        },
        {
          "output_type": "execute_result",
          "data": {
            "text/plain": [
              "array([[0.6038289 ],\n",
              "       [0.7746661 ],\n",
              "       [0.6614747 ],\n",
              "       [0.67200875],\n",
              "       [0.73192966],\n",
              "       [0.42515486],\n",
              "       [0.6520885 ],\n",
              "       [0.70751685],\n",
              "       [0.40871564],\n",
              "       [0.7335808 ]], dtype=float32)"
            ]
          },
          "metadata": {},
          "execution_count": 61
        }
      ]
    },
    {
      "cell_type": "markdown",
      "source": [
        "#### Convert to collisions"
      ],
      "metadata": {
        "id": "J50s6wqw0IpF"
      }
    },
    {
      "cell_type": "code",
      "source": [
        "# Make the predictions by the model on the TEST DATA data and convert based on scaledCollisions for 2022\n",
        "linear_day_predictions3Converted = np.round(dnn_model_3.predict(test_features3[:10])*a22 +b22)\n",
        "#*a22 +b22 is is to convert scaled collisions based on the values for 2022\n",
        "linear_day_predictions3Converted"
      ],
      "metadata": {
        "colab": {
          "base_uri": "https://localhost:8080/"
        },
        "outputId": "541a62e2-2649-484d-b590-02ec443ef099",
        "id": "DPpFNhgNz3TP"
      },
      "execution_count": 62,
      "outputs": [
        {
          "output_type": "stream",
          "name": "stdout",
          "text": [
            "1/1 [==============================] - 0s 23ms/step\n"
          ]
        },
        {
          "output_type": "execute_result",
          "data": {
            "text/plain": [
              "array([[292.],\n",
              "       [323.],\n",
              "       [302.],\n",
              "       [304.],\n",
              "       [315.],\n",
              "       [259.],\n",
              "       [301.],\n",
              "       [311.],\n",
              "       [256.],\n",
              "       [316.]], dtype=float32)"
            ]
          },
          "metadata": {},
          "execution_count": 62
        }
      ]
    },
    {
      "cell_type": "markdown",
      "source": [
        "The above converted collision results are within a plausible range for the pattern for 2022 as an example."
      ],
      "metadata": {
        "id": "LFFe0TVBe92L"
      }
    },
    {
      "cell_type": "markdown",
      "source": [
        "## Compare the Model 3 prediction to the recorded values for collisions in the validation dataset"
      ],
      "metadata": {
        "id": "n-0zxPuOc5CC"
      }
    },
    {
      "cell_type": "markdown",
      "source": [
        "The results for the validation records improved for this model with differences of 10 and 11 between the predicted and recorded values."
      ],
      "metadata": {
        "id": "KKdAYRF-vi_i"
      }
    },
    {
      "cell_type": "markdown",
      "source": [
        "### Model 3 - Validation result 1"
      ],
      "metadata": {
        "id": "aoKCsXp8c5CS"
      }
    },
    {
      "cell_type": "markdown",
      "source": [
        "In an example, the difference between the predicted collisions and the collisions for the single matching record was 20."
      ],
      "metadata": {
        "id": "7mdi2m2nc5CS"
      }
    },
    {
      "cell_type": "code",
      "source": [
        "# The first 1 test values were\n",
        "#test_features3[:1]"
      ],
      "metadata": {
        "id": "-zAZs7bvc5CT"
      },
      "execution_count": 63,
      "outputs": []
    },
    {
      "cell_type": "code",
      "source": [
        "# select row(s) from the entire dataset that match the validation row\n",
        "#dfM31 = dfwc_DNN_mm_day_yr_temp_wind[dfwc_DNN_mm_day_yr_temp_wind.temperature ==2.3]\n",
        "#dfM31b = dfM31[dfM31.Sun == 1]\n",
        "#dfM31a = dfM31b[dfM31b.Nov == 1]"
      ],
      "metadata": {
        "id": "hvse1T5bc5CT"
      },
      "execution_count": 64,
      "outputs": []
    },
    {
      "cell_type": "code",
      "source": [
        "#print('\\nMatching record :\\n', dfM31a)"
      ],
      "metadata": {
        "id": "EXLNEN2yc5CT"
      },
      "execution_count": 65,
      "outputs": []
    },
    {
      "cell_type": "code",
      "source": [
        "# The matching year was 2021 (for scaled collision calculation values)\n",
        "#print('\\nPredicted collisions :\\n', np.round(linear_day_predictions3TD[0]*a21 +b21))\n",
        "#print('\\nRecorded collisions for matching record:\\n', dfM31a.num_collisions)\n",
        "#print('\\nDifference:\\n',  np.round((linear_day_predictions3TD[0]*a21 +b21)-dfM31a.num_collisions))"
      ],
      "metadata": {
        "id": "VKHiiCs9c5CU"
      },
      "execution_count": 66,
      "outputs": []
    },
    {
      "cell_type": "markdown",
      "source": [
        "### Model 3 - Validation result 2"
      ],
      "metadata": {
        "id": "Nm88ENd_c5CU"
      }
    },
    {
      "cell_type": "markdown",
      "source": [
        "This time there is a difference of 11 between the predicted and recorded collision values."
      ],
      "metadata": {
        "id": "ZvkRLcFXq7I6"
      }
    },
    {
      "cell_type": "code",
      "source": [
        "# The 2nd test values were\n",
        "#test_features3.iloc[1]"
      ],
      "metadata": {
        "id": "5WiCiOlMc5CV"
      },
      "execution_count": 67,
      "outputs": []
    },
    {
      "cell_type": "code",
      "source": [
        "# select row(s) from the entire dataset that match the validation row\n",
        "#dfM32 = dfwc_DNN_mm_day_yr_temp_wind[dfwc_DNN_mm_day_yr_temp_wind.temperature ==14.2]\n",
        "#dfM32b = dfM32[dfM32.Tue == 1]\n",
        "#dfM32a = dfM32b[dfM32b.Apr == 1]"
      ],
      "metadata": {
        "id": "En9vSSO2c5CV"
      },
      "execution_count": 68,
      "outputs": []
    },
    {
      "cell_type": "code",
      "source": [
        "#print('\\nMatching record(s):\\n', dfM32a)"
      ],
      "metadata": {
        "id": "QOzXhbrAc5CV"
      },
      "execution_count": 69,
      "outputs": []
    },
    {
      "cell_type": "code",
      "source": [
        "# matching years was 2021 (for scaled collision calculation values)\n",
        "#print('\\nPredicted collisions (based on 2021):\\n', np.round(linear_day_predictions2TD[1]*a21 +b21)) # 2021 scaled collisoins"
      ],
      "metadata": {
        "id": "Yl8-4wx9c5CV"
      },
      "execution_count": 70,
      "outputs": []
    },
    {
      "cell_type": "code",
      "source": [
        "# The matching year was 2021 (for scaled collision calculation values)\n",
        "#print('\\nPredicted collisions (Based on 2021):\\n', np.round(linear_day_predictions2TD[1]*a21 +b21))\n",
        "#print('\\nActual collisions for matching record:\\n', dfM32a.num_collisions)\n",
        "#print('\\nDifference:\\n', np.round(dfM32a.num_collisions- (linear_day_predictions2TD[1]*a21 +b21)))"
      ],
      "metadata": {
        "id": "fzK4fN-8c5CW"
      },
      "execution_count": 71,
      "outputs": []
    },
    {
      "cell_type": "markdown",
      "source": [
        "### Model 3 - Validation result 3"
      ],
      "metadata": {
        "id": "YNmdfn8Fc5CW"
      }
    },
    {
      "cell_type": "code",
      "source": [
        "# The 3rd test values were\n",
        "#test_features3.iloc[2]"
      ],
      "metadata": {
        "id": "ecITG4n1c5CX"
      },
      "execution_count": 72,
      "outputs": []
    },
    {
      "cell_type": "code",
      "source": [
        "# select row(s) from the entire dataset that match the validation row\n",
        "#dfM33 = dfwc_DNN_mm_day_yr_temp_wind[dfwc_DNN_mm_day_yr_temp_wind.temperature ==10.0]\n",
        "#dfM33b = dfM33[dfM33.Sat == 1]\n",
        "#dfM33a = dfM33b[dfM33b.Mar == 1]"
      ],
      "metadata": {
        "id": "ikzSPBl3c5CX"
      },
      "execution_count": 73,
      "outputs": []
    },
    {
      "cell_type": "code",
      "source": [
        "#print('\\nMatching record(s):\\n', dfM33a)"
      ],
      "metadata": {
        "id": "cL-8ECVrc5CX"
      },
      "execution_count": 74,
      "outputs": []
    },
    {
      "cell_type": "code",
      "source": [
        "# select row(s) from the entire dataset that match the validation row\n",
        "#dfM33aa = dfM33a[dfM33a.year ==2023]\n",
        "#dfM33ab = dfM33a[dfM33a.year ==2022]"
      ],
      "metadata": {
        "id": "VRYsZZOa1dTY"
      },
      "execution_count": 75,
      "outputs": []
    },
    {
      "cell_type": "code",
      "source": [
        "# There are 2 matching years (for scaled collision calculation values)\n",
        "#print('\\nActual collisions for matching records:\\n', dfM33a.num_collisions)\n",
        "#print('\\nPredicted collisions based on 2022:\\n', np.round(linear_day_predictions3TD[2]*a22 +b22))\n",
        "#print('\\nDifference (based on 2022):\\n',  np.round((linear_day_predictions3TD[2]*a22 +b22)-dfM33ab.num_collisions))\n",
        "#print('\\nPredicted collisions based on 2023:\\n', np.round(linear_day_predictions3TD[2]*a23 +b23))\n",
        "#print('\\nDifference (based on 2023):\\n',  np.round((linear_day_predictions3TD[2]*a22 +b22)-dfM33aa.num_collisions))\n"
      ],
      "metadata": {
        "id": "W3IB30CStFQ3"
      },
      "execution_count": 76,
      "outputs": []
    },
    {
      "cell_type": "markdown",
      "source": [
        "## Hypothectical data"
      ],
      "metadata": {
        "id": "icXZ-AFTe3wn"
      }
    },
    {
      "cell_type": "code",
      "metadata": {
        "id": "Qgj9WgXB40Vm"
      },
      "source": [
        "# make sure the labels match up with the dataframe from earlier.\n",
        "input_3 = pd.DataFrame.from_dict(data =\n",
        "\n",
        "\t\t{\n",
        "         'temperature' : [6, 19, 23],\n",
        "         'Sat' : [0,0,0],\n",
        "         'Sun' : [0,0,0],\n",
        "         'Mon' : [1,1,1],\n",
        "         'Tue' : [0,0,0],\n",
        "         'Wed' : [0,0,0],\n",
        "         'Thur' : [0,0,0],\n",
        "         'Fri' : [0,0,0],\n",
        "          'Jan' : [0,1,0],\n",
        "         'Feb' : [0,0,0],\n",
        "         'Mar' : [0,0,0],\n",
        "         'Apr' : [0,0,0],\n",
        "         'May' : [0,1,0],\n",
        "         'Jun' : [0,0,0],\n",
        "         'Jul' : [0,0,0],\n",
        "         'Aug' : [0,0,1],\n",
        "         'Sep' : [0,0,0],\n",
        "         'Oct' : [0,0,0],\n",
        "         'Nov' : [0,0,0],\n",
        "         'Dec' : [0,0,0]\n",
        "        })\n"
      ],
      "execution_count": 77,
      "outputs": []
    },
    {
      "cell_type": "code",
      "source": [
        "# Make the predictions by the model on the hypothetical data\n",
        "linear_day_predictions3 = dnn_model_3.predict(input_3[:3])*SCALE_NUM_COLLISIONS\n",
        "linear_day_predictions3"
      ],
      "metadata": {
        "outputId": "9bcf90e8-55ff-478b-cae9-19248b7f0ef4",
        "colab": {
          "base_uri": "https://localhost:8080/"
        },
        "id": "pnIBkvQQ40Vn"
      },
      "execution_count": 78,
      "outputs": [
        {
          "output_type": "stream",
          "name": "stdout",
          "text": [
            "1/1 [==============================] - 0s 65ms/step\n"
          ]
        },
        {
          "output_type": "execute_result",
          "data": {
            "text/plain": [
              "array([[0.29337198],\n",
              "       [0.6661152 ],\n",
              "       [0.4017328 ]], dtype=float32)"
            ]
          },
          "metadata": {},
          "execution_count": 78
        }
      ]
    },
    {
      "cell_type": "markdown",
      "source": [
        "#### Convert results for hypothetical data to collisions based on scaledCollisions for 2022"
      ],
      "metadata": {
        "id": "hYgLWtlGe91j"
      }
    },
    {
      "cell_type": "code",
      "source": [
        "linear_day_predictions3Converted = dnn_model_3.predict(input_3[:3])*a22 +b22\n",
        "#*a22 +b22 is is to convert scaled collisions based on the values for 2022\n",
        "linear_day_predictions3Converted"
      ],
      "metadata": {
        "colab": {
          "base_uri": "https://localhost:8080/"
        },
        "outputId": "9837d2bd-e741-42c7-a2d1-9a3fbcc22371",
        "id": "oPh48-npe92K"
      },
      "execution_count": 79,
      "outputs": [
        {
          "output_type": "stream",
          "name": "stdout",
          "text": [
            "1/1 [==============================] - 0s 21ms/step\n"
          ]
        },
        {
          "output_type": "execute_result",
          "data": {
            "text/plain": [
              "array([[234.27382],\n",
              "       [303.23132],\n",
              "       [254.32057]], dtype=float32)"
            ]
          },
          "metadata": {},
          "execution_count": 79
        }
      ]
    },
    {
      "cell_type": "markdown",
      "source": [
        "# Model 1 DNN dataset - one-hot encoded month, days of week with temperature and wind speed"
      ],
      "metadata": {
        "id": "Km5go3lMxJQK"
      }
    },
    {
      "cell_type": "code",
      "source": [
        "# remove some columns for this model\n",
        "dfwc_DNN_dow_temp_mon_wnd = dfwc_DNN_mm_day_yr_temp_wind.drop(\n",
        "    columns=[ 'num_collisions', 'year' #'No.Snow','Snow','No.fog','Fog','Calm','Gentle_breeze','Light_air','Light_breeze','Moderate_breeze','Cold','Freezing.or.below','Hot','Mild','Very.warm','Warm','One','Ten','Three','Four','Five','Six','Seven','Eight','Nine','Dark.orange','Green','Light.blue','Light.green','Light.orange','Red','White','Yellow'\n",
        "             ])"
      ],
      "metadata": {
        "id": "D1xMzn2SQERS"
      },
      "execution_count": 80,
      "outputs": []
    },
    {
      "cell_type": "code",
      "source": [
        "# check data - DNN data set to include months, daysofweek, temperature, scaledCollisions. Added num_collisions as a comparison reference also)\n",
        "dfwc_DNN_dow_temp_mon_wnd[:5]"
      ],
      "metadata": {
        "colab": {
          "base_uri": "https://localhost:8080/",
          "height": 299
        },
        "id": "0m_PgewX9KHE",
        "outputId": "9c234903-e366-477d-e134-5c5922f22287"
      },
      "execution_count": 81,
      "outputs": [
        {
          "output_type": "execute_result",
          "data": {
            "text/plain": [
              "     Apr  Aug  Dec  Feb  Jan  Jul  Jun  Mar  May  Nov  ...  Fri  Mon  Sat  \\\n",
              "509    0    0    0    0    0    0    1    0    0    0  ...    0    0    0   \n",
              "291    0    0    0    0    0    0    0    0    0    0  ...    0    0    1   \n",
              "319    0    0    0    0    0    0    0    0    0    1  ...    0    0    1   \n",
              "260    0    0    0    0    0    0    0    0    0    0  ...    0    0    0   \n",
              "303    0    0    0    0    0    0    0    0    0    1  ...    0    0    0   \n",
              "\n",
              "     Sun  Thur  Tue  Wed  temperature  wind_speed  scaledCollisions  \n",
              "509    0     0    1    0         20.8         5.0          0.686486  \n",
              "291    0     0    0    0         14.1         6.3          0.823529  \n",
              "319    0     0    0    0          2.6         8.4          0.392157  \n",
              "260    0     0    1    0         20.4         8.8          0.549020  \n",
              "303    0     1    0    0         11.3         3.2          0.529412  \n",
              "\n",
              "[5 rows x 22 columns]"
            ],
            "text/html": [
              "\n",
              "\n",
              "  <div id=\"df-678ab52a-ae4b-4419-8b37-ce58cd6c41ff\">\n",
              "    <div class=\"colab-df-container\">\n",
              "      <div>\n",
              "<style scoped>\n",
              "    .dataframe tbody tr th:only-of-type {\n",
              "        vertical-align: middle;\n",
              "    }\n",
              "\n",
              "    .dataframe tbody tr th {\n",
              "        vertical-align: top;\n",
              "    }\n",
              "\n",
              "    .dataframe thead th {\n",
              "        text-align: right;\n",
              "    }\n",
              "</style>\n",
              "<table border=\"1\" class=\"dataframe\">\n",
              "  <thead>\n",
              "    <tr style=\"text-align: right;\">\n",
              "      <th></th>\n",
              "      <th>Apr</th>\n",
              "      <th>Aug</th>\n",
              "      <th>Dec</th>\n",
              "      <th>Feb</th>\n",
              "      <th>Jan</th>\n",
              "      <th>Jul</th>\n",
              "      <th>Jun</th>\n",
              "      <th>Mar</th>\n",
              "      <th>May</th>\n",
              "      <th>Nov</th>\n",
              "      <th>...</th>\n",
              "      <th>Fri</th>\n",
              "      <th>Mon</th>\n",
              "      <th>Sat</th>\n",
              "      <th>Sun</th>\n",
              "      <th>Thur</th>\n",
              "      <th>Tue</th>\n",
              "      <th>Wed</th>\n",
              "      <th>temperature</th>\n",
              "      <th>wind_speed</th>\n",
              "      <th>scaledCollisions</th>\n",
              "    </tr>\n",
              "  </thead>\n",
              "  <tbody>\n",
              "    <tr>\n",
              "      <th>509</th>\n",
              "      <td>0</td>\n",
              "      <td>0</td>\n",
              "      <td>0</td>\n",
              "      <td>0</td>\n",
              "      <td>0</td>\n",
              "      <td>0</td>\n",
              "      <td>1</td>\n",
              "      <td>0</td>\n",
              "      <td>0</td>\n",
              "      <td>0</td>\n",
              "      <td>...</td>\n",
              "      <td>0</td>\n",
              "      <td>0</td>\n",
              "      <td>0</td>\n",
              "      <td>0</td>\n",
              "      <td>0</td>\n",
              "      <td>1</td>\n",
              "      <td>0</td>\n",
              "      <td>20.8</td>\n",
              "      <td>5.0</td>\n",
              "      <td>0.686486</td>\n",
              "    </tr>\n",
              "    <tr>\n",
              "      <th>291</th>\n",
              "      <td>0</td>\n",
              "      <td>0</td>\n",
              "      <td>0</td>\n",
              "      <td>0</td>\n",
              "      <td>0</td>\n",
              "      <td>0</td>\n",
              "      <td>0</td>\n",
              "      <td>0</td>\n",
              "      <td>0</td>\n",
              "      <td>0</td>\n",
              "      <td>...</td>\n",
              "      <td>0</td>\n",
              "      <td>0</td>\n",
              "      <td>1</td>\n",
              "      <td>0</td>\n",
              "      <td>0</td>\n",
              "      <td>0</td>\n",
              "      <td>0</td>\n",
              "      <td>14.1</td>\n",
              "      <td>6.3</td>\n",
              "      <td>0.823529</td>\n",
              "    </tr>\n",
              "    <tr>\n",
              "      <th>319</th>\n",
              "      <td>0</td>\n",
              "      <td>0</td>\n",
              "      <td>0</td>\n",
              "      <td>0</td>\n",
              "      <td>0</td>\n",
              "      <td>0</td>\n",
              "      <td>0</td>\n",
              "      <td>0</td>\n",
              "      <td>0</td>\n",
              "      <td>1</td>\n",
              "      <td>...</td>\n",
              "      <td>0</td>\n",
              "      <td>0</td>\n",
              "      <td>1</td>\n",
              "      <td>0</td>\n",
              "      <td>0</td>\n",
              "      <td>0</td>\n",
              "      <td>0</td>\n",
              "      <td>2.6</td>\n",
              "      <td>8.4</td>\n",
              "      <td>0.392157</td>\n",
              "    </tr>\n",
              "    <tr>\n",
              "      <th>260</th>\n",
              "      <td>0</td>\n",
              "      <td>0</td>\n",
              "      <td>0</td>\n",
              "      <td>0</td>\n",
              "      <td>0</td>\n",
              "      <td>0</td>\n",
              "      <td>0</td>\n",
              "      <td>0</td>\n",
              "      <td>0</td>\n",
              "      <td>0</td>\n",
              "      <td>...</td>\n",
              "      <td>0</td>\n",
              "      <td>0</td>\n",
              "      <td>0</td>\n",
              "      <td>0</td>\n",
              "      <td>0</td>\n",
              "      <td>1</td>\n",
              "      <td>0</td>\n",
              "      <td>20.4</td>\n",
              "      <td>8.8</td>\n",
              "      <td>0.549020</td>\n",
              "    </tr>\n",
              "    <tr>\n",
              "      <th>303</th>\n",
              "      <td>0</td>\n",
              "      <td>0</td>\n",
              "      <td>0</td>\n",
              "      <td>0</td>\n",
              "      <td>0</td>\n",
              "      <td>0</td>\n",
              "      <td>0</td>\n",
              "      <td>0</td>\n",
              "      <td>0</td>\n",
              "      <td>1</td>\n",
              "      <td>...</td>\n",
              "      <td>0</td>\n",
              "      <td>0</td>\n",
              "      <td>0</td>\n",
              "      <td>0</td>\n",
              "      <td>1</td>\n",
              "      <td>0</td>\n",
              "      <td>0</td>\n",
              "      <td>11.3</td>\n",
              "      <td>3.2</td>\n",
              "      <td>0.529412</td>\n",
              "    </tr>\n",
              "  </tbody>\n",
              "</table>\n",
              "<p>5 rows × 22 columns</p>\n",
              "</div>\n",
              "      <button class=\"colab-df-convert\" onclick=\"convertToInteractive('df-678ab52a-ae4b-4419-8b37-ce58cd6c41ff')\"\n",
              "              title=\"Convert this dataframe to an interactive table.\"\n",
              "              style=\"display:none;\">\n",
              "\n",
              "  <svg xmlns=\"http://www.w3.org/2000/svg\" height=\"24px\"viewBox=\"0 0 24 24\"\n",
              "       width=\"24px\">\n",
              "    <path d=\"M0 0h24v24H0V0z\" fill=\"none\"/>\n",
              "    <path d=\"M18.56 5.44l.94 2.06.94-2.06 2.06-.94-2.06-.94-.94-2.06-.94 2.06-2.06.94zm-11 1L8.5 8.5l.94-2.06 2.06-.94-2.06-.94L8.5 2.5l-.94 2.06-2.06.94zm10 10l.94 2.06.94-2.06 2.06-.94-2.06-.94-.94-2.06-.94 2.06-2.06.94z\"/><path d=\"M17.41 7.96l-1.37-1.37c-.4-.4-.92-.59-1.43-.59-.52 0-1.04.2-1.43.59L10.3 9.45l-7.72 7.72c-.78.78-.78 2.05 0 2.83L4 21.41c.39.39.9.59 1.41.59.51 0 1.02-.2 1.41-.59l7.78-7.78 2.81-2.81c.8-.78.8-2.07 0-2.86zM5.41 20L4 18.59l7.72-7.72 1.47 1.35L5.41 20z\"/>\n",
              "  </svg>\n",
              "      </button>\n",
              "\n",
              "\n",
              "\n",
              "    <div id=\"df-06f7b390-c8b0-4322-b8a0-d6b189068a30\">\n",
              "      <button class=\"colab-df-quickchart\" onclick=\"quickchart('df-06f7b390-c8b0-4322-b8a0-d6b189068a30')\"\n",
              "              title=\"Suggest charts.\"\n",
              "              style=\"display:none;\">\n",
              "\n",
              "<svg xmlns=\"http://www.w3.org/2000/svg\" height=\"24px\"viewBox=\"0 0 24 24\"\n",
              "     width=\"24px\">\n",
              "    <g>\n",
              "        <path d=\"M19 3H5c-1.1 0-2 .9-2 2v14c0 1.1.9 2 2 2h14c1.1 0 2-.9 2-2V5c0-1.1-.9-2-2-2zM9 17H7v-7h2v7zm4 0h-2V7h2v10zm4 0h-2v-4h2v4z\"/>\n",
              "    </g>\n",
              "</svg>\n",
              "      </button>\n",
              "    </div>\n",
              "\n",
              "<style>\n",
              "  .colab-df-quickchart {\n",
              "    background-color: #E8F0FE;\n",
              "    border: none;\n",
              "    border-radius: 50%;\n",
              "    cursor: pointer;\n",
              "    display: none;\n",
              "    fill: #1967D2;\n",
              "    height: 32px;\n",
              "    padding: 0 0 0 0;\n",
              "    width: 32px;\n",
              "  }\n",
              "\n",
              "  .colab-df-quickchart:hover {\n",
              "    background-color: #E2EBFA;\n",
              "    box-shadow: 0px 1px 2px rgba(60, 64, 67, 0.3), 0px 1px 3px 1px rgba(60, 64, 67, 0.15);\n",
              "    fill: #174EA6;\n",
              "  }\n",
              "\n",
              "  [theme=dark] .colab-df-quickchart {\n",
              "    background-color: #3B4455;\n",
              "    fill: #D2E3FC;\n",
              "  }\n",
              "\n",
              "  [theme=dark] .colab-df-quickchart:hover {\n",
              "    background-color: #434B5C;\n",
              "    box-shadow: 0px 1px 3px 1px rgba(0, 0, 0, 0.15);\n",
              "    filter: drop-shadow(0px 1px 2px rgba(0, 0, 0, 0.3));\n",
              "    fill: #FFFFFF;\n",
              "  }\n",
              "</style>\n",
              "\n",
              "    <script>\n",
              "      async function quickchart(key) {\n",
              "        const containerElement = document.querySelector('#' + key);\n",
              "        const charts = await google.colab.kernel.invokeFunction(\n",
              "            'suggestCharts', [key], {});\n",
              "      }\n",
              "    </script>\n",
              "\n",
              "      <script>\n",
              "\n",
              "function displayQuickchartButton(domScope) {\n",
              "  let quickchartButtonEl =\n",
              "    domScope.querySelector('#df-06f7b390-c8b0-4322-b8a0-d6b189068a30 button.colab-df-quickchart');\n",
              "  quickchartButtonEl.style.display =\n",
              "    google.colab.kernel.accessAllowed ? 'block' : 'none';\n",
              "}\n",
              "\n",
              "        displayQuickchartButton(document);\n",
              "      </script>\n",
              "      <style>\n",
              "    .colab-df-container {\n",
              "      display:flex;\n",
              "      flex-wrap:wrap;\n",
              "      gap: 12px;\n",
              "    }\n",
              "\n",
              "    .colab-df-convert {\n",
              "      background-color: #E8F0FE;\n",
              "      border: none;\n",
              "      border-radius: 50%;\n",
              "      cursor: pointer;\n",
              "      display: none;\n",
              "      fill: #1967D2;\n",
              "      height: 32px;\n",
              "      padding: 0 0 0 0;\n",
              "      width: 32px;\n",
              "    }\n",
              "\n",
              "    .colab-df-convert:hover {\n",
              "      background-color: #E2EBFA;\n",
              "      box-shadow: 0px 1px 2px rgba(60, 64, 67, 0.3), 0px 1px 3px 1px rgba(60, 64, 67, 0.15);\n",
              "      fill: #174EA6;\n",
              "    }\n",
              "\n",
              "    [theme=dark] .colab-df-convert {\n",
              "      background-color: #3B4455;\n",
              "      fill: #D2E3FC;\n",
              "    }\n",
              "\n",
              "    [theme=dark] .colab-df-convert:hover {\n",
              "      background-color: #434B5C;\n",
              "      box-shadow: 0px 1px 3px 1px rgba(0, 0, 0, 0.15);\n",
              "      filter: drop-shadow(0px 1px 2px rgba(0, 0, 0, 0.3));\n",
              "      fill: #FFFFFF;\n",
              "    }\n",
              "  </style>\n",
              "\n",
              "      <script>\n",
              "        const buttonEl =\n",
              "          document.querySelector('#df-678ab52a-ae4b-4419-8b37-ce58cd6c41ff button.colab-df-convert');\n",
              "        buttonEl.style.display =\n",
              "          google.colab.kernel.accessAllowed ? 'block' : 'none';\n",
              "\n",
              "        async function convertToInteractive(key) {\n",
              "          const element = document.querySelector('#df-678ab52a-ae4b-4419-8b37-ce58cd6c41ff');\n",
              "          const dataTable =\n",
              "            await google.colab.kernel.invokeFunction('convertToInteractive',\n",
              "                                                     [key], {});\n",
              "          if (!dataTable) return;\n",
              "\n",
              "          const docLinkHtml = 'Like what you see? Visit the ' +\n",
              "            '<a target=\"_blank\" href=https://colab.research.google.com/notebooks/data_table.ipynb>data table notebook</a>'\n",
              "            + ' to learn more about interactive tables.';\n",
              "          element.innerHTML = '';\n",
              "          dataTable['output_type'] = 'display_data';\n",
              "          await google.colab.output.renderOutput(dataTable, element);\n",
              "          const docLink = document.createElement('div');\n",
              "          docLink.innerHTML = docLinkHtml;\n",
              "          element.appendChild(docLink);\n",
              "        }\n",
              "      </script>\n",
              "    </div>\n",
              "  </div>\n"
            ]
          },
          "metadata": {},
          "execution_count": 81
        }
      ]
    },
    {
      "cell_type": "markdown",
      "source": [
        "### View the columns"
      ],
      "metadata": {
        "id": "tlMwoumiqpZD"
      }
    },
    {
      "cell_type": "code",
      "source": [
        "# iterating the columns\n",
        "for col in dfwc_DNN_dow_temp_mon_wnd.columns:\n",
        "    print(col)\n",
        "# This one has month, day of week, year, temperature, wind speed, num_trips"
      ],
      "metadata": {
        "colab": {
          "base_uri": "https://localhost:8080/"
        },
        "id": "u1QJmPbn9QS5",
        "outputId": "6201d590-0f8f-40b6-e11f-298595496c5a"
      },
      "execution_count": 82,
      "outputs": [
        {
          "output_type": "stream",
          "name": "stdout",
          "text": [
            "Apr\n",
            "Aug\n",
            "Dec\n",
            "Feb\n",
            "Jan\n",
            "Jul\n",
            "Jun\n",
            "Mar\n",
            "May\n",
            "Nov\n",
            "Oct\n",
            "Sep\n",
            "Fri\n",
            "Mon\n",
            "Sat\n",
            "Sun\n",
            "Thur\n",
            "Tue\n",
            "Wed\n",
            "temperature\n",
            "wind_speed\n",
            "scaledCollisions\n"
          ]
        }
      ]
    },
    {
      "cell_type": "code",
      "metadata": {
        "id": "ltGRAo1hvO8I"
      },
      "source": [
        "dfwc_dnn_dow_temp_mon_wnd_input_data = [\n",
        "                  dfwc_DNN_dow_temp_mon_wnd[\"temperature\"],\n",
        "                  dfwc_DNN_dow_temp_mon_wnd[\"wind_speed\"],\n",
        "                  dfwc_DNN_dow_temp_mon_wnd[\"Sat\"], dfwc_DNN_dow_temp_mon_wnd[\"Sun\"], dfwc_DNN_dow_temp_mon_wnd[\"Mon\"], dfwc_DNN_dow_temp_mon_wnd[\"Tue\"], dfwc_DNN_dow_temp_mon_wnd[\"Wed\"], dfwc_DNN_dow_temp_mon_wnd[\"Thur\"], dfwc_DNN_dow_temp_mon_wnd[\"Fri\"],\n",
        "                  dfwc_DNN_dow_temp_mon_wnd[\"Jan\"], dfwc_DNN_dow_temp_mon_wnd[\"Feb\"], dfwc_DNN_dow_temp_mon_wnd[\"Mar\"], dfwc_DNN_dow_temp_mon_wnd[\"Apr\"], dfwc_DNN_dow_temp_mon_wnd[\"May\"], dfwc_DNN_dow_temp_mon_wnd[\"Jun\"], dfwc_DNN_dow_temp_mon_wnd[\"Jul\"], dfwc_DNN_dow_temp_mon_wnd[\"Aug\"], dfwc_DNN_dow_temp_mon_wnd[\"Sep\"], dfwc_DNN_dow_temp_mon_wnd[\"Oct\"], dfwc_DNN_dow_temp_mon_wnd[\"Nov\"], dfwc_DNN_dow_temp_mon_wnd[\"Dec\"],\n",
        "                  dfwc_DNN_dow_temp_mon_wnd[\"scaledCollisions\"]]\n",
        "headers1 = [\"temperature\", \"wind_speed\", \"Sat\",\"Sun\",\"Mon\",\"Tue\",\"Wed\",\"Thur\",\"Fri\",\"Jan\",\"Feb\",\"Mar\",\"Apr\",\"May\",\"Jun\",\"Jul\",\"Aug\",\"Sep\",\"Oct\",\"Nov\",\"Dec\",\n",
        "           \"scaledCollisions\"]\n",
        "dfwc_dnn_dow_temp_mon_wnd_input = pd.concat(dfwc_dnn_dow_temp_mon_wnd_input_data, axis=1, keys=headers1)\n"
      ],
      "execution_count": 83,
      "outputs": []
    },
    {
      "cell_type": "code",
      "source": [
        "dfwc_dnn_dow_temp_mon_wnd_input.head()"
      ],
      "metadata": {
        "colab": {
          "base_uri": "https://localhost:8080/",
          "height": 299
        },
        "id": "YxFvmDyfPH-J",
        "outputId": "fa279da1-4a91-42ea-8857-49f9f9d58965"
      },
      "execution_count": 84,
      "outputs": [
        {
          "output_type": "execute_result",
          "data": {
            "text/plain": [
              "     temperature  wind_speed  Sat  Sun  Mon  Tue  Wed  Thur  Fri  Jan  ...  \\\n",
              "509         20.8         5.0    0    0    0    1    0     0    0    0  ...   \n",
              "291         14.1         6.3    1    0    0    0    0     0    0    0  ...   \n",
              "319          2.6         8.4    1    0    0    0    0     0    0    0  ...   \n",
              "260         20.4         8.8    0    0    0    1    0     0    0    0  ...   \n",
              "303         11.3         3.2    0    0    0    0    0     1    0    0  ...   \n",
              "\n",
              "     Apr  May  Jun  Jul  Aug  Sep  Oct  Nov  Dec  scaledCollisions  \n",
              "509    0    0    1    0    0    0    0    0    0          0.686486  \n",
              "291    0    0    0    0    0    0    1    0    0          0.823529  \n",
              "319    0    0    0    0    0    0    0    1    0          0.392157  \n",
              "260    0    0    0    0    0    1    0    0    0          0.549020  \n",
              "303    0    0    0    0    0    0    0    1    0          0.529412  \n",
              "\n",
              "[5 rows x 22 columns]"
            ],
            "text/html": [
              "\n",
              "\n",
              "  <div id=\"df-cc0b7ef5-8148-4585-827c-7b213a863ad9\">\n",
              "    <div class=\"colab-df-container\">\n",
              "      <div>\n",
              "<style scoped>\n",
              "    .dataframe tbody tr th:only-of-type {\n",
              "        vertical-align: middle;\n",
              "    }\n",
              "\n",
              "    .dataframe tbody tr th {\n",
              "        vertical-align: top;\n",
              "    }\n",
              "\n",
              "    .dataframe thead th {\n",
              "        text-align: right;\n",
              "    }\n",
              "</style>\n",
              "<table border=\"1\" class=\"dataframe\">\n",
              "  <thead>\n",
              "    <tr style=\"text-align: right;\">\n",
              "      <th></th>\n",
              "      <th>temperature</th>\n",
              "      <th>wind_speed</th>\n",
              "      <th>Sat</th>\n",
              "      <th>Sun</th>\n",
              "      <th>Mon</th>\n",
              "      <th>Tue</th>\n",
              "      <th>Wed</th>\n",
              "      <th>Thur</th>\n",
              "      <th>Fri</th>\n",
              "      <th>Jan</th>\n",
              "      <th>...</th>\n",
              "      <th>Apr</th>\n",
              "      <th>May</th>\n",
              "      <th>Jun</th>\n",
              "      <th>Jul</th>\n",
              "      <th>Aug</th>\n",
              "      <th>Sep</th>\n",
              "      <th>Oct</th>\n",
              "      <th>Nov</th>\n",
              "      <th>Dec</th>\n",
              "      <th>scaledCollisions</th>\n",
              "    </tr>\n",
              "  </thead>\n",
              "  <tbody>\n",
              "    <tr>\n",
              "      <th>509</th>\n",
              "      <td>20.8</td>\n",
              "      <td>5.0</td>\n",
              "      <td>0</td>\n",
              "      <td>0</td>\n",
              "      <td>0</td>\n",
              "      <td>1</td>\n",
              "      <td>0</td>\n",
              "      <td>0</td>\n",
              "      <td>0</td>\n",
              "      <td>0</td>\n",
              "      <td>...</td>\n",
              "      <td>0</td>\n",
              "      <td>0</td>\n",
              "      <td>1</td>\n",
              "      <td>0</td>\n",
              "      <td>0</td>\n",
              "      <td>0</td>\n",
              "      <td>0</td>\n",
              "      <td>0</td>\n",
              "      <td>0</td>\n",
              "      <td>0.686486</td>\n",
              "    </tr>\n",
              "    <tr>\n",
              "      <th>291</th>\n",
              "      <td>14.1</td>\n",
              "      <td>6.3</td>\n",
              "      <td>1</td>\n",
              "      <td>0</td>\n",
              "      <td>0</td>\n",
              "      <td>0</td>\n",
              "      <td>0</td>\n",
              "      <td>0</td>\n",
              "      <td>0</td>\n",
              "      <td>0</td>\n",
              "      <td>...</td>\n",
              "      <td>0</td>\n",
              "      <td>0</td>\n",
              "      <td>0</td>\n",
              "      <td>0</td>\n",
              "      <td>0</td>\n",
              "      <td>0</td>\n",
              "      <td>1</td>\n",
              "      <td>0</td>\n",
              "      <td>0</td>\n",
              "      <td>0.823529</td>\n",
              "    </tr>\n",
              "    <tr>\n",
              "      <th>319</th>\n",
              "      <td>2.6</td>\n",
              "      <td>8.4</td>\n",
              "      <td>1</td>\n",
              "      <td>0</td>\n",
              "      <td>0</td>\n",
              "      <td>0</td>\n",
              "      <td>0</td>\n",
              "      <td>0</td>\n",
              "      <td>0</td>\n",
              "      <td>0</td>\n",
              "      <td>...</td>\n",
              "      <td>0</td>\n",
              "      <td>0</td>\n",
              "      <td>0</td>\n",
              "      <td>0</td>\n",
              "      <td>0</td>\n",
              "      <td>0</td>\n",
              "      <td>0</td>\n",
              "      <td>1</td>\n",
              "      <td>0</td>\n",
              "      <td>0.392157</td>\n",
              "    </tr>\n",
              "    <tr>\n",
              "      <th>260</th>\n",
              "      <td>20.4</td>\n",
              "      <td>8.8</td>\n",
              "      <td>0</td>\n",
              "      <td>0</td>\n",
              "      <td>0</td>\n",
              "      <td>1</td>\n",
              "      <td>0</td>\n",
              "      <td>0</td>\n",
              "      <td>0</td>\n",
              "      <td>0</td>\n",
              "      <td>...</td>\n",
              "      <td>0</td>\n",
              "      <td>0</td>\n",
              "      <td>0</td>\n",
              "      <td>0</td>\n",
              "      <td>0</td>\n",
              "      <td>1</td>\n",
              "      <td>0</td>\n",
              "      <td>0</td>\n",
              "      <td>0</td>\n",
              "      <td>0.549020</td>\n",
              "    </tr>\n",
              "    <tr>\n",
              "      <th>303</th>\n",
              "      <td>11.3</td>\n",
              "      <td>3.2</td>\n",
              "      <td>0</td>\n",
              "      <td>0</td>\n",
              "      <td>0</td>\n",
              "      <td>0</td>\n",
              "      <td>0</td>\n",
              "      <td>1</td>\n",
              "      <td>0</td>\n",
              "      <td>0</td>\n",
              "      <td>...</td>\n",
              "      <td>0</td>\n",
              "      <td>0</td>\n",
              "      <td>0</td>\n",
              "      <td>0</td>\n",
              "      <td>0</td>\n",
              "      <td>0</td>\n",
              "      <td>0</td>\n",
              "      <td>1</td>\n",
              "      <td>0</td>\n",
              "      <td>0.529412</td>\n",
              "    </tr>\n",
              "  </tbody>\n",
              "</table>\n",
              "<p>5 rows × 22 columns</p>\n",
              "</div>\n",
              "      <button class=\"colab-df-convert\" onclick=\"convertToInteractive('df-cc0b7ef5-8148-4585-827c-7b213a863ad9')\"\n",
              "              title=\"Convert this dataframe to an interactive table.\"\n",
              "              style=\"display:none;\">\n",
              "\n",
              "  <svg xmlns=\"http://www.w3.org/2000/svg\" height=\"24px\"viewBox=\"0 0 24 24\"\n",
              "       width=\"24px\">\n",
              "    <path d=\"M0 0h24v24H0V0z\" fill=\"none\"/>\n",
              "    <path d=\"M18.56 5.44l.94 2.06.94-2.06 2.06-.94-2.06-.94-.94-2.06-.94 2.06-2.06.94zm-11 1L8.5 8.5l.94-2.06 2.06-.94-2.06-.94L8.5 2.5l-.94 2.06-2.06.94zm10 10l.94 2.06.94-2.06 2.06-.94-2.06-.94-.94-2.06-.94 2.06-2.06.94z\"/><path d=\"M17.41 7.96l-1.37-1.37c-.4-.4-.92-.59-1.43-.59-.52 0-1.04.2-1.43.59L10.3 9.45l-7.72 7.72c-.78.78-.78 2.05 0 2.83L4 21.41c.39.39.9.59 1.41.59.51 0 1.02-.2 1.41-.59l7.78-7.78 2.81-2.81c.8-.78.8-2.07 0-2.86zM5.41 20L4 18.59l7.72-7.72 1.47 1.35L5.41 20z\"/>\n",
              "  </svg>\n",
              "      </button>\n",
              "\n",
              "\n",
              "\n",
              "    <div id=\"df-461e3a45-a569-47a3-9e35-7d7312213e43\">\n",
              "      <button class=\"colab-df-quickchart\" onclick=\"quickchart('df-461e3a45-a569-47a3-9e35-7d7312213e43')\"\n",
              "              title=\"Suggest charts.\"\n",
              "              style=\"display:none;\">\n",
              "\n",
              "<svg xmlns=\"http://www.w3.org/2000/svg\" height=\"24px\"viewBox=\"0 0 24 24\"\n",
              "     width=\"24px\">\n",
              "    <g>\n",
              "        <path d=\"M19 3H5c-1.1 0-2 .9-2 2v14c0 1.1.9 2 2 2h14c1.1 0 2-.9 2-2V5c0-1.1-.9-2-2-2zM9 17H7v-7h2v7zm4 0h-2V7h2v10zm4 0h-2v-4h2v4z\"/>\n",
              "    </g>\n",
              "</svg>\n",
              "      </button>\n",
              "    </div>\n",
              "\n",
              "<style>\n",
              "  .colab-df-quickchart {\n",
              "    background-color: #E8F0FE;\n",
              "    border: none;\n",
              "    border-radius: 50%;\n",
              "    cursor: pointer;\n",
              "    display: none;\n",
              "    fill: #1967D2;\n",
              "    height: 32px;\n",
              "    padding: 0 0 0 0;\n",
              "    width: 32px;\n",
              "  }\n",
              "\n",
              "  .colab-df-quickchart:hover {\n",
              "    background-color: #E2EBFA;\n",
              "    box-shadow: 0px 1px 2px rgba(60, 64, 67, 0.3), 0px 1px 3px 1px rgba(60, 64, 67, 0.15);\n",
              "    fill: #174EA6;\n",
              "  }\n",
              "\n",
              "  [theme=dark] .colab-df-quickchart {\n",
              "    background-color: #3B4455;\n",
              "    fill: #D2E3FC;\n",
              "  }\n",
              "\n",
              "  [theme=dark] .colab-df-quickchart:hover {\n",
              "    background-color: #434B5C;\n",
              "    box-shadow: 0px 1px 3px 1px rgba(0, 0, 0, 0.15);\n",
              "    filter: drop-shadow(0px 1px 2px rgba(0, 0, 0, 0.3));\n",
              "    fill: #FFFFFF;\n",
              "  }\n",
              "</style>\n",
              "\n",
              "    <script>\n",
              "      async function quickchart(key) {\n",
              "        const containerElement = document.querySelector('#' + key);\n",
              "        const charts = await google.colab.kernel.invokeFunction(\n",
              "            'suggestCharts', [key], {});\n",
              "      }\n",
              "    </script>\n",
              "\n",
              "      <script>\n",
              "\n",
              "function displayQuickchartButton(domScope) {\n",
              "  let quickchartButtonEl =\n",
              "    domScope.querySelector('#df-461e3a45-a569-47a3-9e35-7d7312213e43 button.colab-df-quickchart');\n",
              "  quickchartButtonEl.style.display =\n",
              "    google.colab.kernel.accessAllowed ? 'block' : 'none';\n",
              "}\n",
              "\n",
              "        displayQuickchartButton(document);\n",
              "      </script>\n",
              "      <style>\n",
              "    .colab-df-container {\n",
              "      display:flex;\n",
              "      flex-wrap:wrap;\n",
              "      gap: 12px;\n",
              "    }\n",
              "\n",
              "    .colab-df-convert {\n",
              "      background-color: #E8F0FE;\n",
              "      border: none;\n",
              "      border-radius: 50%;\n",
              "      cursor: pointer;\n",
              "      display: none;\n",
              "      fill: #1967D2;\n",
              "      height: 32px;\n",
              "      padding: 0 0 0 0;\n",
              "      width: 32px;\n",
              "    }\n",
              "\n",
              "    .colab-df-convert:hover {\n",
              "      background-color: #E2EBFA;\n",
              "      box-shadow: 0px 1px 2px rgba(60, 64, 67, 0.3), 0px 1px 3px 1px rgba(60, 64, 67, 0.15);\n",
              "      fill: #174EA6;\n",
              "    }\n",
              "\n",
              "    [theme=dark] .colab-df-convert {\n",
              "      background-color: #3B4455;\n",
              "      fill: #D2E3FC;\n",
              "    }\n",
              "\n",
              "    [theme=dark] .colab-df-convert:hover {\n",
              "      background-color: #434B5C;\n",
              "      box-shadow: 0px 1px 3px 1px rgba(0, 0, 0, 0.15);\n",
              "      filter: drop-shadow(0px 1px 2px rgba(0, 0, 0, 0.3));\n",
              "      fill: #FFFFFF;\n",
              "    }\n",
              "  </style>\n",
              "\n",
              "      <script>\n",
              "        const buttonEl =\n",
              "          document.querySelector('#df-cc0b7ef5-8148-4585-827c-7b213a863ad9 button.colab-df-convert');\n",
              "        buttonEl.style.display =\n",
              "          google.colab.kernel.accessAllowed ? 'block' : 'none';\n",
              "\n",
              "        async function convertToInteractive(key) {\n",
              "          const element = document.querySelector('#df-cc0b7ef5-8148-4585-827c-7b213a863ad9');\n",
              "          const dataTable =\n",
              "            await google.colab.kernel.invokeFunction('convertToInteractive',\n",
              "                                                     [key], {});\n",
              "          if (!dataTable) return;\n",
              "\n",
              "          const docLinkHtml = 'Like what you see? Visit the ' +\n",
              "            '<a target=\"_blank\" href=https://colab.research.google.com/notebooks/data_table.ipynb>data table notebook</a>'\n",
              "            + ' to learn more about interactive tables.';\n",
              "          element.innerHTML = '';\n",
              "          dataTable['output_type'] = 'display_data';\n",
              "          await google.colab.output.renderOutput(dataTable, element);\n",
              "          const docLink = document.createElement('div');\n",
              "          docLink.innerHTML = docLinkHtml;\n",
              "          element.appendChild(docLink);\n",
              "        }\n",
              "      </script>\n",
              "    </div>\n",
              "  </div>\n"
            ]
          },
          "metadata": {},
          "execution_count": 84
        }
      ]
    },
    {
      "cell_type": "markdown",
      "source": [
        "### Training and test datasets"
      ],
      "metadata": {
        "id": "cqYIEVnjQCEf"
      }
    },
    {
      "cell_type": "code",
      "metadata": {
        "id": "LL2F4qYEvbAK"
      },
      "source": [
        "training_dataset1 = dfwc_dnn_dow_temp_mon_wnd_input.sample(frac=0.8, random_state=0)\n",
        "test_dataset1 = dfwc_dnn_dow_temp_mon_wnd_input.drop(training_dataset1.index)"
      ],
      "execution_count": 85,
      "outputs": []
    },
    {
      "cell_type": "code",
      "source": [
        "training_features1 = training_dataset1.copy()\n",
        "test_features1 = test_dataset1.copy()\n",
        "\n",
        "training_labels1 = training_features1.pop('scaledCollisions')\n",
        "test_labels1 = test_features1.pop('scaledCollisions')"
      ],
      "metadata": {
        "id": "kXkdFOOw264-"
      },
      "execution_count": 86,
      "outputs": []
    },
    {
      "cell_type": "code",
      "source": [
        "# A scale is not required here, but the constant will be useful in the assignment.\n",
        "SCALE_NUM_COLLISIONS = 1.0"
      ],
      "metadata": {
        "id": "1VCTIf56RgIg"
      },
      "execution_count": 87,
      "outputs": []
    },
    {
      "cell_type": "code",
      "source": [
        "training_labels1 = training_labels1/SCALE_NUM_COLLISIONS\n",
        "test_labels1 = test_labels1/SCALE_NUM_COLLISIONS"
      ],
      "metadata": {
        "id": "9me9WVjeR9RW"
      },
      "execution_count": 88,
      "outputs": []
    },
    {
      "cell_type": "code",
      "source": [
        "for col in dfwc_dnn_dow_temp_mon_wnd_input.columns:\n",
        "    print(col)\n",
        "# 21 excluding scaled collisions"
      ],
      "metadata": {
        "colab": {
          "base_uri": "https://localhost:8080/"
        },
        "id": "f5X3z2tqUEED",
        "outputId": "b2e0e826-99ee-4f46-ef6c-0667938d8a16"
      },
      "execution_count": 89,
      "outputs": [
        {
          "output_type": "stream",
          "name": "stdout",
          "text": [
            "temperature\n",
            "wind_speed\n",
            "Sat\n",
            "Sun\n",
            "Mon\n",
            "Tue\n",
            "Wed\n",
            "Thur\n",
            "Fri\n",
            "Jan\n",
            "Feb\n",
            "Mar\n",
            "Apr\n",
            "May\n",
            "Jun\n",
            "Jul\n",
            "Aug\n",
            "Sep\n",
            "Oct\n",
            "Nov\n",
            "Dec\n",
            "scaledCollisions\n"
          ]
        }
      ]
    },
    {
      "cell_type": "markdown",
      "source": [
        "## Model specification"
      ],
      "metadata": {
        "id": "ovA5owCdK7jP"
      }
    },
    {
      "cell_type": "code",
      "source": [
        "normaliser1 = tf.keras.layers.Normalization(axis=-1)\n",
        "normaliser1.adapt(np.array(training_features1))"
      ],
      "metadata": {
        "id": "cAnD1HOUS0Sm"
      },
      "execution_count": 90,
      "outputs": []
    },
    {
      "cell_type": "code",
      "source": [
        "# Normalisation layer (21 inputs), 2 layers of 46, with 1 output.\n",
        "# The 48 can be adjusted to improve the net.\n",
        "dnn_model_1 = keras.Sequential([\n",
        "      normaliser1,\n",
        "      layers.Dense(46, activation='relu'),\n",
        "      layers.Dense(46, activation='relu'),\n",
        "      layers.Dense(1)\n",
        "  ])\n",
        "\n",
        "dnn_model_1.compile(loss='mean_absolute_error',\n",
        "                optimizer=tf.keras.optimizers.Adam(0.001))"
      ],
      "metadata": {
        "id": "1o28vNKPTM21"
      },
      "execution_count": 91,
      "outputs": []
    },
    {
      "cell_type": "code",
      "source": [
        "# Print out the statistics\n",
        "dnn_model_1.summary()"
      ],
      "metadata": {
        "colab": {
          "base_uri": "https://localhost:8080/"
        },
        "id": "hkN0ef44wlnR",
        "outputId": "daae6633-9680-4146-d7f3-7e188fb85a9c"
      },
      "execution_count": 92,
      "outputs": [
        {
          "output_type": "stream",
          "name": "stdout",
          "text": [
            "Model: \"sequential_2\"\n",
            "_________________________________________________________________\n",
            " Layer (type)                Output Shape              Param #   \n",
            "=================================================================\n",
            " normalization_2 (Normalizat  (None, 21)               43        \n",
            " ion)                                                            \n",
            "                                                                 \n",
            " dense_6 (Dense)             (None, 46)                1012      \n",
            "                                                                 \n",
            " dense_7 (Dense)             (None, 46)                2162      \n",
            "                                                                 \n",
            " dense_8 (Dense)             (None, 1)                 47        \n",
            "                                                                 \n",
            "=================================================================\n",
            "Total params: 3,264\n",
            "Trainable params: 3,221\n",
            "Non-trainable params: 43\n",
            "_________________________________________________________________\n"
          ]
        }
      ]
    },
    {
      "cell_type": "markdown",
      "source": [
        "### Train the model"
      ],
      "metadata": {
        "id": "4vt-C2lmR-Q8"
      }
    },
    {
      "cell_type": "markdown",
      "source": [
        "We call fit() to train the model by slicing the data into \"batches\" of size batch_size, and repeatedly iterated over the dataset for 100 epochs.\n",
        "This specifies to use 20% of the data for validation."
      ],
      "metadata": {
        "id": "J6SJKQLzSVEI"
      }
    },
    {
      "cell_type": "code",
      "source": [
        "%%time\n",
        "history1 = dnn_model_1.fit(\n",
        "    training_features1,\n",
        "    training_labels1,\n",
        "    validation_split=0.2,\n",
        "    verbose=0,\n",
        "    epochs=100)"
      ],
      "metadata": {
        "outputId": "23ca8539-914d-413b-9374-783521b27d62",
        "colab": {
          "base_uri": "https://localhost:8080/"
        },
        "id": "SDHrzj5fTz5p"
      },
      "execution_count": 93,
      "outputs": [
        {
          "output_type": "stream",
          "name": "stdout",
          "text": [
            "CPU times: user 7.07 s, sys: 263 ms, total: 7.33 s\n",
            "Wall time: 11 s\n"
          ]
        }
      ]
    },
    {
      "cell_type": "code",
      "source": [
        "#history1.history"
      ],
      "metadata": {
        "id": "1fmCa8dGTdkL"
      },
      "execution_count": 94,
      "outputs": []
    },
    {
      "cell_type": "markdown",
      "source": [
        "### Evaluate model 1 on the test data (0.14498303830623627.)\n"
      ],
      "metadata": {
        "id": "W4IWkkuAXwrw"
      }
    },
    {
      "cell_type": "markdown",
      "source": [
        "Adding wind, the result is 0.14498303830623627."
      ],
      "metadata": {
        "id": "PXYwcgnvg4tu"
      }
    },
    {
      "cell_type": "code",
      "source": [
        "# remember, we want to minimise this. The model with the lowest is the best.\n",
        "dnn_model_1_results = dnn_model_1.evaluate(test_features1, test_labels1, verbose=1)\n",
        "print(dnn_model_1_results)"
      ],
      "metadata": {
        "outputId": "c2b80bf2-cf61-4e05-a9d6-d2f7140b0a7d",
        "colab": {
          "base_uri": "https://localhost:8080/"
        },
        "id": "PU8bJ49VVW9H"
      },
      "execution_count": 95,
      "outputs": [
        {
          "output_type": "stream",
          "name": "stdout",
          "text": [
            "6/6 [==============================] - 0s 3ms/step - loss: 0.1555\n",
            "0.15548890829086304\n"
          ]
        }
      ]
    },
    {
      "cell_type": "markdown",
      "source": [
        "### Hypothetical data for initial comparison for initial checking/diagnostics"
      ],
      "metadata": {
        "id": "3IGY0WTRh-fn"
      }
    },
    {
      "cell_type": "code",
      "metadata": {
        "id": "86yDy4lNWNNt"
      },
      "source": [
        "# make sure the labels match up with the dataframe from earlier.\n",
        "input_1 = pd.DataFrame.from_dict(data =\n",
        "\t\t\t\t{\n",
        "   #      'year' : [2021,2022,2023],\n",
        "         'temperature' : [3, 31.2, 25],\n",
        "         'wind_speed' : [5.0, 3.0, 8.0],\n",
        "         'Sat' : [0,0,0],\n",
        "         'Sun' : [0,0,0],\n",
        "         'Mon' : [1,0,0],\n",
        "         'Tue' : [0,0,0],\n",
        "         'Wed' : [0,1,0],\n",
        "         'Thur' :[0,0,0],\n",
        "         'Fri' : [0,0,1],\n",
        "         'Jan' : [1,0,0],\n",
        "         'Feb' : [0,0,0],\n",
        "         'Mar' : [0,0,0],\n",
        "         'Apr' : [0,0,0],\n",
        "         'May' : [0,0,0],\n",
        "         'Jun' : [0,0,0],\n",
        "         'Jul' : [0,0,0],\n",
        "         'Aug' : [1,0,0],\n",
        "         'Sep' : [0,0,1],\n",
        "         'Oct' : [0,0,0],\n",
        "         'Nov' : [0,0,0],\n",
        "         'Dec' : [0,0,0],\n",
        "        })\n"
      ],
      "execution_count": 96,
      "outputs": []
    },
    {
      "cell_type": "code",
      "source": [
        "# Make the predictions by the model on the hypothetical data\n",
        "linear_day_predictions1 = dnn_model_1.predict(input_1[:3])*SCALE_NUM_COLLISIONS\n",
        "linear_day_predictions1"
      ],
      "metadata": {
        "outputId": "87bb7a22-0de3-43c8-f336-6183f55f33e0",
        "colab": {
          "base_uri": "https://localhost:8080/"
        },
        "id": "m9ZnwnGkXJud"
      },
      "execution_count": 97,
      "outputs": [
        {
          "output_type": "stream",
          "name": "stderr",
          "text": [
            "WARNING:tensorflow:5 out of the last 9 calls to <function Model.make_predict_function.<locals>.predict_function at 0x7d8dbc11f370> triggered tf.function retracing. Tracing is expensive and the excessive number of tracings could be due to (1) creating @tf.function repeatedly in a loop, (2) passing tensors with different shapes, (3) passing Python objects instead of tensors. For (1), please define your @tf.function outside of the loop. For (2), @tf.function has reduce_retracing=True option that can avoid unnecessary retracing. For (3), please refer to https://www.tensorflow.org/guide/function#controlling_retracing and https://www.tensorflow.org/api_docs/python/tf/function for  more details.\n"
          ]
        },
        {
          "output_type": "stream",
          "name": "stdout",
          "text": [
            "1/1 [==============================] - 0s 84ms/step\n"
          ]
        },
        {
          "output_type": "execute_result",
          "data": {
            "text/plain": [
              "array([[0.23417787],\n",
              "       [0.60600215],\n",
              "       [0.9590841 ]], dtype=float32)"
            ]
          },
          "metadata": {},
          "execution_count": 97
        }
      ]
    },
    {
      "cell_type": "markdown",
      "source": [
        "#### Convert results for hypothetical data to collisions based on scaledCollisions for 2022"
      ],
      "metadata": {
        "id": "eDPDPTYUiU9a"
      }
    },
    {
      "cell_type": "code",
      "source": [
        "# Make the predictions by the model on the hypothetical data\n",
        "linear_day_predictions1Converted = dnn_model_1.predict(input_1[:3])*a22 +b22\n",
        "#*a22 +b22 is is to convert scaled collisions based on the values for 2022\n",
        "linear_day_predictions1Converted"
      ],
      "metadata": {
        "colab": {
          "base_uri": "https://localhost:8080/"
        },
        "outputId": "11f33acd-91a8-4cb3-c42f-26abe828dd97",
        "id": "wqojhFQGiU9h"
      },
      "execution_count": 98,
      "outputs": [
        {
          "output_type": "stream",
          "name": "stdout",
          "text": [
            "1/1 [==============================] - 0s 25ms/step\n"
          ]
        },
        {
          "output_type": "execute_result",
          "data": {
            "text/plain": [
              "array([[223.3229 ],\n",
              "       [292.1104 ],\n",
              "       [357.43054]], dtype=float32)"
            ]
          },
          "metadata": {},
          "execution_count": 98
        }
      ]
    },
    {
      "cell_type": "markdown",
      "source": [
        "The above converted collision results for the hypothetical data for 2022 are within a plausible range for the pattern for 2022."
      ],
      "metadata": {
        "id": "w0IM7fmWiU9h"
      }
    },
    {
      "cell_type": "markdown",
      "source": [
        "### Make predictions based on test data"
      ],
      "metadata": {
        "id": "oV5ldBTM0gOb"
      }
    },
    {
      "cell_type": "code",
      "source": [
        "# Make the predictions by the model on tHE TEST data\n",
        "print(\"Generate predictions for 10 samples\")\n",
        "linear_day_predictions1TD = dnn_model_1.predict(test_features1[:10])*SCALE_NUM_COLLISIONS\n",
        "linear_day_predictions1TD\n",
        "#print(\"predictions shape:\", linear_day_predictions2TD.shape)"
      ],
      "metadata": {
        "colab": {
          "base_uri": "https://localhost:8080/"
        },
        "outputId": "285ab8fd-be78-4cc4-c90d-29aa834f571c",
        "id": "00RbCm820gOj"
      },
      "execution_count": 99,
      "outputs": [
        {
          "output_type": "stream",
          "name": "stdout",
          "text": [
            "Generate predictions for 10 samples\n",
            "1/1 [==============================] - 0s 28ms/step\n"
          ]
        },
        {
          "output_type": "execute_result",
          "data": {
            "text/plain": [
              "array([[0.53468734],\n",
              "       [0.79575527],\n",
              "       [0.5457556 ],\n",
              "       [0.5701257 ],\n",
              "       [0.469661  ],\n",
              "       [0.4755596 ],\n",
              "       [0.6342331 ],\n",
              "       [0.82653767],\n",
              "       [0.50004715],\n",
              "       [0.52762467]], dtype=float32)"
            ]
          },
          "metadata": {},
          "execution_count": 99
        }
      ]
    },
    {
      "cell_type": "markdown",
      "source": [
        "#### Convert to collisions"
      ],
      "metadata": {
        "id": "WiMr5wZV0gOk"
      }
    },
    {
      "cell_type": "code",
      "source": [
        "# Make the predictions by the model on the TEST DATA data and convert based on scaledCollisions for 2022\n",
        "linear_day_predictions3Converted = dnn_model_3.predict(test_features3[:10])*a22 +b22\n",
        "#*a22 +b22 is is to convert scaled collisions based on the values for 2022\n",
        "linear_day_predictions3Converted"
      ],
      "metadata": {
        "colab": {
          "base_uri": "https://localhost:8080/"
        },
        "outputId": "06e69a94-d739-4448-bd83-6dfdbabba102",
        "id": "EUCD1Rd60gOk"
      },
      "execution_count": 100,
      "outputs": [
        {
          "output_type": "stream",
          "name": "stdout",
          "text": [
            "1/1 [==============================] - 0s 30ms/step\n"
          ]
        },
        {
          "output_type": "execute_result",
          "data": {
            "text/plain": [
              "array([[291.70834],\n",
              "       [323.31323],\n",
              "       [302.3728 ],\n",
              "       [304.32162],\n",
              "       [315.40698],\n",
              "       [258.65366],\n",
              "       [300.63638],\n",
              "       [310.89062],\n",
              "       [255.6124 ],\n",
              "       [315.71246]], dtype=float32)"
            ]
          },
          "metadata": {},
          "execution_count": 100
        }
      ]
    },
    {
      "cell_type": "markdown",
      "source": [
        "#### Sample scaled collision output and collisions from a test run on validation data"
      ],
      "metadata": {
        "id": "npyVtn1abeYL"
      }
    },
    {
      "cell_type": "markdown",
      "source": [
        "We will save a specific set of results and calculate the number of collisions for 2021-2023."
      ],
      "metadata": {
        "id": "h1VWohhjbeYM"
      }
    },
    {
      "cell_type": "code",
      "source": [
        "mod1ResultEx  = pd.DataFrame.from_dict(data =\n",
        "\t\t\t\t{'Validation result for 10 records from a test run' : [0.55999464,0.6965343 ,0.3836175 ,0.79850507,0.7144525 ,0.6276089,0.21966459,0.5139455 ,0.42869028,0.43682483]})\n",
        "mod1ResultEx"
      ],
      "metadata": {
        "outputId": "f44dfd7d-08b0-408b-db94-d875d11f0f9e",
        "colab": {
          "base_uri": "https://localhost:8080/",
          "height": 363
        },
        "id": "MQqVppo6beYM"
      },
      "execution_count": 101,
      "outputs": [
        {
          "output_type": "execute_result",
          "data": {
            "text/plain": [
              "   Validation result for 10 records from a test run\n",
              "0                                          0.559995\n",
              "1                                          0.696534\n",
              "2                                          0.383618\n",
              "3                                          0.798505\n",
              "4                                          0.714453\n",
              "5                                          0.627609\n",
              "6                                          0.219665\n",
              "7                                          0.513946\n",
              "8                                          0.428690\n",
              "9                                          0.436825"
            ],
            "text/html": [
              "\n",
              "\n",
              "  <div id=\"df-e663b632-1587-460a-aceb-a89c6aa3cffb\">\n",
              "    <div class=\"colab-df-container\">\n",
              "      <div>\n",
              "<style scoped>\n",
              "    .dataframe tbody tr th:only-of-type {\n",
              "        vertical-align: middle;\n",
              "    }\n",
              "\n",
              "    .dataframe tbody tr th {\n",
              "        vertical-align: top;\n",
              "    }\n",
              "\n",
              "    .dataframe thead th {\n",
              "        text-align: right;\n",
              "    }\n",
              "</style>\n",
              "<table border=\"1\" class=\"dataframe\">\n",
              "  <thead>\n",
              "    <tr style=\"text-align: right;\">\n",
              "      <th></th>\n",
              "      <th>Validation result for 10 records from a test run</th>\n",
              "    </tr>\n",
              "  </thead>\n",
              "  <tbody>\n",
              "    <tr>\n",
              "      <th>0</th>\n",
              "      <td>0.559995</td>\n",
              "    </tr>\n",
              "    <tr>\n",
              "      <th>1</th>\n",
              "      <td>0.696534</td>\n",
              "    </tr>\n",
              "    <tr>\n",
              "      <th>2</th>\n",
              "      <td>0.383618</td>\n",
              "    </tr>\n",
              "    <tr>\n",
              "      <th>3</th>\n",
              "      <td>0.798505</td>\n",
              "    </tr>\n",
              "    <tr>\n",
              "      <th>4</th>\n",
              "      <td>0.714453</td>\n",
              "    </tr>\n",
              "    <tr>\n",
              "      <th>5</th>\n",
              "      <td>0.627609</td>\n",
              "    </tr>\n",
              "    <tr>\n",
              "      <th>6</th>\n",
              "      <td>0.219665</td>\n",
              "    </tr>\n",
              "    <tr>\n",
              "      <th>7</th>\n",
              "      <td>0.513946</td>\n",
              "    </tr>\n",
              "    <tr>\n",
              "      <th>8</th>\n",
              "      <td>0.428690</td>\n",
              "    </tr>\n",
              "    <tr>\n",
              "      <th>9</th>\n",
              "      <td>0.436825</td>\n",
              "    </tr>\n",
              "  </tbody>\n",
              "</table>\n",
              "</div>\n",
              "      <button class=\"colab-df-convert\" onclick=\"convertToInteractive('df-e663b632-1587-460a-aceb-a89c6aa3cffb')\"\n",
              "              title=\"Convert this dataframe to an interactive table.\"\n",
              "              style=\"display:none;\">\n",
              "\n",
              "  <svg xmlns=\"http://www.w3.org/2000/svg\" height=\"24px\"viewBox=\"0 0 24 24\"\n",
              "       width=\"24px\">\n",
              "    <path d=\"M0 0h24v24H0V0z\" fill=\"none\"/>\n",
              "    <path d=\"M18.56 5.44l.94 2.06.94-2.06 2.06-.94-2.06-.94-.94-2.06-.94 2.06-2.06.94zm-11 1L8.5 8.5l.94-2.06 2.06-.94-2.06-.94L8.5 2.5l-.94 2.06-2.06.94zm10 10l.94 2.06.94-2.06 2.06-.94-2.06-.94-.94-2.06-.94 2.06-2.06.94z\"/><path d=\"M17.41 7.96l-1.37-1.37c-.4-.4-.92-.59-1.43-.59-.52 0-1.04.2-1.43.59L10.3 9.45l-7.72 7.72c-.78.78-.78 2.05 0 2.83L4 21.41c.39.39.9.59 1.41.59.51 0 1.02-.2 1.41-.59l7.78-7.78 2.81-2.81c.8-.78.8-2.07 0-2.86zM5.41 20L4 18.59l7.72-7.72 1.47 1.35L5.41 20z\"/>\n",
              "  </svg>\n",
              "      </button>\n",
              "\n",
              "\n",
              "\n",
              "    <div id=\"df-5dbe95a9-6ca7-4da8-96d8-1a739eeb5829\">\n",
              "      <button class=\"colab-df-quickchart\" onclick=\"quickchart('df-5dbe95a9-6ca7-4da8-96d8-1a739eeb5829')\"\n",
              "              title=\"Suggest charts.\"\n",
              "              style=\"display:none;\">\n",
              "\n",
              "<svg xmlns=\"http://www.w3.org/2000/svg\" height=\"24px\"viewBox=\"0 0 24 24\"\n",
              "     width=\"24px\">\n",
              "    <g>\n",
              "        <path d=\"M19 3H5c-1.1 0-2 .9-2 2v14c0 1.1.9 2 2 2h14c1.1 0 2-.9 2-2V5c0-1.1-.9-2-2-2zM9 17H7v-7h2v7zm4 0h-2V7h2v10zm4 0h-2v-4h2v4z\"/>\n",
              "    </g>\n",
              "</svg>\n",
              "      </button>\n",
              "    </div>\n",
              "\n",
              "<style>\n",
              "  .colab-df-quickchart {\n",
              "    background-color: #E8F0FE;\n",
              "    border: none;\n",
              "    border-radius: 50%;\n",
              "    cursor: pointer;\n",
              "    display: none;\n",
              "    fill: #1967D2;\n",
              "    height: 32px;\n",
              "    padding: 0 0 0 0;\n",
              "    width: 32px;\n",
              "  }\n",
              "\n",
              "  .colab-df-quickchart:hover {\n",
              "    background-color: #E2EBFA;\n",
              "    box-shadow: 0px 1px 2px rgba(60, 64, 67, 0.3), 0px 1px 3px 1px rgba(60, 64, 67, 0.15);\n",
              "    fill: #174EA6;\n",
              "  }\n",
              "\n",
              "  [theme=dark] .colab-df-quickchart {\n",
              "    background-color: #3B4455;\n",
              "    fill: #D2E3FC;\n",
              "  }\n",
              "\n",
              "  [theme=dark] .colab-df-quickchart:hover {\n",
              "    background-color: #434B5C;\n",
              "    box-shadow: 0px 1px 3px 1px rgba(0, 0, 0, 0.15);\n",
              "    filter: drop-shadow(0px 1px 2px rgba(0, 0, 0, 0.3));\n",
              "    fill: #FFFFFF;\n",
              "  }\n",
              "</style>\n",
              "\n",
              "    <script>\n",
              "      async function quickchart(key) {\n",
              "        const containerElement = document.querySelector('#' + key);\n",
              "        const charts = await google.colab.kernel.invokeFunction(\n",
              "            'suggestCharts', [key], {});\n",
              "      }\n",
              "    </script>\n",
              "\n",
              "      <script>\n",
              "\n",
              "function displayQuickchartButton(domScope) {\n",
              "  let quickchartButtonEl =\n",
              "    domScope.querySelector('#df-5dbe95a9-6ca7-4da8-96d8-1a739eeb5829 button.colab-df-quickchart');\n",
              "  quickchartButtonEl.style.display =\n",
              "    google.colab.kernel.accessAllowed ? 'block' : 'none';\n",
              "}\n",
              "\n",
              "        displayQuickchartButton(document);\n",
              "      </script>\n",
              "      <style>\n",
              "    .colab-df-container {\n",
              "      display:flex;\n",
              "      flex-wrap:wrap;\n",
              "      gap: 12px;\n",
              "    }\n",
              "\n",
              "    .colab-df-convert {\n",
              "      background-color: #E8F0FE;\n",
              "      border: none;\n",
              "      border-radius: 50%;\n",
              "      cursor: pointer;\n",
              "      display: none;\n",
              "      fill: #1967D2;\n",
              "      height: 32px;\n",
              "      padding: 0 0 0 0;\n",
              "      width: 32px;\n",
              "    }\n",
              "\n",
              "    .colab-df-convert:hover {\n",
              "      background-color: #E2EBFA;\n",
              "      box-shadow: 0px 1px 2px rgba(60, 64, 67, 0.3), 0px 1px 3px 1px rgba(60, 64, 67, 0.15);\n",
              "      fill: #174EA6;\n",
              "    }\n",
              "\n",
              "    [theme=dark] .colab-df-convert {\n",
              "      background-color: #3B4455;\n",
              "      fill: #D2E3FC;\n",
              "    }\n",
              "\n",
              "    [theme=dark] .colab-df-convert:hover {\n",
              "      background-color: #434B5C;\n",
              "      box-shadow: 0px 1px 3px 1px rgba(0, 0, 0, 0.15);\n",
              "      filter: drop-shadow(0px 1px 2px rgba(0, 0, 0, 0.3));\n",
              "      fill: #FFFFFF;\n",
              "    }\n",
              "  </style>\n",
              "\n",
              "      <script>\n",
              "        const buttonEl =\n",
              "          document.querySelector('#df-e663b632-1587-460a-aceb-a89c6aa3cffb button.colab-df-convert');\n",
              "        buttonEl.style.display =\n",
              "          google.colab.kernel.accessAllowed ? 'block' : 'none';\n",
              "\n",
              "        async function convertToInteractive(key) {\n",
              "          const element = document.querySelector('#df-e663b632-1587-460a-aceb-a89c6aa3cffb');\n",
              "          const dataTable =\n",
              "            await google.colab.kernel.invokeFunction('convertToInteractive',\n",
              "                                                     [key], {});\n",
              "          if (!dataTable) return;\n",
              "\n",
              "          const docLinkHtml = 'Like what you see? Visit the ' +\n",
              "            '<a target=\"_blank\" href=https://colab.research.google.com/notebooks/data_table.ipynb>data table notebook</a>'\n",
              "            + ' to learn more about interactive tables.';\n",
              "          element.innerHTML = '';\n",
              "          dataTable['output_type'] = 'display_data';\n",
              "          await google.colab.output.renderOutput(dataTable, element);\n",
              "          const docLink = document.createElement('div');\n",
              "          docLink.innerHTML = docLinkHtml;\n",
              "          element.appendChild(docLink);\n",
              "        }\n",
              "      </script>\n",
              "    </div>\n",
              "  </div>\n"
            ]
          },
          "metadata": {},
          "execution_count": 101
        }
      ]
    },
    {
      "cell_type": "code",
      "source": [
        "# Convert scaled collisions to collisions based on 2022 min and max records\n",
        "mod1ResultEx21 = np.round((mod1ResultEx[:10])*a21 +b21)\n",
        "mod1ResultEx21"
      ],
      "metadata": {
        "outputId": "42e2f374-21cd-4e06-fc26-18411d2748cb",
        "colab": {
          "base_uri": "https://localhost:8080/",
          "height": 363
        },
        "id": "PUfG6lQCbeYN"
      },
      "execution_count": 102,
      "outputs": [
        {
          "output_type": "execute_result",
          "data": {
            "text/plain": [
              "   Validation result for 10 records from a test run\n",
              "0                                             298.0\n",
              "1                                             326.0\n",
              "2                                             262.0\n",
              "3                                             347.0\n",
              "4                                             330.0\n",
              "5                                             312.0\n",
              "6                                             229.0\n",
              "7                                             289.0\n",
              "8                                             271.0\n",
              "9                                             273.0"
            ],
            "text/html": [
              "\n",
              "\n",
              "  <div id=\"df-ee41b76c-56f4-4db5-ba92-c1ad326c1f7f\">\n",
              "    <div class=\"colab-df-container\">\n",
              "      <div>\n",
              "<style scoped>\n",
              "    .dataframe tbody tr th:only-of-type {\n",
              "        vertical-align: middle;\n",
              "    }\n",
              "\n",
              "    .dataframe tbody tr th {\n",
              "        vertical-align: top;\n",
              "    }\n",
              "\n",
              "    .dataframe thead th {\n",
              "        text-align: right;\n",
              "    }\n",
              "</style>\n",
              "<table border=\"1\" class=\"dataframe\">\n",
              "  <thead>\n",
              "    <tr style=\"text-align: right;\">\n",
              "      <th></th>\n",
              "      <th>Validation result for 10 records from a test run</th>\n",
              "    </tr>\n",
              "  </thead>\n",
              "  <tbody>\n",
              "    <tr>\n",
              "      <th>0</th>\n",
              "      <td>298.0</td>\n",
              "    </tr>\n",
              "    <tr>\n",
              "      <th>1</th>\n",
              "      <td>326.0</td>\n",
              "    </tr>\n",
              "    <tr>\n",
              "      <th>2</th>\n",
              "      <td>262.0</td>\n",
              "    </tr>\n",
              "    <tr>\n",
              "      <th>3</th>\n",
              "      <td>347.0</td>\n",
              "    </tr>\n",
              "    <tr>\n",
              "      <th>4</th>\n",
              "      <td>330.0</td>\n",
              "    </tr>\n",
              "    <tr>\n",
              "      <th>5</th>\n",
              "      <td>312.0</td>\n",
              "    </tr>\n",
              "    <tr>\n",
              "      <th>6</th>\n",
              "      <td>229.0</td>\n",
              "    </tr>\n",
              "    <tr>\n",
              "      <th>7</th>\n",
              "      <td>289.0</td>\n",
              "    </tr>\n",
              "    <tr>\n",
              "      <th>8</th>\n",
              "      <td>271.0</td>\n",
              "    </tr>\n",
              "    <tr>\n",
              "      <th>9</th>\n",
              "      <td>273.0</td>\n",
              "    </tr>\n",
              "  </tbody>\n",
              "</table>\n",
              "</div>\n",
              "      <button class=\"colab-df-convert\" onclick=\"convertToInteractive('df-ee41b76c-56f4-4db5-ba92-c1ad326c1f7f')\"\n",
              "              title=\"Convert this dataframe to an interactive table.\"\n",
              "              style=\"display:none;\">\n",
              "\n",
              "  <svg xmlns=\"http://www.w3.org/2000/svg\" height=\"24px\"viewBox=\"0 0 24 24\"\n",
              "       width=\"24px\">\n",
              "    <path d=\"M0 0h24v24H0V0z\" fill=\"none\"/>\n",
              "    <path d=\"M18.56 5.44l.94 2.06.94-2.06 2.06-.94-2.06-.94-.94-2.06-.94 2.06-2.06.94zm-11 1L8.5 8.5l.94-2.06 2.06-.94-2.06-.94L8.5 2.5l-.94 2.06-2.06.94zm10 10l.94 2.06.94-2.06 2.06-.94-2.06-.94-.94-2.06-.94 2.06-2.06.94z\"/><path d=\"M17.41 7.96l-1.37-1.37c-.4-.4-.92-.59-1.43-.59-.52 0-1.04.2-1.43.59L10.3 9.45l-7.72 7.72c-.78.78-.78 2.05 0 2.83L4 21.41c.39.39.9.59 1.41.59.51 0 1.02-.2 1.41-.59l7.78-7.78 2.81-2.81c.8-.78.8-2.07 0-2.86zM5.41 20L4 18.59l7.72-7.72 1.47 1.35L5.41 20z\"/>\n",
              "  </svg>\n",
              "      </button>\n",
              "\n",
              "\n",
              "\n",
              "    <div id=\"df-40d443e1-4e8f-47e8-b30a-5282691ae352\">\n",
              "      <button class=\"colab-df-quickchart\" onclick=\"quickchart('df-40d443e1-4e8f-47e8-b30a-5282691ae352')\"\n",
              "              title=\"Suggest charts.\"\n",
              "              style=\"display:none;\">\n",
              "\n",
              "<svg xmlns=\"http://www.w3.org/2000/svg\" height=\"24px\"viewBox=\"0 0 24 24\"\n",
              "     width=\"24px\">\n",
              "    <g>\n",
              "        <path d=\"M19 3H5c-1.1 0-2 .9-2 2v14c0 1.1.9 2 2 2h14c1.1 0 2-.9 2-2V5c0-1.1-.9-2-2-2zM9 17H7v-7h2v7zm4 0h-2V7h2v10zm4 0h-2v-4h2v4z\"/>\n",
              "    </g>\n",
              "</svg>\n",
              "      </button>\n",
              "    </div>\n",
              "\n",
              "<style>\n",
              "  .colab-df-quickchart {\n",
              "    background-color: #E8F0FE;\n",
              "    border: none;\n",
              "    border-radius: 50%;\n",
              "    cursor: pointer;\n",
              "    display: none;\n",
              "    fill: #1967D2;\n",
              "    height: 32px;\n",
              "    padding: 0 0 0 0;\n",
              "    width: 32px;\n",
              "  }\n",
              "\n",
              "  .colab-df-quickchart:hover {\n",
              "    background-color: #E2EBFA;\n",
              "    box-shadow: 0px 1px 2px rgba(60, 64, 67, 0.3), 0px 1px 3px 1px rgba(60, 64, 67, 0.15);\n",
              "    fill: #174EA6;\n",
              "  }\n",
              "\n",
              "  [theme=dark] .colab-df-quickchart {\n",
              "    background-color: #3B4455;\n",
              "    fill: #D2E3FC;\n",
              "  }\n",
              "\n",
              "  [theme=dark] .colab-df-quickchart:hover {\n",
              "    background-color: #434B5C;\n",
              "    box-shadow: 0px 1px 3px 1px rgba(0, 0, 0, 0.15);\n",
              "    filter: drop-shadow(0px 1px 2px rgba(0, 0, 0, 0.3));\n",
              "    fill: #FFFFFF;\n",
              "  }\n",
              "</style>\n",
              "\n",
              "    <script>\n",
              "      async function quickchart(key) {\n",
              "        const containerElement = document.querySelector('#' + key);\n",
              "        const charts = await google.colab.kernel.invokeFunction(\n",
              "            'suggestCharts', [key], {});\n",
              "      }\n",
              "    </script>\n",
              "\n",
              "      <script>\n",
              "\n",
              "function displayQuickchartButton(domScope) {\n",
              "  let quickchartButtonEl =\n",
              "    domScope.querySelector('#df-40d443e1-4e8f-47e8-b30a-5282691ae352 button.colab-df-quickchart');\n",
              "  quickchartButtonEl.style.display =\n",
              "    google.colab.kernel.accessAllowed ? 'block' : 'none';\n",
              "}\n",
              "\n",
              "        displayQuickchartButton(document);\n",
              "      </script>\n",
              "      <style>\n",
              "    .colab-df-container {\n",
              "      display:flex;\n",
              "      flex-wrap:wrap;\n",
              "      gap: 12px;\n",
              "    }\n",
              "\n",
              "    .colab-df-convert {\n",
              "      background-color: #E8F0FE;\n",
              "      border: none;\n",
              "      border-radius: 50%;\n",
              "      cursor: pointer;\n",
              "      display: none;\n",
              "      fill: #1967D2;\n",
              "      height: 32px;\n",
              "      padding: 0 0 0 0;\n",
              "      width: 32px;\n",
              "    }\n",
              "\n",
              "    .colab-df-convert:hover {\n",
              "      background-color: #E2EBFA;\n",
              "      box-shadow: 0px 1px 2px rgba(60, 64, 67, 0.3), 0px 1px 3px 1px rgba(60, 64, 67, 0.15);\n",
              "      fill: #174EA6;\n",
              "    }\n",
              "\n",
              "    [theme=dark] .colab-df-convert {\n",
              "      background-color: #3B4455;\n",
              "      fill: #D2E3FC;\n",
              "    }\n",
              "\n",
              "    [theme=dark] .colab-df-convert:hover {\n",
              "      background-color: #434B5C;\n",
              "      box-shadow: 0px 1px 3px 1px rgba(0, 0, 0, 0.15);\n",
              "      filter: drop-shadow(0px 1px 2px rgba(0, 0, 0, 0.3));\n",
              "      fill: #FFFFFF;\n",
              "    }\n",
              "  </style>\n",
              "\n",
              "      <script>\n",
              "        const buttonEl =\n",
              "          document.querySelector('#df-ee41b76c-56f4-4db5-ba92-c1ad326c1f7f button.colab-df-convert');\n",
              "        buttonEl.style.display =\n",
              "          google.colab.kernel.accessAllowed ? 'block' : 'none';\n",
              "\n",
              "        async function convertToInteractive(key) {\n",
              "          const element = document.querySelector('#df-ee41b76c-56f4-4db5-ba92-c1ad326c1f7f');\n",
              "          const dataTable =\n",
              "            await google.colab.kernel.invokeFunction('convertToInteractive',\n",
              "                                                     [key], {});\n",
              "          if (!dataTable) return;\n",
              "\n",
              "          const docLinkHtml = 'Like what you see? Visit the ' +\n",
              "            '<a target=\"_blank\" href=https://colab.research.google.com/notebooks/data_table.ipynb>data table notebook</a>'\n",
              "            + ' to learn more about interactive tables.';\n",
              "          element.innerHTML = '';\n",
              "          dataTable['output_type'] = 'display_data';\n",
              "          await google.colab.output.renderOutput(dataTable, element);\n",
              "          const docLink = document.createElement('div');\n",
              "          docLink.innerHTML = docLinkHtml;\n",
              "          element.appendChild(docLink);\n",
              "        }\n",
              "      </script>\n",
              "    </div>\n",
              "  </div>\n"
            ]
          },
          "metadata": {},
          "execution_count": 102
        }
      ]
    },
    {
      "cell_type": "code",
      "source": [
        "# Convert scaled collisions to collisions based on 2022 min and max records\n",
        "mod1ResultEx22 = np.round((mod1ResultEx[:10])*a22 +b22)\n",
        "mod1ResultEx22"
      ],
      "metadata": {
        "outputId": "a8fcb019-eb4e-4b93-c25a-0c6beb1c0878",
        "colab": {
          "base_uri": "https://localhost:8080/",
          "height": 363
        },
        "id": "YbmHtRzybeYN"
      },
      "execution_count": 103,
      "outputs": [
        {
          "output_type": "execute_result",
          "data": {
            "text/plain": [
              "   Validation result for 10 records from a test run\n",
              "0                                             284.0\n",
              "1                                             309.0\n",
              "2                                             251.0\n",
              "3                                             328.0\n",
              "4                                             312.0\n",
              "5                                             296.0\n",
              "6                                             221.0\n",
              "7                                             275.0\n",
              "8                                             259.0\n",
              "9                                             261.0"
            ],
            "text/html": [
              "\n",
              "\n",
              "  <div id=\"df-dd55fc92-9eaf-46af-a5e3-c8d1dc963d42\">\n",
              "    <div class=\"colab-df-container\">\n",
              "      <div>\n",
              "<style scoped>\n",
              "    .dataframe tbody tr th:only-of-type {\n",
              "        vertical-align: middle;\n",
              "    }\n",
              "\n",
              "    .dataframe tbody tr th {\n",
              "        vertical-align: top;\n",
              "    }\n",
              "\n",
              "    .dataframe thead th {\n",
              "        text-align: right;\n",
              "    }\n",
              "</style>\n",
              "<table border=\"1\" class=\"dataframe\">\n",
              "  <thead>\n",
              "    <tr style=\"text-align: right;\">\n",
              "      <th></th>\n",
              "      <th>Validation result for 10 records from a test run</th>\n",
              "    </tr>\n",
              "  </thead>\n",
              "  <tbody>\n",
              "    <tr>\n",
              "      <th>0</th>\n",
              "      <td>284.0</td>\n",
              "    </tr>\n",
              "    <tr>\n",
              "      <th>1</th>\n",
              "      <td>309.0</td>\n",
              "    </tr>\n",
              "    <tr>\n",
              "      <th>2</th>\n",
              "      <td>251.0</td>\n",
              "    </tr>\n",
              "    <tr>\n",
              "      <th>3</th>\n",
              "      <td>328.0</td>\n",
              "    </tr>\n",
              "    <tr>\n",
              "      <th>4</th>\n",
              "      <td>312.0</td>\n",
              "    </tr>\n",
              "    <tr>\n",
              "      <th>5</th>\n",
              "      <td>296.0</td>\n",
              "    </tr>\n",
              "    <tr>\n",
              "      <th>6</th>\n",
              "      <td>221.0</td>\n",
              "    </tr>\n",
              "    <tr>\n",
              "      <th>7</th>\n",
              "      <td>275.0</td>\n",
              "    </tr>\n",
              "    <tr>\n",
              "      <th>8</th>\n",
              "      <td>259.0</td>\n",
              "    </tr>\n",
              "    <tr>\n",
              "      <th>9</th>\n",
              "      <td>261.0</td>\n",
              "    </tr>\n",
              "  </tbody>\n",
              "</table>\n",
              "</div>\n",
              "      <button class=\"colab-df-convert\" onclick=\"convertToInteractive('df-dd55fc92-9eaf-46af-a5e3-c8d1dc963d42')\"\n",
              "              title=\"Convert this dataframe to an interactive table.\"\n",
              "              style=\"display:none;\">\n",
              "\n",
              "  <svg xmlns=\"http://www.w3.org/2000/svg\" height=\"24px\"viewBox=\"0 0 24 24\"\n",
              "       width=\"24px\">\n",
              "    <path d=\"M0 0h24v24H0V0z\" fill=\"none\"/>\n",
              "    <path d=\"M18.56 5.44l.94 2.06.94-2.06 2.06-.94-2.06-.94-.94-2.06-.94 2.06-2.06.94zm-11 1L8.5 8.5l.94-2.06 2.06-.94-2.06-.94L8.5 2.5l-.94 2.06-2.06.94zm10 10l.94 2.06.94-2.06 2.06-.94-2.06-.94-.94-2.06-.94 2.06-2.06.94z\"/><path d=\"M17.41 7.96l-1.37-1.37c-.4-.4-.92-.59-1.43-.59-.52 0-1.04.2-1.43.59L10.3 9.45l-7.72 7.72c-.78.78-.78 2.05 0 2.83L4 21.41c.39.39.9.59 1.41.59.51 0 1.02-.2 1.41-.59l7.78-7.78 2.81-2.81c.8-.78.8-2.07 0-2.86zM5.41 20L4 18.59l7.72-7.72 1.47 1.35L5.41 20z\"/>\n",
              "  </svg>\n",
              "      </button>\n",
              "\n",
              "\n",
              "\n",
              "    <div id=\"df-452babe9-be83-4ce6-aad9-6a5df43a368c\">\n",
              "      <button class=\"colab-df-quickchart\" onclick=\"quickchart('df-452babe9-be83-4ce6-aad9-6a5df43a368c')\"\n",
              "              title=\"Suggest charts.\"\n",
              "              style=\"display:none;\">\n",
              "\n",
              "<svg xmlns=\"http://www.w3.org/2000/svg\" height=\"24px\"viewBox=\"0 0 24 24\"\n",
              "     width=\"24px\">\n",
              "    <g>\n",
              "        <path d=\"M19 3H5c-1.1 0-2 .9-2 2v14c0 1.1.9 2 2 2h14c1.1 0 2-.9 2-2V5c0-1.1-.9-2-2-2zM9 17H7v-7h2v7zm4 0h-2V7h2v10zm4 0h-2v-4h2v4z\"/>\n",
              "    </g>\n",
              "</svg>\n",
              "      </button>\n",
              "    </div>\n",
              "\n",
              "<style>\n",
              "  .colab-df-quickchart {\n",
              "    background-color: #E8F0FE;\n",
              "    border: none;\n",
              "    border-radius: 50%;\n",
              "    cursor: pointer;\n",
              "    display: none;\n",
              "    fill: #1967D2;\n",
              "    height: 32px;\n",
              "    padding: 0 0 0 0;\n",
              "    width: 32px;\n",
              "  }\n",
              "\n",
              "  .colab-df-quickchart:hover {\n",
              "    background-color: #E2EBFA;\n",
              "    box-shadow: 0px 1px 2px rgba(60, 64, 67, 0.3), 0px 1px 3px 1px rgba(60, 64, 67, 0.15);\n",
              "    fill: #174EA6;\n",
              "  }\n",
              "\n",
              "  [theme=dark] .colab-df-quickchart {\n",
              "    background-color: #3B4455;\n",
              "    fill: #D2E3FC;\n",
              "  }\n",
              "\n",
              "  [theme=dark] .colab-df-quickchart:hover {\n",
              "    background-color: #434B5C;\n",
              "    box-shadow: 0px 1px 3px 1px rgba(0, 0, 0, 0.15);\n",
              "    filter: drop-shadow(0px 1px 2px rgba(0, 0, 0, 0.3));\n",
              "    fill: #FFFFFF;\n",
              "  }\n",
              "</style>\n",
              "\n",
              "    <script>\n",
              "      async function quickchart(key) {\n",
              "        const containerElement = document.querySelector('#' + key);\n",
              "        const charts = await google.colab.kernel.invokeFunction(\n",
              "            'suggestCharts', [key], {});\n",
              "      }\n",
              "    </script>\n",
              "\n",
              "      <script>\n",
              "\n",
              "function displayQuickchartButton(domScope) {\n",
              "  let quickchartButtonEl =\n",
              "    domScope.querySelector('#df-452babe9-be83-4ce6-aad9-6a5df43a368c button.colab-df-quickchart');\n",
              "  quickchartButtonEl.style.display =\n",
              "    google.colab.kernel.accessAllowed ? 'block' : 'none';\n",
              "}\n",
              "\n",
              "        displayQuickchartButton(document);\n",
              "      </script>\n",
              "      <style>\n",
              "    .colab-df-container {\n",
              "      display:flex;\n",
              "      flex-wrap:wrap;\n",
              "      gap: 12px;\n",
              "    }\n",
              "\n",
              "    .colab-df-convert {\n",
              "      background-color: #E8F0FE;\n",
              "      border: none;\n",
              "      border-radius: 50%;\n",
              "      cursor: pointer;\n",
              "      display: none;\n",
              "      fill: #1967D2;\n",
              "      height: 32px;\n",
              "      padding: 0 0 0 0;\n",
              "      width: 32px;\n",
              "    }\n",
              "\n",
              "    .colab-df-convert:hover {\n",
              "      background-color: #E2EBFA;\n",
              "      box-shadow: 0px 1px 2px rgba(60, 64, 67, 0.3), 0px 1px 3px 1px rgba(60, 64, 67, 0.15);\n",
              "      fill: #174EA6;\n",
              "    }\n",
              "\n",
              "    [theme=dark] .colab-df-convert {\n",
              "      background-color: #3B4455;\n",
              "      fill: #D2E3FC;\n",
              "    }\n",
              "\n",
              "    [theme=dark] .colab-df-convert:hover {\n",
              "      background-color: #434B5C;\n",
              "      box-shadow: 0px 1px 3px 1px rgba(0, 0, 0, 0.15);\n",
              "      filter: drop-shadow(0px 1px 2px rgba(0, 0, 0, 0.3));\n",
              "      fill: #FFFFFF;\n",
              "    }\n",
              "  </style>\n",
              "\n",
              "      <script>\n",
              "        const buttonEl =\n",
              "          document.querySelector('#df-dd55fc92-9eaf-46af-a5e3-c8d1dc963d42 button.colab-df-convert');\n",
              "        buttonEl.style.display =\n",
              "          google.colab.kernel.accessAllowed ? 'block' : 'none';\n",
              "\n",
              "        async function convertToInteractive(key) {\n",
              "          const element = document.querySelector('#df-dd55fc92-9eaf-46af-a5e3-c8d1dc963d42');\n",
              "          const dataTable =\n",
              "            await google.colab.kernel.invokeFunction('convertToInteractive',\n",
              "                                                     [key], {});\n",
              "          if (!dataTable) return;\n",
              "\n",
              "          const docLinkHtml = 'Like what you see? Visit the ' +\n",
              "            '<a target=\"_blank\" href=https://colab.research.google.com/notebooks/data_table.ipynb>data table notebook</a>'\n",
              "            + ' to learn more about interactive tables.';\n",
              "          element.innerHTML = '';\n",
              "          dataTable['output_type'] = 'display_data';\n",
              "          await google.colab.output.renderOutput(dataTable, element);\n",
              "          const docLink = document.createElement('div');\n",
              "          docLink.innerHTML = docLinkHtml;\n",
              "          element.appendChild(docLink);\n",
              "        }\n",
              "      </script>\n",
              "    </div>\n",
              "  </div>\n"
            ]
          },
          "metadata": {},
          "execution_count": 103
        }
      ]
    },
    {
      "cell_type": "code",
      "source": [
        "# Convert scaled collisions to collisions based on 2023 min and max records\n",
        "mod1ResultEx23 = np.round((mod1ResultEx[:10])*a23 +b23)\n",
        "mod1ResultEx23"
      ],
      "metadata": {
        "outputId": "668ff8cc-96e8-4c8e-f841-c2ba4285b4a0",
        "colab": {
          "base_uri": "https://localhost:8080/",
          "height": 363
        },
        "id": "8fAys-MnbeYO"
      },
      "execution_count": 104,
      "outputs": [
        {
          "output_type": "execute_result",
          "data": {
            "text/plain": [
              "   Validation result for 10 records from a test run\n",
              "0                                             232.0\n",
              "1                                             258.0\n",
              "2                                             199.0\n",
              "3                                             277.0\n",
              "4                                             261.0\n",
              "5                                             245.0\n",
              "6                                             169.0\n",
              "7                                             224.0\n",
              "8                                             208.0\n",
              "9                                             209.0"
            ],
            "text/html": [
              "\n",
              "\n",
              "  <div id=\"df-0a767a7d-2255-402c-9722-4128a1d38aad\">\n",
              "    <div class=\"colab-df-container\">\n",
              "      <div>\n",
              "<style scoped>\n",
              "    .dataframe tbody tr th:only-of-type {\n",
              "        vertical-align: middle;\n",
              "    }\n",
              "\n",
              "    .dataframe tbody tr th {\n",
              "        vertical-align: top;\n",
              "    }\n",
              "\n",
              "    .dataframe thead th {\n",
              "        text-align: right;\n",
              "    }\n",
              "</style>\n",
              "<table border=\"1\" class=\"dataframe\">\n",
              "  <thead>\n",
              "    <tr style=\"text-align: right;\">\n",
              "      <th></th>\n",
              "      <th>Validation result for 10 records from a test run</th>\n",
              "    </tr>\n",
              "  </thead>\n",
              "  <tbody>\n",
              "    <tr>\n",
              "      <th>0</th>\n",
              "      <td>232.0</td>\n",
              "    </tr>\n",
              "    <tr>\n",
              "      <th>1</th>\n",
              "      <td>258.0</td>\n",
              "    </tr>\n",
              "    <tr>\n",
              "      <th>2</th>\n",
              "      <td>199.0</td>\n",
              "    </tr>\n",
              "    <tr>\n",
              "      <th>3</th>\n",
              "      <td>277.0</td>\n",
              "    </tr>\n",
              "    <tr>\n",
              "      <th>4</th>\n",
              "      <td>261.0</td>\n",
              "    </tr>\n",
              "    <tr>\n",
              "      <th>5</th>\n",
              "      <td>245.0</td>\n",
              "    </tr>\n",
              "    <tr>\n",
              "      <th>6</th>\n",
              "      <td>169.0</td>\n",
              "    </tr>\n",
              "    <tr>\n",
              "      <th>7</th>\n",
              "      <td>224.0</td>\n",
              "    </tr>\n",
              "    <tr>\n",
              "      <th>8</th>\n",
              "      <td>208.0</td>\n",
              "    </tr>\n",
              "    <tr>\n",
              "      <th>9</th>\n",
              "      <td>209.0</td>\n",
              "    </tr>\n",
              "  </tbody>\n",
              "</table>\n",
              "</div>\n",
              "      <button class=\"colab-df-convert\" onclick=\"convertToInteractive('df-0a767a7d-2255-402c-9722-4128a1d38aad')\"\n",
              "              title=\"Convert this dataframe to an interactive table.\"\n",
              "              style=\"display:none;\">\n",
              "\n",
              "  <svg xmlns=\"http://www.w3.org/2000/svg\" height=\"24px\"viewBox=\"0 0 24 24\"\n",
              "       width=\"24px\">\n",
              "    <path d=\"M0 0h24v24H0V0z\" fill=\"none\"/>\n",
              "    <path d=\"M18.56 5.44l.94 2.06.94-2.06 2.06-.94-2.06-.94-.94-2.06-.94 2.06-2.06.94zm-11 1L8.5 8.5l.94-2.06 2.06-.94-2.06-.94L8.5 2.5l-.94 2.06-2.06.94zm10 10l.94 2.06.94-2.06 2.06-.94-2.06-.94-.94-2.06-.94 2.06-2.06.94z\"/><path d=\"M17.41 7.96l-1.37-1.37c-.4-.4-.92-.59-1.43-.59-.52 0-1.04.2-1.43.59L10.3 9.45l-7.72 7.72c-.78.78-.78 2.05 0 2.83L4 21.41c.39.39.9.59 1.41.59.51 0 1.02-.2 1.41-.59l7.78-7.78 2.81-2.81c.8-.78.8-2.07 0-2.86zM5.41 20L4 18.59l7.72-7.72 1.47 1.35L5.41 20z\"/>\n",
              "  </svg>\n",
              "      </button>\n",
              "\n",
              "\n",
              "\n",
              "    <div id=\"df-cedc464d-2a9e-4d81-829e-2354d098fa85\">\n",
              "      <button class=\"colab-df-quickchart\" onclick=\"quickchart('df-cedc464d-2a9e-4d81-829e-2354d098fa85')\"\n",
              "              title=\"Suggest charts.\"\n",
              "              style=\"display:none;\">\n",
              "\n",
              "<svg xmlns=\"http://www.w3.org/2000/svg\" height=\"24px\"viewBox=\"0 0 24 24\"\n",
              "     width=\"24px\">\n",
              "    <g>\n",
              "        <path d=\"M19 3H5c-1.1 0-2 .9-2 2v14c0 1.1.9 2 2 2h14c1.1 0 2-.9 2-2V5c0-1.1-.9-2-2-2zM9 17H7v-7h2v7zm4 0h-2V7h2v10zm4 0h-2v-4h2v4z\"/>\n",
              "    </g>\n",
              "</svg>\n",
              "      </button>\n",
              "    </div>\n",
              "\n",
              "<style>\n",
              "  .colab-df-quickchart {\n",
              "    background-color: #E8F0FE;\n",
              "    border: none;\n",
              "    border-radius: 50%;\n",
              "    cursor: pointer;\n",
              "    display: none;\n",
              "    fill: #1967D2;\n",
              "    height: 32px;\n",
              "    padding: 0 0 0 0;\n",
              "    width: 32px;\n",
              "  }\n",
              "\n",
              "  .colab-df-quickchart:hover {\n",
              "    background-color: #E2EBFA;\n",
              "    box-shadow: 0px 1px 2px rgba(60, 64, 67, 0.3), 0px 1px 3px 1px rgba(60, 64, 67, 0.15);\n",
              "    fill: #174EA6;\n",
              "  }\n",
              "\n",
              "  [theme=dark] .colab-df-quickchart {\n",
              "    background-color: #3B4455;\n",
              "    fill: #D2E3FC;\n",
              "  }\n",
              "\n",
              "  [theme=dark] .colab-df-quickchart:hover {\n",
              "    background-color: #434B5C;\n",
              "    box-shadow: 0px 1px 3px 1px rgba(0, 0, 0, 0.15);\n",
              "    filter: drop-shadow(0px 1px 2px rgba(0, 0, 0, 0.3));\n",
              "    fill: #FFFFFF;\n",
              "  }\n",
              "</style>\n",
              "\n",
              "    <script>\n",
              "      async function quickchart(key) {\n",
              "        const containerElement = document.querySelector('#' + key);\n",
              "        const charts = await google.colab.kernel.invokeFunction(\n",
              "            'suggestCharts', [key], {});\n",
              "      }\n",
              "    </script>\n",
              "\n",
              "      <script>\n",
              "\n",
              "function displayQuickchartButton(domScope) {\n",
              "  let quickchartButtonEl =\n",
              "    domScope.querySelector('#df-cedc464d-2a9e-4d81-829e-2354d098fa85 button.colab-df-quickchart');\n",
              "  quickchartButtonEl.style.display =\n",
              "    google.colab.kernel.accessAllowed ? 'block' : 'none';\n",
              "}\n",
              "\n",
              "        displayQuickchartButton(document);\n",
              "      </script>\n",
              "      <style>\n",
              "    .colab-df-container {\n",
              "      display:flex;\n",
              "      flex-wrap:wrap;\n",
              "      gap: 12px;\n",
              "    }\n",
              "\n",
              "    .colab-df-convert {\n",
              "      background-color: #E8F0FE;\n",
              "      border: none;\n",
              "      border-radius: 50%;\n",
              "      cursor: pointer;\n",
              "      display: none;\n",
              "      fill: #1967D2;\n",
              "      height: 32px;\n",
              "      padding: 0 0 0 0;\n",
              "      width: 32px;\n",
              "    }\n",
              "\n",
              "    .colab-df-convert:hover {\n",
              "      background-color: #E2EBFA;\n",
              "      box-shadow: 0px 1px 2px rgba(60, 64, 67, 0.3), 0px 1px 3px 1px rgba(60, 64, 67, 0.15);\n",
              "      fill: #174EA6;\n",
              "    }\n",
              "\n",
              "    [theme=dark] .colab-df-convert {\n",
              "      background-color: #3B4455;\n",
              "      fill: #D2E3FC;\n",
              "    }\n",
              "\n",
              "    [theme=dark] .colab-df-convert:hover {\n",
              "      background-color: #434B5C;\n",
              "      box-shadow: 0px 1px 3px 1px rgba(0, 0, 0, 0.15);\n",
              "      filter: drop-shadow(0px 1px 2px rgba(0, 0, 0, 0.3));\n",
              "      fill: #FFFFFF;\n",
              "    }\n",
              "  </style>\n",
              "\n",
              "      <script>\n",
              "        const buttonEl =\n",
              "          document.querySelector('#df-0a767a7d-2255-402c-9722-4128a1d38aad button.colab-df-convert');\n",
              "        buttonEl.style.display =\n",
              "          google.colab.kernel.accessAllowed ? 'block' : 'none';\n",
              "\n",
              "        async function convertToInteractive(key) {\n",
              "          const element = document.querySelector('#df-0a767a7d-2255-402c-9722-4128a1d38aad');\n",
              "          const dataTable =\n",
              "            await google.colab.kernel.invokeFunction('convertToInteractive',\n",
              "                                                     [key], {});\n",
              "          if (!dataTable) return;\n",
              "\n",
              "          const docLinkHtml = 'Like what you see? Visit the ' +\n",
              "            '<a target=\"_blank\" href=https://colab.research.google.com/notebooks/data_table.ipynb>data table notebook</a>'\n",
              "            + ' to learn more about interactive tables.';\n",
              "          element.innerHTML = '';\n",
              "          dataTable['output_type'] = 'display_data';\n",
              "          await google.colab.output.renderOutput(dataTable, element);\n",
              "          const docLink = document.createElement('div');\n",
              "          docLink.innerHTML = docLinkHtml;\n",
              "          element.appendChild(docLink);\n",
              "        }\n",
              "      </script>\n",
              "    </div>\n",
              "  </div>\n"
            ]
          },
          "metadata": {},
          "execution_count": 104
        }
      ]
    },
    {
      "cell_type": "markdown",
      "source": [
        "# Model 4 DNN - one-hot encoded months, days of week with temperature, wind speed and year\n"
      ],
      "metadata": {
        "id": "TyHszq8hyAg-"
      }
    },
    {
      "cell_type": "markdown",
      "source": [
        "Based on the previous results the Year should be an improvement as the DNN should be able to improve the predictions by taking the interactions with the year into account.  "
      ],
      "metadata": {
        "id": "2yg46Z6C3gGJ"
      }
    },
    {
      "cell_type": "code",
      "source": [
        "# remove num_collisions columns for this modeel\n",
        "dfwc_DNN_mm_day_yr_temp_wind_a = dfwc_DNN_mm_day_yr_temp_wind.drop(columns=['num_collisions'])"
      ],
      "metadata": {
        "id": "xDsHDMo_33qY"
      },
      "execution_count": 105,
      "outputs": []
    },
    {
      "cell_type": "code",
      "source": [
        "# check data - DNN data set to include months, daysofweek, temperature, scaledCollisions. Added num_collisions as a comparison reference also)\n",
        "dfwc_DNN_mm_day_yr_temp_wind_a[:5]"
      ],
      "metadata": {
        "colab": {
          "base_uri": "https://localhost:8080/",
          "height": 299
        },
        "id": "2JOefT9MyAg_",
        "outputId": "9248a3ad-b516-41a7-f7a1-f49d42b53c74"
      },
      "execution_count": 106,
      "outputs": [
        {
          "output_type": "execute_result",
          "data": {
            "text/plain": [
              "     Apr  Aug  Dec  Feb  Jan  Jul  Jun  Mar  May  Nov  ...  Mon  Sat  Sun  \\\n",
              "509    0    0    0    0    0    0    1    0    0    0  ...    0    0    0   \n",
              "291    0    0    0    0    0    0    0    0    0    0  ...    0    1    0   \n",
              "319    0    0    0    0    0    0    0    0    0    1  ...    0    1    0   \n",
              "260    0    0    0    0    0    0    0    0    0    0  ...    0    0    0   \n",
              "303    0    0    0    0    0    0    0    0    0    1  ...    0    0    0   \n",
              "\n",
              "     Thur  Tue  Wed  year  temperature  wind_speed  scaledCollisions  \n",
              "509     0    1    0  2022         20.8         5.0          0.686486  \n",
              "291     0    0    0  2021         14.1         6.3          0.823529  \n",
              "319     0    0    0  2021          2.6         8.4          0.392157  \n",
              "260     0    1    0  2021         20.4         8.8          0.549020  \n",
              "303     1    0    0  2021         11.3         3.2          0.529412  \n",
              "\n",
              "[5 rows x 23 columns]"
            ],
            "text/html": [
              "\n",
              "\n",
              "  <div id=\"df-edde0ac8-f79f-423c-a222-873f7bde37a5\">\n",
              "    <div class=\"colab-df-container\">\n",
              "      <div>\n",
              "<style scoped>\n",
              "    .dataframe tbody tr th:only-of-type {\n",
              "        vertical-align: middle;\n",
              "    }\n",
              "\n",
              "    .dataframe tbody tr th {\n",
              "        vertical-align: top;\n",
              "    }\n",
              "\n",
              "    .dataframe thead th {\n",
              "        text-align: right;\n",
              "    }\n",
              "</style>\n",
              "<table border=\"1\" class=\"dataframe\">\n",
              "  <thead>\n",
              "    <tr style=\"text-align: right;\">\n",
              "      <th></th>\n",
              "      <th>Apr</th>\n",
              "      <th>Aug</th>\n",
              "      <th>Dec</th>\n",
              "      <th>Feb</th>\n",
              "      <th>Jan</th>\n",
              "      <th>Jul</th>\n",
              "      <th>Jun</th>\n",
              "      <th>Mar</th>\n",
              "      <th>May</th>\n",
              "      <th>Nov</th>\n",
              "      <th>...</th>\n",
              "      <th>Mon</th>\n",
              "      <th>Sat</th>\n",
              "      <th>Sun</th>\n",
              "      <th>Thur</th>\n",
              "      <th>Tue</th>\n",
              "      <th>Wed</th>\n",
              "      <th>year</th>\n",
              "      <th>temperature</th>\n",
              "      <th>wind_speed</th>\n",
              "      <th>scaledCollisions</th>\n",
              "    </tr>\n",
              "  </thead>\n",
              "  <tbody>\n",
              "    <tr>\n",
              "      <th>509</th>\n",
              "      <td>0</td>\n",
              "      <td>0</td>\n",
              "      <td>0</td>\n",
              "      <td>0</td>\n",
              "      <td>0</td>\n",
              "      <td>0</td>\n",
              "      <td>1</td>\n",
              "      <td>0</td>\n",
              "      <td>0</td>\n",
              "      <td>0</td>\n",
              "      <td>...</td>\n",
              "      <td>0</td>\n",
              "      <td>0</td>\n",
              "      <td>0</td>\n",
              "      <td>0</td>\n",
              "      <td>1</td>\n",
              "      <td>0</td>\n",
              "      <td>2022</td>\n",
              "      <td>20.8</td>\n",
              "      <td>5.0</td>\n",
              "      <td>0.686486</td>\n",
              "    </tr>\n",
              "    <tr>\n",
              "      <th>291</th>\n",
              "      <td>0</td>\n",
              "      <td>0</td>\n",
              "      <td>0</td>\n",
              "      <td>0</td>\n",
              "      <td>0</td>\n",
              "      <td>0</td>\n",
              "      <td>0</td>\n",
              "      <td>0</td>\n",
              "      <td>0</td>\n",
              "      <td>0</td>\n",
              "      <td>...</td>\n",
              "      <td>0</td>\n",
              "      <td>1</td>\n",
              "      <td>0</td>\n",
              "      <td>0</td>\n",
              "      <td>0</td>\n",
              "      <td>0</td>\n",
              "      <td>2021</td>\n",
              "      <td>14.1</td>\n",
              "      <td>6.3</td>\n",
              "      <td>0.823529</td>\n",
              "    </tr>\n",
              "    <tr>\n",
              "      <th>319</th>\n",
              "      <td>0</td>\n",
              "      <td>0</td>\n",
              "      <td>0</td>\n",
              "      <td>0</td>\n",
              "      <td>0</td>\n",
              "      <td>0</td>\n",
              "      <td>0</td>\n",
              "      <td>0</td>\n",
              "      <td>0</td>\n",
              "      <td>1</td>\n",
              "      <td>...</td>\n",
              "      <td>0</td>\n",
              "      <td>1</td>\n",
              "      <td>0</td>\n",
              "      <td>0</td>\n",
              "      <td>0</td>\n",
              "      <td>0</td>\n",
              "      <td>2021</td>\n",
              "      <td>2.6</td>\n",
              "      <td>8.4</td>\n",
              "      <td>0.392157</td>\n",
              "    </tr>\n",
              "    <tr>\n",
              "      <th>260</th>\n",
              "      <td>0</td>\n",
              "      <td>0</td>\n",
              "      <td>0</td>\n",
              "      <td>0</td>\n",
              "      <td>0</td>\n",
              "      <td>0</td>\n",
              "      <td>0</td>\n",
              "      <td>0</td>\n",
              "      <td>0</td>\n",
              "      <td>0</td>\n",
              "      <td>...</td>\n",
              "      <td>0</td>\n",
              "      <td>0</td>\n",
              "      <td>0</td>\n",
              "      <td>0</td>\n",
              "      <td>1</td>\n",
              "      <td>0</td>\n",
              "      <td>2021</td>\n",
              "      <td>20.4</td>\n",
              "      <td>8.8</td>\n",
              "      <td>0.549020</td>\n",
              "    </tr>\n",
              "    <tr>\n",
              "      <th>303</th>\n",
              "      <td>0</td>\n",
              "      <td>0</td>\n",
              "      <td>0</td>\n",
              "      <td>0</td>\n",
              "      <td>0</td>\n",
              "      <td>0</td>\n",
              "      <td>0</td>\n",
              "      <td>0</td>\n",
              "      <td>0</td>\n",
              "      <td>1</td>\n",
              "      <td>...</td>\n",
              "      <td>0</td>\n",
              "      <td>0</td>\n",
              "      <td>0</td>\n",
              "      <td>1</td>\n",
              "      <td>0</td>\n",
              "      <td>0</td>\n",
              "      <td>2021</td>\n",
              "      <td>11.3</td>\n",
              "      <td>3.2</td>\n",
              "      <td>0.529412</td>\n",
              "    </tr>\n",
              "  </tbody>\n",
              "</table>\n",
              "<p>5 rows × 23 columns</p>\n",
              "</div>\n",
              "      <button class=\"colab-df-convert\" onclick=\"convertToInteractive('df-edde0ac8-f79f-423c-a222-873f7bde37a5')\"\n",
              "              title=\"Convert this dataframe to an interactive table.\"\n",
              "              style=\"display:none;\">\n",
              "\n",
              "  <svg xmlns=\"http://www.w3.org/2000/svg\" height=\"24px\"viewBox=\"0 0 24 24\"\n",
              "       width=\"24px\">\n",
              "    <path d=\"M0 0h24v24H0V0z\" fill=\"none\"/>\n",
              "    <path d=\"M18.56 5.44l.94 2.06.94-2.06 2.06-.94-2.06-.94-.94-2.06-.94 2.06-2.06.94zm-11 1L8.5 8.5l.94-2.06 2.06-.94-2.06-.94L8.5 2.5l-.94 2.06-2.06.94zm10 10l.94 2.06.94-2.06 2.06-.94-2.06-.94-.94-2.06-.94 2.06-2.06.94z\"/><path d=\"M17.41 7.96l-1.37-1.37c-.4-.4-.92-.59-1.43-.59-.52 0-1.04.2-1.43.59L10.3 9.45l-7.72 7.72c-.78.78-.78 2.05 0 2.83L4 21.41c.39.39.9.59 1.41.59.51 0 1.02-.2 1.41-.59l7.78-7.78 2.81-2.81c.8-.78.8-2.07 0-2.86zM5.41 20L4 18.59l7.72-7.72 1.47 1.35L5.41 20z\"/>\n",
              "  </svg>\n",
              "      </button>\n",
              "\n",
              "\n",
              "\n",
              "    <div id=\"df-170c4955-2787-47e1-adb4-1a5f7874b9d4\">\n",
              "      <button class=\"colab-df-quickchart\" onclick=\"quickchart('df-170c4955-2787-47e1-adb4-1a5f7874b9d4')\"\n",
              "              title=\"Suggest charts.\"\n",
              "              style=\"display:none;\">\n",
              "\n",
              "<svg xmlns=\"http://www.w3.org/2000/svg\" height=\"24px\"viewBox=\"0 0 24 24\"\n",
              "     width=\"24px\">\n",
              "    <g>\n",
              "        <path d=\"M19 3H5c-1.1 0-2 .9-2 2v14c0 1.1.9 2 2 2h14c1.1 0 2-.9 2-2V5c0-1.1-.9-2-2-2zM9 17H7v-7h2v7zm4 0h-2V7h2v10zm4 0h-2v-4h2v4z\"/>\n",
              "    </g>\n",
              "</svg>\n",
              "      </button>\n",
              "    </div>\n",
              "\n",
              "<style>\n",
              "  .colab-df-quickchart {\n",
              "    background-color: #E8F0FE;\n",
              "    border: none;\n",
              "    border-radius: 50%;\n",
              "    cursor: pointer;\n",
              "    display: none;\n",
              "    fill: #1967D2;\n",
              "    height: 32px;\n",
              "    padding: 0 0 0 0;\n",
              "    width: 32px;\n",
              "  }\n",
              "\n",
              "  .colab-df-quickchart:hover {\n",
              "    background-color: #E2EBFA;\n",
              "    box-shadow: 0px 1px 2px rgba(60, 64, 67, 0.3), 0px 1px 3px 1px rgba(60, 64, 67, 0.15);\n",
              "    fill: #174EA6;\n",
              "  }\n",
              "\n",
              "  [theme=dark] .colab-df-quickchart {\n",
              "    background-color: #3B4455;\n",
              "    fill: #D2E3FC;\n",
              "  }\n",
              "\n",
              "  [theme=dark] .colab-df-quickchart:hover {\n",
              "    background-color: #434B5C;\n",
              "    box-shadow: 0px 1px 3px 1px rgba(0, 0, 0, 0.15);\n",
              "    filter: drop-shadow(0px 1px 2px rgba(0, 0, 0, 0.3));\n",
              "    fill: #FFFFFF;\n",
              "  }\n",
              "</style>\n",
              "\n",
              "    <script>\n",
              "      async function quickchart(key) {\n",
              "        const containerElement = document.querySelector('#' + key);\n",
              "        const charts = await google.colab.kernel.invokeFunction(\n",
              "            'suggestCharts', [key], {});\n",
              "      }\n",
              "    </script>\n",
              "\n",
              "      <script>\n",
              "\n",
              "function displayQuickchartButton(domScope) {\n",
              "  let quickchartButtonEl =\n",
              "    domScope.querySelector('#df-170c4955-2787-47e1-adb4-1a5f7874b9d4 button.colab-df-quickchart');\n",
              "  quickchartButtonEl.style.display =\n",
              "    google.colab.kernel.accessAllowed ? 'block' : 'none';\n",
              "}\n",
              "\n",
              "        displayQuickchartButton(document);\n",
              "      </script>\n",
              "      <style>\n",
              "    .colab-df-container {\n",
              "      display:flex;\n",
              "      flex-wrap:wrap;\n",
              "      gap: 12px;\n",
              "    }\n",
              "\n",
              "    .colab-df-convert {\n",
              "      background-color: #E8F0FE;\n",
              "      border: none;\n",
              "      border-radius: 50%;\n",
              "      cursor: pointer;\n",
              "      display: none;\n",
              "      fill: #1967D2;\n",
              "      height: 32px;\n",
              "      padding: 0 0 0 0;\n",
              "      width: 32px;\n",
              "    }\n",
              "\n",
              "    .colab-df-convert:hover {\n",
              "      background-color: #E2EBFA;\n",
              "      box-shadow: 0px 1px 2px rgba(60, 64, 67, 0.3), 0px 1px 3px 1px rgba(60, 64, 67, 0.15);\n",
              "      fill: #174EA6;\n",
              "    }\n",
              "\n",
              "    [theme=dark] .colab-df-convert {\n",
              "      background-color: #3B4455;\n",
              "      fill: #D2E3FC;\n",
              "    }\n",
              "\n",
              "    [theme=dark] .colab-df-convert:hover {\n",
              "      background-color: #434B5C;\n",
              "      box-shadow: 0px 1px 3px 1px rgba(0, 0, 0, 0.15);\n",
              "      filter: drop-shadow(0px 1px 2px rgba(0, 0, 0, 0.3));\n",
              "      fill: #FFFFFF;\n",
              "    }\n",
              "  </style>\n",
              "\n",
              "      <script>\n",
              "        const buttonEl =\n",
              "          document.querySelector('#df-edde0ac8-f79f-423c-a222-873f7bde37a5 button.colab-df-convert');\n",
              "        buttonEl.style.display =\n",
              "          google.colab.kernel.accessAllowed ? 'block' : 'none';\n",
              "\n",
              "        async function convertToInteractive(key) {\n",
              "          const element = document.querySelector('#df-edde0ac8-f79f-423c-a222-873f7bde37a5');\n",
              "          const dataTable =\n",
              "            await google.colab.kernel.invokeFunction('convertToInteractive',\n",
              "                                                     [key], {});\n",
              "          if (!dataTable) return;\n",
              "\n",
              "          const docLinkHtml = 'Like what you see? Visit the ' +\n",
              "            '<a target=\"_blank\" href=https://colab.research.google.com/notebooks/data_table.ipynb>data table notebook</a>'\n",
              "            + ' to learn more about interactive tables.';\n",
              "          element.innerHTML = '';\n",
              "          dataTable['output_type'] = 'display_data';\n",
              "          await google.colab.output.renderOutput(dataTable, element);\n",
              "          const docLink = document.createElement('div');\n",
              "          docLink.innerHTML = docLinkHtml;\n",
              "          element.appendChild(docLink);\n",
              "        }\n",
              "      </script>\n",
              "    </div>\n",
              "  </div>\n"
            ]
          },
          "metadata": {},
          "execution_count": 106
        }
      ]
    },
    {
      "cell_type": "code",
      "source": [
        "# iterating the columns\n",
        "for col in dfwc_DNN_mm_day_yr_temp_wind_a.columns:\n",
        "    print(col)\n",
        "# This one has month, day of week, year, temperature, wind speed, num_trips"
      ],
      "metadata": {
        "colab": {
          "base_uri": "https://localhost:8080/"
        },
        "outputId": "a7263089-7a12-4c57-9b12-231035bcf2f5",
        "id": "DMgtiBSSyAhA"
      },
      "execution_count": 107,
      "outputs": [
        {
          "output_type": "stream",
          "name": "stdout",
          "text": [
            "Apr\n",
            "Aug\n",
            "Dec\n",
            "Feb\n",
            "Jan\n",
            "Jul\n",
            "Jun\n",
            "Mar\n",
            "May\n",
            "Nov\n",
            "Oct\n",
            "Sep\n",
            "Fri\n",
            "Mon\n",
            "Sat\n",
            "Sun\n",
            "Thur\n",
            "Tue\n",
            "Wed\n",
            "year\n",
            "temperature\n",
            "wind_speed\n",
            "scaledCollisions\n"
          ]
        }
      ]
    },
    {
      "cell_type": "code",
      "metadata": {
        "id": "UdAUgwkFyAhA"
      },
      "source": [
        "dfwc_dnn_dow_temp_mon_wnd_yr_input_data = [\n",
        "                  dfwc_DNN_mm_day_yr_temp_wind_a[\"year\"],\n",
        "                  dfwc_DNN_mm_day_yr_temp_wind_a[\"temperature\"],\n",
        "                  dfwc_DNN_mm_day_yr_temp_wind_a[\"wind_speed\"],\n",
        "                  dfwc_DNN_mm_day_yr_temp_wind_a[\"Sat\"], dfwc_DNN_mm_day_yr_temp_wind_a[\"Sun\"], dfwc_DNN_mm_day_yr_temp_wind_a[\"Mon\"], dfwc_DNN_mm_day_yr_temp_wind_a[\"Tue\"], dfwc_DNN_mm_day_yr_temp_wind_a[\"Wed\"], dfwc_DNN_mm_day_yr_temp_wind_a[\"Thur\"],dfwc_DNN_mm_day_yr_temp_wind_a[\"Fri\"],\n",
        "                  dfwc_DNN_mm_day_yr_temp_wind_a[\"Jan\"], dfwc_DNN_mm_day_yr_temp_wind_a[\"Feb\"], dfwc_DNN_mm_day_yr_temp_wind_a[\"Mar\"], dfwc_DNN_mm_day_yr_temp_wind_a[\"Apr\"], dfwc_DNN_mm_day_yr_temp_wind_a[\"May\"], dfwc_DNN_mm_day_yr_temp_wind_a[\"Jun\"], dfwc_DNN_mm_day_yr_temp_wind_a[\"Jul\"], dfwc_DNN_mm_day_yr_temp_wind_a[\"Aug\"], dfwc_DNN_mm_day_yr_temp_wind_a[\"Sep\"], dfwc_DNN_mm_day_yr_temp_wind_a[\"Oct\"], dfwc_DNN_mm_day_yr_temp_wind_a[\"Nov\"], dfwc_DNN_mm_day_yr_temp_wind_a[\"Dec\"],\n",
        "                  dfwc_DNN_mm_day_yr_temp_wind_a[\"scaledCollisions\"]]\n",
        "headers3 = [\"year\", \"temperature\", \"wind_speed\", \"Sat\",\"Sun\",\"Mon\",\"Tue\",\"Wed\",\"Thur\",\"Fri\",\"Jan\",\"Feb\",\"Mar\",\"Apr\",\"May\",\"Jun\",\"Jul\",\"Aug\",\"Sep\",\"Oct\",\"Nov\",\"Dec\",\n",
        "           \"scaledCollisions\"]\n",
        "dfwc_dnn_dow_temp_mon_wnd_yr_input = pd.concat(dfwc_dnn_dow_temp_mon_wnd_yr_input_data, axis=1, keys=headers3)\n"
      ],
      "execution_count": 108,
      "outputs": []
    },
    {
      "cell_type": "code",
      "source": [
        "dfwc_dnn_dow_temp_mon_wnd_yr_input.head()"
      ],
      "metadata": {
        "colab": {
          "base_uri": "https://localhost:8080/",
          "height": 299
        },
        "outputId": "dbfa3f08-6959-47ba-f524-8ad2a1bbe505",
        "id": "6vviTSyhyAhA"
      },
      "execution_count": 109,
      "outputs": [
        {
          "output_type": "execute_result",
          "data": {
            "text/plain": [
              "     year  temperature  wind_speed  Sat  Sun  Mon  Tue  Wed  Thur  Fri  ...  \\\n",
              "509  2022         20.8         5.0    0    0    0    1    0     0    0  ...   \n",
              "291  2021         14.1         6.3    1    0    0    0    0     0    0  ...   \n",
              "319  2021          2.6         8.4    1    0    0    0    0     0    0  ...   \n",
              "260  2021         20.4         8.8    0    0    0    1    0     0    0  ...   \n",
              "303  2021         11.3         3.2    0    0    0    0    0     1    0  ...   \n",
              "\n",
              "     Apr  May  Jun  Jul  Aug  Sep  Oct  Nov  Dec  scaledCollisions  \n",
              "509    0    0    1    0    0    0    0    0    0          0.686486  \n",
              "291    0    0    0    0    0    0    1    0    0          0.823529  \n",
              "319    0    0    0    0    0    0    0    1    0          0.392157  \n",
              "260    0    0    0    0    0    1    0    0    0          0.549020  \n",
              "303    0    0    0    0    0    0    0    1    0          0.529412  \n",
              "\n",
              "[5 rows x 23 columns]"
            ],
            "text/html": [
              "\n",
              "\n",
              "  <div id=\"df-778f10fd-8ca7-41c0-9218-c9418f2a8abc\">\n",
              "    <div class=\"colab-df-container\">\n",
              "      <div>\n",
              "<style scoped>\n",
              "    .dataframe tbody tr th:only-of-type {\n",
              "        vertical-align: middle;\n",
              "    }\n",
              "\n",
              "    .dataframe tbody tr th {\n",
              "        vertical-align: top;\n",
              "    }\n",
              "\n",
              "    .dataframe thead th {\n",
              "        text-align: right;\n",
              "    }\n",
              "</style>\n",
              "<table border=\"1\" class=\"dataframe\">\n",
              "  <thead>\n",
              "    <tr style=\"text-align: right;\">\n",
              "      <th></th>\n",
              "      <th>year</th>\n",
              "      <th>temperature</th>\n",
              "      <th>wind_speed</th>\n",
              "      <th>Sat</th>\n",
              "      <th>Sun</th>\n",
              "      <th>Mon</th>\n",
              "      <th>Tue</th>\n",
              "      <th>Wed</th>\n",
              "      <th>Thur</th>\n",
              "      <th>Fri</th>\n",
              "      <th>...</th>\n",
              "      <th>Apr</th>\n",
              "      <th>May</th>\n",
              "      <th>Jun</th>\n",
              "      <th>Jul</th>\n",
              "      <th>Aug</th>\n",
              "      <th>Sep</th>\n",
              "      <th>Oct</th>\n",
              "      <th>Nov</th>\n",
              "      <th>Dec</th>\n",
              "      <th>scaledCollisions</th>\n",
              "    </tr>\n",
              "  </thead>\n",
              "  <tbody>\n",
              "    <tr>\n",
              "      <th>509</th>\n",
              "      <td>2022</td>\n",
              "      <td>20.8</td>\n",
              "      <td>5.0</td>\n",
              "      <td>0</td>\n",
              "      <td>0</td>\n",
              "      <td>0</td>\n",
              "      <td>1</td>\n",
              "      <td>0</td>\n",
              "      <td>0</td>\n",
              "      <td>0</td>\n",
              "      <td>...</td>\n",
              "      <td>0</td>\n",
              "      <td>0</td>\n",
              "      <td>1</td>\n",
              "      <td>0</td>\n",
              "      <td>0</td>\n",
              "      <td>0</td>\n",
              "      <td>0</td>\n",
              "      <td>0</td>\n",
              "      <td>0</td>\n",
              "      <td>0.686486</td>\n",
              "    </tr>\n",
              "    <tr>\n",
              "      <th>291</th>\n",
              "      <td>2021</td>\n",
              "      <td>14.1</td>\n",
              "      <td>6.3</td>\n",
              "      <td>1</td>\n",
              "      <td>0</td>\n",
              "      <td>0</td>\n",
              "      <td>0</td>\n",
              "      <td>0</td>\n",
              "      <td>0</td>\n",
              "      <td>0</td>\n",
              "      <td>...</td>\n",
              "      <td>0</td>\n",
              "      <td>0</td>\n",
              "      <td>0</td>\n",
              "      <td>0</td>\n",
              "      <td>0</td>\n",
              "      <td>0</td>\n",
              "      <td>1</td>\n",
              "      <td>0</td>\n",
              "      <td>0</td>\n",
              "      <td>0.823529</td>\n",
              "    </tr>\n",
              "    <tr>\n",
              "      <th>319</th>\n",
              "      <td>2021</td>\n",
              "      <td>2.6</td>\n",
              "      <td>8.4</td>\n",
              "      <td>1</td>\n",
              "      <td>0</td>\n",
              "      <td>0</td>\n",
              "      <td>0</td>\n",
              "      <td>0</td>\n",
              "      <td>0</td>\n",
              "      <td>0</td>\n",
              "      <td>...</td>\n",
              "      <td>0</td>\n",
              "      <td>0</td>\n",
              "      <td>0</td>\n",
              "      <td>0</td>\n",
              "      <td>0</td>\n",
              "      <td>0</td>\n",
              "      <td>0</td>\n",
              "      <td>1</td>\n",
              "      <td>0</td>\n",
              "      <td>0.392157</td>\n",
              "    </tr>\n",
              "    <tr>\n",
              "      <th>260</th>\n",
              "      <td>2021</td>\n",
              "      <td>20.4</td>\n",
              "      <td>8.8</td>\n",
              "      <td>0</td>\n",
              "      <td>0</td>\n",
              "      <td>0</td>\n",
              "      <td>1</td>\n",
              "      <td>0</td>\n",
              "      <td>0</td>\n",
              "      <td>0</td>\n",
              "      <td>...</td>\n",
              "      <td>0</td>\n",
              "      <td>0</td>\n",
              "      <td>0</td>\n",
              "      <td>0</td>\n",
              "      <td>0</td>\n",
              "      <td>1</td>\n",
              "      <td>0</td>\n",
              "      <td>0</td>\n",
              "      <td>0</td>\n",
              "      <td>0.549020</td>\n",
              "    </tr>\n",
              "    <tr>\n",
              "      <th>303</th>\n",
              "      <td>2021</td>\n",
              "      <td>11.3</td>\n",
              "      <td>3.2</td>\n",
              "      <td>0</td>\n",
              "      <td>0</td>\n",
              "      <td>0</td>\n",
              "      <td>0</td>\n",
              "      <td>0</td>\n",
              "      <td>1</td>\n",
              "      <td>0</td>\n",
              "      <td>...</td>\n",
              "      <td>0</td>\n",
              "      <td>0</td>\n",
              "      <td>0</td>\n",
              "      <td>0</td>\n",
              "      <td>0</td>\n",
              "      <td>0</td>\n",
              "      <td>0</td>\n",
              "      <td>1</td>\n",
              "      <td>0</td>\n",
              "      <td>0.529412</td>\n",
              "    </tr>\n",
              "  </tbody>\n",
              "</table>\n",
              "<p>5 rows × 23 columns</p>\n",
              "</div>\n",
              "      <button class=\"colab-df-convert\" onclick=\"convertToInteractive('df-778f10fd-8ca7-41c0-9218-c9418f2a8abc')\"\n",
              "              title=\"Convert this dataframe to an interactive table.\"\n",
              "              style=\"display:none;\">\n",
              "\n",
              "  <svg xmlns=\"http://www.w3.org/2000/svg\" height=\"24px\"viewBox=\"0 0 24 24\"\n",
              "       width=\"24px\">\n",
              "    <path d=\"M0 0h24v24H0V0z\" fill=\"none\"/>\n",
              "    <path d=\"M18.56 5.44l.94 2.06.94-2.06 2.06-.94-2.06-.94-.94-2.06-.94 2.06-2.06.94zm-11 1L8.5 8.5l.94-2.06 2.06-.94-2.06-.94L8.5 2.5l-.94 2.06-2.06.94zm10 10l.94 2.06.94-2.06 2.06-.94-2.06-.94-.94-2.06-.94 2.06-2.06.94z\"/><path d=\"M17.41 7.96l-1.37-1.37c-.4-.4-.92-.59-1.43-.59-.52 0-1.04.2-1.43.59L10.3 9.45l-7.72 7.72c-.78.78-.78 2.05 0 2.83L4 21.41c.39.39.9.59 1.41.59.51 0 1.02-.2 1.41-.59l7.78-7.78 2.81-2.81c.8-.78.8-2.07 0-2.86zM5.41 20L4 18.59l7.72-7.72 1.47 1.35L5.41 20z\"/>\n",
              "  </svg>\n",
              "      </button>\n",
              "\n",
              "\n",
              "\n",
              "    <div id=\"df-79ca6beb-1f24-4067-8cc9-047810fa2516\">\n",
              "      <button class=\"colab-df-quickchart\" onclick=\"quickchart('df-79ca6beb-1f24-4067-8cc9-047810fa2516')\"\n",
              "              title=\"Suggest charts.\"\n",
              "              style=\"display:none;\">\n",
              "\n",
              "<svg xmlns=\"http://www.w3.org/2000/svg\" height=\"24px\"viewBox=\"0 0 24 24\"\n",
              "     width=\"24px\">\n",
              "    <g>\n",
              "        <path d=\"M19 3H5c-1.1 0-2 .9-2 2v14c0 1.1.9 2 2 2h14c1.1 0 2-.9 2-2V5c0-1.1-.9-2-2-2zM9 17H7v-7h2v7zm4 0h-2V7h2v10zm4 0h-2v-4h2v4z\"/>\n",
              "    </g>\n",
              "</svg>\n",
              "      </button>\n",
              "    </div>\n",
              "\n",
              "<style>\n",
              "  .colab-df-quickchart {\n",
              "    background-color: #E8F0FE;\n",
              "    border: none;\n",
              "    border-radius: 50%;\n",
              "    cursor: pointer;\n",
              "    display: none;\n",
              "    fill: #1967D2;\n",
              "    height: 32px;\n",
              "    padding: 0 0 0 0;\n",
              "    width: 32px;\n",
              "  }\n",
              "\n",
              "  .colab-df-quickchart:hover {\n",
              "    background-color: #E2EBFA;\n",
              "    box-shadow: 0px 1px 2px rgba(60, 64, 67, 0.3), 0px 1px 3px 1px rgba(60, 64, 67, 0.15);\n",
              "    fill: #174EA6;\n",
              "  }\n",
              "\n",
              "  [theme=dark] .colab-df-quickchart {\n",
              "    background-color: #3B4455;\n",
              "    fill: #D2E3FC;\n",
              "  }\n",
              "\n",
              "  [theme=dark] .colab-df-quickchart:hover {\n",
              "    background-color: #434B5C;\n",
              "    box-shadow: 0px 1px 3px 1px rgba(0, 0, 0, 0.15);\n",
              "    filter: drop-shadow(0px 1px 2px rgba(0, 0, 0, 0.3));\n",
              "    fill: #FFFFFF;\n",
              "  }\n",
              "</style>\n",
              "\n",
              "    <script>\n",
              "      async function quickchart(key) {\n",
              "        const containerElement = document.querySelector('#' + key);\n",
              "        const charts = await google.colab.kernel.invokeFunction(\n",
              "            'suggestCharts', [key], {});\n",
              "      }\n",
              "    </script>\n",
              "\n",
              "      <script>\n",
              "\n",
              "function displayQuickchartButton(domScope) {\n",
              "  let quickchartButtonEl =\n",
              "    domScope.querySelector('#df-79ca6beb-1f24-4067-8cc9-047810fa2516 button.colab-df-quickchart');\n",
              "  quickchartButtonEl.style.display =\n",
              "    google.colab.kernel.accessAllowed ? 'block' : 'none';\n",
              "}\n",
              "\n",
              "        displayQuickchartButton(document);\n",
              "      </script>\n",
              "      <style>\n",
              "    .colab-df-container {\n",
              "      display:flex;\n",
              "      flex-wrap:wrap;\n",
              "      gap: 12px;\n",
              "    }\n",
              "\n",
              "    .colab-df-convert {\n",
              "      background-color: #E8F0FE;\n",
              "      border: none;\n",
              "      border-radius: 50%;\n",
              "      cursor: pointer;\n",
              "      display: none;\n",
              "      fill: #1967D2;\n",
              "      height: 32px;\n",
              "      padding: 0 0 0 0;\n",
              "      width: 32px;\n",
              "    }\n",
              "\n",
              "    .colab-df-convert:hover {\n",
              "      background-color: #E2EBFA;\n",
              "      box-shadow: 0px 1px 2px rgba(60, 64, 67, 0.3), 0px 1px 3px 1px rgba(60, 64, 67, 0.15);\n",
              "      fill: #174EA6;\n",
              "    }\n",
              "\n",
              "    [theme=dark] .colab-df-convert {\n",
              "      background-color: #3B4455;\n",
              "      fill: #D2E3FC;\n",
              "    }\n",
              "\n",
              "    [theme=dark] .colab-df-convert:hover {\n",
              "      background-color: #434B5C;\n",
              "      box-shadow: 0px 1px 3px 1px rgba(0, 0, 0, 0.15);\n",
              "      filter: drop-shadow(0px 1px 2px rgba(0, 0, 0, 0.3));\n",
              "      fill: #FFFFFF;\n",
              "    }\n",
              "  </style>\n",
              "\n",
              "      <script>\n",
              "        const buttonEl =\n",
              "          document.querySelector('#df-778f10fd-8ca7-41c0-9218-c9418f2a8abc button.colab-df-convert');\n",
              "        buttonEl.style.display =\n",
              "          google.colab.kernel.accessAllowed ? 'block' : 'none';\n",
              "\n",
              "        async function convertToInteractive(key) {\n",
              "          const element = document.querySelector('#df-778f10fd-8ca7-41c0-9218-c9418f2a8abc');\n",
              "          const dataTable =\n",
              "            await google.colab.kernel.invokeFunction('convertToInteractive',\n",
              "                                                     [key], {});\n",
              "          if (!dataTable) return;\n",
              "\n",
              "          const docLinkHtml = 'Like what you see? Visit the ' +\n",
              "            '<a target=\"_blank\" href=https://colab.research.google.com/notebooks/data_table.ipynb>data table notebook</a>'\n",
              "            + ' to learn more about interactive tables.';\n",
              "          element.innerHTML = '';\n",
              "          dataTable['output_type'] = 'display_data';\n",
              "          await google.colab.output.renderOutput(dataTable, element);\n",
              "          const docLink = document.createElement('div');\n",
              "          docLink.innerHTML = docLinkHtml;\n",
              "          element.appendChild(docLink);\n",
              "        }\n",
              "      </script>\n",
              "    </div>\n",
              "  </div>\n"
            ]
          },
          "metadata": {},
          "execution_count": 109
        }
      ]
    },
    {
      "cell_type": "markdown",
      "source": [
        "### Training and test datasets"
      ],
      "metadata": {
        "id": "m3ooWCfRyAhA"
      }
    },
    {
      "cell_type": "code",
      "metadata": {
        "id": "ytC4A8MkyAhA"
      },
      "source": [
        "training_dataset4 = dfwc_dnn_dow_temp_mon_wnd_yr_input.sample(frac=0.8, random_state=0)\n",
        "test_dataset4 = dfwc_dnn_dow_temp_mon_wnd_yr_input.drop(training_dataset4.index)"
      ],
      "execution_count": 110,
      "outputs": []
    },
    {
      "cell_type": "code",
      "source": [
        "training_features4 = training_dataset4.copy()\n",
        "test_features4 = test_dataset4.copy()\n",
        "\n",
        "training_labels4 = training_features4.pop('scaledCollisions')\n",
        "test_labels4 = test_features4.pop('scaledCollisions')"
      ],
      "metadata": {
        "id": "15kNDYXDyAhB"
      },
      "execution_count": 111,
      "outputs": []
    },
    {
      "cell_type": "code",
      "source": [
        "# A scale is not required here, but the constant will be useful in the assignment.\n",
        "SCALE_NUM_COLLISIONS = 1.0"
      ],
      "metadata": {
        "id": "8hkE0CI-yAhB"
      },
      "execution_count": 112,
      "outputs": []
    },
    {
      "cell_type": "code",
      "source": [
        "training_labels4 = training_labels4/SCALE_NUM_COLLISIONS\n",
        "test_labels4 = test_labels4/SCALE_NUM_COLLISIONS"
      ],
      "metadata": {
        "id": "xwcZXmfWyAhB"
      },
      "execution_count": 113,
      "outputs": []
    },
    {
      "cell_type": "code",
      "source": [
        "for col in dfwc_dnn_dow_temp_mon_wnd_yr_input.columns:\n",
        "    print(col)\n",
        "# 22 excluding scaled collisions"
      ],
      "metadata": {
        "colab": {
          "base_uri": "https://localhost:8080/"
        },
        "outputId": "678815a4-7de2-4fe8-aa29-a1d982e23ebf",
        "id": "ogL4qUkVyAhB"
      },
      "execution_count": 114,
      "outputs": [
        {
          "output_type": "stream",
          "name": "stdout",
          "text": [
            "year\n",
            "temperature\n",
            "wind_speed\n",
            "Sat\n",
            "Sun\n",
            "Mon\n",
            "Tue\n",
            "Wed\n",
            "Thur\n",
            "Fri\n",
            "Jan\n",
            "Feb\n",
            "Mar\n",
            "Apr\n",
            "May\n",
            "Jun\n",
            "Jul\n",
            "Aug\n",
            "Sep\n",
            "Oct\n",
            "Nov\n",
            "Dec\n",
            "scaledCollisions\n"
          ]
        }
      ]
    },
    {
      "cell_type": "markdown",
      "source": [
        "## Model specification"
      ],
      "metadata": {
        "id": "GhPfG9HKLCUU"
      }
    },
    {
      "cell_type": "code",
      "source": [
        "normaliser4 = tf.keras.layers.Normalization(axis=-1)\n",
        "normaliser4.adapt(np.array(training_features4))"
      ],
      "metadata": {
        "id": "c-o5U_l8yAhB"
      },
      "execution_count": 115,
      "outputs": []
    },
    {
      "cell_type": "code",
      "source": [
        "# Normalisation layer (22 inputs), 2 layers of 46, with 1 output.\n",
        "# The 48 can be adjusted to improve the net.\n",
        "dnn_model_4 = keras.Sequential([\n",
        "      normaliser4,\n",
        "      layers.Dense(48, activation='relu'),\n",
        "      layers.Dense(48, activation='relu'),\n",
        "      layers.Dense(1)\n",
        "  ])\n",
        "\n",
        "dnn_model_4.compile(loss='mean_absolute_error',\n",
        "                optimizer=tf.keras.optimizers.Adam(0.001))"
      ],
      "metadata": {
        "id": "G0KRQe4QyAhB"
      },
      "execution_count": 116,
      "outputs": []
    },
    {
      "cell_type": "code",
      "source": [
        "# Print out the statistics\n",
        "dnn_model_4.summary()"
      ],
      "metadata": {
        "colab": {
          "base_uri": "https://localhost:8080/"
        },
        "id": "0eO9CbLdwgMz",
        "outputId": "23df98a1-c987-45ae-dabf-0b5011aaf072"
      },
      "execution_count": 117,
      "outputs": [
        {
          "output_type": "stream",
          "name": "stdout",
          "text": [
            "Model: \"sequential_3\"\n",
            "_________________________________________________________________\n",
            " Layer (type)                Output Shape              Param #   \n",
            "=================================================================\n",
            " normalization_3 (Normalizat  (None, 22)               45        \n",
            " ion)                                                            \n",
            "                                                                 \n",
            " dense_9 (Dense)             (None, 48)                1104      \n",
            "                                                                 \n",
            " dense_10 (Dense)            (None, 48)                2352      \n",
            "                                                                 \n",
            " dense_11 (Dense)            (None, 1)                 49        \n",
            "                                                                 \n",
            "=================================================================\n",
            "Total params: 3,550\n",
            "Trainable params: 3,505\n",
            "Non-trainable params: 45\n",
            "_________________________________________________________________\n"
          ]
        }
      ]
    },
    {
      "cell_type": "markdown",
      "source": [
        "### Train the model"
      ],
      "metadata": {
        "id": "LUOEDRtXVqOL"
      }
    },
    {
      "cell_type": "code",
      "source": [
        "%%time\n",
        "history4 = dnn_model_4.fit(\n",
        "    training_features4,\n",
        "    training_labels4,\n",
        "    validation_split=0.2,\n",
        "    verbose=0,\n",
        "    epochs=100)"
      ],
      "metadata": {
        "outputId": "d6cdc5c8-cc3d-46dd-d9a8-469438604476",
        "colab": {
          "base_uri": "https://localhost:8080/"
        },
        "id": "wd0JEQ57yAhC"
      },
      "execution_count": 118,
      "outputs": [
        {
          "output_type": "stream",
          "name": "stdout",
          "text": [
            "CPU times: user 7.39 s, sys: 270 ms, total: 7.66 s\n",
            "Wall time: 8.06 s\n"
          ]
        }
      ]
    },
    {
      "cell_type": "code",
      "source": [
        "#history4.history"
      ],
      "metadata": {
        "id": "XEWq3_vSTKy7"
      },
      "execution_count": 119,
      "outputs": []
    },
    {
      "cell_type": "markdown",
      "source": [
        "### Evaluate model 4 on the test data - 0.14182527363300323\n"
      ],
      "metadata": {
        "id": "WM6T4_6KX1WT"
      }
    },
    {
      "cell_type": "code",
      "source": [
        "# we want to minimise this. The model with the lowest is the best.\n",
        "dnn_model_4_results = dnn_model_4.evaluate(test_features4, test_labels4, verbose=1)\n",
        "print(dnn_model_4_results)"
      ],
      "metadata": {
        "outputId": "d186e187-9681-4be2-f261-25bc587ff8a7",
        "colab": {
          "base_uri": "https://localhost:8080/"
        },
        "id": "NEEqIGxVyAhC"
      },
      "execution_count": 120,
      "outputs": [
        {
          "output_type": "stream",
          "name": "stdout",
          "text": [
            "6/6 [==============================] - 0s 2ms/step - loss: 0.1531\n",
            "0.15312901139259338\n"
          ]
        }
      ]
    },
    {
      "cell_type": "markdown",
      "source": [
        "### Make predictions based on test data"
      ],
      "metadata": {
        "id": "g_03GCBm38oO"
      }
    },
    {
      "cell_type": "code",
      "source": [
        "# Make the predictions by the model on tHE TEST data\n",
        "print(\"Generate predictions for 10 samples\")\n",
        "linear_day_predictions4TD = dnn_model_4.predict(test_features4[:10])*SCALE_NUM_COLLISIONS\n",
        "linear_day_predictions4TD\n",
        "#print(\"predictions shape:\", linear_day_predictions4TD.shape)"
      ],
      "metadata": {
        "colab": {
          "base_uri": "https://localhost:8080/"
        },
        "outputId": "018cd37b-ba78-4b4e-bc32-adbdb4230067",
        "id": "30QQ78ns38oW"
      },
      "execution_count": 121,
      "outputs": [
        {
          "output_type": "stream",
          "name": "stdout",
          "text": [
            "Generate predictions for 10 samples\n"
          ]
        },
        {
          "output_type": "stream",
          "name": "stderr",
          "text": [
            "WARNING:tensorflow:5 out of the last 11 calls to <function Model.make_predict_function.<locals>.predict_function at 0x7d8db4585ab0> triggered tf.function retracing. Tracing is expensive and the excessive number of tracings could be due to (1) creating @tf.function repeatedly in a loop, (2) passing tensors with different shapes, (3) passing Python objects instead of tensors. For (1), please define your @tf.function outside of the loop. For (2), @tf.function has reduce_retracing=True option that can avoid unnecessary retracing. For (3), please refer to https://www.tensorflow.org/guide/function#controlling_retracing and https://www.tensorflow.org/api_docs/python/tf/function for  more details.\n"
          ]
        },
        {
          "output_type": "stream",
          "name": "stdout",
          "text": [
            "1/1 [==============================] - 0s 81ms/step\n"
          ]
        },
        {
          "output_type": "execute_result",
          "data": {
            "text/plain": [
              "array([[0.6923064 ],\n",
              "       [0.75036436],\n",
              "       [0.5306097 ],\n",
              "       [0.6593354 ],\n",
              "       [0.5731106 ],\n",
              "       [0.16558267],\n",
              "       [0.59583396],\n",
              "       [0.75916606],\n",
              "       [0.6769785 ],\n",
              "       [0.51561004]], dtype=float32)"
            ]
          },
          "metadata": {},
          "execution_count": 121
        }
      ]
    },
    {
      "cell_type": "markdown",
      "source": [
        "#### Convert to collisions"
      ],
      "metadata": {
        "id": "plyG7yr738oW"
      }
    },
    {
      "cell_type": "code",
      "source": [
        "# Make the predictions by the model on the TEST DATA data and convert based on scaledCollisions for 2022\n",
        "linear_day_predictions4TDConverted = np.round(dnn_model_4.predict(test_features4[:10])*a22 +b22)\n",
        "#*a22 +b22 is is to convert scaled collisions based on the values for 2022\n",
        "linear_day_predictions4TDConverted"
      ],
      "metadata": {
        "colab": {
          "base_uri": "https://localhost:8080/"
        },
        "outputId": "d60f63f2-d0b9-4ba4-b09f-c42b58ffa4c7",
        "id": "bInzbL8z38oX"
      },
      "execution_count": 122,
      "outputs": [
        {
          "output_type": "stream",
          "name": "stdout",
          "text": [
            "1/1 [==============================] - 0s 22ms/step\n"
          ]
        },
        {
          "output_type": "execute_result",
          "data": {
            "text/plain": [
              "array([[308.],\n",
              "       [319.],\n",
              "       [278.],\n",
              "       [302.],\n",
              "       [286.],\n",
              "       [211.],\n",
              "       [290.],\n",
              "       [320.],\n",
              "       [305.],\n",
              "       [275.]], dtype=float32)"
            ]
          },
          "metadata": {},
          "execution_count": 122
        }
      ]
    },
    {
      "cell_type": "markdown",
      "source": [
        "The above converted collision results are within a plausible range for the pattern for 2022 as an example."
      ],
      "metadata": {
        "id": "nv6kjbsg38oX"
      }
    },
    {
      "cell_type": "markdown",
      "source": [],
      "metadata": {
        "id": "5g3WbwBjdp-u"
      }
    },
    {
      "cell_type": "markdown",
      "source": [
        "#### Sample scaled collision output and collisions from a test run on validation data"
      ],
      "metadata": {
        "id": "8daDCpX5dqWg"
      }
    },
    {
      "cell_type": "markdown",
      "source": [
        "We will save a specific set of results and calculate the number of collisions for 2021-2023."
      ],
      "metadata": {
        "id": "xEr8vLLcdqWh"
      }
    },
    {
      "cell_type": "code",
      "source": [
        "mod4ResultEx  = pd.DataFrame.from_dict(data =\n",
        "\t\t\t\t{'Validation result for 10 records from a test run' : [\n",
        "\t\t\t\t\t\t0.5791915 ,0.2892152 ,0.33034623,0.8489659 ,0.6682229 ,0.661425  ,0.28268254,0.6141364 ,0.45860088,0.42453757]})\n",
        "mod4ResultEx"
      ],
      "metadata": {
        "outputId": "6aa38674-8ffd-4c3b-9c7f-0810e33ba2fd",
        "colab": {
          "base_uri": "https://localhost:8080/",
          "height": 363
        },
        "id": "Orl1V1rwdqWh"
      },
      "execution_count": 123,
      "outputs": [
        {
          "output_type": "execute_result",
          "data": {
            "text/plain": [
              "   Validation result for 10 records from a test run\n",
              "0                                          0.579191\n",
              "1                                          0.289215\n",
              "2                                          0.330346\n",
              "3                                          0.848966\n",
              "4                                          0.668223\n",
              "5                                          0.661425\n",
              "6                                          0.282683\n",
              "7                                          0.614136\n",
              "8                                          0.458601\n",
              "9                                          0.424538"
            ],
            "text/html": [
              "\n",
              "\n",
              "  <div id=\"df-b032fb25-f004-4ee9-ad83-fb7aedf4d238\">\n",
              "    <div class=\"colab-df-container\">\n",
              "      <div>\n",
              "<style scoped>\n",
              "    .dataframe tbody tr th:only-of-type {\n",
              "        vertical-align: middle;\n",
              "    }\n",
              "\n",
              "    .dataframe tbody tr th {\n",
              "        vertical-align: top;\n",
              "    }\n",
              "\n",
              "    .dataframe thead th {\n",
              "        text-align: right;\n",
              "    }\n",
              "</style>\n",
              "<table border=\"1\" class=\"dataframe\">\n",
              "  <thead>\n",
              "    <tr style=\"text-align: right;\">\n",
              "      <th></th>\n",
              "      <th>Validation result for 10 records from a test run</th>\n",
              "    </tr>\n",
              "  </thead>\n",
              "  <tbody>\n",
              "    <tr>\n",
              "      <th>0</th>\n",
              "      <td>0.579191</td>\n",
              "    </tr>\n",
              "    <tr>\n",
              "      <th>1</th>\n",
              "      <td>0.289215</td>\n",
              "    </tr>\n",
              "    <tr>\n",
              "      <th>2</th>\n",
              "      <td>0.330346</td>\n",
              "    </tr>\n",
              "    <tr>\n",
              "      <th>3</th>\n",
              "      <td>0.848966</td>\n",
              "    </tr>\n",
              "    <tr>\n",
              "      <th>4</th>\n",
              "      <td>0.668223</td>\n",
              "    </tr>\n",
              "    <tr>\n",
              "      <th>5</th>\n",
              "      <td>0.661425</td>\n",
              "    </tr>\n",
              "    <tr>\n",
              "      <th>6</th>\n",
              "      <td>0.282683</td>\n",
              "    </tr>\n",
              "    <tr>\n",
              "      <th>7</th>\n",
              "      <td>0.614136</td>\n",
              "    </tr>\n",
              "    <tr>\n",
              "      <th>8</th>\n",
              "      <td>0.458601</td>\n",
              "    </tr>\n",
              "    <tr>\n",
              "      <th>9</th>\n",
              "      <td>0.424538</td>\n",
              "    </tr>\n",
              "  </tbody>\n",
              "</table>\n",
              "</div>\n",
              "      <button class=\"colab-df-convert\" onclick=\"convertToInteractive('df-b032fb25-f004-4ee9-ad83-fb7aedf4d238')\"\n",
              "              title=\"Convert this dataframe to an interactive table.\"\n",
              "              style=\"display:none;\">\n",
              "\n",
              "  <svg xmlns=\"http://www.w3.org/2000/svg\" height=\"24px\"viewBox=\"0 0 24 24\"\n",
              "       width=\"24px\">\n",
              "    <path d=\"M0 0h24v24H0V0z\" fill=\"none\"/>\n",
              "    <path d=\"M18.56 5.44l.94 2.06.94-2.06 2.06-.94-2.06-.94-.94-2.06-.94 2.06-2.06.94zm-11 1L8.5 8.5l.94-2.06 2.06-.94-2.06-.94L8.5 2.5l-.94 2.06-2.06.94zm10 10l.94 2.06.94-2.06 2.06-.94-2.06-.94-.94-2.06-.94 2.06-2.06.94z\"/><path d=\"M17.41 7.96l-1.37-1.37c-.4-.4-.92-.59-1.43-.59-.52 0-1.04.2-1.43.59L10.3 9.45l-7.72 7.72c-.78.78-.78 2.05 0 2.83L4 21.41c.39.39.9.59 1.41.59.51 0 1.02-.2 1.41-.59l7.78-7.78 2.81-2.81c.8-.78.8-2.07 0-2.86zM5.41 20L4 18.59l7.72-7.72 1.47 1.35L5.41 20z\"/>\n",
              "  </svg>\n",
              "      </button>\n",
              "\n",
              "\n",
              "\n",
              "    <div id=\"df-09f01374-f5f7-424b-a625-9cd3492d8da7\">\n",
              "      <button class=\"colab-df-quickchart\" onclick=\"quickchart('df-09f01374-f5f7-424b-a625-9cd3492d8da7')\"\n",
              "              title=\"Suggest charts.\"\n",
              "              style=\"display:none;\">\n",
              "\n",
              "<svg xmlns=\"http://www.w3.org/2000/svg\" height=\"24px\"viewBox=\"0 0 24 24\"\n",
              "     width=\"24px\">\n",
              "    <g>\n",
              "        <path d=\"M19 3H5c-1.1 0-2 .9-2 2v14c0 1.1.9 2 2 2h14c1.1 0 2-.9 2-2V5c0-1.1-.9-2-2-2zM9 17H7v-7h2v7zm4 0h-2V7h2v10zm4 0h-2v-4h2v4z\"/>\n",
              "    </g>\n",
              "</svg>\n",
              "      </button>\n",
              "    </div>\n",
              "\n",
              "<style>\n",
              "  .colab-df-quickchart {\n",
              "    background-color: #E8F0FE;\n",
              "    border: none;\n",
              "    border-radius: 50%;\n",
              "    cursor: pointer;\n",
              "    display: none;\n",
              "    fill: #1967D2;\n",
              "    height: 32px;\n",
              "    padding: 0 0 0 0;\n",
              "    width: 32px;\n",
              "  }\n",
              "\n",
              "  .colab-df-quickchart:hover {\n",
              "    background-color: #E2EBFA;\n",
              "    box-shadow: 0px 1px 2px rgba(60, 64, 67, 0.3), 0px 1px 3px 1px rgba(60, 64, 67, 0.15);\n",
              "    fill: #174EA6;\n",
              "  }\n",
              "\n",
              "  [theme=dark] .colab-df-quickchart {\n",
              "    background-color: #3B4455;\n",
              "    fill: #D2E3FC;\n",
              "  }\n",
              "\n",
              "  [theme=dark] .colab-df-quickchart:hover {\n",
              "    background-color: #434B5C;\n",
              "    box-shadow: 0px 1px 3px 1px rgba(0, 0, 0, 0.15);\n",
              "    filter: drop-shadow(0px 1px 2px rgba(0, 0, 0, 0.3));\n",
              "    fill: #FFFFFF;\n",
              "  }\n",
              "</style>\n",
              "\n",
              "    <script>\n",
              "      async function quickchart(key) {\n",
              "        const containerElement = document.querySelector('#' + key);\n",
              "        const charts = await google.colab.kernel.invokeFunction(\n",
              "            'suggestCharts', [key], {});\n",
              "      }\n",
              "    </script>\n",
              "\n",
              "      <script>\n",
              "\n",
              "function displayQuickchartButton(domScope) {\n",
              "  let quickchartButtonEl =\n",
              "    domScope.querySelector('#df-09f01374-f5f7-424b-a625-9cd3492d8da7 button.colab-df-quickchart');\n",
              "  quickchartButtonEl.style.display =\n",
              "    google.colab.kernel.accessAllowed ? 'block' : 'none';\n",
              "}\n",
              "\n",
              "        displayQuickchartButton(document);\n",
              "      </script>\n",
              "      <style>\n",
              "    .colab-df-container {\n",
              "      display:flex;\n",
              "      flex-wrap:wrap;\n",
              "      gap: 12px;\n",
              "    }\n",
              "\n",
              "    .colab-df-convert {\n",
              "      background-color: #E8F0FE;\n",
              "      border: none;\n",
              "      border-radius: 50%;\n",
              "      cursor: pointer;\n",
              "      display: none;\n",
              "      fill: #1967D2;\n",
              "      height: 32px;\n",
              "      padding: 0 0 0 0;\n",
              "      width: 32px;\n",
              "    }\n",
              "\n",
              "    .colab-df-convert:hover {\n",
              "      background-color: #E2EBFA;\n",
              "      box-shadow: 0px 1px 2px rgba(60, 64, 67, 0.3), 0px 1px 3px 1px rgba(60, 64, 67, 0.15);\n",
              "      fill: #174EA6;\n",
              "    }\n",
              "\n",
              "    [theme=dark] .colab-df-convert {\n",
              "      background-color: #3B4455;\n",
              "      fill: #D2E3FC;\n",
              "    }\n",
              "\n",
              "    [theme=dark] .colab-df-convert:hover {\n",
              "      background-color: #434B5C;\n",
              "      box-shadow: 0px 1px 3px 1px rgba(0, 0, 0, 0.15);\n",
              "      filter: drop-shadow(0px 1px 2px rgba(0, 0, 0, 0.3));\n",
              "      fill: #FFFFFF;\n",
              "    }\n",
              "  </style>\n",
              "\n",
              "      <script>\n",
              "        const buttonEl =\n",
              "          document.querySelector('#df-b032fb25-f004-4ee9-ad83-fb7aedf4d238 button.colab-df-convert');\n",
              "        buttonEl.style.display =\n",
              "          google.colab.kernel.accessAllowed ? 'block' : 'none';\n",
              "\n",
              "        async function convertToInteractive(key) {\n",
              "          const element = document.querySelector('#df-b032fb25-f004-4ee9-ad83-fb7aedf4d238');\n",
              "          const dataTable =\n",
              "            await google.colab.kernel.invokeFunction('convertToInteractive',\n",
              "                                                     [key], {});\n",
              "          if (!dataTable) return;\n",
              "\n",
              "          const docLinkHtml = 'Like what you see? Visit the ' +\n",
              "            '<a target=\"_blank\" href=https://colab.research.google.com/notebooks/data_table.ipynb>data table notebook</a>'\n",
              "            + ' to learn more about interactive tables.';\n",
              "          element.innerHTML = '';\n",
              "          dataTable['output_type'] = 'display_data';\n",
              "          await google.colab.output.renderOutput(dataTable, element);\n",
              "          const docLink = document.createElement('div');\n",
              "          docLink.innerHTML = docLinkHtml;\n",
              "          element.appendChild(docLink);\n",
              "        }\n",
              "      </script>\n",
              "    </div>\n",
              "  </div>\n"
            ]
          },
          "metadata": {},
          "execution_count": 123
        }
      ]
    },
    {
      "cell_type": "code",
      "source": [
        "# Convert scaled collisions to collisions based on 2022 min and max records\n",
        "mod4ResultEx21 = np.round((mod4ResultEx[:10])*a21 +b21)\n",
        "mod4ResultEx21"
      ],
      "metadata": {
        "outputId": "5933c83d-db44-4881-99e0-2b62b7771cfa",
        "colab": {
          "base_uri": "https://localhost:8080/",
          "height": 363
        },
        "id": "0e1Cr-AzdqWh"
      },
      "execution_count": 124,
      "outputs": [
        {
          "output_type": "execute_result",
          "data": {
            "text/plain": [
              "   Validation result for 10 records from a test run\n",
              "0                                             302.0\n",
              "1                                             243.0\n",
              "2                                             251.0\n",
              "3                                             357.0\n",
              "4                                             320.0\n",
              "5                                             319.0\n",
              "6                                             242.0\n",
              "7                                             309.0\n",
              "8                                             278.0\n",
              "9                                             271.0"
            ],
            "text/html": [
              "\n",
              "\n",
              "  <div id=\"df-c9fe4003-9613-49a9-ad14-897a522e4895\">\n",
              "    <div class=\"colab-df-container\">\n",
              "      <div>\n",
              "<style scoped>\n",
              "    .dataframe tbody tr th:only-of-type {\n",
              "        vertical-align: middle;\n",
              "    }\n",
              "\n",
              "    .dataframe tbody tr th {\n",
              "        vertical-align: top;\n",
              "    }\n",
              "\n",
              "    .dataframe thead th {\n",
              "        text-align: right;\n",
              "    }\n",
              "</style>\n",
              "<table border=\"1\" class=\"dataframe\">\n",
              "  <thead>\n",
              "    <tr style=\"text-align: right;\">\n",
              "      <th></th>\n",
              "      <th>Validation result for 10 records from a test run</th>\n",
              "    </tr>\n",
              "  </thead>\n",
              "  <tbody>\n",
              "    <tr>\n",
              "      <th>0</th>\n",
              "      <td>302.0</td>\n",
              "    </tr>\n",
              "    <tr>\n",
              "      <th>1</th>\n",
              "      <td>243.0</td>\n",
              "    </tr>\n",
              "    <tr>\n",
              "      <th>2</th>\n",
              "      <td>251.0</td>\n",
              "    </tr>\n",
              "    <tr>\n",
              "      <th>3</th>\n",
              "      <td>357.0</td>\n",
              "    </tr>\n",
              "    <tr>\n",
              "      <th>4</th>\n",
              "      <td>320.0</td>\n",
              "    </tr>\n",
              "    <tr>\n",
              "      <th>5</th>\n",
              "      <td>319.0</td>\n",
              "    </tr>\n",
              "    <tr>\n",
              "      <th>6</th>\n",
              "      <td>242.0</td>\n",
              "    </tr>\n",
              "    <tr>\n",
              "      <th>7</th>\n",
              "      <td>309.0</td>\n",
              "    </tr>\n",
              "    <tr>\n",
              "      <th>8</th>\n",
              "      <td>278.0</td>\n",
              "    </tr>\n",
              "    <tr>\n",
              "      <th>9</th>\n",
              "      <td>271.0</td>\n",
              "    </tr>\n",
              "  </tbody>\n",
              "</table>\n",
              "</div>\n",
              "      <button class=\"colab-df-convert\" onclick=\"convertToInteractive('df-c9fe4003-9613-49a9-ad14-897a522e4895')\"\n",
              "              title=\"Convert this dataframe to an interactive table.\"\n",
              "              style=\"display:none;\">\n",
              "\n",
              "  <svg xmlns=\"http://www.w3.org/2000/svg\" height=\"24px\"viewBox=\"0 0 24 24\"\n",
              "       width=\"24px\">\n",
              "    <path d=\"M0 0h24v24H0V0z\" fill=\"none\"/>\n",
              "    <path d=\"M18.56 5.44l.94 2.06.94-2.06 2.06-.94-2.06-.94-.94-2.06-.94 2.06-2.06.94zm-11 1L8.5 8.5l.94-2.06 2.06-.94-2.06-.94L8.5 2.5l-.94 2.06-2.06.94zm10 10l.94 2.06.94-2.06 2.06-.94-2.06-.94-.94-2.06-.94 2.06-2.06.94z\"/><path d=\"M17.41 7.96l-1.37-1.37c-.4-.4-.92-.59-1.43-.59-.52 0-1.04.2-1.43.59L10.3 9.45l-7.72 7.72c-.78.78-.78 2.05 0 2.83L4 21.41c.39.39.9.59 1.41.59.51 0 1.02-.2 1.41-.59l7.78-7.78 2.81-2.81c.8-.78.8-2.07 0-2.86zM5.41 20L4 18.59l7.72-7.72 1.47 1.35L5.41 20z\"/>\n",
              "  </svg>\n",
              "      </button>\n",
              "\n",
              "\n",
              "\n",
              "    <div id=\"df-95725f82-a20d-4a67-8121-5276a4ee0c57\">\n",
              "      <button class=\"colab-df-quickchart\" onclick=\"quickchart('df-95725f82-a20d-4a67-8121-5276a4ee0c57')\"\n",
              "              title=\"Suggest charts.\"\n",
              "              style=\"display:none;\">\n",
              "\n",
              "<svg xmlns=\"http://www.w3.org/2000/svg\" height=\"24px\"viewBox=\"0 0 24 24\"\n",
              "     width=\"24px\">\n",
              "    <g>\n",
              "        <path d=\"M19 3H5c-1.1 0-2 .9-2 2v14c0 1.1.9 2 2 2h14c1.1 0 2-.9 2-2V5c0-1.1-.9-2-2-2zM9 17H7v-7h2v7zm4 0h-2V7h2v10zm4 0h-2v-4h2v4z\"/>\n",
              "    </g>\n",
              "</svg>\n",
              "      </button>\n",
              "    </div>\n",
              "\n",
              "<style>\n",
              "  .colab-df-quickchart {\n",
              "    background-color: #E8F0FE;\n",
              "    border: none;\n",
              "    border-radius: 50%;\n",
              "    cursor: pointer;\n",
              "    display: none;\n",
              "    fill: #1967D2;\n",
              "    height: 32px;\n",
              "    padding: 0 0 0 0;\n",
              "    width: 32px;\n",
              "  }\n",
              "\n",
              "  .colab-df-quickchart:hover {\n",
              "    background-color: #E2EBFA;\n",
              "    box-shadow: 0px 1px 2px rgba(60, 64, 67, 0.3), 0px 1px 3px 1px rgba(60, 64, 67, 0.15);\n",
              "    fill: #174EA6;\n",
              "  }\n",
              "\n",
              "  [theme=dark] .colab-df-quickchart {\n",
              "    background-color: #3B4455;\n",
              "    fill: #D2E3FC;\n",
              "  }\n",
              "\n",
              "  [theme=dark] .colab-df-quickchart:hover {\n",
              "    background-color: #434B5C;\n",
              "    box-shadow: 0px 1px 3px 1px rgba(0, 0, 0, 0.15);\n",
              "    filter: drop-shadow(0px 1px 2px rgba(0, 0, 0, 0.3));\n",
              "    fill: #FFFFFF;\n",
              "  }\n",
              "</style>\n",
              "\n",
              "    <script>\n",
              "      async function quickchart(key) {\n",
              "        const containerElement = document.querySelector('#' + key);\n",
              "        const charts = await google.colab.kernel.invokeFunction(\n",
              "            'suggestCharts', [key], {});\n",
              "      }\n",
              "    </script>\n",
              "\n",
              "      <script>\n",
              "\n",
              "function displayQuickchartButton(domScope) {\n",
              "  let quickchartButtonEl =\n",
              "    domScope.querySelector('#df-95725f82-a20d-4a67-8121-5276a4ee0c57 button.colab-df-quickchart');\n",
              "  quickchartButtonEl.style.display =\n",
              "    google.colab.kernel.accessAllowed ? 'block' : 'none';\n",
              "}\n",
              "\n",
              "        displayQuickchartButton(document);\n",
              "      </script>\n",
              "      <style>\n",
              "    .colab-df-container {\n",
              "      display:flex;\n",
              "      flex-wrap:wrap;\n",
              "      gap: 12px;\n",
              "    }\n",
              "\n",
              "    .colab-df-convert {\n",
              "      background-color: #E8F0FE;\n",
              "      border: none;\n",
              "      border-radius: 50%;\n",
              "      cursor: pointer;\n",
              "      display: none;\n",
              "      fill: #1967D2;\n",
              "      height: 32px;\n",
              "      padding: 0 0 0 0;\n",
              "      width: 32px;\n",
              "    }\n",
              "\n",
              "    .colab-df-convert:hover {\n",
              "      background-color: #E2EBFA;\n",
              "      box-shadow: 0px 1px 2px rgba(60, 64, 67, 0.3), 0px 1px 3px 1px rgba(60, 64, 67, 0.15);\n",
              "      fill: #174EA6;\n",
              "    }\n",
              "\n",
              "    [theme=dark] .colab-df-convert {\n",
              "      background-color: #3B4455;\n",
              "      fill: #D2E3FC;\n",
              "    }\n",
              "\n",
              "    [theme=dark] .colab-df-convert:hover {\n",
              "      background-color: #434B5C;\n",
              "      box-shadow: 0px 1px 3px 1px rgba(0, 0, 0, 0.15);\n",
              "      filter: drop-shadow(0px 1px 2px rgba(0, 0, 0, 0.3));\n",
              "      fill: #FFFFFF;\n",
              "    }\n",
              "  </style>\n",
              "\n",
              "      <script>\n",
              "        const buttonEl =\n",
              "          document.querySelector('#df-c9fe4003-9613-49a9-ad14-897a522e4895 button.colab-df-convert');\n",
              "        buttonEl.style.display =\n",
              "          google.colab.kernel.accessAllowed ? 'block' : 'none';\n",
              "\n",
              "        async function convertToInteractive(key) {\n",
              "          const element = document.querySelector('#df-c9fe4003-9613-49a9-ad14-897a522e4895');\n",
              "          const dataTable =\n",
              "            await google.colab.kernel.invokeFunction('convertToInteractive',\n",
              "                                                     [key], {});\n",
              "          if (!dataTable) return;\n",
              "\n",
              "          const docLinkHtml = 'Like what you see? Visit the ' +\n",
              "            '<a target=\"_blank\" href=https://colab.research.google.com/notebooks/data_table.ipynb>data table notebook</a>'\n",
              "            + ' to learn more about interactive tables.';\n",
              "          element.innerHTML = '';\n",
              "          dataTable['output_type'] = 'display_data';\n",
              "          await google.colab.output.renderOutput(dataTable, element);\n",
              "          const docLink = document.createElement('div');\n",
              "          docLink.innerHTML = docLinkHtml;\n",
              "          element.appendChild(docLink);\n",
              "        }\n",
              "      </script>\n",
              "    </div>\n",
              "  </div>\n"
            ]
          },
          "metadata": {},
          "execution_count": 124
        }
      ]
    },
    {
      "cell_type": "code",
      "source": [
        "# Convert scaled collisions to collisions based on 2022 min and max records\n",
        "mod4ResultEx22 = np.round((mod4ResultEx[:10])*a22 +b22)\n",
        "mod4ResultEx22"
      ],
      "metadata": {
        "outputId": "ec0bbd7c-8c9f-4da1-96a9-7bfd14f5b83e",
        "colab": {
          "base_uri": "https://localhost:8080/",
          "height": 363
        },
        "id": "5hqdgC5SdqWh"
      },
      "execution_count": 125,
      "outputs": [
        {
          "output_type": "execute_result",
          "data": {
            "text/plain": [
              "   Validation result for 10 records from a test run\n",
              "0                                             287.0\n",
              "1                                             234.0\n",
              "2                                             241.0\n",
              "3                                             337.0\n",
              "4                                             304.0\n",
              "5                                             302.0\n",
              "6                                             232.0\n",
              "7                                             294.0\n",
              "8                                             265.0\n",
              "9                                             259.0"
            ],
            "text/html": [
              "\n",
              "\n",
              "  <div id=\"df-03a40ef7-7793-4e38-b34f-85b96694edee\">\n",
              "    <div class=\"colab-df-container\">\n",
              "      <div>\n",
              "<style scoped>\n",
              "    .dataframe tbody tr th:only-of-type {\n",
              "        vertical-align: middle;\n",
              "    }\n",
              "\n",
              "    .dataframe tbody tr th {\n",
              "        vertical-align: top;\n",
              "    }\n",
              "\n",
              "    .dataframe thead th {\n",
              "        text-align: right;\n",
              "    }\n",
              "</style>\n",
              "<table border=\"1\" class=\"dataframe\">\n",
              "  <thead>\n",
              "    <tr style=\"text-align: right;\">\n",
              "      <th></th>\n",
              "      <th>Validation result for 10 records from a test run</th>\n",
              "    </tr>\n",
              "  </thead>\n",
              "  <tbody>\n",
              "    <tr>\n",
              "      <th>0</th>\n",
              "      <td>287.0</td>\n",
              "    </tr>\n",
              "    <tr>\n",
              "      <th>1</th>\n",
              "      <td>234.0</td>\n",
              "    </tr>\n",
              "    <tr>\n",
              "      <th>2</th>\n",
              "      <td>241.0</td>\n",
              "    </tr>\n",
              "    <tr>\n",
              "      <th>3</th>\n",
              "      <td>337.0</td>\n",
              "    </tr>\n",
              "    <tr>\n",
              "      <th>4</th>\n",
              "      <td>304.0</td>\n",
              "    </tr>\n",
              "    <tr>\n",
              "      <th>5</th>\n",
              "      <td>302.0</td>\n",
              "    </tr>\n",
              "    <tr>\n",
              "      <th>6</th>\n",
              "      <td>232.0</td>\n",
              "    </tr>\n",
              "    <tr>\n",
              "      <th>7</th>\n",
              "      <td>294.0</td>\n",
              "    </tr>\n",
              "    <tr>\n",
              "      <th>8</th>\n",
              "      <td>265.0</td>\n",
              "    </tr>\n",
              "    <tr>\n",
              "      <th>9</th>\n",
              "      <td>259.0</td>\n",
              "    </tr>\n",
              "  </tbody>\n",
              "</table>\n",
              "</div>\n",
              "      <button class=\"colab-df-convert\" onclick=\"convertToInteractive('df-03a40ef7-7793-4e38-b34f-85b96694edee')\"\n",
              "              title=\"Convert this dataframe to an interactive table.\"\n",
              "              style=\"display:none;\">\n",
              "\n",
              "  <svg xmlns=\"http://www.w3.org/2000/svg\" height=\"24px\"viewBox=\"0 0 24 24\"\n",
              "       width=\"24px\">\n",
              "    <path d=\"M0 0h24v24H0V0z\" fill=\"none\"/>\n",
              "    <path d=\"M18.56 5.44l.94 2.06.94-2.06 2.06-.94-2.06-.94-.94-2.06-.94 2.06-2.06.94zm-11 1L8.5 8.5l.94-2.06 2.06-.94-2.06-.94L8.5 2.5l-.94 2.06-2.06.94zm10 10l.94 2.06.94-2.06 2.06-.94-2.06-.94-.94-2.06-.94 2.06-2.06.94z\"/><path d=\"M17.41 7.96l-1.37-1.37c-.4-.4-.92-.59-1.43-.59-.52 0-1.04.2-1.43.59L10.3 9.45l-7.72 7.72c-.78.78-.78 2.05 0 2.83L4 21.41c.39.39.9.59 1.41.59.51 0 1.02-.2 1.41-.59l7.78-7.78 2.81-2.81c.8-.78.8-2.07 0-2.86zM5.41 20L4 18.59l7.72-7.72 1.47 1.35L5.41 20z\"/>\n",
              "  </svg>\n",
              "      </button>\n",
              "\n",
              "\n",
              "\n",
              "    <div id=\"df-6b24dcb4-d26f-4e35-8a10-54570b9a9a63\">\n",
              "      <button class=\"colab-df-quickchart\" onclick=\"quickchart('df-6b24dcb4-d26f-4e35-8a10-54570b9a9a63')\"\n",
              "              title=\"Suggest charts.\"\n",
              "              style=\"display:none;\">\n",
              "\n",
              "<svg xmlns=\"http://www.w3.org/2000/svg\" height=\"24px\"viewBox=\"0 0 24 24\"\n",
              "     width=\"24px\">\n",
              "    <g>\n",
              "        <path d=\"M19 3H5c-1.1 0-2 .9-2 2v14c0 1.1.9 2 2 2h14c1.1 0 2-.9 2-2V5c0-1.1-.9-2-2-2zM9 17H7v-7h2v7zm4 0h-2V7h2v10zm4 0h-2v-4h2v4z\"/>\n",
              "    </g>\n",
              "</svg>\n",
              "      </button>\n",
              "    </div>\n",
              "\n",
              "<style>\n",
              "  .colab-df-quickchart {\n",
              "    background-color: #E8F0FE;\n",
              "    border: none;\n",
              "    border-radius: 50%;\n",
              "    cursor: pointer;\n",
              "    display: none;\n",
              "    fill: #1967D2;\n",
              "    height: 32px;\n",
              "    padding: 0 0 0 0;\n",
              "    width: 32px;\n",
              "  }\n",
              "\n",
              "  .colab-df-quickchart:hover {\n",
              "    background-color: #E2EBFA;\n",
              "    box-shadow: 0px 1px 2px rgba(60, 64, 67, 0.3), 0px 1px 3px 1px rgba(60, 64, 67, 0.15);\n",
              "    fill: #174EA6;\n",
              "  }\n",
              "\n",
              "  [theme=dark] .colab-df-quickchart {\n",
              "    background-color: #3B4455;\n",
              "    fill: #D2E3FC;\n",
              "  }\n",
              "\n",
              "  [theme=dark] .colab-df-quickchart:hover {\n",
              "    background-color: #434B5C;\n",
              "    box-shadow: 0px 1px 3px 1px rgba(0, 0, 0, 0.15);\n",
              "    filter: drop-shadow(0px 1px 2px rgba(0, 0, 0, 0.3));\n",
              "    fill: #FFFFFF;\n",
              "  }\n",
              "</style>\n",
              "\n",
              "    <script>\n",
              "      async function quickchart(key) {\n",
              "        const containerElement = document.querySelector('#' + key);\n",
              "        const charts = await google.colab.kernel.invokeFunction(\n",
              "            'suggestCharts', [key], {});\n",
              "      }\n",
              "    </script>\n",
              "\n",
              "      <script>\n",
              "\n",
              "function displayQuickchartButton(domScope) {\n",
              "  let quickchartButtonEl =\n",
              "    domScope.querySelector('#df-6b24dcb4-d26f-4e35-8a10-54570b9a9a63 button.colab-df-quickchart');\n",
              "  quickchartButtonEl.style.display =\n",
              "    google.colab.kernel.accessAllowed ? 'block' : 'none';\n",
              "}\n",
              "\n",
              "        displayQuickchartButton(document);\n",
              "      </script>\n",
              "      <style>\n",
              "    .colab-df-container {\n",
              "      display:flex;\n",
              "      flex-wrap:wrap;\n",
              "      gap: 12px;\n",
              "    }\n",
              "\n",
              "    .colab-df-convert {\n",
              "      background-color: #E8F0FE;\n",
              "      border: none;\n",
              "      border-radius: 50%;\n",
              "      cursor: pointer;\n",
              "      display: none;\n",
              "      fill: #1967D2;\n",
              "      height: 32px;\n",
              "      padding: 0 0 0 0;\n",
              "      width: 32px;\n",
              "    }\n",
              "\n",
              "    .colab-df-convert:hover {\n",
              "      background-color: #E2EBFA;\n",
              "      box-shadow: 0px 1px 2px rgba(60, 64, 67, 0.3), 0px 1px 3px 1px rgba(60, 64, 67, 0.15);\n",
              "      fill: #174EA6;\n",
              "    }\n",
              "\n",
              "    [theme=dark] .colab-df-convert {\n",
              "      background-color: #3B4455;\n",
              "      fill: #D2E3FC;\n",
              "    }\n",
              "\n",
              "    [theme=dark] .colab-df-convert:hover {\n",
              "      background-color: #434B5C;\n",
              "      box-shadow: 0px 1px 3px 1px rgba(0, 0, 0, 0.15);\n",
              "      filter: drop-shadow(0px 1px 2px rgba(0, 0, 0, 0.3));\n",
              "      fill: #FFFFFF;\n",
              "    }\n",
              "  </style>\n",
              "\n",
              "      <script>\n",
              "        const buttonEl =\n",
              "          document.querySelector('#df-03a40ef7-7793-4e38-b34f-85b96694edee button.colab-df-convert');\n",
              "        buttonEl.style.display =\n",
              "          google.colab.kernel.accessAllowed ? 'block' : 'none';\n",
              "\n",
              "        async function convertToInteractive(key) {\n",
              "          const element = document.querySelector('#df-03a40ef7-7793-4e38-b34f-85b96694edee');\n",
              "          const dataTable =\n",
              "            await google.colab.kernel.invokeFunction('convertToInteractive',\n",
              "                                                     [key], {});\n",
              "          if (!dataTable) return;\n",
              "\n",
              "          const docLinkHtml = 'Like what you see? Visit the ' +\n",
              "            '<a target=\"_blank\" href=https://colab.research.google.com/notebooks/data_table.ipynb>data table notebook</a>'\n",
              "            + ' to learn more about interactive tables.';\n",
              "          element.innerHTML = '';\n",
              "          dataTable['output_type'] = 'display_data';\n",
              "          await google.colab.output.renderOutput(dataTable, element);\n",
              "          const docLink = document.createElement('div');\n",
              "          docLink.innerHTML = docLinkHtml;\n",
              "          element.appendChild(docLink);\n",
              "        }\n",
              "      </script>\n",
              "    </div>\n",
              "  </div>\n"
            ]
          },
          "metadata": {},
          "execution_count": 125
        }
      ]
    },
    {
      "cell_type": "code",
      "source": [
        "# Convert scaled collisions to collisions based on 2023 min and max records\n",
        "mod4ResultEx23 = np.round((mod4ResultEx[:10])*a23 +b23)\n",
        "mod4ResultEx23"
      ],
      "metadata": {
        "outputId": "55868bb3-0811-4ee8-b956-c5397d16abf0",
        "colab": {
          "base_uri": "https://localhost:8080/",
          "height": 363
        },
        "id": "YOrdbzWgdqWh"
      },
      "execution_count": 126,
      "outputs": [
        {
          "output_type": "execute_result",
          "data": {
            "text/plain": [
              "   Validation result for 10 records from a test run\n",
              "0                                             236.0\n",
              "1                                             182.0\n",
              "2                                             189.0\n",
              "3                                             286.0\n",
              "4                                             252.0\n",
              "5                                             251.0\n",
              "6                                             181.0\n",
              "7                                             242.0\n",
              "8                                             213.0\n",
              "9                                             207.0"
            ],
            "text/html": [
              "\n",
              "\n",
              "  <div id=\"df-958099e6-646a-4fd1-8dd4-17cd17850e53\">\n",
              "    <div class=\"colab-df-container\">\n",
              "      <div>\n",
              "<style scoped>\n",
              "    .dataframe tbody tr th:only-of-type {\n",
              "        vertical-align: middle;\n",
              "    }\n",
              "\n",
              "    .dataframe tbody tr th {\n",
              "        vertical-align: top;\n",
              "    }\n",
              "\n",
              "    .dataframe thead th {\n",
              "        text-align: right;\n",
              "    }\n",
              "</style>\n",
              "<table border=\"1\" class=\"dataframe\">\n",
              "  <thead>\n",
              "    <tr style=\"text-align: right;\">\n",
              "      <th></th>\n",
              "      <th>Validation result for 10 records from a test run</th>\n",
              "    </tr>\n",
              "  </thead>\n",
              "  <tbody>\n",
              "    <tr>\n",
              "      <th>0</th>\n",
              "      <td>236.0</td>\n",
              "    </tr>\n",
              "    <tr>\n",
              "      <th>1</th>\n",
              "      <td>182.0</td>\n",
              "    </tr>\n",
              "    <tr>\n",
              "      <th>2</th>\n",
              "      <td>189.0</td>\n",
              "    </tr>\n",
              "    <tr>\n",
              "      <th>3</th>\n",
              "      <td>286.0</td>\n",
              "    </tr>\n",
              "    <tr>\n",
              "      <th>4</th>\n",
              "      <td>252.0</td>\n",
              "    </tr>\n",
              "    <tr>\n",
              "      <th>5</th>\n",
              "      <td>251.0</td>\n",
              "    </tr>\n",
              "    <tr>\n",
              "      <th>6</th>\n",
              "      <td>181.0</td>\n",
              "    </tr>\n",
              "    <tr>\n",
              "      <th>7</th>\n",
              "      <td>242.0</td>\n",
              "    </tr>\n",
              "    <tr>\n",
              "      <th>8</th>\n",
              "      <td>213.0</td>\n",
              "    </tr>\n",
              "    <tr>\n",
              "      <th>9</th>\n",
              "      <td>207.0</td>\n",
              "    </tr>\n",
              "  </tbody>\n",
              "</table>\n",
              "</div>\n",
              "      <button class=\"colab-df-convert\" onclick=\"convertToInteractive('df-958099e6-646a-4fd1-8dd4-17cd17850e53')\"\n",
              "              title=\"Convert this dataframe to an interactive table.\"\n",
              "              style=\"display:none;\">\n",
              "\n",
              "  <svg xmlns=\"http://www.w3.org/2000/svg\" height=\"24px\"viewBox=\"0 0 24 24\"\n",
              "       width=\"24px\">\n",
              "    <path d=\"M0 0h24v24H0V0z\" fill=\"none\"/>\n",
              "    <path d=\"M18.56 5.44l.94 2.06.94-2.06 2.06-.94-2.06-.94-.94-2.06-.94 2.06-2.06.94zm-11 1L8.5 8.5l.94-2.06 2.06-.94-2.06-.94L8.5 2.5l-.94 2.06-2.06.94zm10 10l.94 2.06.94-2.06 2.06-.94-2.06-.94-.94-2.06-.94 2.06-2.06.94z\"/><path d=\"M17.41 7.96l-1.37-1.37c-.4-.4-.92-.59-1.43-.59-.52 0-1.04.2-1.43.59L10.3 9.45l-7.72 7.72c-.78.78-.78 2.05 0 2.83L4 21.41c.39.39.9.59 1.41.59.51 0 1.02-.2 1.41-.59l7.78-7.78 2.81-2.81c.8-.78.8-2.07 0-2.86zM5.41 20L4 18.59l7.72-7.72 1.47 1.35L5.41 20z\"/>\n",
              "  </svg>\n",
              "      </button>\n",
              "\n",
              "\n",
              "\n",
              "    <div id=\"df-3b2af876-1cc8-4029-ae50-3408bbdf8c65\">\n",
              "      <button class=\"colab-df-quickchart\" onclick=\"quickchart('df-3b2af876-1cc8-4029-ae50-3408bbdf8c65')\"\n",
              "              title=\"Suggest charts.\"\n",
              "              style=\"display:none;\">\n",
              "\n",
              "<svg xmlns=\"http://www.w3.org/2000/svg\" height=\"24px\"viewBox=\"0 0 24 24\"\n",
              "     width=\"24px\">\n",
              "    <g>\n",
              "        <path d=\"M19 3H5c-1.1 0-2 .9-2 2v14c0 1.1.9 2 2 2h14c1.1 0 2-.9 2-2V5c0-1.1-.9-2-2-2zM9 17H7v-7h2v7zm4 0h-2V7h2v10zm4 0h-2v-4h2v4z\"/>\n",
              "    </g>\n",
              "</svg>\n",
              "      </button>\n",
              "    </div>\n",
              "\n",
              "<style>\n",
              "  .colab-df-quickchart {\n",
              "    background-color: #E8F0FE;\n",
              "    border: none;\n",
              "    border-radius: 50%;\n",
              "    cursor: pointer;\n",
              "    display: none;\n",
              "    fill: #1967D2;\n",
              "    height: 32px;\n",
              "    padding: 0 0 0 0;\n",
              "    width: 32px;\n",
              "  }\n",
              "\n",
              "  .colab-df-quickchart:hover {\n",
              "    background-color: #E2EBFA;\n",
              "    box-shadow: 0px 1px 2px rgba(60, 64, 67, 0.3), 0px 1px 3px 1px rgba(60, 64, 67, 0.15);\n",
              "    fill: #174EA6;\n",
              "  }\n",
              "\n",
              "  [theme=dark] .colab-df-quickchart {\n",
              "    background-color: #3B4455;\n",
              "    fill: #D2E3FC;\n",
              "  }\n",
              "\n",
              "  [theme=dark] .colab-df-quickchart:hover {\n",
              "    background-color: #434B5C;\n",
              "    box-shadow: 0px 1px 3px 1px rgba(0, 0, 0, 0.15);\n",
              "    filter: drop-shadow(0px 1px 2px rgba(0, 0, 0, 0.3));\n",
              "    fill: #FFFFFF;\n",
              "  }\n",
              "</style>\n",
              "\n",
              "    <script>\n",
              "      async function quickchart(key) {\n",
              "        const containerElement = document.querySelector('#' + key);\n",
              "        const charts = await google.colab.kernel.invokeFunction(\n",
              "            'suggestCharts', [key], {});\n",
              "      }\n",
              "    </script>\n",
              "\n",
              "      <script>\n",
              "\n",
              "function displayQuickchartButton(domScope) {\n",
              "  let quickchartButtonEl =\n",
              "    domScope.querySelector('#df-3b2af876-1cc8-4029-ae50-3408bbdf8c65 button.colab-df-quickchart');\n",
              "  quickchartButtonEl.style.display =\n",
              "    google.colab.kernel.accessAllowed ? 'block' : 'none';\n",
              "}\n",
              "\n",
              "        displayQuickchartButton(document);\n",
              "      </script>\n",
              "      <style>\n",
              "    .colab-df-container {\n",
              "      display:flex;\n",
              "      flex-wrap:wrap;\n",
              "      gap: 12px;\n",
              "    }\n",
              "\n",
              "    .colab-df-convert {\n",
              "      background-color: #E8F0FE;\n",
              "      border: none;\n",
              "      border-radius: 50%;\n",
              "      cursor: pointer;\n",
              "      display: none;\n",
              "      fill: #1967D2;\n",
              "      height: 32px;\n",
              "      padding: 0 0 0 0;\n",
              "      width: 32px;\n",
              "    }\n",
              "\n",
              "    .colab-df-convert:hover {\n",
              "      background-color: #E2EBFA;\n",
              "      box-shadow: 0px 1px 2px rgba(60, 64, 67, 0.3), 0px 1px 3px 1px rgba(60, 64, 67, 0.15);\n",
              "      fill: #174EA6;\n",
              "    }\n",
              "\n",
              "    [theme=dark] .colab-df-convert {\n",
              "      background-color: #3B4455;\n",
              "      fill: #D2E3FC;\n",
              "    }\n",
              "\n",
              "    [theme=dark] .colab-df-convert:hover {\n",
              "      background-color: #434B5C;\n",
              "      box-shadow: 0px 1px 3px 1px rgba(0, 0, 0, 0.15);\n",
              "      filter: drop-shadow(0px 1px 2px rgba(0, 0, 0, 0.3));\n",
              "      fill: #FFFFFF;\n",
              "    }\n",
              "  </style>\n",
              "\n",
              "      <script>\n",
              "        const buttonEl =\n",
              "          document.querySelector('#df-958099e6-646a-4fd1-8dd4-17cd17850e53 button.colab-df-convert');\n",
              "        buttonEl.style.display =\n",
              "          google.colab.kernel.accessAllowed ? 'block' : 'none';\n",
              "\n",
              "        async function convertToInteractive(key) {\n",
              "          const element = document.querySelector('#df-958099e6-646a-4fd1-8dd4-17cd17850e53');\n",
              "          const dataTable =\n",
              "            await google.colab.kernel.invokeFunction('convertToInteractive',\n",
              "                                                     [key], {});\n",
              "          if (!dataTable) return;\n",
              "\n",
              "          const docLinkHtml = 'Like what you see? Visit the ' +\n",
              "            '<a target=\"_blank\" href=https://colab.research.google.com/notebooks/data_table.ipynb>data table notebook</a>'\n",
              "            + ' to learn more about interactive tables.';\n",
              "          element.innerHTML = '';\n",
              "          dataTable['output_type'] = 'display_data';\n",
              "          await google.colab.output.renderOutput(dataTable, element);\n",
              "          const docLink = document.createElement('div');\n",
              "          docLink.innerHTML = docLinkHtml;\n",
              "          element.appendChild(docLink);\n",
              "        }\n",
              "      </script>\n",
              "    </div>\n",
              "  </div>\n"
            ]
          },
          "metadata": {},
          "execution_count": 126
        }
      ]
    },
    {
      "cell_type": "markdown",
      "source": [
        "### Define hypotectical data and run"
      ],
      "metadata": {
        "id": "1zwBqC9RcGpu"
      }
    },
    {
      "cell_type": "code",
      "metadata": {
        "id": "dgThWgpOyAhC"
      },
      "source": [
        "# make sure the labels match up with the dataframe from earlier.\n",
        "input_4 = pd.DataFrame.from_dict(data =\n",
        "\t\t\t\t{\n",
        "        'year' : [2022,2022,2022],\n",
        "         'temperature' : [15.8, 31.2, 25],\n",
        "         'wind_speed' : [20.0, 30.0, 15.0],\n",
        "         'Sat' : [0,0,0],\n",
        "         'Sun' : [0,0,0],\n",
        "         'Mon' : [1,0,0],\n",
        "         'Tue' : [0,0,0],\n",
        "         'Wed' : [0,1,0],\n",
        "         'Thur' :[0,0,0],\n",
        "         'Fri' : [0,0,1],\n",
        "         'Jan' : [0,0,0],\n",
        "         'Feb' : [0,0,0],\n",
        "         'Mar' : [1,0,0],\n",
        "         'Apr' : [0,0,0],\n",
        "         'May' : [0,0,0],\n",
        "         'Jun' : [0,0,1],\n",
        "         'Jul' : [0,0,0],\n",
        "         'Aug' : [0,1,0],\n",
        "         'Sep' : [0,0,0],\n",
        "         'Oct' : [0,0,0],\n",
        "         'Nov' : [0,0,0],\n",
        "         'Dec' : [0,0,0],\n",
        "        })\n"
      ],
      "execution_count": 127,
      "outputs": []
    },
    {
      "cell_type": "code",
      "source": [
        "# Make the predictions by the model on the hypothetical data\n",
        "linear_day_predictions4 = dnn_model_4.predict(input_4[:3])*SCALE_NUM_COLLISIONS\n",
        "linear_day_predictions4"
      ],
      "metadata": {
        "outputId": "5736cf67-bc1e-40e6-8e10-f778179cc63b",
        "colab": {
          "base_uri": "https://localhost:8080/"
        },
        "id": "uYWXKZ9pyAhC"
      },
      "execution_count": 128,
      "outputs": [
        {
          "output_type": "stream",
          "name": "stdout",
          "text": [
            "1/1 [==============================] - 0s 22ms/step\n"
          ]
        },
        {
          "output_type": "execute_result",
          "data": {
            "text/plain": [
              "array([[0.85469043],\n",
              "       [1.3597028 ],\n",
              "       [0.8791951 ]], dtype=float32)"
            ]
          },
          "metadata": {},
          "execution_count": 128
        }
      ]
    },
    {
      "cell_type": "markdown",
      "source": [
        "#### Convert results for hypothetical data to collisions based on scaledCollisions for 2022"
      ],
      "metadata": {
        "id": "_t6W9bbGcLy6"
      }
    },
    {
      "cell_type": "code",
      "source": [
        "linear_day_predictions4Converted = dnn_model_4.predict(input_4[:3])*a22 +b22\n",
        "#*a22 +b22 is is to convert scaled collisions based on the values for 2022\n",
        "linear_day_predictions4Converted"
      ],
      "metadata": {
        "colab": {
          "base_uri": "https://localhost:8080/"
        },
        "outputId": "67a1bd95-9394-4f15-80f1-22e0c299c355",
        "id": "LeQyremKcLzG"
      },
      "execution_count": 129,
      "outputs": [
        {
          "output_type": "stream",
          "name": "stdout",
          "text": [
            "1/1 [==============================] - 0s 27ms/step\n"
          ]
        },
        {
          "output_type": "execute_result",
          "data": {
            "text/plain": [
              "array([[338.11774],\n",
              "       [431.54504],\n",
              "       [342.6511 ]], dtype=float32)"
            ]
          },
          "metadata": {},
          "execution_count": 129
        }
      ]
    },
    {
      "cell_type": "markdown",
      "source": [
        "The above converted collision results for the hypothetical data for 2022 are within a plausible range for the pattern for 2022."
      ],
      "metadata": {
        "id": "amxIqKFYcLzH"
      }
    },
    {
      "cell_type": "markdown",
      "source": [
        "### Compare the Model 4 prediction to the recorded values for collisions in the validation dataset"
      ],
      "metadata": {
        "id": "xhzDO6-Y5fJe"
      }
    },
    {
      "cell_type": "markdown",
      "source": [
        "#### Model 4 - Validation result 1"
      ],
      "metadata": {
        "id": "on_yFSHs5fJm"
      }
    },
    {
      "cell_type": "markdown",
      "source": [
        "The difference between the predicted collisions and the collisions for the single matching record was only 2 on this occasion."
      ],
      "metadata": {
        "id": "-PSgWvx_5fJm"
      }
    },
    {
      "cell_type": "code",
      "source": [
        "# The first 1 test values were\n",
        "#test_features4[:1]"
      ],
      "metadata": {
        "id": "ke-gqDFB5fJm"
      },
      "execution_count": 130,
      "outputs": []
    },
    {
      "cell_type": "code",
      "source": [
        "# select row(s) from the entire dataset that match the validation row\n",
        "#dfM41 = dfwc_DNN_mm_day_yr_temp_wind[dfwc_DNN_mm_day_yr_temp_wind.temperature ==2.3]\n",
        "#dfM41b = dfM41[dfM41.Sun == 1]\n",
        "#dfM41c = dfM41b[dfM41b.Nov == 1]\n",
        "#dfM41a = dfM41c[dfM41c.year == 2021]"
      ],
      "metadata": {
        "id": "QSc6PwPJ5fJm"
      },
      "execution_count": 131,
      "outputs": []
    },
    {
      "cell_type": "code",
      "source": [
        "#print('\\nMatching record :\\n', dfM41a)"
      ],
      "metadata": {
        "id": "06hlmZIO5fJm"
      },
      "execution_count": 132,
      "outputs": []
    },
    {
      "cell_type": "code",
      "source": [
        "# The matching year was 2021 (for scaled collision calculation values)\n",
        "#print('\\nPredicted collisions :\\n', np.round(linear_day_predictions4TD[0]*a21 +b21))\n",
        "#print('\\nActual collisions for matching record:\\n', dfM41a.num_collisions)\n",
        "#print('\\nDifference:\\n',  np.round((linear_day_predictions4TD[0]*a21 +b21)-dfM41a.num_collisions))"
      ],
      "metadata": {
        "id": "XDLjJU615fJn"
      },
      "execution_count": 133,
      "outputs": []
    },
    {
      "cell_type": "markdown",
      "source": [
        "#### Model 4 - Validation result 2"
      ],
      "metadata": {
        "id": "XDR7reTh5fJn"
      }
    },
    {
      "cell_type": "markdown",
      "source": [
        "This time there is a difference of 16 between the predicted and recorded collision values."
      ],
      "metadata": {
        "id": "Pe-JAw-D5fJn"
      }
    },
    {
      "cell_type": "code",
      "source": [
        "# The 2nd test values were\n",
        "#test_features4.iloc[1]"
      ],
      "metadata": {
        "id": "SP8ms8z65fJn"
      },
      "execution_count": 134,
      "outputs": []
    },
    {
      "cell_type": "code",
      "source": [
        "# select row(s) from the entire dataset that match the validation row\n",
        "#dfM42 = dfwc_DNN_mm_day_yr_temp_wind[dfwc_DNN_mm_day_yr_temp_wind.temperature ==14.2]\n",
        "#dfM42b = dfM42[dfM42.Tue == 1]\n",
        "#dfM42c = dfM42b[dfM42b.Apr == 1]\n",
        "#dfM42a = dfM42c[dfM42c.year == 2021]"
      ],
      "metadata": {
        "id": "M1QrFsDA5fJn"
      },
      "execution_count": 135,
      "outputs": []
    },
    {
      "cell_type": "code",
      "source": [
        "#print('\\nMatching record(s):\\n', dfM42a)"
      ],
      "metadata": {
        "id": "uCLxTtZI5fJn"
      },
      "execution_count": 136,
      "outputs": []
    },
    {
      "cell_type": "code",
      "source": [
        "# matching years was 2021 (for scaled collision calculation values)\n",
        "#print('\\nPredicted collisions (based on 2021):\\n', np.round(linear_day_predictions4TD[1]*a21 +b21)) # 2021 scaled collisoins"
      ],
      "metadata": {
        "id": "NuulCClJ5fJo"
      },
      "execution_count": 137,
      "outputs": []
    },
    {
      "cell_type": "code",
      "source": [
        "# The matching year was 2021 (for scaled collision calculation values)\n",
        "#print('\\nPredicted collisions (Based on 2021):\\n', np.round(linear_day_predictions4TD[1]*a21 +b21))\n",
        "#print('\\nActual collisions for matching record:\\n', dfM42a.num_collisions)\n",
        "#print('\\nDifference:\\n', np.round(dfM42a.num_collisions- (linear_day_predictions4TD[1]*a21 +b21)))"
      ],
      "metadata": {
        "id": "swgXS_Ec5fJo"
      },
      "execution_count": 138,
      "outputs": []
    },
    {
      "cell_type": "markdown",
      "source": [
        "#### Model 4 - Validation result 3"
      ],
      "metadata": {
        "id": "KKzj_KhE5fJo"
      }
    },
    {
      "cell_type": "markdown",
      "source": [
        "This time in the test there was a difference of 8."
      ],
      "metadata": {
        "id": "Ct0gd9Dv_L2z"
      }
    },
    {
      "cell_type": "code",
      "source": [
        "# The 3rd test values were\n",
        "#test_features4.iloc[2]"
      ],
      "metadata": {
        "id": "cT517xLz5fJo"
      },
      "execution_count": 139,
      "outputs": []
    },
    {
      "cell_type": "code",
      "source": [
        "# select row(s) from the entire dataset that match the validation row\n",
        "#dfM43 = dfwc_DNN_mm_day_yr_temp_wind[dfwc_DNN_mm_day_yr_temp_wind.temperature ==10]\n",
        "#dfM43b = dfM43[dfM43.Sat == 1]\n",
        "#dfM43c = dfM43b[dfM43b.Mar == 1]\n",
        "#dfM43a = dfM43c[dfM43c.year == 2023]"
      ],
      "metadata": {
        "id": "DhLFrFc95fJo"
      },
      "execution_count": 140,
      "outputs": []
    },
    {
      "cell_type": "code",
      "source": [
        "#print('\\nMatching record:\\n', dfM43a)"
      ],
      "metadata": {
        "id": "i3QJoMmB5fJo"
      },
      "execution_count": 141,
      "outputs": []
    },
    {
      "cell_type": "code",
      "source": [
        "# select row(s) from the entire dataset that match the validation row\n",
        "#dfM33aa = dfM33a[dfM33a.year ==2023]\n",
        "#dfM33ab = dfM33a[dfM33a.year ==2022]"
      ],
      "metadata": {
        "id": "7PWYmf8x5fJp"
      },
      "execution_count": 142,
      "outputs": []
    },
    {
      "cell_type": "code",
      "source": [
        "# There are 2 matching years (for scaled collision calculation values)\n",
        "#print('\\nActual collisions for matching records:\\n', dfM43a.num_collisions)\n",
        "#print('\\nPredicted collisions based on 2023:\\n', np.round(linear_day_predictions3TD[2]*a23 +b23))\n",
        "#print('\\nDifference (based on 2023):\\n',  np.round((linear_day_predictions3TD[2]*a23 +b23)-dfM43a.num_collisions))"
      ],
      "metadata": {
        "id": "TPiewBm95fJp"
      },
      "execution_count": 143,
      "outputs": []
    },
    {
      "cell_type": "markdown",
      "source": [
        "# Import combination dataset including mix of non-one-hot encoded and 1-hot encoded features"
      ],
      "metadata": {
        "id": "gPB6f_ohesFP"
      }
    },
    {
      "cell_type": "code",
      "source": [
        "# weatherCollisionsDNNMix3 Definition of this one in R was :\n",
        "# months, daysofweek, year1hot, snow_dnn, fog_dnn, bft_wind_scale_dnn, temperature_cat, vis_dnn2, precipitation_dnn,\n",
        "# wc2021to2023_n_merged2$scaledCollisions, wc2021to2023_n_merged2$temperature, wc2021to2023_n_merged2$wind_speed, wc2021to2023_n_merged2$is_snow_present,\n",
        "# wc2021to2023_n_merged2$num_collisions\n",
        "df_weatherCollisionsDNNMixB = pd.read_csv('https://raw.githubusercontent.com/20014894UHI/20014894_Data_analytics_assignment1/main/weatherCollisionsDNNMix3.csv', index_col=0)"
      ],
      "metadata": {
        "id": "5wQ_JjgXbgK3"
      },
      "execution_count": 144,
      "outputs": []
    },
    {
      "cell_type": "code",
      "source": [
        "# Shuffle the data by rows determined at random.\n",
        "df_weatherCollisionsDNNMixA = df_weatherCollisionsDNNMixB.iloc[np.random.permutation(len(df_weatherCollisionsDNNMixB))]"
      ],
      "metadata": {
        "id": "9YMYSECxAEzN"
      },
      "execution_count": 145,
      "outputs": []
    },
    {
      "cell_type": "code",
      "source": [
        "df_weatherCollisionsDNNMixA\n",
        "# 804 rows and 59 columns"
      ],
      "metadata": {
        "colab": {
          "base_uri": "https://localhost:8080/",
          "height": 487
        },
        "id": "MuF6WKxmecE9",
        "outputId": "0a229cfb-f901-4257-c7e1-6321495084d7"
      },
      "execution_count": 146,
      "outputs": [
        {
          "output_type": "execute_result",
          "data": {
            "text/plain": [
              "     Apr  Aug  Dec  Feb  Jan  Jul  Jun  Mar  May  Nov  ...  Light.green  \\\n",
              "650    0    0    0    0    0    0    0    0    0    1  ...            0   \n",
              "584    0    1    0    0    0    0    0    0    0    0  ...            0   \n",
              "493    0    0    0    0    0    0    0    0    1    0  ...            0   \n",
              "162    0    0    0    0    0    0    1    0    0    0  ...            0   \n",
              "588    0    0    0    0    0    0    0    0    0    0  ...            0   \n",
              "..   ...  ...  ...  ...  ...  ...  ...  ...  ...  ...  ...          ...   \n",
              "227    0    1    0    0    0    0    0    0    0    0  ...            0   \n",
              "8      0    0    0    0    1    0    0    0    0    0  ...            0   \n",
              "447    1    0    0    0    0    0    0    0    0    0  ...            0   \n",
              "389    0    0    0    1    0    0    0    0    0    0  ...            1   \n",
              "57     0    0    0    1    0    0    0    0    0    0  ...            0   \n",
              "\n",
              "     Light.orange  Red  White  Yellow  scaledCollisions  temperature  \\\n",
              "650             0    0      1       0          0.745946         15.0   \n",
              "584             0    0      1       0          0.427027         25.7   \n",
              "493             0    0      1       0          0.751351         27.1   \n",
              "162             0    0      1       0          0.867647         26.7   \n",
              "588             0    0      1       0          0.589189         21.6   \n",
              "..            ...  ...    ...     ...               ...          ...   \n",
              "227             0    0      1       0          0.779412         28.8   \n",
              "8               0    0      1       0          0.294118         -0.7   \n",
              "447             0    0      1       0          0.389189          9.9   \n",
              "389             0    0      0       0          0.621622         -3.9   \n",
              "57              0    0      0       0          0.137255          6.5   \n",
              "\n",
              "     wind_speed  is_snow_present  num_collisions  \n",
              "650         1.5                0             318  \n",
              "584         2.7                0             259  \n",
              "493         3.0                0             319  \n",
              "162         2.5                0             361  \n",
              "588         4.2                0             289  \n",
              "..          ...              ...             ...  \n",
              "227         2.1                0             343  \n",
              "8           6.0                0             244  \n",
              "447         2.2                0             252  \n",
              "389         7.2                0             295  \n",
              "57          4.1                0             212  \n",
              "\n",
              "[804 rows x 59 columns]"
            ],
            "text/html": [
              "\n",
              "\n",
              "  <div id=\"df-fe9837be-f3df-44f5-b105-87ecd5b1c58e\">\n",
              "    <div class=\"colab-df-container\">\n",
              "      <div>\n",
              "<style scoped>\n",
              "    .dataframe tbody tr th:only-of-type {\n",
              "        vertical-align: middle;\n",
              "    }\n",
              "\n",
              "    .dataframe tbody tr th {\n",
              "        vertical-align: top;\n",
              "    }\n",
              "\n",
              "    .dataframe thead th {\n",
              "        text-align: right;\n",
              "    }\n",
              "</style>\n",
              "<table border=\"1\" class=\"dataframe\">\n",
              "  <thead>\n",
              "    <tr style=\"text-align: right;\">\n",
              "      <th></th>\n",
              "      <th>Apr</th>\n",
              "      <th>Aug</th>\n",
              "      <th>Dec</th>\n",
              "      <th>Feb</th>\n",
              "      <th>Jan</th>\n",
              "      <th>Jul</th>\n",
              "      <th>Jun</th>\n",
              "      <th>Mar</th>\n",
              "      <th>May</th>\n",
              "      <th>Nov</th>\n",
              "      <th>...</th>\n",
              "      <th>Light.green</th>\n",
              "      <th>Light.orange</th>\n",
              "      <th>Red</th>\n",
              "      <th>White</th>\n",
              "      <th>Yellow</th>\n",
              "      <th>scaledCollisions</th>\n",
              "      <th>temperature</th>\n",
              "      <th>wind_speed</th>\n",
              "      <th>is_snow_present</th>\n",
              "      <th>num_collisions</th>\n",
              "    </tr>\n",
              "  </thead>\n",
              "  <tbody>\n",
              "    <tr>\n",
              "      <th>650</th>\n",
              "      <td>0</td>\n",
              "      <td>0</td>\n",
              "      <td>0</td>\n",
              "      <td>0</td>\n",
              "      <td>0</td>\n",
              "      <td>0</td>\n",
              "      <td>0</td>\n",
              "      <td>0</td>\n",
              "      <td>0</td>\n",
              "      <td>1</td>\n",
              "      <td>...</td>\n",
              "      <td>0</td>\n",
              "      <td>0</td>\n",
              "      <td>0</td>\n",
              "      <td>1</td>\n",
              "      <td>0</td>\n",
              "      <td>0.745946</td>\n",
              "      <td>15.0</td>\n",
              "      <td>1.5</td>\n",
              "      <td>0</td>\n",
              "      <td>318</td>\n",
              "    </tr>\n",
              "    <tr>\n",
              "      <th>584</th>\n",
              "      <td>0</td>\n",
              "      <td>1</td>\n",
              "      <td>0</td>\n",
              "      <td>0</td>\n",
              "      <td>0</td>\n",
              "      <td>0</td>\n",
              "      <td>0</td>\n",
              "      <td>0</td>\n",
              "      <td>0</td>\n",
              "      <td>0</td>\n",
              "      <td>...</td>\n",
              "      <td>0</td>\n",
              "      <td>0</td>\n",
              "      <td>0</td>\n",
              "      <td>1</td>\n",
              "      <td>0</td>\n",
              "      <td>0.427027</td>\n",
              "      <td>25.7</td>\n",
              "      <td>2.7</td>\n",
              "      <td>0</td>\n",
              "      <td>259</td>\n",
              "    </tr>\n",
              "    <tr>\n",
              "      <th>493</th>\n",
              "      <td>0</td>\n",
              "      <td>0</td>\n",
              "      <td>0</td>\n",
              "      <td>0</td>\n",
              "      <td>0</td>\n",
              "      <td>0</td>\n",
              "      <td>0</td>\n",
              "      <td>0</td>\n",
              "      <td>1</td>\n",
              "      <td>0</td>\n",
              "      <td>...</td>\n",
              "      <td>0</td>\n",
              "      <td>0</td>\n",
              "      <td>0</td>\n",
              "      <td>1</td>\n",
              "      <td>0</td>\n",
              "      <td>0.751351</td>\n",
              "      <td>27.1</td>\n",
              "      <td>3.0</td>\n",
              "      <td>0</td>\n",
              "      <td>319</td>\n",
              "    </tr>\n",
              "    <tr>\n",
              "      <th>162</th>\n",
              "      <td>0</td>\n",
              "      <td>0</td>\n",
              "      <td>0</td>\n",
              "      <td>0</td>\n",
              "      <td>0</td>\n",
              "      <td>0</td>\n",
              "      <td>1</td>\n",
              "      <td>0</td>\n",
              "      <td>0</td>\n",
              "      <td>0</td>\n",
              "      <td>...</td>\n",
              "      <td>0</td>\n",
              "      <td>0</td>\n",
              "      <td>0</td>\n",
              "      <td>1</td>\n",
              "      <td>0</td>\n",
              "      <td>0.867647</td>\n",
              "      <td>26.7</td>\n",
              "      <td>2.5</td>\n",
              "      <td>0</td>\n",
              "      <td>361</td>\n",
              "    </tr>\n",
              "    <tr>\n",
              "      <th>588</th>\n",
              "      <td>0</td>\n",
              "      <td>0</td>\n",
              "      <td>0</td>\n",
              "      <td>0</td>\n",
              "      <td>0</td>\n",
              "      <td>0</td>\n",
              "      <td>0</td>\n",
              "      <td>0</td>\n",
              "      <td>0</td>\n",
              "      <td>0</td>\n",
              "      <td>...</td>\n",
              "      <td>0</td>\n",
              "      <td>0</td>\n",
              "      <td>0</td>\n",
              "      <td>1</td>\n",
              "      <td>0</td>\n",
              "      <td>0.589189</td>\n",
              "      <td>21.6</td>\n",
              "      <td>4.2</td>\n",
              "      <td>0</td>\n",
              "      <td>289</td>\n",
              "    </tr>\n",
              "    <tr>\n",
              "      <th>...</th>\n",
              "      <td>...</td>\n",
              "      <td>...</td>\n",
              "      <td>...</td>\n",
              "      <td>...</td>\n",
              "      <td>...</td>\n",
              "      <td>...</td>\n",
              "      <td>...</td>\n",
              "      <td>...</td>\n",
              "      <td>...</td>\n",
              "      <td>...</td>\n",
              "      <td>...</td>\n",
              "      <td>...</td>\n",
              "      <td>...</td>\n",
              "      <td>...</td>\n",
              "      <td>...</td>\n",
              "      <td>...</td>\n",
              "      <td>...</td>\n",
              "      <td>...</td>\n",
              "      <td>...</td>\n",
              "      <td>...</td>\n",
              "      <td>...</td>\n",
              "    </tr>\n",
              "    <tr>\n",
              "      <th>227</th>\n",
              "      <td>0</td>\n",
              "      <td>1</td>\n",
              "      <td>0</td>\n",
              "      <td>0</td>\n",
              "      <td>0</td>\n",
              "      <td>0</td>\n",
              "      <td>0</td>\n",
              "      <td>0</td>\n",
              "      <td>0</td>\n",
              "      <td>0</td>\n",
              "      <td>...</td>\n",
              "      <td>0</td>\n",
              "      <td>0</td>\n",
              "      <td>0</td>\n",
              "      <td>1</td>\n",
              "      <td>0</td>\n",
              "      <td>0.779412</td>\n",
              "      <td>28.8</td>\n",
              "      <td>2.1</td>\n",
              "      <td>0</td>\n",
              "      <td>343</td>\n",
              "    </tr>\n",
              "    <tr>\n",
              "      <th>8</th>\n",
              "      <td>0</td>\n",
              "      <td>0</td>\n",
              "      <td>0</td>\n",
              "      <td>0</td>\n",
              "      <td>1</td>\n",
              "      <td>0</td>\n",
              "      <td>0</td>\n",
              "      <td>0</td>\n",
              "      <td>0</td>\n",
              "      <td>0</td>\n",
              "      <td>...</td>\n",
              "      <td>0</td>\n",
              "      <td>0</td>\n",
              "      <td>0</td>\n",
              "      <td>1</td>\n",
              "      <td>0</td>\n",
              "      <td>0.294118</td>\n",
              "      <td>-0.7</td>\n",
              "      <td>6.0</td>\n",
              "      <td>0</td>\n",
              "      <td>244</td>\n",
              "    </tr>\n",
              "    <tr>\n",
              "      <th>447</th>\n",
              "      <td>1</td>\n",
              "      <td>0</td>\n",
              "      <td>0</td>\n",
              "      <td>0</td>\n",
              "      <td>0</td>\n",
              "      <td>0</td>\n",
              "      <td>0</td>\n",
              "      <td>0</td>\n",
              "      <td>0</td>\n",
              "      <td>0</td>\n",
              "      <td>...</td>\n",
              "      <td>0</td>\n",
              "      <td>0</td>\n",
              "      <td>0</td>\n",
              "      <td>1</td>\n",
              "      <td>0</td>\n",
              "      <td>0.389189</td>\n",
              "      <td>9.9</td>\n",
              "      <td>2.2</td>\n",
              "      <td>0</td>\n",
              "      <td>252</td>\n",
              "    </tr>\n",
              "    <tr>\n",
              "      <th>389</th>\n",
              "      <td>0</td>\n",
              "      <td>0</td>\n",
              "      <td>0</td>\n",
              "      <td>1</td>\n",
              "      <td>0</td>\n",
              "      <td>0</td>\n",
              "      <td>0</td>\n",
              "      <td>0</td>\n",
              "      <td>0</td>\n",
              "      <td>0</td>\n",
              "      <td>...</td>\n",
              "      <td>1</td>\n",
              "      <td>0</td>\n",
              "      <td>0</td>\n",
              "      <td>0</td>\n",
              "      <td>0</td>\n",
              "      <td>0.621622</td>\n",
              "      <td>-3.9</td>\n",
              "      <td>7.2</td>\n",
              "      <td>0</td>\n",
              "      <td>295</td>\n",
              "    </tr>\n",
              "    <tr>\n",
              "      <th>57</th>\n",
              "      <td>0</td>\n",
              "      <td>0</td>\n",
              "      <td>0</td>\n",
              "      <td>1</td>\n",
              "      <td>0</td>\n",
              "      <td>0</td>\n",
              "      <td>0</td>\n",
              "      <td>0</td>\n",
              "      <td>0</td>\n",
              "      <td>0</td>\n",
              "      <td>...</td>\n",
              "      <td>0</td>\n",
              "      <td>0</td>\n",
              "      <td>0</td>\n",
              "      <td>0</td>\n",
              "      <td>0</td>\n",
              "      <td>0.137255</td>\n",
              "      <td>6.5</td>\n",
              "      <td>4.1</td>\n",
              "      <td>0</td>\n",
              "      <td>212</td>\n",
              "    </tr>\n",
              "  </tbody>\n",
              "</table>\n",
              "<p>804 rows × 59 columns</p>\n",
              "</div>\n",
              "      <button class=\"colab-df-convert\" onclick=\"convertToInteractive('df-fe9837be-f3df-44f5-b105-87ecd5b1c58e')\"\n",
              "              title=\"Convert this dataframe to an interactive table.\"\n",
              "              style=\"display:none;\">\n",
              "\n",
              "  <svg xmlns=\"http://www.w3.org/2000/svg\" height=\"24px\"viewBox=\"0 0 24 24\"\n",
              "       width=\"24px\">\n",
              "    <path d=\"M0 0h24v24H0V0z\" fill=\"none\"/>\n",
              "    <path d=\"M18.56 5.44l.94 2.06.94-2.06 2.06-.94-2.06-.94-.94-2.06-.94 2.06-2.06.94zm-11 1L8.5 8.5l.94-2.06 2.06-.94-2.06-.94L8.5 2.5l-.94 2.06-2.06.94zm10 10l.94 2.06.94-2.06 2.06-.94-2.06-.94-.94-2.06-.94 2.06-2.06.94z\"/><path d=\"M17.41 7.96l-1.37-1.37c-.4-.4-.92-.59-1.43-.59-.52 0-1.04.2-1.43.59L10.3 9.45l-7.72 7.72c-.78.78-.78 2.05 0 2.83L4 21.41c.39.39.9.59 1.41.59.51 0 1.02-.2 1.41-.59l7.78-7.78 2.81-2.81c.8-.78.8-2.07 0-2.86zM5.41 20L4 18.59l7.72-7.72 1.47 1.35L5.41 20z\"/>\n",
              "  </svg>\n",
              "      </button>\n",
              "\n",
              "\n",
              "\n",
              "    <div id=\"df-d0f7491c-092b-48aa-8375-be1eb9ef41f0\">\n",
              "      <button class=\"colab-df-quickchart\" onclick=\"quickchart('df-d0f7491c-092b-48aa-8375-be1eb9ef41f0')\"\n",
              "              title=\"Suggest charts.\"\n",
              "              style=\"display:none;\">\n",
              "\n",
              "<svg xmlns=\"http://www.w3.org/2000/svg\" height=\"24px\"viewBox=\"0 0 24 24\"\n",
              "     width=\"24px\">\n",
              "    <g>\n",
              "        <path d=\"M19 3H5c-1.1 0-2 .9-2 2v14c0 1.1.9 2 2 2h14c1.1 0 2-.9 2-2V5c0-1.1-.9-2-2-2zM9 17H7v-7h2v7zm4 0h-2V7h2v10zm4 0h-2v-4h2v4z\"/>\n",
              "    </g>\n",
              "</svg>\n",
              "      </button>\n",
              "    </div>\n",
              "\n",
              "<style>\n",
              "  .colab-df-quickchart {\n",
              "    background-color: #E8F0FE;\n",
              "    border: none;\n",
              "    border-radius: 50%;\n",
              "    cursor: pointer;\n",
              "    display: none;\n",
              "    fill: #1967D2;\n",
              "    height: 32px;\n",
              "    padding: 0 0 0 0;\n",
              "    width: 32px;\n",
              "  }\n",
              "\n",
              "  .colab-df-quickchart:hover {\n",
              "    background-color: #E2EBFA;\n",
              "    box-shadow: 0px 1px 2px rgba(60, 64, 67, 0.3), 0px 1px 3px 1px rgba(60, 64, 67, 0.15);\n",
              "    fill: #174EA6;\n",
              "  }\n",
              "\n",
              "  [theme=dark] .colab-df-quickchart {\n",
              "    background-color: #3B4455;\n",
              "    fill: #D2E3FC;\n",
              "  }\n",
              "\n",
              "  [theme=dark] .colab-df-quickchart:hover {\n",
              "    background-color: #434B5C;\n",
              "    box-shadow: 0px 1px 3px 1px rgba(0, 0, 0, 0.15);\n",
              "    filter: drop-shadow(0px 1px 2px rgba(0, 0, 0, 0.3));\n",
              "    fill: #FFFFFF;\n",
              "  }\n",
              "</style>\n",
              "\n",
              "    <script>\n",
              "      async function quickchart(key) {\n",
              "        const containerElement = document.querySelector('#' + key);\n",
              "        const charts = await google.colab.kernel.invokeFunction(\n",
              "            'suggestCharts', [key], {});\n",
              "      }\n",
              "    </script>\n",
              "\n",
              "      <script>\n",
              "\n",
              "function displayQuickchartButton(domScope) {\n",
              "  let quickchartButtonEl =\n",
              "    domScope.querySelector('#df-d0f7491c-092b-48aa-8375-be1eb9ef41f0 button.colab-df-quickchart');\n",
              "  quickchartButtonEl.style.display =\n",
              "    google.colab.kernel.accessAllowed ? 'block' : 'none';\n",
              "}\n",
              "\n",
              "        displayQuickchartButton(document);\n",
              "      </script>\n",
              "      <style>\n",
              "    .colab-df-container {\n",
              "      display:flex;\n",
              "      flex-wrap:wrap;\n",
              "      gap: 12px;\n",
              "    }\n",
              "\n",
              "    .colab-df-convert {\n",
              "      background-color: #E8F0FE;\n",
              "      border: none;\n",
              "      border-radius: 50%;\n",
              "      cursor: pointer;\n",
              "      display: none;\n",
              "      fill: #1967D2;\n",
              "      height: 32px;\n",
              "      padding: 0 0 0 0;\n",
              "      width: 32px;\n",
              "    }\n",
              "\n",
              "    .colab-df-convert:hover {\n",
              "      background-color: #E2EBFA;\n",
              "      box-shadow: 0px 1px 2px rgba(60, 64, 67, 0.3), 0px 1px 3px 1px rgba(60, 64, 67, 0.15);\n",
              "      fill: #174EA6;\n",
              "    }\n",
              "\n",
              "    [theme=dark] .colab-df-convert {\n",
              "      background-color: #3B4455;\n",
              "      fill: #D2E3FC;\n",
              "    }\n",
              "\n",
              "    [theme=dark] .colab-df-convert:hover {\n",
              "      background-color: #434B5C;\n",
              "      box-shadow: 0px 1px 3px 1px rgba(0, 0, 0, 0.15);\n",
              "      filter: drop-shadow(0px 1px 2px rgba(0, 0, 0, 0.3));\n",
              "      fill: #FFFFFF;\n",
              "    }\n",
              "  </style>\n",
              "\n",
              "      <script>\n",
              "        const buttonEl =\n",
              "          document.querySelector('#df-fe9837be-f3df-44f5-b105-87ecd5b1c58e button.colab-df-convert');\n",
              "        buttonEl.style.display =\n",
              "          google.colab.kernel.accessAllowed ? 'block' : 'none';\n",
              "\n",
              "        async function convertToInteractive(key) {\n",
              "          const element = document.querySelector('#df-fe9837be-f3df-44f5-b105-87ecd5b1c58e');\n",
              "          const dataTable =\n",
              "            await google.colab.kernel.invokeFunction('convertToInteractive',\n",
              "                                                     [key], {});\n",
              "          if (!dataTable) return;\n",
              "\n",
              "          const docLinkHtml = 'Like what you see? Visit the ' +\n",
              "            '<a target=\"_blank\" href=https://colab.research.google.com/notebooks/data_table.ipynb>data table notebook</a>'\n",
              "            + ' to learn more about interactive tables.';\n",
              "          element.innerHTML = '';\n",
              "          dataTable['output_type'] = 'display_data';\n",
              "          await google.colab.output.renderOutput(dataTable, element);\n",
              "          const docLink = document.createElement('div');\n",
              "          docLink.innerHTML = docLinkHtml;\n",
              "          element.appendChild(docLink);\n",
              "        }\n",
              "      </script>\n",
              "    </div>\n",
              "  </div>\n"
            ]
          },
          "metadata": {},
          "execution_count": 146
        }
      ]
    },
    {
      "cell_type": "code",
      "source": [
        "# print out the first 6 rows of shuffled data\n",
        "print(dfwc_DNN_mm_day_yr_temp_wind[:6])"
      ],
      "metadata": {
        "colab": {
          "base_uri": "https://localhost:8080/"
        },
        "outputId": "15c5a682-9b63-42ca-ec4e-04418e1c8208",
        "id": "GA78eU4nAEzN"
      },
      "execution_count": 147,
      "outputs": [
        {
          "output_type": "stream",
          "name": "stdout",
          "text": [
            "     Apr  Aug  Dec  Feb  Jan  Jul  Jun  Mar  May  Nov  ...  Sat  Sun  Thur  \\\n",
            "509    0    0    0    0    0    0    1    0    0    0  ...    0    0     0   \n",
            "291    0    0    0    0    0    0    0    0    0    0  ...    1    0     0   \n",
            "319    0    0    0    0    0    0    0    0    0    1  ...    1    0     0   \n",
            "260    0    0    0    0    0    0    0    0    0    0  ...    0    0     0   \n",
            "303    0    0    0    0    0    0    0    0    0    1  ...    0    0     1   \n",
            "317    0    0    0    0    0    0    0    0    0    1  ...    0    0     1   \n",
            "\n",
            "     Tue  Wed  year  temperature  wind_speed  scaledCollisions  num_collisions  \n",
            "509    1    0  2022         20.8         5.0          0.686486             307  \n",
            "291    0    0  2021         14.1         6.3          0.823529             352  \n",
            "319    0    0  2021          2.6         8.4          0.392157             264  \n",
            "260    1    0  2021         20.4         8.8          0.549020             296  \n",
            "303    0    0  2021         11.3         3.2          0.529412             292  \n",
            "317    0    0  2021          7.9         3.0          0.161765             217  \n",
            "\n",
            "[6 rows x 24 columns]\n"
          ]
        }
      ]
    },
    {
      "cell_type": "code",
      "source": [
        "# iterating the columns\n",
        "for col in df_weatherCollisionsDNNMixA.columns:\n",
        "    print(col)"
      ],
      "metadata": {
        "colab": {
          "base_uri": "https://localhost:8080/"
        },
        "id": "gj-xCSYBf6dF",
        "outputId": "0292d113-9212-4202-a458-e972e891c111"
      },
      "execution_count": 148,
      "outputs": [
        {
          "output_type": "stream",
          "name": "stdout",
          "text": [
            "Apr\n",
            "Aug\n",
            "Dec\n",
            "Feb\n",
            "Jan\n",
            "Jul\n",
            "Jun\n",
            "Mar\n",
            "May\n",
            "Nov\n",
            "Oct\n",
            "Sep\n",
            "Fri\n",
            "Mon\n",
            "Sat\n",
            "Sun\n",
            "Thur\n",
            "Tue\n",
            "Wed\n",
            "X2021\n",
            "X2023\n",
            "X2022\n",
            "No.Snow\n",
            "Snow\n",
            "Fog\n",
            "No.Fog\n",
            "Calm\n",
            "Gentle.breeze\n",
            "Light.air\n",
            "Light.breeze\n",
            "Moderate.breeze\n",
            "Cold\n",
            "Freezing.or.below\n",
            "Hot\n",
            "Mild\n",
            "Very.warm\n",
            "Warm\n",
            "One\n",
            "Ten\n",
            "Three\n",
            "Four\n",
            "Five\n",
            "Six\n",
            "Seven\n",
            "Eight\n",
            "Nine\n",
            "Dark.orange\n",
            "Green\n",
            "Light.blue\n",
            "Light.green\n",
            "Light.orange\n",
            "Red\n",
            "White\n",
            "Yellow\n",
            "scaledCollisions\n",
            "temperature\n",
            "wind_speed\n",
            "is_snow_present\n",
            "num_collisions\n"
          ]
        }
      ]
    },
    {
      "cell_type": "code",
      "source": [
        "# Columnn are\n",
        "# ONe hot encoded months: Aug, Dec, Feb, Jan, Jul,Jun,Mar,May,Nov,Oct,Sep,\n",
        "# One hot encoded day of week starting Sunday: Fri,Mon,Sat,Sun,Thur,Tue,Wed\n",
        "# One hot encoded year: X2021,X2023,X2022\n",
        "# One hot encoded snow No.Snow, Snow\n",
        "# One hot encoded Fog, No.Fog\n",
        "# one hot encoded year (x20201, x2022, x2023)\n",
        "# Beaufort scale category: Gentle.breeze,Light.air,Light.breeze,Moderate.breeze,Cold,Freezing.or.below\n",
        "# Temperature category: Hot,Mild,Very.warm,Warm\n",
        "# Visibility one hot encoding: One,Ten,Three,Four,Five,Six,Seven,Eight,Nine,\n",
        "# colour categories for rain Dark.orange,Green,Light.blue,Light.green,Light.orange,Red,White,Yellow\n",
        "# scaledCollisions\n",
        "# temperature\n",
        "# wind_speed\n",
        "# is_snow_present (1 or 0 based on if snow depth is positive or 0)\n",
        "# num_collisions"
      ],
      "metadata": {
        "id": "3jSbSxi5kjGF"
      },
      "execution_count": 149,
      "outputs": []
    },
    {
      "cell_type": "markdown",
      "source": [
        "# Model 3a - Dataset - one hot encoded month, year, snow/no snow and temperature categories with temperature value"
      ],
      "metadata": {
        "id": "RZMilUzIftJa"
      }
    },
    {
      "cell_type": "markdown",
      "source": [
        "In this dataset, we will keep a selection of the features. We will retain the temperature and snow one-hot encoded features."
      ],
      "metadata": {
        "id": "LfAgQ92DnQ04"
      }
    },
    {
      "cell_type": "code",
      "source": [
        "# remove some columns for this model\n",
        "# Drop the visibility DNN / one hot encoded items\n",
        "    # 'One', 'Ten','Three','Four','Five','Six','Seven','Eight','Nine',\n",
        "    # 'No.fog','Fog', # Drop fog one-hot encoded\n",
        "    # Drop beaufort wind scale categories one hot encoded\n",
        "    # 'Calm','Gentle_breeze','Light_air','Light_breeze','Moderate_breeze',\n",
        "    # Drop precipitation:\n",
        "    # 'Dark.orange','Green','Light.blue','Light.green','Light.orange','Red','White','Yellow'\n",
        "# Keep the columns: scaledCollisions\n",
        "  #'temperature', # Keep temperature figure\n",
        "  #'No.Snow','Snow', # Keep snow one hot encoded\n",
        "  #'Cold','Freezing.or.below','Hot','Mild','Very.warm','Warm', # RETAIN temperature categories\n",
        "df_weatherCollisionsDNNMix3a = df_weatherCollisionsDNNMixA.drop(columns=[\n",
        "    'num_collisions', 'is_snow_present' ,\n",
        "    #'temperature',\n",
        "    'wind_speed', # Drop\n",
        "    'One', 'Ten','Three','Four','Five','Six','Seven','Eight','Nine',  # Drop visibility\n",
        "    'No.Fog','Fog', 'Calm','Gentle.breeze','Light.air','Light.breeze','Moderate.breeze', # Drop wind\n",
        "    'Dark.orange','Green','Light.blue','Light.green','Light.orange','Red','White','Yellow'# Drop rain\n",
        "    ])"
      ],
      "metadata": {
        "id": "D8oEsw5QftJ5"
      },
      "execution_count": 150,
      "outputs": []
    },
    {
      "cell_type": "code",
      "source": [
        "# check data - DNN data set to include one hot encoded months, daysofweek, temperature categories,\n",
        "df_weatherCollisionsDNNMix3a[:5]\n",
        "# 32 columns"
      ],
      "metadata": {
        "colab": {
          "base_uri": "https://localhost:8080/",
          "height": 299
        },
        "outputId": "0be7d01a-e206-4233-8b22-5f511200b4a8",
        "id": "b2ug0BMwftJ6"
      },
      "execution_count": 151,
      "outputs": [
        {
          "output_type": "execute_result",
          "data": {
            "text/plain": [
              "     Apr  Aug  Dec  Feb  Jan  Jul  Jun  Mar  May  Nov  ...  No.Snow  Snow  \\\n",
              "650    0    0    0    0    0    0    0    0    0    1  ...        1     0   \n",
              "584    0    1    0    0    0    0    0    0    0    0  ...        1     0   \n",
              "493    0    0    0    0    0    0    0    0    1    0  ...        1     0   \n",
              "162    0    0    0    0    0    0    1    0    0    0  ...        1     0   \n",
              "588    0    0    0    0    0    0    0    0    0    0  ...        1     0   \n",
              "\n",
              "     Cold  Freezing.or.below  Hot  Mild  Very.warm  Warm  scaledCollisions  \\\n",
              "650     0                  0    0     1          0     0          0.745946   \n",
              "584     0                  0    0     0          1     0          0.427027   \n",
              "493     0                  0    0     0          1     0          0.751351   \n",
              "162     0                  0    0     0          1     0          0.867647   \n",
              "588     0                  0    0     0          0     1          0.589189   \n",
              "\n",
              "     temperature  \n",
              "650         15.0  \n",
              "584         25.7  \n",
              "493         27.1  \n",
              "162         26.7  \n",
              "588         21.6  \n",
              "\n",
              "[5 rows x 32 columns]"
            ],
            "text/html": [
              "\n",
              "\n",
              "  <div id=\"df-dfcb26fb-ab01-43ef-a82c-7e610936f78a\">\n",
              "    <div class=\"colab-df-container\">\n",
              "      <div>\n",
              "<style scoped>\n",
              "    .dataframe tbody tr th:only-of-type {\n",
              "        vertical-align: middle;\n",
              "    }\n",
              "\n",
              "    .dataframe tbody tr th {\n",
              "        vertical-align: top;\n",
              "    }\n",
              "\n",
              "    .dataframe thead th {\n",
              "        text-align: right;\n",
              "    }\n",
              "</style>\n",
              "<table border=\"1\" class=\"dataframe\">\n",
              "  <thead>\n",
              "    <tr style=\"text-align: right;\">\n",
              "      <th></th>\n",
              "      <th>Apr</th>\n",
              "      <th>Aug</th>\n",
              "      <th>Dec</th>\n",
              "      <th>Feb</th>\n",
              "      <th>Jan</th>\n",
              "      <th>Jul</th>\n",
              "      <th>Jun</th>\n",
              "      <th>Mar</th>\n",
              "      <th>May</th>\n",
              "      <th>Nov</th>\n",
              "      <th>...</th>\n",
              "      <th>No.Snow</th>\n",
              "      <th>Snow</th>\n",
              "      <th>Cold</th>\n",
              "      <th>Freezing.or.below</th>\n",
              "      <th>Hot</th>\n",
              "      <th>Mild</th>\n",
              "      <th>Very.warm</th>\n",
              "      <th>Warm</th>\n",
              "      <th>scaledCollisions</th>\n",
              "      <th>temperature</th>\n",
              "    </tr>\n",
              "  </thead>\n",
              "  <tbody>\n",
              "    <tr>\n",
              "      <th>650</th>\n",
              "      <td>0</td>\n",
              "      <td>0</td>\n",
              "      <td>0</td>\n",
              "      <td>0</td>\n",
              "      <td>0</td>\n",
              "      <td>0</td>\n",
              "      <td>0</td>\n",
              "      <td>0</td>\n",
              "      <td>0</td>\n",
              "      <td>1</td>\n",
              "      <td>...</td>\n",
              "      <td>1</td>\n",
              "      <td>0</td>\n",
              "      <td>0</td>\n",
              "      <td>0</td>\n",
              "      <td>0</td>\n",
              "      <td>1</td>\n",
              "      <td>0</td>\n",
              "      <td>0</td>\n",
              "      <td>0.745946</td>\n",
              "      <td>15.0</td>\n",
              "    </tr>\n",
              "    <tr>\n",
              "      <th>584</th>\n",
              "      <td>0</td>\n",
              "      <td>1</td>\n",
              "      <td>0</td>\n",
              "      <td>0</td>\n",
              "      <td>0</td>\n",
              "      <td>0</td>\n",
              "      <td>0</td>\n",
              "      <td>0</td>\n",
              "      <td>0</td>\n",
              "      <td>0</td>\n",
              "      <td>...</td>\n",
              "      <td>1</td>\n",
              "      <td>0</td>\n",
              "      <td>0</td>\n",
              "      <td>0</td>\n",
              "      <td>0</td>\n",
              "      <td>0</td>\n",
              "      <td>1</td>\n",
              "      <td>0</td>\n",
              "      <td>0.427027</td>\n",
              "      <td>25.7</td>\n",
              "    </tr>\n",
              "    <tr>\n",
              "      <th>493</th>\n",
              "      <td>0</td>\n",
              "      <td>0</td>\n",
              "      <td>0</td>\n",
              "      <td>0</td>\n",
              "      <td>0</td>\n",
              "      <td>0</td>\n",
              "      <td>0</td>\n",
              "      <td>0</td>\n",
              "      <td>1</td>\n",
              "      <td>0</td>\n",
              "      <td>...</td>\n",
              "      <td>1</td>\n",
              "      <td>0</td>\n",
              "      <td>0</td>\n",
              "      <td>0</td>\n",
              "      <td>0</td>\n",
              "      <td>0</td>\n",
              "      <td>1</td>\n",
              "      <td>0</td>\n",
              "      <td>0.751351</td>\n",
              "      <td>27.1</td>\n",
              "    </tr>\n",
              "    <tr>\n",
              "      <th>162</th>\n",
              "      <td>0</td>\n",
              "      <td>0</td>\n",
              "      <td>0</td>\n",
              "      <td>0</td>\n",
              "      <td>0</td>\n",
              "      <td>0</td>\n",
              "      <td>1</td>\n",
              "      <td>0</td>\n",
              "      <td>0</td>\n",
              "      <td>0</td>\n",
              "      <td>...</td>\n",
              "      <td>1</td>\n",
              "      <td>0</td>\n",
              "      <td>0</td>\n",
              "      <td>0</td>\n",
              "      <td>0</td>\n",
              "      <td>0</td>\n",
              "      <td>1</td>\n",
              "      <td>0</td>\n",
              "      <td>0.867647</td>\n",
              "      <td>26.7</td>\n",
              "    </tr>\n",
              "    <tr>\n",
              "      <th>588</th>\n",
              "      <td>0</td>\n",
              "      <td>0</td>\n",
              "      <td>0</td>\n",
              "      <td>0</td>\n",
              "      <td>0</td>\n",
              "      <td>0</td>\n",
              "      <td>0</td>\n",
              "      <td>0</td>\n",
              "      <td>0</td>\n",
              "      <td>0</td>\n",
              "      <td>...</td>\n",
              "      <td>1</td>\n",
              "      <td>0</td>\n",
              "      <td>0</td>\n",
              "      <td>0</td>\n",
              "      <td>0</td>\n",
              "      <td>0</td>\n",
              "      <td>0</td>\n",
              "      <td>1</td>\n",
              "      <td>0.589189</td>\n",
              "      <td>21.6</td>\n",
              "    </tr>\n",
              "  </tbody>\n",
              "</table>\n",
              "<p>5 rows × 32 columns</p>\n",
              "</div>\n",
              "      <button class=\"colab-df-convert\" onclick=\"convertToInteractive('df-dfcb26fb-ab01-43ef-a82c-7e610936f78a')\"\n",
              "              title=\"Convert this dataframe to an interactive table.\"\n",
              "              style=\"display:none;\">\n",
              "\n",
              "  <svg xmlns=\"http://www.w3.org/2000/svg\" height=\"24px\"viewBox=\"0 0 24 24\"\n",
              "       width=\"24px\">\n",
              "    <path d=\"M0 0h24v24H0V0z\" fill=\"none\"/>\n",
              "    <path d=\"M18.56 5.44l.94 2.06.94-2.06 2.06-.94-2.06-.94-.94-2.06-.94 2.06-2.06.94zm-11 1L8.5 8.5l.94-2.06 2.06-.94-2.06-.94L8.5 2.5l-.94 2.06-2.06.94zm10 10l.94 2.06.94-2.06 2.06-.94-2.06-.94-.94-2.06-.94 2.06-2.06.94z\"/><path d=\"M17.41 7.96l-1.37-1.37c-.4-.4-.92-.59-1.43-.59-.52 0-1.04.2-1.43.59L10.3 9.45l-7.72 7.72c-.78.78-.78 2.05 0 2.83L4 21.41c.39.39.9.59 1.41.59.51 0 1.02-.2 1.41-.59l7.78-7.78 2.81-2.81c.8-.78.8-2.07 0-2.86zM5.41 20L4 18.59l7.72-7.72 1.47 1.35L5.41 20z\"/>\n",
              "  </svg>\n",
              "      </button>\n",
              "\n",
              "\n",
              "\n",
              "    <div id=\"df-68f2aacd-5d91-48b3-8d64-d1c94e73b5d9\">\n",
              "      <button class=\"colab-df-quickchart\" onclick=\"quickchart('df-68f2aacd-5d91-48b3-8d64-d1c94e73b5d9')\"\n",
              "              title=\"Suggest charts.\"\n",
              "              style=\"display:none;\">\n",
              "\n",
              "<svg xmlns=\"http://www.w3.org/2000/svg\" height=\"24px\"viewBox=\"0 0 24 24\"\n",
              "     width=\"24px\">\n",
              "    <g>\n",
              "        <path d=\"M19 3H5c-1.1 0-2 .9-2 2v14c0 1.1.9 2 2 2h14c1.1 0 2-.9 2-2V5c0-1.1-.9-2-2-2zM9 17H7v-7h2v7zm4 0h-2V7h2v10zm4 0h-2v-4h2v4z\"/>\n",
              "    </g>\n",
              "</svg>\n",
              "      </button>\n",
              "    </div>\n",
              "\n",
              "<style>\n",
              "  .colab-df-quickchart {\n",
              "    background-color: #E8F0FE;\n",
              "    border: none;\n",
              "    border-radius: 50%;\n",
              "    cursor: pointer;\n",
              "    display: none;\n",
              "    fill: #1967D2;\n",
              "    height: 32px;\n",
              "    padding: 0 0 0 0;\n",
              "    width: 32px;\n",
              "  }\n",
              "\n",
              "  .colab-df-quickchart:hover {\n",
              "    background-color: #E2EBFA;\n",
              "    box-shadow: 0px 1px 2px rgba(60, 64, 67, 0.3), 0px 1px 3px 1px rgba(60, 64, 67, 0.15);\n",
              "    fill: #174EA6;\n",
              "  }\n",
              "\n",
              "  [theme=dark] .colab-df-quickchart {\n",
              "    background-color: #3B4455;\n",
              "    fill: #D2E3FC;\n",
              "  }\n",
              "\n",
              "  [theme=dark] .colab-df-quickchart:hover {\n",
              "    background-color: #434B5C;\n",
              "    box-shadow: 0px 1px 3px 1px rgba(0, 0, 0, 0.15);\n",
              "    filter: drop-shadow(0px 1px 2px rgba(0, 0, 0, 0.3));\n",
              "    fill: #FFFFFF;\n",
              "  }\n",
              "</style>\n",
              "\n",
              "    <script>\n",
              "      async function quickchart(key) {\n",
              "        const containerElement = document.querySelector('#' + key);\n",
              "        const charts = await google.colab.kernel.invokeFunction(\n",
              "            'suggestCharts', [key], {});\n",
              "      }\n",
              "    </script>\n",
              "\n",
              "      <script>\n",
              "\n",
              "function displayQuickchartButton(domScope) {\n",
              "  let quickchartButtonEl =\n",
              "    domScope.querySelector('#df-68f2aacd-5d91-48b3-8d64-d1c94e73b5d9 button.colab-df-quickchart');\n",
              "  quickchartButtonEl.style.display =\n",
              "    google.colab.kernel.accessAllowed ? 'block' : 'none';\n",
              "}\n",
              "\n",
              "        displayQuickchartButton(document);\n",
              "      </script>\n",
              "      <style>\n",
              "    .colab-df-container {\n",
              "      display:flex;\n",
              "      flex-wrap:wrap;\n",
              "      gap: 12px;\n",
              "    }\n",
              "\n",
              "    .colab-df-convert {\n",
              "      background-color: #E8F0FE;\n",
              "      border: none;\n",
              "      border-radius: 50%;\n",
              "      cursor: pointer;\n",
              "      display: none;\n",
              "      fill: #1967D2;\n",
              "      height: 32px;\n",
              "      padding: 0 0 0 0;\n",
              "      width: 32px;\n",
              "    }\n",
              "\n",
              "    .colab-df-convert:hover {\n",
              "      background-color: #E2EBFA;\n",
              "      box-shadow: 0px 1px 2px rgba(60, 64, 67, 0.3), 0px 1px 3px 1px rgba(60, 64, 67, 0.15);\n",
              "      fill: #174EA6;\n",
              "    }\n",
              "\n",
              "    [theme=dark] .colab-df-convert {\n",
              "      background-color: #3B4455;\n",
              "      fill: #D2E3FC;\n",
              "    }\n",
              "\n",
              "    [theme=dark] .colab-df-convert:hover {\n",
              "      background-color: #434B5C;\n",
              "      box-shadow: 0px 1px 3px 1px rgba(0, 0, 0, 0.15);\n",
              "      filter: drop-shadow(0px 1px 2px rgba(0, 0, 0, 0.3));\n",
              "      fill: #FFFFFF;\n",
              "    }\n",
              "  </style>\n",
              "\n",
              "      <script>\n",
              "        const buttonEl =\n",
              "          document.querySelector('#df-dfcb26fb-ab01-43ef-a82c-7e610936f78a button.colab-df-convert');\n",
              "        buttonEl.style.display =\n",
              "          google.colab.kernel.accessAllowed ? 'block' : 'none';\n",
              "\n",
              "        async function convertToInteractive(key) {\n",
              "          const element = document.querySelector('#df-dfcb26fb-ab01-43ef-a82c-7e610936f78a');\n",
              "          const dataTable =\n",
              "            await google.colab.kernel.invokeFunction('convertToInteractive',\n",
              "                                                     [key], {});\n",
              "          if (!dataTable) return;\n",
              "\n",
              "          const docLinkHtml = 'Like what you see? Visit the ' +\n",
              "            '<a target=\"_blank\" href=https://colab.research.google.com/notebooks/data_table.ipynb>data table notebook</a>'\n",
              "            + ' to learn more about interactive tables.';\n",
              "          element.innerHTML = '';\n",
              "          dataTable['output_type'] = 'display_data';\n",
              "          await google.colab.output.renderOutput(dataTable, element);\n",
              "          const docLink = document.createElement('div');\n",
              "          docLink.innerHTML = docLinkHtml;\n",
              "          element.appendChild(docLink);\n",
              "        }\n",
              "      </script>\n",
              "    </div>\n",
              "  </div>\n"
            ]
          },
          "metadata": {},
          "execution_count": 151
        }
      ]
    },
    {
      "cell_type": "markdown",
      "source": [
        "### Dataset column names"
      ],
      "metadata": {
        "id": "pbPGZThWkYKl"
      }
    },
    {
      "cell_type": "code",
      "source": [
        "# iterating the columns\n",
        "for col in df_weatherCollisionsDNNMix3a.columns:\n",
        "    print(col)\n",
        "# This one has one hot encvoded months, day of week, year, snow, temperature"
      ],
      "metadata": {
        "colab": {
          "base_uri": "https://localhost:8080/"
        },
        "id": "L2mghzRwq1k3",
        "outputId": "03deda11-7ab9-4a25-9de9-ce895bf420ed"
      },
      "execution_count": 152,
      "outputs": [
        {
          "output_type": "stream",
          "name": "stdout",
          "text": [
            "Apr\n",
            "Aug\n",
            "Dec\n",
            "Feb\n",
            "Jan\n",
            "Jul\n",
            "Jun\n",
            "Mar\n",
            "May\n",
            "Nov\n",
            "Oct\n",
            "Sep\n",
            "Fri\n",
            "Mon\n",
            "Sat\n",
            "Sun\n",
            "Thur\n",
            "Tue\n",
            "Wed\n",
            "X2021\n",
            "X2023\n",
            "X2022\n",
            "No.Snow\n",
            "Snow\n",
            "Cold\n",
            "Freezing.or.below\n",
            "Hot\n",
            "Mild\n",
            "Very.warm\n",
            "Warm\n",
            "scaledCollisions\n",
            "temperature\n"
          ]
        }
      ]
    },
    {
      "cell_type": "code",
      "metadata": {
        "id": "tSiiSJSpftJ6"
      },
      "source": [
        "df_weatherCollisionsDNNMix3a_input_data = [\n",
        "                  df_weatherCollisionsDNNMix3a[\"Jan\"], df_weatherCollisionsDNNMix3a[\"Feb\"], df_weatherCollisionsDNNMix3a[\"Mar\"], df_weatherCollisionsDNNMix3a[\"Apr\"], df_weatherCollisionsDNNMix3a[\"May\"], df_weatherCollisionsDNNMix3a[\"Jun\"], df_weatherCollisionsDNNMix3a[\"Jul\"], df_weatherCollisionsDNNMix3a[\"Aug\"], df_weatherCollisionsDNNMix3a[\"Sep\"], df_weatherCollisionsDNNMix3a[\"Oct\"], df_weatherCollisionsDNNMix3a[\"Nov\"], df_weatherCollisionsDNNMix3a[\"Dec\"],\n",
        "                  df_weatherCollisionsDNNMix3a[\"Sat\"], df_weatherCollisionsDNNMix3a[\"Sun\"], df_weatherCollisionsDNNMix3a[\"Mon\"], df_weatherCollisionsDNNMix3a[\"Tue\"], df_weatherCollisionsDNNMix3a[\"Wed\"], df_weatherCollisionsDNNMix3a[\"Thur\"], df_weatherCollisionsDNNMix3a[\"Fri\"],\n",
        "                  df_weatherCollisionsDNNMix3a[\"X2021\"], df_weatherCollisionsDNNMix3a[\"X2022\"], df_weatherCollisionsDNNMix3a[\"X2023\"],\n",
        "                  df_weatherCollisionsDNNMix3a[\"No.Snow\"], df_weatherCollisionsDNNMix3a[\"Snow\"],\n",
        "                  df_weatherCollisionsDNNMix3a[\"Cold\"], df_weatherCollisionsDNNMix3a[\"Freezing.or.below\"],df_weatherCollisionsDNNMix3a[\"Hot\"],df_weatherCollisionsDNNMix3a[\"Mild\"],\n",
        "                  df_weatherCollisionsDNNMix3a[\"Very.warm\"], df_weatherCollisionsDNNMix3a[\"Warm\"],\n",
        "                  df_weatherCollisionsDNNMix3a[\"scaledCollisions\"],\n",
        "                  df_weatherCollisionsDNNMix3a[\"temperature\"]]\n",
        "headers3a = [\"Jan\",\"Feb\",\"Mar\",\"Apr\",\"May\",\"Jun\",\"Jul\",\"Aug\",\"Sep\",\"Oct\",\"Nov\",\"Dec\",\n",
        "             \"Sat\",\"Sun\",\"Mon\",\"Tue\",\"Wed\",\"Thur\",\"Fri\",\n",
        "           \"X2021\",\"X2022\",\"X2023\",\n",
        "            \"No.Snow\",\"Snow\",\n",
        "            \"Cold\",\"Freezing.or.below\",\"Hot\",\"Mild\",\"Very.warm\",\"Warm\",\n",
        "             \"scaledCollisions\",\n",
        "             \"temperature\"\n",
        "             ]\n",
        "df_weatherCollisionsDNNMix3a_input = pd.concat(df_weatherCollisionsDNNMix3a_input_data, axis=1, keys=headers3a)\n"
      ],
      "execution_count": 153,
      "outputs": []
    },
    {
      "cell_type": "code",
      "source": [
        "df_weatherCollisionsDNNMix3a_input.head()"
      ],
      "metadata": {
        "colab": {
          "base_uri": "https://localhost:8080/",
          "height": 299
        },
        "outputId": "376a6600-75d3-43e0-80b3-511117198e84",
        "id": "SoIngwDHftJ7"
      },
      "execution_count": 154,
      "outputs": [
        {
          "output_type": "execute_result",
          "data": {
            "text/plain": [
              "     Jan  Feb  Mar  Apr  May  Jun  Jul  Aug  Sep  Oct  ...  No.Snow  Snow  \\\n",
              "650    0    0    0    0    0    0    0    0    0    0  ...        1     0   \n",
              "584    0    0    0    0    0    0    0    1    0    0  ...        1     0   \n",
              "493    0    0    0    0    1    0    0    0    0    0  ...        1     0   \n",
              "162    0    0    0    0    0    1    0    0    0    0  ...        1     0   \n",
              "588    0    0    0    0    0    0    0    0    1    0  ...        1     0   \n",
              "\n",
              "     Cold  Freezing.or.below  Hot  Mild  Very.warm  Warm  scaledCollisions  \\\n",
              "650     0                  0    0     1          0     0          0.745946   \n",
              "584     0                  0    0     0          1     0          0.427027   \n",
              "493     0                  0    0     0          1     0          0.751351   \n",
              "162     0                  0    0     0          1     0          0.867647   \n",
              "588     0                  0    0     0          0     1          0.589189   \n",
              "\n",
              "     temperature  \n",
              "650         15.0  \n",
              "584         25.7  \n",
              "493         27.1  \n",
              "162         26.7  \n",
              "588         21.6  \n",
              "\n",
              "[5 rows x 32 columns]"
            ],
            "text/html": [
              "\n",
              "\n",
              "  <div id=\"df-aabc0256-e639-4643-ab32-d5af7d04c364\">\n",
              "    <div class=\"colab-df-container\">\n",
              "      <div>\n",
              "<style scoped>\n",
              "    .dataframe tbody tr th:only-of-type {\n",
              "        vertical-align: middle;\n",
              "    }\n",
              "\n",
              "    .dataframe tbody tr th {\n",
              "        vertical-align: top;\n",
              "    }\n",
              "\n",
              "    .dataframe thead th {\n",
              "        text-align: right;\n",
              "    }\n",
              "</style>\n",
              "<table border=\"1\" class=\"dataframe\">\n",
              "  <thead>\n",
              "    <tr style=\"text-align: right;\">\n",
              "      <th></th>\n",
              "      <th>Jan</th>\n",
              "      <th>Feb</th>\n",
              "      <th>Mar</th>\n",
              "      <th>Apr</th>\n",
              "      <th>May</th>\n",
              "      <th>Jun</th>\n",
              "      <th>Jul</th>\n",
              "      <th>Aug</th>\n",
              "      <th>Sep</th>\n",
              "      <th>Oct</th>\n",
              "      <th>...</th>\n",
              "      <th>No.Snow</th>\n",
              "      <th>Snow</th>\n",
              "      <th>Cold</th>\n",
              "      <th>Freezing.or.below</th>\n",
              "      <th>Hot</th>\n",
              "      <th>Mild</th>\n",
              "      <th>Very.warm</th>\n",
              "      <th>Warm</th>\n",
              "      <th>scaledCollisions</th>\n",
              "      <th>temperature</th>\n",
              "    </tr>\n",
              "  </thead>\n",
              "  <tbody>\n",
              "    <tr>\n",
              "      <th>650</th>\n",
              "      <td>0</td>\n",
              "      <td>0</td>\n",
              "      <td>0</td>\n",
              "      <td>0</td>\n",
              "      <td>0</td>\n",
              "      <td>0</td>\n",
              "      <td>0</td>\n",
              "      <td>0</td>\n",
              "      <td>0</td>\n",
              "      <td>0</td>\n",
              "      <td>...</td>\n",
              "      <td>1</td>\n",
              "      <td>0</td>\n",
              "      <td>0</td>\n",
              "      <td>0</td>\n",
              "      <td>0</td>\n",
              "      <td>1</td>\n",
              "      <td>0</td>\n",
              "      <td>0</td>\n",
              "      <td>0.745946</td>\n",
              "      <td>15.0</td>\n",
              "    </tr>\n",
              "    <tr>\n",
              "      <th>584</th>\n",
              "      <td>0</td>\n",
              "      <td>0</td>\n",
              "      <td>0</td>\n",
              "      <td>0</td>\n",
              "      <td>0</td>\n",
              "      <td>0</td>\n",
              "      <td>0</td>\n",
              "      <td>1</td>\n",
              "      <td>0</td>\n",
              "      <td>0</td>\n",
              "      <td>...</td>\n",
              "      <td>1</td>\n",
              "      <td>0</td>\n",
              "      <td>0</td>\n",
              "      <td>0</td>\n",
              "      <td>0</td>\n",
              "      <td>0</td>\n",
              "      <td>1</td>\n",
              "      <td>0</td>\n",
              "      <td>0.427027</td>\n",
              "      <td>25.7</td>\n",
              "    </tr>\n",
              "    <tr>\n",
              "      <th>493</th>\n",
              "      <td>0</td>\n",
              "      <td>0</td>\n",
              "      <td>0</td>\n",
              "      <td>0</td>\n",
              "      <td>1</td>\n",
              "      <td>0</td>\n",
              "      <td>0</td>\n",
              "      <td>0</td>\n",
              "      <td>0</td>\n",
              "      <td>0</td>\n",
              "      <td>...</td>\n",
              "      <td>1</td>\n",
              "      <td>0</td>\n",
              "      <td>0</td>\n",
              "      <td>0</td>\n",
              "      <td>0</td>\n",
              "      <td>0</td>\n",
              "      <td>1</td>\n",
              "      <td>0</td>\n",
              "      <td>0.751351</td>\n",
              "      <td>27.1</td>\n",
              "    </tr>\n",
              "    <tr>\n",
              "      <th>162</th>\n",
              "      <td>0</td>\n",
              "      <td>0</td>\n",
              "      <td>0</td>\n",
              "      <td>0</td>\n",
              "      <td>0</td>\n",
              "      <td>1</td>\n",
              "      <td>0</td>\n",
              "      <td>0</td>\n",
              "      <td>0</td>\n",
              "      <td>0</td>\n",
              "      <td>...</td>\n",
              "      <td>1</td>\n",
              "      <td>0</td>\n",
              "      <td>0</td>\n",
              "      <td>0</td>\n",
              "      <td>0</td>\n",
              "      <td>0</td>\n",
              "      <td>1</td>\n",
              "      <td>0</td>\n",
              "      <td>0.867647</td>\n",
              "      <td>26.7</td>\n",
              "    </tr>\n",
              "    <tr>\n",
              "      <th>588</th>\n",
              "      <td>0</td>\n",
              "      <td>0</td>\n",
              "      <td>0</td>\n",
              "      <td>0</td>\n",
              "      <td>0</td>\n",
              "      <td>0</td>\n",
              "      <td>0</td>\n",
              "      <td>0</td>\n",
              "      <td>1</td>\n",
              "      <td>0</td>\n",
              "      <td>...</td>\n",
              "      <td>1</td>\n",
              "      <td>0</td>\n",
              "      <td>0</td>\n",
              "      <td>0</td>\n",
              "      <td>0</td>\n",
              "      <td>0</td>\n",
              "      <td>0</td>\n",
              "      <td>1</td>\n",
              "      <td>0.589189</td>\n",
              "      <td>21.6</td>\n",
              "    </tr>\n",
              "  </tbody>\n",
              "</table>\n",
              "<p>5 rows × 32 columns</p>\n",
              "</div>\n",
              "      <button class=\"colab-df-convert\" onclick=\"convertToInteractive('df-aabc0256-e639-4643-ab32-d5af7d04c364')\"\n",
              "              title=\"Convert this dataframe to an interactive table.\"\n",
              "              style=\"display:none;\">\n",
              "\n",
              "  <svg xmlns=\"http://www.w3.org/2000/svg\" height=\"24px\"viewBox=\"0 0 24 24\"\n",
              "       width=\"24px\">\n",
              "    <path d=\"M0 0h24v24H0V0z\" fill=\"none\"/>\n",
              "    <path d=\"M18.56 5.44l.94 2.06.94-2.06 2.06-.94-2.06-.94-.94-2.06-.94 2.06-2.06.94zm-11 1L8.5 8.5l.94-2.06 2.06-.94-2.06-.94L8.5 2.5l-.94 2.06-2.06.94zm10 10l.94 2.06.94-2.06 2.06-.94-2.06-.94-.94-2.06-.94 2.06-2.06.94z\"/><path d=\"M17.41 7.96l-1.37-1.37c-.4-.4-.92-.59-1.43-.59-.52 0-1.04.2-1.43.59L10.3 9.45l-7.72 7.72c-.78.78-.78 2.05 0 2.83L4 21.41c.39.39.9.59 1.41.59.51 0 1.02-.2 1.41-.59l7.78-7.78 2.81-2.81c.8-.78.8-2.07 0-2.86zM5.41 20L4 18.59l7.72-7.72 1.47 1.35L5.41 20z\"/>\n",
              "  </svg>\n",
              "      </button>\n",
              "\n",
              "\n",
              "\n",
              "    <div id=\"df-5ee080eb-8797-46bf-8ec7-7ca96cb14869\">\n",
              "      <button class=\"colab-df-quickchart\" onclick=\"quickchart('df-5ee080eb-8797-46bf-8ec7-7ca96cb14869')\"\n",
              "              title=\"Suggest charts.\"\n",
              "              style=\"display:none;\">\n",
              "\n",
              "<svg xmlns=\"http://www.w3.org/2000/svg\" height=\"24px\"viewBox=\"0 0 24 24\"\n",
              "     width=\"24px\">\n",
              "    <g>\n",
              "        <path d=\"M19 3H5c-1.1 0-2 .9-2 2v14c0 1.1.9 2 2 2h14c1.1 0 2-.9 2-2V5c0-1.1-.9-2-2-2zM9 17H7v-7h2v7zm4 0h-2V7h2v10zm4 0h-2v-4h2v4z\"/>\n",
              "    </g>\n",
              "</svg>\n",
              "      </button>\n",
              "    </div>\n",
              "\n",
              "<style>\n",
              "  .colab-df-quickchart {\n",
              "    background-color: #E8F0FE;\n",
              "    border: none;\n",
              "    border-radius: 50%;\n",
              "    cursor: pointer;\n",
              "    display: none;\n",
              "    fill: #1967D2;\n",
              "    height: 32px;\n",
              "    padding: 0 0 0 0;\n",
              "    width: 32px;\n",
              "  }\n",
              "\n",
              "  .colab-df-quickchart:hover {\n",
              "    background-color: #E2EBFA;\n",
              "    box-shadow: 0px 1px 2px rgba(60, 64, 67, 0.3), 0px 1px 3px 1px rgba(60, 64, 67, 0.15);\n",
              "    fill: #174EA6;\n",
              "  }\n",
              "\n",
              "  [theme=dark] .colab-df-quickchart {\n",
              "    background-color: #3B4455;\n",
              "    fill: #D2E3FC;\n",
              "  }\n",
              "\n",
              "  [theme=dark] .colab-df-quickchart:hover {\n",
              "    background-color: #434B5C;\n",
              "    box-shadow: 0px 1px 3px 1px rgba(0, 0, 0, 0.15);\n",
              "    filter: drop-shadow(0px 1px 2px rgba(0, 0, 0, 0.3));\n",
              "    fill: #FFFFFF;\n",
              "  }\n",
              "</style>\n",
              "\n",
              "    <script>\n",
              "      async function quickchart(key) {\n",
              "        const containerElement = document.querySelector('#' + key);\n",
              "        const charts = await google.colab.kernel.invokeFunction(\n",
              "            'suggestCharts', [key], {});\n",
              "      }\n",
              "    </script>\n",
              "\n",
              "      <script>\n",
              "\n",
              "function displayQuickchartButton(domScope) {\n",
              "  let quickchartButtonEl =\n",
              "    domScope.querySelector('#df-5ee080eb-8797-46bf-8ec7-7ca96cb14869 button.colab-df-quickchart');\n",
              "  quickchartButtonEl.style.display =\n",
              "    google.colab.kernel.accessAllowed ? 'block' : 'none';\n",
              "}\n",
              "\n",
              "        displayQuickchartButton(document);\n",
              "      </script>\n",
              "      <style>\n",
              "    .colab-df-container {\n",
              "      display:flex;\n",
              "      flex-wrap:wrap;\n",
              "      gap: 12px;\n",
              "    }\n",
              "\n",
              "    .colab-df-convert {\n",
              "      background-color: #E8F0FE;\n",
              "      border: none;\n",
              "      border-radius: 50%;\n",
              "      cursor: pointer;\n",
              "      display: none;\n",
              "      fill: #1967D2;\n",
              "      height: 32px;\n",
              "      padding: 0 0 0 0;\n",
              "      width: 32px;\n",
              "    }\n",
              "\n",
              "    .colab-df-convert:hover {\n",
              "      background-color: #E2EBFA;\n",
              "      box-shadow: 0px 1px 2px rgba(60, 64, 67, 0.3), 0px 1px 3px 1px rgba(60, 64, 67, 0.15);\n",
              "      fill: #174EA6;\n",
              "    }\n",
              "\n",
              "    [theme=dark] .colab-df-convert {\n",
              "      background-color: #3B4455;\n",
              "      fill: #D2E3FC;\n",
              "    }\n",
              "\n",
              "    [theme=dark] .colab-df-convert:hover {\n",
              "      background-color: #434B5C;\n",
              "      box-shadow: 0px 1px 3px 1px rgba(0, 0, 0, 0.15);\n",
              "      filter: drop-shadow(0px 1px 2px rgba(0, 0, 0, 0.3));\n",
              "      fill: #FFFFFF;\n",
              "    }\n",
              "  </style>\n",
              "\n",
              "      <script>\n",
              "        const buttonEl =\n",
              "          document.querySelector('#df-aabc0256-e639-4643-ab32-d5af7d04c364 button.colab-df-convert');\n",
              "        buttonEl.style.display =\n",
              "          google.colab.kernel.accessAllowed ? 'block' : 'none';\n",
              "\n",
              "        async function convertToInteractive(key) {\n",
              "          const element = document.querySelector('#df-aabc0256-e639-4643-ab32-d5af7d04c364');\n",
              "          const dataTable =\n",
              "            await google.colab.kernel.invokeFunction('convertToInteractive',\n",
              "                                                     [key], {});\n",
              "          if (!dataTable) return;\n",
              "\n",
              "          const docLinkHtml = 'Like what you see? Visit the ' +\n",
              "            '<a target=\"_blank\" href=https://colab.research.google.com/notebooks/data_table.ipynb>data table notebook</a>'\n",
              "            + ' to learn more about interactive tables.';\n",
              "          element.innerHTML = '';\n",
              "          dataTable['output_type'] = 'display_data';\n",
              "          await google.colab.output.renderOutput(dataTable, element);\n",
              "          const docLink = document.createElement('div');\n",
              "          docLink.innerHTML = docLinkHtml;\n",
              "          element.appendChild(docLink);\n",
              "        }\n",
              "      </script>\n",
              "    </div>\n",
              "  </div>\n"
            ]
          },
          "metadata": {},
          "execution_count": 154
        }
      ]
    },
    {
      "cell_type": "markdown",
      "source": [
        "#### Training and test datasets"
      ],
      "metadata": {
        "id": "Ve1muFljftJ7"
      }
    },
    {
      "cell_type": "code",
      "metadata": {
        "id": "xDSQe7a6ftJ8"
      },
      "source": [
        "training_dataset3a = df_weatherCollisionsDNNMix3a_input.sample(frac=0.8, random_state=0)\n",
        "test_dataset3a = df_weatherCollisionsDNNMix3a_input.drop(training_dataset3a.index)"
      ],
      "execution_count": 155,
      "outputs": []
    },
    {
      "cell_type": "code",
      "source": [
        "training_features3a = training_dataset3a.copy()\n",
        "test_features3a = test_dataset3a.copy()\n",
        "\n",
        "training_labels3a = training_features3a.pop('scaledCollisions')\n",
        "test_labels3a = test_features3a.pop('scaledCollisions')"
      ],
      "metadata": {
        "id": "42X0MLr7ftJ8"
      },
      "execution_count": 156,
      "outputs": []
    },
    {
      "cell_type": "code",
      "source": [
        "# A scale is not required here, but the constant will be useful in the assignment.\n",
        "SCALE_NUM_COLLISIONS = 1.0"
      ],
      "metadata": {
        "id": "Dp_jqNmfftJ9"
      },
      "execution_count": 157,
      "outputs": []
    },
    {
      "cell_type": "code",
      "source": [
        "training_labels3a = training_labels3a/SCALE_NUM_COLLISIONS\n",
        "test_labels3a = test_labels3a/SCALE_NUM_COLLISIONS"
      ],
      "metadata": {
        "id": "em_ynCGdftJ9"
      },
      "execution_count": 158,
      "outputs": []
    },
    {
      "cell_type": "code",
      "source": [
        "#for col in df_weatherCollisionsDNNMix3a_input.columns:\n",
        " #   print(col)\n",
        "# 21 excluding scaled collisions"
      ],
      "metadata": {
        "id": "P-5nrTXpftJ9"
      },
      "execution_count": 159,
      "outputs": []
    },
    {
      "cell_type": "markdown",
      "source": [
        "## Model specification"
      ],
      "metadata": {
        "id": "VLWTLEi-LHO1"
      }
    },
    {
      "cell_type": "code",
      "source": [
        "normaliser3a = tf.keras.layers.Normalization(axis=-1)\n",
        "normaliser3a.adapt(np.array(training_features3a))"
      ],
      "metadata": {
        "id": "rWm9mienftJ9"
      },
      "execution_count": 160,
      "outputs": []
    },
    {
      "cell_type": "code",
      "source": [
        "# Normalisation layer (31 inputs), 2 layers of x, with 1 output.\n",
        "# can be adjusted to improve the net.\n",
        "dnn_model_3a = keras.Sequential([\n",
        "      normaliser3a,\n",
        "      layers.Dense(66, activation='relu'),\n",
        "      layers.Dense(66, activation='relu'),\n",
        "      layers.Dense(1)\n",
        "  ])\n",
        "\n",
        "dnn_model_3a.compile(loss='mean_absolute_error',\n",
        "                optimizer=tf.keras.optimizers.Adam(0.001))"
      ],
      "metadata": {
        "id": "np0FU3N8ftJ-"
      },
      "execution_count": 161,
      "outputs": []
    },
    {
      "cell_type": "code",
      "source": [
        "# Print out the statistics\n",
        "dnn_model_3a.summary()"
      ],
      "metadata": {
        "colab": {
          "base_uri": "https://localhost:8080/"
        },
        "id": "1pw0lY3Aw5-D",
        "outputId": "12e1cb7b-db1d-4ed5-92d8-923b3b4e3c18"
      },
      "execution_count": 162,
      "outputs": [
        {
          "output_type": "stream",
          "name": "stdout",
          "text": [
            "Model: \"sequential_4\"\n",
            "_________________________________________________________________\n",
            " Layer (type)                Output Shape              Param #   \n",
            "=================================================================\n",
            " normalization_4 (Normalizat  (None, 31)               63        \n",
            " ion)                                                            \n",
            "                                                                 \n",
            " dense_12 (Dense)            (None, 66)                2112      \n",
            "                                                                 \n",
            " dense_13 (Dense)            (None, 66)                4422      \n",
            "                                                                 \n",
            " dense_14 (Dense)            (None, 1)                 67        \n",
            "                                                                 \n",
            "=================================================================\n",
            "Total params: 6,664\n",
            "Trainable params: 6,601\n",
            "Non-trainable params: 63\n",
            "_________________________________________________________________\n"
          ]
        }
      ]
    },
    {
      "cell_type": "markdown",
      "source": [
        "#### Train the model"
      ],
      "metadata": {
        "id": "9JKokFC6eU-h"
      }
    },
    {
      "cell_type": "markdown",
      "source": [
        "We call fit() to train the model by repeatedly iterating over the dataset for 100 epochs. This specifies to use 20% of the data for validation."
      ],
      "metadata": {
        "id": "KgwterYEcbG6"
      }
    },
    {
      "cell_type": "code",
      "source": [
        "%%time\n",
        "history3a = dnn_model_3a.fit(\n",
        "    training_features3a,\n",
        "    training_labels3a,\n",
        "    validation_split=0.2,\n",
        "    verbose=0,\n",
        "    epochs=100)"
      ],
      "metadata": {
        "outputId": "205f34d2-235a-49fe-fe61-6927352ef16a",
        "colab": {
          "base_uri": "https://localhost:8080/"
        },
        "id": "7Vy6mJlZftJ-"
      },
      "execution_count": 163,
      "outputs": [
        {
          "output_type": "stream",
          "name": "stdout",
          "text": [
            "CPU times: user 6.71 s, sys: 250 ms, total: 6.96 s\n",
            "Wall time: 11.1 s\n"
          ]
        }
      ]
    },
    {
      "cell_type": "markdown",
      "source": [
        "The returned history object holds a record of the loss values and metric values during training."
      ],
      "metadata": {
        "id": "DqVH7wBIdpEX"
      }
    },
    {
      "cell_type": "code",
      "source": [
        "#history3a.history"
      ],
      "metadata": {
        "id": "Esu_r32lRYXy"
      },
      "execution_count": 164,
      "outputs": []
    },
    {
      "cell_type": "markdown",
      "source": [
        "#### Evaluate model 3a on the test data (0.1512938290834427)\n"
      ],
      "metadata": {
        "id": "KbKc4k4CX4RR"
      }
    },
    {
      "cell_type": "code",
      "source": [
        "# remember, we want to minimise this. The model with the lowest is the best.\n",
        "dnn_model_3a_results = dnn_model_3a.evaluate(test_features3a, test_labels3a, verbose=1)\n",
        "print(dnn_model_3a_results)"
      ],
      "metadata": {
        "outputId": "a08be330-b4e9-4720-ca46-04e19196f4b0",
        "colab": {
          "base_uri": "https://localhost:8080/"
        },
        "id": "XdkaU9yoftJ-"
      },
      "execution_count": 165,
      "outputs": [
        {
          "output_type": "stream",
          "name": "stdout",
          "text": [
            "6/6 [==============================] - 0s 3ms/step - loss: 0.1318\n",
            "0.13179422914981842\n"
          ]
        }
      ]
    },
    {
      "cell_type": "markdown",
      "source": [
        "There is an improvement in the score in comparison to previous models."
      ],
      "metadata": {
        "id": "SxEunlECErgY"
      }
    },
    {
      "cell_type": "markdown",
      "source": [
        "### Make predictions based on test data"
      ],
      "metadata": {
        "id": "062L7drx1enS"
      }
    },
    {
      "cell_type": "code",
      "source": [
        "# Make the predictions by the model on tHE TEST data\n",
        "print(\"Generate predictions for 10 samples\")\n",
        "linear_day_predictions3aTD = dnn_model_3a.predict(test_features3a[:10])*SCALE_NUM_COLLISIONS\n",
        "linear_day_predictions3aTD\n",
        "#print(\"predictions shape:\", linear_day_predictions2TD.shape)"
      ],
      "metadata": {
        "colab": {
          "base_uri": "https://localhost:8080/"
        },
        "outputId": "defe41af-7243-45db-82c9-890e23d9721d",
        "id": "KHejjvuG1enZ"
      },
      "execution_count": 166,
      "outputs": [
        {
          "output_type": "stream",
          "name": "stdout",
          "text": [
            "Generate predictions for 10 samples\n",
            "1/1 [==============================] - 0s 76ms/step\n"
          ]
        },
        {
          "output_type": "execute_result",
          "data": {
            "text/plain": [
              "array([[0.6176474 ],\n",
              "       [0.42389855],\n",
              "       [0.8341138 ],\n",
              "       [0.61320233],\n",
              "       [0.51312613],\n",
              "       [0.9594437 ],\n",
              "       [0.6434803 ],\n",
              "       [0.7331829 ],\n",
              "       [0.6929768 ],\n",
              "       [0.5634279 ]], dtype=float32)"
            ]
          },
          "metadata": {},
          "execution_count": 166
        }
      ]
    },
    {
      "cell_type": "markdown",
      "source": [
        "#### Convert to collisions"
      ],
      "metadata": {
        "id": "NDWNQdzo1enZ"
      }
    },
    {
      "cell_type": "code",
      "source": [
        "# Make the predictions by the model on the TEST DATA data and convert based on scaledCollisions for 2022\n",
        "linear_day_predictions3aTDConverted = dnn_model_3a.predict(test_features3a[:10])*a22 +b22\n",
        "#*a22 +b22 is is to convert scaled collisions based on the values for 2022\n",
        "linear_day_predictions3aTDConverted"
      ],
      "metadata": {
        "colab": {
          "base_uri": "https://localhost:8080/"
        },
        "outputId": "5def6e68-3d40-45cd-c6e7-29a2444c924a",
        "id": "OKxt-YTT1enZ"
      },
      "execution_count": 167,
      "outputs": [
        {
          "output_type": "stream",
          "name": "stdout",
          "text": [
            "1/1 [==============================] - 0s 22ms/step\n"
          ]
        },
        {
          "output_type": "execute_result",
          "data": {
            "text/plain": [
              "array([[294.26477],\n",
              "       [258.42123],\n",
              "       [334.31104],\n",
              "       [293.44244],\n",
              "       [274.92834],\n",
              "       [357.49707],\n",
              "       [299.04385],\n",
              "       [315.63885],\n",
              "       [308.20068],\n",
              "       [284.23416]], dtype=float32)"
            ]
          },
          "metadata": {},
          "execution_count": 167
        }
      ]
    },
    {
      "cell_type": "markdown",
      "source": [
        "#### Sample scaled collision output and collisions from a test run"
      ],
      "metadata": {
        "id": "Yw-cP0sOZGNx"
      }
    },
    {
      "cell_type": "code",
      "source": [
        "mod3aResultEx  = pd.DataFrame.from_dict(data =\n",
        "\t\t\t\t{'Validation result for example test run' : [0.30686817,0.39416757,0.60024405,0.65723014,0.8250718,0.7625112,0.09515285,0.65480095,0.3746668 ,0.69988024]})\n",
        "mod3aResultEx\n"
      ],
      "metadata": {
        "colab": {
          "base_uri": "https://localhost:8080/",
          "height": 363
        },
        "id": "FMqm8lzVCJ_J",
        "outputId": "a6082175-ec27-4e39-9d66-68212deb7418"
      },
      "execution_count": 168,
      "outputs": [
        {
          "output_type": "execute_result",
          "data": {
            "text/plain": [
              "   Validation result for example test run\n",
              "0                                0.306868\n",
              "1                                0.394168\n",
              "2                                0.600244\n",
              "3                                0.657230\n",
              "4                                0.825072\n",
              "5                                0.762511\n",
              "6                                0.095153\n",
              "7                                0.654801\n",
              "8                                0.374667\n",
              "9                                0.699880"
            ],
            "text/html": [
              "\n",
              "\n",
              "  <div id=\"df-3b3da075-fc8a-4d2b-a9e6-28ceeffc96a3\">\n",
              "    <div class=\"colab-df-container\">\n",
              "      <div>\n",
              "<style scoped>\n",
              "    .dataframe tbody tr th:only-of-type {\n",
              "        vertical-align: middle;\n",
              "    }\n",
              "\n",
              "    .dataframe tbody tr th {\n",
              "        vertical-align: top;\n",
              "    }\n",
              "\n",
              "    .dataframe thead th {\n",
              "        text-align: right;\n",
              "    }\n",
              "</style>\n",
              "<table border=\"1\" class=\"dataframe\">\n",
              "  <thead>\n",
              "    <tr style=\"text-align: right;\">\n",
              "      <th></th>\n",
              "      <th>Validation result for example test run</th>\n",
              "    </tr>\n",
              "  </thead>\n",
              "  <tbody>\n",
              "    <tr>\n",
              "      <th>0</th>\n",
              "      <td>0.306868</td>\n",
              "    </tr>\n",
              "    <tr>\n",
              "      <th>1</th>\n",
              "      <td>0.394168</td>\n",
              "    </tr>\n",
              "    <tr>\n",
              "      <th>2</th>\n",
              "      <td>0.600244</td>\n",
              "    </tr>\n",
              "    <tr>\n",
              "      <th>3</th>\n",
              "      <td>0.657230</td>\n",
              "    </tr>\n",
              "    <tr>\n",
              "      <th>4</th>\n",
              "      <td>0.825072</td>\n",
              "    </tr>\n",
              "    <tr>\n",
              "      <th>5</th>\n",
              "      <td>0.762511</td>\n",
              "    </tr>\n",
              "    <tr>\n",
              "      <th>6</th>\n",
              "      <td>0.095153</td>\n",
              "    </tr>\n",
              "    <tr>\n",
              "      <th>7</th>\n",
              "      <td>0.654801</td>\n",
              "    </tr>\n",
              "    <tr>\n",
              "      <th>8</th>\n",
              "      <td>0.374667</td>\n",
              "    </tr>\n",
              "    <tr>\n",
              "      <th>9</th>\n",
              "      <td>0.699880</td>\n",
              "    </tr>\n",
              "  </tbody>\n",
              "</table>\n",
              "</div>\n",
              "      <button class=\"colab-df-convert\" onclick=\"convertToInteractive('df-3b3da075-fc8a-4d2b-a9e6-28ceeffc96a3')\"\n",
              "              title=\"Convert this dataframe to an interactive table.\"\n",
              "              style=\"display:none;\">\n",
              "\n",
              "  <svg xmlns=\"http://www.w3.org/2000/svg\" height=\"24px\"viewBox=\"0 0 24 24\"\n",
              "       width=\"24px\">\n",
              "    <path d=\"M0 0h24v24H0V0z\" fill=\"none\"/>\n",
              "    <path d=\"M18.56 5.44l.94 2.06.94-2.06 2.06-.94-2.06-.94-.94-2.06-.94 2.06-2.06.94zm-11 1L8.5 8.5l.94-2.06 2.06-.94-2.06-.94L8.5 2.5l-.94 2.06-2.06.94zm10 10l.94 2.06.94-2.06 2.06-.94-2.06-.94-.94-2.06-.94 2.06-2.06.94z\"/><path d=\"M17.41 7.96l-1.37-1.37c-.4-.4-.92-.59-1.43-.59-.52 0-1.04.2-1.43.59L10.3 9.45l-7.72 7.72c-.78.78-.78 2.05 0 2.83L4 21.41c.39.39.9.59 1.41.59.51 0 1.02-.2 1.41-.59l7.78-7.78 2.81-2.81c.8-.78.8-2.07 0-2.86zM5.41 20L4 18.59l7.72-7.72 1.47 1.35L5.41 20z\"/>\n",
              "  </svg>\n",
              "      </button>\n",
              "\n",
              "\n",
              "\n",
              "    <div id=\"df-c741df70-63ac-4bf7-abfe-36b8ad3cf72e\">\n",
              "      <button class=\"colab-df-quickchart\" onclick=\"quickchart('df-c741df70-63ac-4bf7-abfe-36b8ad3cf72e')\"\n",
              "              title=\"Suggest charts.\"\n",
              "              style=\"display:none;\">\n",
              "\n",
              "<svg xmlns=\"http://www.w3.org/2000/svg\" height=\"24px\"viewBox=\"0 0 24 24\"\n",
              "     width=\"24px\">\n",
              "    <g>\n",
              "        <path d=\"M19 3H5c-1.1 0-2 .9-2 2v14c0 1.1.9 2 2 2h14c1.1 0 2-.9 2-2V5c0-1.1-.9-2-2-2zM9 17H7v-7h2v7zm4 0h-2V7h2v10zm4 0h-2v-4h2v4z\"/>\n",
              "    </g>\n",
              "</svg>\n",
              "      </button>\n",
              "    </div>\n",
              "\n",
              "<style>\n",
              "  .colab-df-quickchart {\n",
              "    background-color: #E8F0FE;\n",
              "    border: none;\n",
              "    border-radius: 50%;\n",
              "    cursor: pointer;\n",
              "    display: none;\n",
              "    fill: #1967D2;\n",
              "    height: 32px;\n",
              "    padding: 0 0 0 0;\n",
              "    width: 32px;\n",
              "  }\n",
              "\n",
              "  .colab-df-quickchart:hover {\n",
              "    background-color: #E2EBFA;\n",
              "    box-shadow: 0px 1px 2px rgba(60, 64, 67, 0.3), 0px 1px 3px 1px rgba(60, 64, 67, 0.15);\n",
              "    fill: #174EA6;\n",
              "  }\n",
              "\n",
              "  [theme=dark] .colab-df-quickchart {\n",
              "    background-color: #3B4455;\n",
              "    fill: #D2E3FC;\n",
              "  }\n",
              "\n",
              "  [theme=dark] .colab-df-quickchart:hover {\n",
              "    background-color: #434B5C;\n",
              "    box-shadow: 0px 1px 3px 1px rgba(0, 0, 0, 0.15);\n",
              "    filter: drop-shadow(0px 1px 2px rgba(0, 0, 0, 0.3));\n",
              "    fill: #FFFFFF;\n",
              "  }\n",
              "</style>\n",
              "\n",
              "    <script>\n",
              "      async function quickchart(key) {\n",
              "        const containerElement = document.querySelector('#' + key);\n",
              "        const charts = await google.colab.kernel.invokeFunction(\n",
              "            'suggestCharts', [key], {});\n",
              "      }\n",
              "    </script>\n",
              "\n",
              "      <script>\n",
              "\n",
              "function displayQuickchartButton(domScope) {\n",
              "  let quickchartButtonEl =\n",
              "    domScope.querySelector('#df-c741df70-63ac-4bf7-abfe-36b8ad3cf72e button.colab-df-quickchart');\n",
              "  quickchartButtonEl.style.display =\n",
              "    google.colab.kernel.accessAllowed ? 'block' : 'none';\n",
              "}\n",
              "\n",
              "        displayQuickchartButton(document);\n",
              "      </script>\n",
              "      <style>\n",
              "    .colab-df-container {\n",
              "      display:flex;\n",
              "      flex-wrap:wrap;\n",
              "      gap: 12px;\n",
              "    }\n",
              "\n",
              "    .colab-df-convert {\n",
              "      background-color: #E8F0FE;\n",
              "      border: none;\n",
              "      border-radius: 50%;\n",
              "      cursor: pointer;\n",
              "      display: none;\n",
              "      fill: #1967D2;\n",
              "      height: 32px;\n",
              "      padding: 0 0 0 0;\n",
              "      width: 32px;\n",
              "    }\n",
              "\n",
              "    .colab-df-convert:hover {\n",
              "      background-color: #E2EBFA;\n",
              "      box-shadow: 0px 1px 2px rgba(60, 64, 67, 0.3), 0px 1px 3px 1px rgba(60, 64, 67, 0.15);\n",
              "      fill: #174EA6;\n",
              "    }\n",
              "\n",
              "    [theme=dark] .colab-df-convert {\n",
              "      background-color: #3B4455;\n",
              "      fill: #D2E3FC;\n",
              "    }\n",
              "\n",
              "    [theme=dark] .colab-df-convert:hover {\n",
              "      background-color: #434B5C;\n",
              "      box-shadow: 0px 1px 3px 1px rgba(0, 0, 0, 0.15);\n",
              "      filter: drop-shadow(0px 1px 2px rgba(0, 0, 0, 0.3));\n",
              "      fill: #FFFFFF;\n",
              "    }\n",
              "  </style>\n",
              "\n",
              "      <script>\n",
              "        const buttonEl =\n",
              "          document.querySelector('#df-3b3da075-fc8a-4d2b-a9e6-28ceeffc96a3 button.colab-df-convert');\n",
              "        buttonEl.style.display =\n",
              "          google.colab.kernel.accessAllowed ? 'block' : 'none';\n",
              "\n",
              "        async function convertToInteractive(key) {\n",
              "          const element = document.querySelector('#df-3b3da075-fc8a-4d2b-a9e6-28ceeffc96a3');\n",
              "          const dataTable =\n",
              "            await google.colab.kernel.invokeFunction('convertToInteractive',\n",
              "                                                     [key], {});\n",
              "          if (!dataTable) return;\n",
              "\n",
              "          const docLinkHtml = 'Like what you see? Visit the ' +\n",
              "            '<a target=\"_blank\" href=https://colab.research.google.com/notebooks/data_table.ipynb>data table notebook</a>'\n",
              "            + ' to learn more about interactive tables.';\n",
              "          element.innerHTML = '';\n",
              "          dataTable['output_type'] = 'display_data';\n",
              "          await google.colab.output.renderOutput(dataTable, element);\n",
              "          const docLink = document.createElement('div');\n",
              "          docLink.innerHTML = docLinkHtml;\n",
              "          element.appendChild(docLink);\n",
              "        }\n",
              "      </script>\n",
              "    </div>\n",
              "  </div>\n"
            ]
          },
          "metadata": {},
          "execution_count": 168
        }
      ]
    },
    {
      "cell_type": "code",
      "source": [
        "# Convert scaled collisions to collisions based on 2022 min and max records\n",
        "mod3aResultEx22 = np.round((mod3aResultEx[:10])*a22 +b22)\n",
        "mod3aResultEx22"
      ],
      "metadata": {
        "colab": {
          "base_uri": "https://localhost:8080/",
          "height": 363
        },
        "id": "FAzkpQa9HZyb",
        "outputId": "57073330-5233-4839-9d05-76cc522411b8"
      },
      "execution_count": 169,
      "outputs": [
        {
          "output_type": "execute_result",
          "data": {
            "text/plain": [
              "   Validation result for example test run\n",
              "0                                   237.0\n",
              "1                                   253.0\n",
              "2                                   291.0\n",
              "3                                   302.0\n",
              "4                                   333.0\n",
              "5                                   321.0\n",
              "6                                   198.0\n",
              "7                                   301.0\n",
              "8                                   249.0\n",
              "9                                   309.0"
            ],
            "text/html": [
              "\n",
              "\n",
              "  <div id=\"df-fa57a4b2-6417-4ce7-8895-e40b4bed5e4d\">\n",
              "    <div class=\"colab-df-container\">\n",
              "      <div>\n",
              "<style scoped>\n",
              "    .dataframe tbody tr th:only-of-type {\n",
              "        vertical-align: middle;\n",
              "    }\n",
              "\n",
              "    .dataframe tbody tr th {\n",
              "        vertical-align: top;\n",
              "    }\n",
              "\n",
              "    .dataframe thead th {\n",
              "        text-align: right;\n",
              "    }\n",
              "</style>\n",
              "<table border=\"1\" class=\"dataframe\">\n",
              "  <thead>\n",
              "    <tr style=\"text-align: right;\">\n",
              "      <th></th>\n",
              "      <th>Validation result for example test run</th>\n",
              "    </tr>\n",
              "  </thead>\n",
              "  <tbody>\n",
              "    <tr>\n",
              "      <th>0</th>\n",
              "      <td>237.0</td>\n",
              "    </tr>\n",
              "    <tr>\n",
              "      <th>1</th>\n",
              "      <td>253.0</td>\n",
              "    </tr>\n",
              "    <tr>\n",
              "      <th>2</th>\n",
              "      <td>291.0</td>\n",
              "    </tr>\n",
              "    <tr>\n",
              "      <th>3</th>\n",
              "      <td>302.0</td>\n",
              "    </tr>\n",
              "    <tr>\n",
              "      <th>4</th>\n",
              "      <td>333.0</td>\n",
              "    </tr>\n",
              "    <tr>\n",
              "      <th>5</th>\n",
              "      <td>321.0</td>\n",
              "    </tr>\n",
              "    <tr>\n",
              "      <th>6</th>\n",
              "      <td>198.0</td>\n",
              "    </tr>\n",
              "    <tr>\n",
              "      <th>7</th>\n",
              "      <td>301.0</td>\n",
              "    </tr>\n",
              "    <tr>\n",
              "      <th>8</th>\n",
              "      <td>249.0</td>\n",
              "    </tr>\n",
              "    <tr>\n",
              "      <th>9</th>\n",
              "      <td>309.0</td>\n",
              "    </tr>\n",
              "  </tbody>\n",
              "</table>\n",
              "</div>\n",
              "      <button class=\"colab-df-convert\" onclick=\"convertToInteractive('df-fa57a4b2-6417-4ce7-8895-e40b4bed5e4d')\"\n",
              "              title=\"Convert this dataframe to an interactive table.\"\n",
              "              style=\"display:none;\">\n",
              "\n",
              "  <svg xmlns=\"http://www.w3.org/2000/svg\" height=\"24px\"viewBox=\"0 0 24 24\"\n",
              "       width=\"24px\">\n",
              "    <path d=\"M0 0h24v24H0V0z\" fill=\"none\"/>\n",
              "    <path d=\"M18.56 5.44l.94 2.06.94-2.06 2.06-.94-2.06-.94-.94-2.06-.94 2.06-2.06.94zm-11 1L8.5 8.5l.94-2.06 2.06-.94-2.06-.94L8.5 2.5l-.94 2.06-2.06.94zm10 10l.94 2.06.94-2.06 2.06-.94-2.06-.94-.94-2.06-.94 2.06-2.06.94z\"/><path d=\"M17.41 7.96l-1.37-1.37c-.4-.4-.92-.59-1.43-.59-.52 0-1.04.2-1.43.59L10.3 9.45l-7.72 7.72c-.78.78-.78 2.05 0 2.83L4 21.41c.39.39.9.59 1.41.59.51 0 1.02-.2 1.41-.59l7.78-7.78 2.81-2.81c.8-.78.8-2.07 0-2.86zM5.41 20L4 18.59l7.72-7.72 1.47 1.35L5.41 20z\"/>\n",
              "  </svg>\n",
              "      </button>\n",
              "\n",
              "\n",
              "\n",
              "    <div id=\"df-c5bfbd0a-fb21-4fc8-bf3b-31e338bd12c2\">\n",
              "      <button class=\"colab-df-quickchart\" onclick=\"quickchart('df-c5bfbd0a-fb21-4fc8-bf3b-31e338bd12c2')\"\n",
              "              title=\"Suggest charts.\"\n",
              "              style=\"display:none;\">\n",
              "\n",
              "<svg xmlns=\"http://www.w3.org/2000/svg\" height=\"24px\"viewBox=\"0 0 24 24\"\n",
              "     width=\"24px\">\n",
              "    <g>\n",
              "        <path d=\"M19 3H5c-1.1 0-2 .9-2 2v14c0 1.1.9 2 2 2h14c1.1 0 2-.9 2-2V5c0-1.1-.9-2-2-2zM9 17H7v-7h2v7zm4 0h-2V7h2v10zm4 0h-2v-4h2v4z\"/>\n",
              "    </g>\n",
              "</svg>\n",
              "      </button>\n",
              "    </div>\n",
              "\n",
              "<style>\n",
              "  .colab-df-quickchart {\n",
              "    background-color: #E8F0FE;\n",
              "    border: none;\n",
              "    border-radius: 50%;\n",
              "    cursor: pointer;\n",
              "    display: none;\n",
              "    fill: #1967D2;\n",
              "    height: 32px;\n",
              "    padding: 0 0 0 0;\n",
              "    width: 32px;\n",
              "  }\n",
              "\n",
              "  .colab-df-quickchart:hover {\n",
              "    background-color: #E2EBFA;\n",
              "    box-shadow: 0px 1px 2px rgba(60, 64, 67, 0.3), 0px 1px 3px 1px rgba(60, 64, 67, 0.15);\n",
              "    fill: #174EA6;\n",
              "  }\n",
              "\n",
              "  [theme=dark] .colab-df-quickchart {\n",
              "    background-color: #3B4455;\n",
              "    fill: #D2E3FC;\n",
              "  }\n",
              "\n",
              "  [theme=dark] .colab-df-quickchart:hover {\n",
              "    background-color: #434B5C;\n",
              "    box-shadow: 0px 1px 3px 1px rgba(0, 0, 0, 0.15);\n",
              "    filter: drop-shadow(0px 1px 2px rgba(0, 0, 0, 0.3));\n",
              "    fill: #FFFFFF;\n",
              "  }\n",
              "</style>\n",
              "\n",
              "    <script>\n",
              "      async function quickchart(key) {\n",
              "        const containerElement = document.querySelector('#' + key);\n",
              "        const charts = await google.colab.kernel.invokeFunction(\n",
              "            'suggestCharts', [key], {});\n",
              "      }\n",
              "    </script>\n",
              "\n",
              "      <script>\n",
              "\n",
              "function displayQuickchartButton(domScope) {\n",
              "  let quickchartButtonEl =\n",
              "    domScope.querySelector('#df-c5bfbd0a-fb21-4fc8-bf3b-31e338bd12c2 button.colab-df-quickchart');\n",
              "  quickchartButtonEl.style.display =\n",
              "    google.colab.kernel.accessAllowed ? 'block' : 'none';\n",
              "}\n",
              "\n",
              "        displayQuickchartButton(document);\n",
              "      </script>\n",
              "      <style>\n",
              "    .colab-df-container {\n",
              "      display:flex;\n",
              "      flex-wrap:wrap;\n",
              "      gap: 12px;\n",
              "    }\n",
              "\n",
              "    .colab-df-convert {\n",
              "      background-color: #E8F0FE;\n",
              "      border: none;\n",
              "      border-radius: 50%;\n",
              "      cursor: pointer;\n",
              "      display: none;\n",
              "      fill: #1967D2;\n",
              "      height: 32px;\n",
              "      padding: 0 0 0 0;\n",
              "      width: 32px;\n",
              "    }\n",
              "\n",
              "    .colab-df-convert:hover {\n",
              "      background-color: #E2EBFA;\n",
              "      box-shadow: 0px 1px 2px rgba(60, 64, 67, 0.3), 0px 1px 3px 1px rgba(60, 64, 67, 0.15);\n",
              "      fill: #174EA6;\n",
              "    }\n",
              "\n",
              "    [theme=dark] .colab-df-convert {\n",
              "      background-color: #3B4455;\n",
              "      fill: #D2E3FC;\n",
              "    }\n",
              "\n",
              "    [theme=dark] .colab-df-convert:hover {\n",
              "      background-color: #434B5C;\n",
              "      box-shadow: 0px 1px 3px 1px rgba(0, 0, 0, 0.15);\n",
              "      filter: drop-shadow(0px 1px 2px rgba(0, 0, 0, 0.3));\n",
              "      fill: #FFFFFF;\n",
              "    }\n",
              "  </style>\n",
              "\n",
              "      <script>\n",
              "        const buttonEl =\n",
              "          document.querySelector('#df-fa57a4b2-6417-4ce7-8895-e40b4bed5e4d button.colab-df-convert');\n",
              "        buttonEl.style.display =\n",
              "          google.colab.kernel.accessAllowed ? 'block' : 'none';\n",
              "\n",
              "        async function convertToInteractive(key) {\n",
              "          const element = document.querySelector('#df-fa57a4b2-6417-4ce7-8895-e40b4bed5e4d');\n",
              "          const dataTable =\n",
              "            await google.colab.kernel.invokeFunction('convertToInteractive',\n",
              "                                                     [key], {});\n",
              "          if (!dataTable) return;\n",
              "\n",
              "          const docLinkHtml = 'Like what you see? Visit the ' +\n",
              "            '<a target=\"_blank\" href=https://colab.research.google.com/notebooks/data_table.ipynb>data table notebook</a>'\n",
              "            + ' to learn more about interactive tables.';\n",
              "          element.innerHTML = '';\n",
              "          dataTable['output_type'] = 'display_data';\n",
              "          await google.colab.output.renderOutput(dataTable, element);\n",
              "          const docLink = document.createElement('div');\n",
              "          docLink.innerHTML = docLinkHtml;\n",
              "          element.appendChild(docLink);\n",
              "        }\n",
              "      </script>\n",
              "    </div>\n",
              "  </div>\n"
            ]
          },
          "metadata": {},
          "execution_count": 169
        }
      ]
    },
    {
      "cell_type": "code",
      "source": [
        "# Conversions based on 2023 scaled collisions\n",
        "mod3aResultEx23 = np.round((mod3aResultEx[:10])*a23 +b23)\n",
        "mod3aResultEx23"
      ],
      "metadata": {
        "colab": {
          "base_uri": "https://localhost:8080/",
          "height": 363
        },
        "id": "0E9Rt2OqIAUs",
        "outputId": "aeb8b775-6cdb-434d-a465-4b5f6d667d01"
      },
      "execution_count": 170,
      "outputs": [
        {
          "output_type": "execute_result",
          "data": {
            "text/plain": [
              "   Validation result for example test run\n",
              "0                                   185.0\n",
              "1                                   201.0\n",
              "2                                   240.0\n",
              "3                                   250.0\n",
              "4                                   281.0\n",
              "5                                   270.0\n",
              "6                                   146.0\n",
              "7                                   250.0\n",
              "8                                   198.0\n",
              "9                                   258.0"
            ],
            "text/html": [
              "\n",
              "\n",
              "  <div id=\"df-59aefcfe-e02a-4475-8c95-b2b0b88439ae\">\n",
              "    <div class=\"colab-df-container\">\n",
              "      <div>\n",
              "<style scoped>\n",
              "    .dataframe tbody tr th:only-of-type {\n",
              "        vertical-align: middle;\n",
              "    }\n",
              "\n",
              "    .dataframe tbody tr th {\n",
              "        vertical-align: top;\n",
              "    }\n",
              "\n",
              "    .dataframe thead th {\n",
              "        text-align: right;\n",
              "    }\n",
              "</style>\n",
              "<table border=\"1\" class=\"dataframe\">\n",
              "  <thead>\n",
              "    <tr style=\"text-align: right;\">\n",
              "      <th></th>\n",
              "      <th>Validation result for example test run</th>\n",
              "    </tr>\n",
              "  </thead>\n",
              "  <tbody>\n",
              "    <tr>\n",
              "      <th>0</th>\n",
              "      <td>185.0</td>\n",
              "    </tr>\n",
              "    <tr>\n",
              "      <th>1</th>\n",
              "      <td>201.0</td>\n",
              "    </tr>\n",
              "    <tr>\n",
              "      <th>2</th>\n",
              "      <td>240.0</td>\n",
              "    </tr>\n",
              "    <tr>\n",
              "      <th>3</th>\n",
              "      <td>250.0</td>\n",
              "    </tr>\n",
              "    <tr>\n",
              "      <th>4</th>\n",
              "      <td>281.0</td>\n",
              "    </tr>\n",
              "    <tr>\n",
              "      <th>5</th>\n",
              "      <td>270.0</td>\n",
              "    </tr>\n",
              "    <tr>\n",
              "      <th>6</th>\n",
              "      <td>146.0</td>\n",
              "    </tr>\n",
              "    <tr>\n",
              "      <th>7</th>\n",
              "      <td>250.0</td>\n",
              "    </tr>\n",
              "    <tr>\n",
              "      <th>8</th>\n",
              "      <td>198.0</td>\n",
              "    </tr>\n",
              "    <tr>\n",
              "      <th>9</th>\n",
              "      <td>258.0</td>\n",
              "    </tr>\n",
              "  </tbody>\n",
              "</table>\n",
              "</div>\n",
              "      <button class=\"colab-df-convert\" onclick=\"convertToInteractive('df-59aefcfe-e02a-4475-8c95-b2b0b88439ae')\"\n",
              "              title=\"Convert this dataframe to an interactive table.\"\n",
              "              style=\"display:none;\">\n",
              "\n",
              "  <svg xmlns=\"http://www.w3.org/2000/svg\" height=\"24px\"viewBox=\"0 0 24 24\"\n",
              "       width=\"24px\">\n",
              "    <path d=\"M0 0h24v24H0V0z\" fill=\"none\"/>\n",
              "    <path d=\"M18.56 5.44l.94 2.06.94-2.06 2.06-.94-2.06-.94-.94-2.06-.94 2.06-2.06.94zm-11 1L8.5 8.5l.94-2.06 2.06-.94-2.06-.94L8.5 2.5l-.94 2.06-2.06.94zm10 10l.94 2.06.94-2.06 2.06-.94-2.06-.94-.94-2.06-.94 2.06-2.06.94z\"/><path d=\"M17.41 7.96l-1.37-1.37c-.4-.4-.92-.59-1.43-.59-.52 0-1.04.2-1.43.59L10.3 9.45l-7.72 7.72c-.78.78-.78 2.05 0 2.83L4 21.41c.39.39.9.59 1.41.59.51 0 1.02-.2 1.41-.59l7.78-7.78 2.81-2.81c.8-.78.8-2.07 0-2.86zM5.41 20L4 18.59l7.72-7.72 1.47 1.35L5.41 20z\"/>\n",
              "  </svg>\n",
              "      </button>\n",
              "\n",
              "\n",
              "\n",
              "    <div id=\"df-f0346114-b6f1-4e5e-8fa5-00b5316e0337\">\n",
              "      <button class=\"colab-df-quickchart\" onclick=\"quickchart('df-f0346114-b6f1-4e5e-8fa5-00b5316e0337')\"\n",
              "              title=\"Suggest charts.\"\n",
              "              style=\"display:none;\">\n",
              "\n",
              "<svg xmlns=\"http://www.w3.org/2000/svg\" height=\"24px\"viewBox=\"0 0 24 24\"\n",
              "     width=\"24px\">\n",
              "    <g>\n",
              "        <path d=\"M19 3H5c-1.1 0-2 .9-2 2v14c0 1.1.9 2 2 2h14c1.1 0 2-.9 2-2V5c0-1.1-.9-2-2-2zM9 17H7v-7h2v7zm4 0h-2V7h2v10zm4 0h-2v-4h2v4z\"/>\n",
              "    </g>\n",
              "</svg>\n",
              "      </button>\n",
              "    </div>\n",
              "\n",
              "<style>\n",
              "  .colab-df-quickchart {\n",
              "    background-color: #E8F0FE;\n",
              "    border: none;\n",
              "    border-radius: 50%;\n",
              "    cursor: pointer;\n",
              "    display: none;\n",
              "    fill: #1967D2;\n",
              "    height: 32px;\n",
              "    padding: 0 0 0 0;\n",
              "    width: 32px;\n",
              "  }\n",
              "\n",
              "  .colab-df-quickchart:hover {\n",
              "    background-color: #E2EBFA;\n",
              "    box-shadow: 0px 1px 2px rgba(60, 64, 67, 0.3), 0px 1px 3px 1px rgba(60, 64, 67, 0.15);\n",
              "    fill: #174EA6;\n",
              "  }\n",
              "\n",
              "  [theme=dark] .colab-df-quickchart {\n",
              "    background-color: #3B4455;\n",
              "    fill: #D2E3FC;\n",
              "  }\n",
              "\n",
              "  [theme=dark] .colab-df-quickchart:hover {\n",
              "    background-color: #434B5C;\n",
              "    box-shadow: 0px 1px 3px 1px rgba(0, 0, 0, 0.15);\n",
              "    filter: drop-shadow(0px 1px 2px rgba(0, 0, 0, 0.3));\n",
              "    fill: #FFFFFF;\n",
              "  }\n",
              "</style>\n",
              "\n",
              "    <script>\n",
              "      async function quickchart(key) {\n",
              "        const containerElement = document.querySelector('#' + key);\n",
              "        const charts = await google.colab.kernel.invokeFunction(\n",
              "            'suggestCharts', [key], {});\n",
              "      }\n",
              "    </script>\n",
              "\n",
              "      <script>\n",
              "\n",
              "function displayQuickchartButton(domScope) {\n",
              "  let quickchartButtonEl =\n",
              "    domScope.querySelector('#df-f0346114-b6f1-4e5e-8fa5-00b5316e0337 button.colab-df-quickchart');\n",
              "  quickchartButtonEl.style.display =\n",
              "    google.colab.kernel.accessAllowed ? 'block' : 'none';\n",
              "}\n",
              "\n",
              "        displayQuickchartButton(document);\n",
              "      </script>\n",
              "      <style>\n",
              "    .colab-df-container {\n",
              "      display:flex;\n",
              "      flex-wrap:wrap;\n",
              "      gap: 12px;\n",
              "    }\n",
              "\n",
              "    .colab-df-convert {\n",
              "      background-color: #E8F0FE;\n",
              "      border: none;\n",
              "      border-radius: 50%;\n",
              "      cursor: pointer;\n",
              "      display: none;\n",
              "      fill: #1967D2;\n",
              "      height: 32px;\n",
              "      padding: 0 0 0 0;\n",
              "      width: 32px;\n",
              "    }\n",
              "\n",
              "    .colab-df-convert:hover {\n",
              "      background-color: #E2EBFA;\n",
              "      box-shadow: 0px 1px 2px rgba(60, 64, 67, 0.3), 0px 1px 3px 1px rgba(60, 64, 67, 0.15);\n",
              "      fill: #174EA6;\n",
              "    }\n",
              "\n",
              "    [theme=dark] .colab-df-convert {\n",
              "      background-color: #3B4455;\n",
              "      fill: #D2E3FC;\n",
              "    }\n",
              "\n",
              "    [theme=dark] .colab-df-convert:hover {\n",
              "      background-color: #434B5C;\n",
              "      box-shadow: 0px 1px 3px 1px rgba(0, 0, 0, 0.15);\n",
              "      filter: drop-shadow(0px 1px 2px rgba(0, 0, 0, 0.3));\n",
              "      fill: #FFFFFF;\n",
              "    }\n",
              "  </style>\n",
              "\n",
              "      <script>\n",
              "        const buttonEl =\n",
              "          document.querySelector('#df-59aefcfe-e02a-4475-8c95-b2b0b88439ae button.colab-df-convert');\n",
              "        buttonEl.style.display =\n",
              "          google.colab.kernel.accessAllowed ? 'block' : 'none';\n",
              "\n",
              "        async function convertToInteractive(key) {\n",
              "          const element = document.querySelector('#df-59aefcfe-e02a-4475-8c95-b2b0b88439ae');\n",
              "          const dataTable =\n",
              "            await google.colab.kernel.invokeFunction('convertToInteractive',\n",
              "                                                     [key], {});\n",
              "          if (!dataTable) return;\n",
              "\n",
              "          const docLinkHtml = 'Like what you see? Visit the ' +\n",
              "            '<a target=\"_blank\" href=https://colab.research.google.com/notebooks/data_table.ipynb>data table notebook</a>'\n",
              "            + ' to learn more about interactive tables.';\n",
              "          element.innerHTML = '';\n",
              "          dataTable['output_type'] = 'display_data';\n",
              "          await google.colab.output.renderOutput(dataTable, element);\n",
              "          const docLink = document.createElement('div');\n",
              "          docLink.innerHTML = docLinkHtml;\n",
              "          element.appendChild(docLink);\n",
              "        }\n",
              "      </script>\n",
              "    </div>\n",
              "  </div>\n"
            ]
          },
          "metadata": {},
          "execution_count": 170
        }
      ]
    },
    {
      "cell_type": "markdown",
      "source": [
        "### Compare the Model 3a prediction to the recorded values for collisions in the validation dataset"
      ],
      "metadata": {
        "id": "H5FueWrPAWKP"
      }
    },
    {
      "cell_type": "markdown",
      "source": [
        "### Model 3a - Validation result 1"
      ],
      "metadata": {
        "id": "Kg8TNA30AWKZ"
      }
    },
    {
      "cell_type": "code",
      "source": [
        "# The first 1 test values were\n",
        "#test_features3a.iloc[:20]\n",
        "# test_features3a.iloc[0]"
      ],
      "metadata": {
        "id": "56wTkeuKAWKZ"
      },
      "execution_count": 171,
      "outputs": []
    },
    {
      "cell_type": "markdown",
      "source": [
        "The difference between the predicted collisions and the collisions for the single matching record was only 2 on this occasion."
      ],
      "metadata": {
        "id": "PdKnqrRmMHYT"
      }
    },
    {
      "cell_type": "code",
      "source": [
        "# select row(s) from the entire dataset that match the validation row\n",
        "#dfM41 = df_weatherCollisionsDNNMixA[df_weatherCollisionsDNNMixA.temperature ==1]\n",
        "#dfM41b = dfM41[dfM41.Tue == 1]\n",
        "#dfM41c = dfM41b[dfM41b.Jan == 1]\n",
        "#dfM41a = dfM41c[dfM41c.X2021 == 1]"
      ],
      "metadata": {
        "id": "xnoIb6wXMHYU"
      },
      "execution_count": 172,
      "outputs": []
    },
    {
      "cell_type": "code",
      "source": [
        "#print('\\nMatching record :\\n', dfM41b)"
      ],
      "metadata": {
        "id": "ft5ELM5IMHYV"
      },
      "execution_count": 173,
      "outputs": []
    },
    {
      "cell_type": "code",
      "source": [
        "# The matching year was 2021 (for scaled collision calculation values)\n",
        "#print('\\nPredicted collisions :\\n', np.round(linear_day_predictions4TD[0]*a21 +b21))\n",
        "#print('\\nRecorded collisions for matching record:\\n', dfM41a.num_collisions)\n",
        "#print('\\nDifference:\\n',  np.round((linear_day_predictions4TD[0]*a21 +b21)-dfM41a.num_collisions))"
      ],
      "metadata": {
        "id": "ZbrfNPmBMHYW"
      },
      "execution_count": 174,
      "outputs": []
    },
    {
      "cell_type": "markdown",
      "source": [
        "#### Define hypothetical data and run on the data"
      ],
      "metadata": {
        "id": "-7oQIo0Vbf2X"
      }
    },
    {
      "cell_type": "code",
      "metadata": {
        "id": "NBoaSKcUftJ_"
      },
      "source": [
        "# make sure the labels match up with the dataframe from earlier.\n",
        "input_3a = pd.DataFrame.from_dict(data =\n",
        "\t\t    {\n",
        "        'temperature':[2,25,32],\n",
        "         'Sat' : [0,0,0],\n",
        "         'Sun' : [0,0,0],\n",
        "         'Mon' : [1,0,0],\n",
        "         'Tue' : [0,0,0],\n",
        "         'Wed' : [0,1,0],\n",
        "         'Thur' :[0,0,0],\n",
        "         'Fri' : [0,0,1],\n",
        "         'Jan' : [1,0,0],\n",
        "         'Feb' : [0,0,0],\n",
        "         'Mar' : [0,0,0],\n",
        "         'Apr' : [0,0,0],\n",
        "         'May' : [0,0,0],\n",
        "         'Jun' : [0,0,0],\n",
        "         'Jul' : [0,1,0],\n",
        "         'Aug' : [1,0,0],\n",
        "         'Sep' : [0,0,0],\n",
        "         'Oct' : [0,0,0],\n",
        "         'Nov' : [0,0,0],\n",
        "         'Dec' : [0,0,0],\n",
        "        'X2021':[0,0,0],\n",
        "        'X2022':[1,1,1],\n",
        "        'X2023':[0,0,0],\n",
        "        'No.Snow':[0,1,1],\n",
        "        'Snow':[1,0,0],\n",
        "        'Cold':[1,0,0],\n",
        "        'Freezing.or.below':[0,0,0],\n",
        "        'Hot':[0,0,1],\n",
        "        'Mild':[0,0,0],\n",
        "        'Very.warm':[0,1,0],\n",
        "        'Warm':[0,0,0]\n",
        "        })\n",
        "\n",
        "# FROM R SHEET REFERENCE OF VALUES\n",
        "# Function to convert temp to tem category (subjective) / not official scale\n",
        "#temp_to_cat <- function(temp) {\n",
        "  #temp_cat <- if (temp <= 0) {\"Freezing and below\"}\n",
        "   # else if (temp > 0 && temp <= 11) {\"Cold\"}\n",
        "    #else if (temp > 11 && temp <= 17) {\"Mild\"}\n",
        "    #else if (temp > 17 && temp <= 23) {\"Warm\"}\n",
        "    #else if (temp > 23 && temp <= 28) {\"Very warm\"}\n",
        "    #else if (temp > 28) {\"Hot\"}\n",
        "  #return (temp_cat)\n",
        "#}\n"
      ],
      "execution_count": 175,
      "outputs": []
    },
    {
      "cell_type": "code",
      "source": [
        "# Make the predictions by the model on the hypothetical data\n",
        "linear_day_predictions3a = dnn_model_3a.predict(input_3a[:3])*SCALE_NUM_COLLISIONS\n",
        "linear_day_predictions3a"
      ],
      "metadata": {
        "outputId": "7d5b86fd-50b9-40b2-bb19-c177df4ddba0",
        "colab": {
          "base_uri": "https://localhost:8080/"
        },
        "id": "F1J6uVHIftJ_"
      },
      "execution_count": 176,
      "outputs": [
        {
          "output_type": "stream",
          "name": "stdout",
          "text": [
            "1/1 [==============================] - 0s 68ms/step\n"
          ]
        },
        {
          "output_type": "execute_result",
          "data": {
            "text/plain": [
              "array([[ 0.95833296],\n",
              "       [ 9.577948  ],\n",
              "       [12.470302  ]], dtype=float32)"
            ]
          },
          "metadata": {},
          "execution_count": 176
        }
      ]
    },
    {
      "cell_type": "markdown",
      "source": [
        "##### Convert results for hypothetical data to collisions based on scaledCollisions for 2022"
      ],
      "metadata": {
        "id": "LZk3czFuaK2W"
      }
    },
    {
      "cell_type": "code",
      "source": [
        "linear_day_predictions3aConverted = dnn_model_3a.predict(input_3a[:3])*a22 +b22\n",
        "#*a22 +b22 is is to convert scaled collisions based on the values for 2022\n",
        "linear_day_predictions3aConverted"
      ],
      "metadata": {
        "colab": {
          "base_uri": "https://localhost:8080/"
        },
        "id": "e1hFLWbMacTH",
        "outputId": "45afd2d5-351c-49ea-e869-4ed149421602"
      },
      "execution_count": 177,
      "outputs": [
        {
          "output_type": "stream",
          "name": "stdout",
          "text": [
            "1/1 [==============================] - 0s 23ms/step\n"
          ]
        },
        {
          "output_type": "execute_result",
          "data": {
            "text/plain": [
              "array([[ 357.2916],\n",
              "       [1951.9203],\n",
              "       [2487.0059]], dtype=float32)"
            ]
          },
          "metadata": {},
          "execution_count": 177
        }
      ]
    },
    {
      "cell_type": "markdown",
      "source": [
        "The above converted collision results for the hypothetical data for 2022 are outlandish in comparison to the pattern for 2022."
      ],
      "metadata": {
        "id": "7brBtj7wbGZu"
      }
    },
    {
      "cell_type": "markdown",
      "source": [
        "# DNN Model 3b - Dataset - one-hot encoding applied to day of week, month, year and snow/no snow with ordinal temperature value"
      ],
      "metadata": {
        "id": "a3zWLq4ClKVi"
      }
    },
    {
      "cell_type": "markdown",
      "source": [
        "In this dataset, we will keep a selection of the features. We will revert to the temperature value (not one-hot encoded) and retain the one hot encoded year, month and snow/no snow."
      ],
      "metadata": {
        "id": "g2Z4dzCjjr5V"
      }
    },
    {
      "cell_type": "code",
      "source": [
        "# remove some columns for this model\n",
        "# Drop the visibility DNN / one hot encoded items\n",
        "    # 'One', 'Ten','Three','Four','Five','Six','Seven','Eight','Nine',\n",
        "    # 'No.fog','Fog', # Drop fog one-hot encoded\n",
        "    # Drop beaufort wind scale categories one hot encoded\n",
        "    # 'Calm','Gentle_breeze','Light_air','Light_breeze','Moderate_breeze',\n",
        "    # Drop precipitation:\n",
        "    # 'Dark.orange','Green','Light.blue','Light.green','Light.orange','Red','White','Yellow'\n",
        "# Keep the columns: scaledCollisions\n",
        "  #'temperature', # Keep temperature figure\n",
        "  #'No.Snow','Snow', # Keep snow one hot encoded\n",
        "df_weatherCollisionsDNNMix3b = df_weatherCollisionsDNNMixA.drop(columns=[\n",
        "    'num_collisions', 'is_snow_present' ,\n",
        "    'Cold','Freezing.or.below','Hot','Mild','Very.warm','Warm', # DROP temperature categories\n",
        "    'wind_speed', # Drop\n",
        "    'One', 'Ten','Three','Four','Five','Six','Seven','Eight','Nine',  # Drop visibility\n",
        "    'No.Fog','Fog', 'Calm','Gentle.breeze','Light.air','Light.breeze','Moderate.breeze', # Drop wind\n",
        "    'Dark.orange','Green','Light.blue','Light.green','Light.orange','Red','White','Yellow'# Drop rain\n",
        "    ])"
      ],
      "metadata": {
        "id": "4KyOFCzLjr5V"
      },
      "execution_count": 178,
      "outputs": []
    },
    {
      "cell_type": "code",
      "source": [
        "# check data - DNN data set to include one hot encoded months, daysofweek, temperature categories,\n",
        "df_weatherCollisionsDNNMix3b[:5]\n",
        "# 31 columns"
      ],
      "metadata": {
        "colab": {
          "base_uri": "https://localhost:8080/",
          "height": 299
        },
        "outputId": "f951e86e-35e0-476c-8ea9-2685321e2ae9",
        "id": "C_-woaFNjr5V"
      },
      "execution_count": 179,
      "outputs": [
        {
          "output_type": "execute_result",
          "data": {
            "text/plain": [
              "     Apr  Aug  Dec  Feb  Jan  Jul  Jun  Mar  May  Nov  ...  Thur  Tue  Wed  \\\n",
              "650    0    0    0    0    0    0    0    0    0    1  ...     1    0    0   \n",
              "584    0    1    0    0    0    0    0    0    0    0  ...     0    0    0   \n",
              "493    0    0    0    0    0    0    0    0    1    0  ...     0    0    0   \n",
              "162    0    0    0    0    0    0    1    0    0    0  ...     0    0    0   \n",
              "588    0    0    0    0    0    0    0    0    0    0  ...     0    0    0   \n",
              "\n",
              "     X2021  X2023  X2022  No.Snow  Snow  scaledCollisions  temperature  \n",
              "650      0      0      1        1     0          0.745946         15.0  \n",
              "584      0      0      1        1     0          0.427027         25.7  \n",
              "493      0      0      1        1     0          0.751351         27.1  \n",
              "162      1      0      0        1     0          0.867647         26.7  \n",
              "588      0      0      1        1     0          0.589189         21.6  \n",
              "\n",
              "[5 rows x 26 columns]"
            ],
            "text/html": [
              "\n",
              "\n",
              "  <div id=\"df-fc6a6990-1302-48aa-aa02-3f0bd42e9b6f\">\n",
              "    <div class=\"colab-df-container\">\n",
              "      <div>\n",
              "<style scoped>\n",
              "    .dataframe tbody tr th:only-of-type {\n",
              "        vertical-align: middle;\n",
              "    }\n",
              "\n",
              "    .dataframe tbody tr th {\n",
              "        vertical-align: top;\n",
              "    }\n",
              "\n",
              "    .dataframe thead th {\n",
              "        text-align: right;\n",
              "    }\n",
              "</style>\n",
              "<table border=\"1\" class=\"dataframe\">\n",
              "  <thead>\n",
              "    <tr style=\"text-align: right;\">\n",
              "      <th></th>\n",
              "      <th>Apr</th>\n",
              "      <th>Aug</th>\n",
              "      <th>Dec</th>\n",
              "      <th>Feb</th>\n",
              "      <th>Jan</th>\n",
              "      <th>Jul</th>\n",
              "      <th>Jun</th>\n",
              "      <th>Mar</th>\n",
              "      <th>May</th>\n",
              "      <th>Nov</th>\n",
              "      <th>...</th>\n",
              "      <th>Thur</th>\n",
              "      <th>Tue</th>\n",
              "      <th>Wed</th>\n",
              "      <th>X2021</th>\n",
              "      <th>X2023</th>\n",
              "      <th>X2022</th>\n",
              "      <th>No.Snow</th>\n",
              "      <th>Snow</th>\n",
              "      <th>scaledCollisions</th>\n",
              "      <th>temperature</th>\n",
              "    </tr>\n",
              "  </thead>\n",
              "  <tbody>\n",
              "    <tr>\n",
              "      <th>650</th>\n",
              "      <td>0</td>\n",
              "      <td>0</td>\n",
              "      <td>0</td>\n",
              "      <td>0</td>\n",
              "      <td>0</td>\n",
              "      <td>0</td>\n",
              "      <td>0</td>\n",
              "      <td>0</td>\n",
              "      <td>0</td>\n",
              "      <td>1</td>\n",
              "      <td>...</td>\n",
              "      <td>1</td>\n",
              "      <td>0</td>\n",
              "      <td>0</td>\n",
              "      <td>0</td>\n",
              "      <td>0</td>\n",
              "      <td>1</td>\n",
              "      <td>1</td>\n",
              "      <td>0</td>\n",
              "      <td>0.745946</td>\n",
              "      <td>15.0</td>\n",
              "    </tr>\n",
              "    <tr>\n",
              "      <th>584</th>\n",
              "      <td>0</td>\n",
              "      <td>1</td>\n",
              "      <td>0</td>\n",
              "      <td>0</td>\n",
              "      <td>0</td>\n",
              "      <td>0</td>\n",
              "      <td>0</td>\n",
              "      <td>0</td>\n",
              "      <td>0</td>\n",
              "      <td>0</td>\n",
              "      <td>...</td>\n",
              "      <td>0</td>\n",
              "      <td>0</td>\n",
              "      <td>0</td>\n",
              "      <td>0</td>\n",
              "      <td>0</td>\n",
              "      <td>1</td>\n",
              "      <td>1</td>\n",
              "      <td>0</td>\n",
              "      <td>0.427027</td>\n",
              "      <td>25.7</td>\n",
              "    </tr>\n",
              "    <tr>\n",
              "      <th>493</th>\n",
              "      <td>0</td>\n",
              "      <td>0</td>\n",
              "      <td>0</td>\n",
              "      <td>0</td>\n",
              "      <td>0</td>\n",
              "      <td>0</td>\n",
              "      <td>0</td>\n",
              "      <td>0</td>\n",
              "      <td>1</td>\n",
              "      <td>0</td>\n",
              "      <td>...</td>\n",
              "      <td>0</td>\n",
              "      <td>0</td>\n",
              "      <td>0</td>\n",
              "      <td>0</td>\n",
              "      <td>0</td>\n",
              "      <td>1</td>\n",
              "      <td>1</td>\n",
              "      <td>0</td>\n",
              "      <td>0.751351</td>\n",
              "      <td>27.1</td>\n",
              "    </tr>\n",
              "    <tr>\n",
              "      <th>162</th>\n",
              "      <td>0</td>\n",
              "      <td>0</td>\n",
              "      <td>0</td>\n",
              "      <td>0</td>\n",
              "      <td>0</td>\n",
              "      <td>0</td>\n",
              "      <td>1</td>\n",
              "      <td>0</td>\n",
              "      <td>0</td>\n",
              "      <td>0</td>\n",
              "      <td>...</td>\n",
              "      <td>0</td>\n",
              "      <td>0</td>\n",
              "      <td>0</td>\n",
              "      <td>1</td>\n",
              "      <td>0</td>\n",
              "      <td>0</td>\n",
              "      <td>1</td>\n",
              "      <td>0</td>\n",
              "      <td>0.867647</td>\n",
              "      <td>26.7</td>\n",
              "    </tr>\n",
              "    <tr>\n",
              "      <th>588</th>\n",
              "      <td>0</td>\n",
              "      <td>0</td>\n",
              "      <td>0</td>\n",
              "      <td>0</td>\n",
              "      <td>0</td>\n",
              "      <td>0</td>\n",
              "      <td>0</td>\n",
              "      <td>0</td>\n",
              "      <td>0</td>\n",
              "      <td>0</td>\n",
              "      <td>...</td>\n",
              "      <td>0</td>\n",
              "      <td>0</td>\n",
              "      <td>0</td>\n",
              "      <td>0</td>\n",
              "      <td>0</td>\n",
              "      <td>1</td>\n",
              "      <td>1</td>\n",
              "      <td>0</td>\n",
              "      <td>0.589189</td>\n",
              "      <td>21.6</td>\n",
              "    </tr>\n",
              "  </tbody>\n",
              "</table>\n",
              "<p>5 rows × 26 columns</p>\n",
              "</div>\n",
              "      <button class=\"colab-df-convert\" onclick=\"convertToInteractive('df-fc6a6990-1302-48aa-aa02-3f0bd42e9b6f')\"\n",
              "              title=\"Convert this dataframe to an interactive table.\"\n",
              "              style=\"display:none;\">\n",
              "\n",
              "  <svg xmlns=\"http://www.w3.org/2000/svg\" height=\"24px\"viewBox=\"0 0 24 24\"\n",
              "       width=\"24px\">\n",
              "    <path d=\"M0 0h24v24H0V0z\" fill=\"none\"/>\n",
              "    <path d=\"M18.56 5.44l.94 2.06.94-2.06 2.06-.94-2.06-.94-.94-2.06-.94 2.06-2.06.94zm-11 1L8.5 8.5l.94-2.06 2.06-.94-2.06-.94L8.5 2.5l-.94 2.06-2.06.94zm10 10l.94 2.06.94-2.06 2.06-.94-2.06-.94-.94-2.06-.94 2.06-2.06.94z\"/><path d=\"M17.41 7.96l-1.37-1.37c-.4-.4-.92-.59-1.43-.59-.52 0-1.04.2-1.43.59L10.3 9.45l-7.72 7.72c-.78.78-.78 2.05 0 2.83L4 21.41c.39.39.9.59 1.41.59.51 0 1.02-.2 1.41-.59l7.78-7.78 2.81-2.81c.8-.78.8-2.07 0-2.86zM5.41 20L4 18.59l7.72-7.72 1.47 1.35L5.41 20z\"/>\n",
              "  </svg>\n",
              "      </button>\n",
              "\n",
              "\n",
              "\n",
              "    <div id=\"df-e9fdd0f7-f416-4bfb-b73a-044baafa9973\">\n",
              "      <button class=\"colab-df-quickchart\" onclick=\"quickchart('df-e9fdd0f7-f416-4bfb-b73a-044baafa9973')\"\n",
              "              title=\"Suggest charts.\"\n",
              "              style=\"display:none;\">\n",
              "\n",
              "<svg xmlns=\"http://www.w3.org/2000/svg\" height=\"24px\"viewBox=\"0 0 24 24\"\n",
              "     width=\"24px\">\n",
              "    <g>\n",
              "        <path d=\"M19 3H5c-1.1 0-2 .9-2 2v14c0 1.1.9 2 2 2h14c1.1 0 2-.9 2-2V5c0-1.1-.9-2-2-2zM9 17H7v-7h2v7zm4 0h-2V7h2v10zm4 0h-2v-4h2v4z\"/>\n",
              "    </g>\n",
              "</svg>\n",
              "      </button>\n",
              "    </div>\n",
              "\n",
              "<style>\n",
              "  .colab-df-quickchart {\n",
              "    background-color: #E8F0FE;\n",
              "    border: none;\n",
              "    border-radius: 50%;\n",
              "    cursor: pointer;\n",
              "    display: none;\n",
              "    fill: #1967D2;\n",
              "    height: 32px;\n",
              "    padding: 0 0 0 0;\n",
              "    width: 32px;\n",
              "  }\n",
              "\n",
              "  .colab-df-quickchart:hover {\n",
              "    background-color: #E2EBFA;\n",
              "    box-shadow: 0px 1px 2px rgba(60, 64, 67, 0.3), 0px 1px 3px 1px rgba(60, 64, 67, 0.15);\n",
              "    fill: #174EA6;\n",
              "  }\n",
              "\n",
              "  [theme=dark] .colab-df-quickchart {\n",
              "    background-color: #3B4455;\n",
              "    fill: #D2E3FC;\n",
              "  }\n",
              "\n",
              "  [theme=dark] .colab-df-quickchart:hover {\n",
              "    background-color: #434B5C;\n",
              "    box-shadow: 0px 1px 3px 1px rgba(0, 0, 0, 0.15);\n",
              "    filter: drop-shadow(0px 1px 2px rgba(0, 0, 0, 0.3));\n",
              "    fill: #FFFFFF;\n",
              "  }\n",
              "</style>\n",
              "\n",
              "    <script>\n",
              "      async function quickchart(key) {\n",
              "        const containerElement = document.querySelector('#' + key);\n",
              "        const charts = await google.colab.kernel.invokeFunction(\n",
              "            'suggestCharts', [key], {});\n",
              "      }\n",
              "    </script>\n",
              "\n",
              "      <script>\n",
              "\n",
              "function displayQuickchartButton(domScope) {\n",
              "  let quickchartButtonEl =\n",
              "    domScope.querySelector('#df-e9fdd0f7-f416-4bfb-b73a-044baafa9973 button.colab-df-quickchart');\n",
              "  quickchartButtonEl.style.display =\n",
              "    google.colab.kernel.accessAllowed ? 'block' : 'none';\n",
              "}\n",
              "\n",
              "        displayQuickchartButton(document);\n",
              "      </script>\n",
              "      <style>\n",
              "    .colab-df-container {\n",
              "      display:flex;\n",
              "      flex-wrap:wrap;\n",
              "      gap: 12px;\n",
              "    }\n",
              "\n",
              "    .colab-df-convert {\n",
              "      background-color: #E8F0FE;\n",
              "      border: none;\n",
              "      border-radius: 50%;\n",
              "      cursor: pointer;\n",
              "      display: none;\n",
              "      fill: #1967D2;\n",
              "      height: 32px;\n",
              "      padding: 0 0 0 0;\n",
              "      width: 32px;\n",
              "    }\n",
              "\n",
              "    .colab-df-convert:hover {\n",
              "      background-color: #E2EBFA;\n",
              "      box-shadow: 0px 1px 2px rgba(60, 64, 67, 0.3), 0px 1px 3px 1px rgba(60, 64, 67, 0.15);\n",
              "      fill: #174EA6;\n",
              "    }\n",
              "\n",
              "    [theme=dark] .colab-df-convert {\n",
              "      background-color: #3B4455;\n",
              "      fill: #D2E3FC;\n",
              "    }\n",
              "\n",
              "    [theme=dark] .colab-df-convert:hover {\n",
              "      background-color: #434B5C;\n",
              "      box-shadow: 0px 1px 3px 1px rgba(0, 0, 0, 0.15);\n",
              "      filter: drop-shadow(0px 1px 2px rgba(0, 0, 0, 0.3));\n",
              "      fill: #FFFFFF;\n",
              "    }\n",
              "  </style>\n",
              "\n",
              "      <script>\n",
              "        const buttonEl =\n",
              "          document.querySelector('#df-fc6a6990-1302-48aa-aa02-3f0bd42e9b6f button.colab-df-convert');\n",
              "        buttonEl.style.display =\n",
              "          google.colab.kernel.accessAllowed ? 'block' : 'none';\n",
              "\n",
              "        async function convertToInteractive(key) {\n",
              "          const element = document.querySelector('#df-fc6a6990-1302-48aa-aa02-3f0bd42e9b6f');\n",
              "          const dataTable =\n",
              "            await google.colab.kernel.invokeFunction('convertToInteractive',\n",
              "                                                     [key], {});\n",
              "          if (!dataTable) return;\n",
              "\n",
              "          const docLinkHtml = 'Like what you see? Visit the ' +\n",
              "            '<a target=\"_blank\" href=https://colab.research.google.com/notebooks/data_table.ipynb>data table notebook</a>'\n",
              "            + ' to learn more about interactive tables.';\n",
              "          element.innerHTML = '';\n",
              "          dataTable['output_type'] = 'display_data';\n",
              "          await google.colab.output.renderOutput(dataTable, element);\n",
              "          const docLink = document.createElement('div');\n",
              "          docLink.innerHTML = docLinkHtml;\n",
              "          element.appendChild(docLink);\n",
              "        }\n",
              "      </script>\n",
              "    </div>\n",
              "  </div>\n"
            ]
          },
          "metadata": {},
          "execution_count": 179
        }
      ]
    },
    {
      "cell_type": "markdown",
      "source": [
        "\n",
        "### Dataset column names"
      ],
      "metadata": {
        "id": "i2I0WfMgk3VF"
      }
    },
    {
      "cell_type": "code",
      "source": [
        "# iterating the columns\n",
        "for col in df_weatherCollisionsDNNMix3b.columns:\n",
        "    print(col)\n",
        "# This one has one hot encvoded months, day of week, year, snow, temperature"
      ],
      "metadata": {
        "colab": {
          "base_uri": "https://localhost:8080/"
        },
        "outputId": "a224d0b1-ebdc-4474-dfbd-368681ee27b9",
        "id": "ZKmWQWuNjr5V"
      },
      "execution_count": 180,
      "outputs": [
        {
          "output_type": "stream",
          "name": "stdout",
          "text": [
            "Apr\n",
            "Aug\n",
            "Dec\n",
            "Feb\n",
            "Jan\n",
            "Jul\n",
            "Jun\n",
            "Mar\n",
            "May\n",
            "Nov\n",
            "Oct\n",
            "Sep\n",
            "Fri\n",
            "Mon\n",
            "Sat\n",
            "Sun\n",
            "Thur\n",
            "Tue\n",
            "Wed\n",
            "X2021\n",
            "X2023\n",
            "X2022\n",
            "No.Snow\n",
            "Snow\n",
            "scaledCollisions\n",
            "temperature\n"
          ]
        }
      ]
    },
    {
      "cell_type": "code",
      "metadata": {
        "id": "GgjG2qczjr5W"
      },
      "source": [
        "df_weatherCollisionsDNNMix3b_input_data = [\n",
        "                  df_weatherCollisionsDNNMix3a[\"Jan\"], df_weatherCollisionsDNNMix3a[\"Feb\"], df_weatherCollisionsDNNMix3a[\"Mar\"], df_weatherCollisionsDNNMix3a[\"Apr\"], df_weatherCollisionsDNNMix3a[\"May\"], df_weatherCollisionsDNNMix3a[\"Jun\"], df_weatherCollisionsDNNMix3a[\"Jul\"], df_weatherCollisionsDNNMix3a[\"Aug\"], df_weatherCollisionsDNNMix3a[\"Sep\"], df_weatherCollisionsDNNMix3a[\"Oct\"], df_weatherCollisionsDNNMix3a[\"Nov\"], df_weatherCollisionsDNNMix3a[\"Dec\"],\n",
        "                  df_weatherCollisionsDNNMix3a[\"Sat\"], df_weatherCollisionsDNNMix3a[\"Sun\"], df_weatherCollisionsDNNMix3a[\"Mon\"], df_weatherCollisionsDNNMix3a[\"Tue\"], df_weatherCollisionsDNNMix3a[\"Wed\"], df_weatherCollisionsDNNMix3a[\"Thur\"], df_weatherCollisionsDNNMix3a[\"Fri\"],\n",
        "                  df_weatherCollisionsDNNMix3a[\"X2021\"], df_weatherCollisionsDNNMix3a[\"X2022\"], df_weatherCollisionsDNNMix3a[\"X2023\"],\n",
        "                  df_weatherCollisionsDNNMix3a[\"No.Snow\"], df_weatherCollisionsDNNMix3a[\"Snow\"],\n",
        "              # Remove one hot encoded temperature category scales\n",
        "              #   df_weatherCollisionsDNNMix3a[\"Cold\"], df_weatherCollisionsDNNMix3a[\"Freezing.or.below\"],df_weatherCollisionsDNNMix3a[\"Hot\"],df_weatherCollisionsDNNMix3a[\"Mild\"],\n",
        "              #    df_weatherCollisionsDNNMix3a[\"Very.warm\"], df_weatherCollisionsDNNMix3a[\"Warm\"],\n",
        "                  df_weatherCollisionsDNNMix3a[\"scaledCollisions\"],\n",
        "                  df_weatherCollisionsDNNMix3a[\"temperature\"]]\n",
        "headers3b = [\"Jan\",\"Feb\",\"Mar\",\"Apr\",\"May\",\"Jun\",\"Jul\",\"Aug\",\"Sep\",\"Oct\",\"Nov\",\"Dec\",\n",
        "             \"Sat\",\"Sun\",\"Mon\",\"Tue\",\"Wed\",\"Thur\",\"Fri\",\n",
        "         \"X2021\",\"X2022\",\"X2023\",\n",
        "               \"No.Snow\",\"Snow\",\n",
        "               \"scaledCollisions\",\n",
        "          # remove temperature categories / one-hot encoded\n",
        "             #\"Cold\",\"Freezing.or.below\",\"Hot\",\"Mild\",\"Very.warm\",\"Warm\",\n",
        "             \"temperature\"\n",
        "             ]\n",
        "df_weatherCollisionsDNNMix3b_input = pd.concat(df_weatherCollisionsDNNMix3b_input_data, axis=1, keys=headers3b)\n"
      ],
      "execution_count": 181,
      "outputs": []
    },
    {
      "cell_type": "code",
      "source": [
        "df_weatherCollisionsDNNMix3b_input.head()"
      ],
      "metadata": {
        "colab": {
          "base_uri": "https://localhost:8080/",
          "height": 299
        },
        "outputId": "388035a7-c1c9-45db-8e0a-7b61cfa5e3a6",
        "id": "oEv6IcwDjr5W"
      },
      "execution_count": 182,
      "outputs": [
        {
          "output_type": "execute_result",
          "data": {
            "text/plain": [
              "     Jan  Feb  Mar  Apr  May  Jun  Jul  Aug  Sep  Oct  ...  Wed  Thur  Fri  \\\n",
              "650    0    0    0    0    0    0    0    0    0    0  ...    0     1    0   \n",
              "584    0    0    0    0    0    0    0    1    0    0  ...    0     0    0   \n",
              "493    0    0    0    0    1    0    0    0    0    0  ...    0     0    0   \n",
              "162    0    0    0    0    0    1    0    0    0    0  ...    0     0    0   \n",
              "588    0    0    0    0    0    0    0    0    1    0  ...    0     0    1   \n",
              "\n",
              "     X2021  X2022  X2023  No.Snow  Snow  scaledCollisions  temperature  \n",
              "650      0      1      0        1     0          0.745946         15.0  \n",
              "584      0      1      0        1     0          0.427027         25.7  \n",
              "493      0      1      0        1     0          0.751351         27.1  \n",
              "162      1      0      0        1     0          0.867647         26.7  \n",
              "588      0      1      0        1     0          0.589189         21.6  \n",
              "\n",
              "[5 rows x 26 columns]"
            ],
            "text/html": [
              "\n",
              "\n",
              "  <div id=\"df-9b693159-5787-46fd-af8c-6e1400d77baf\">\n",
              "    <div class=\"colab-df-container\">\n",
              "      <div>\n",
              "<style scoped>\n",
              "    .dataframe tbody tr th:only-of-type {\n",
              "        vertical-align: middle;\n",
              "    }\n",
              "\n",
              "    .dataframe tbody tr th {\n",
              "        vertical-align: top;\n",
              "    }\n",
              "\n",
              "    .dataframe thead th {\n",
              "        text-align: right;\n",
              "    }\n",
              "</style>\n",
              "<table border=\"1\" class=\"dataframe\">\n",
              "  <thead>\n",
              "    <tr style=\"text-align: right;\">\n",
              "      <th></th>\n",
              "      <th>Jan</th>\n",
              "      <th>Feb</th>\n",
              "      <th>Mar</th>\n",
              "      <th>Apr</th>\n",
              "      <th>May</th>\n",
              "      <th>Jun</th>\n",
              "      <th>Jul</th>\n",
              "      <th>Aug</th>\n",
              "      <th>Sep</th>\n",
              "      <th>Oct</th>\n",
              "      <th>...</th>\n",
              "      <th>Wed</th>\n",
              "      <th>Thur</th>\n",
              "      <th>Fri</th>\n",
              "      <th>X2021</th>\n",
              "      <th>X2022</th>\n",
              "      <th>X2023</th>\n",
              "      <th>No.Snow</th>\n",
              "      <th>Snow</th>\n",
              "      <th>scaledCollisions</th>\n",
              "      <th>temperature</th>\n",
              "    </tr>\n",
              "  </thead>\n",
              "  <tbody>\n",
              "    <tr>\n",
              "      <th>650</th>\n",
              "      <td>0</td>\n",
              "      <td>0</td>\n",
              "      <td>0</td>\n",
              "      <td>0</td>\n",
              "      <td>0</td>\n",
              "      <td>0</td>\n",
              "      <td>0</td>\n",
              "      <td>0</td>\n",
              "      <td>0</td>\n",
              "      <td>0</td>\n",
              "      <td>...</td>\n",
              "      <td>0</td>\n",
              "      <td>1</td>\n",
              "      <td>0</td>\n",
              "      <td>0</td>\n",
              "      <td>1</td>\n",
              "      <td>0</td>\n",
              "      <td>1</td>\n",
              "      <td>0</td>\n",
              "      <td>0.745946</td>\n",
              "      <td>15.0</td>\n",
              "    </tr>\n",
              "    <tr>\n",
              "      <th>584</th>\n",
              "      <td>0</td>\n",
              "      <td>0</td>\n",
              "      <td>0</td>\n",
              "      <td>0</td>\n",
              "      <td>0</td>\n",
              "      <td>0</td>\n",
              "      <td>0</td>\n",
              "      <td>1</td>\n",
              "      <td>0</td>\n",
              "      <td>0</td>\n",
              "      <td>...</td>\n",
              "      <td>0</td>\n",
              "      <td>0</td>\n",
              "      <td>0</td>\n",
              "      <td>0</td>\n",
              "      <td>1</td>\n",
              "      <td>0</td>\n",
              "      <td>1</td>\n",
              "      <td>0</td>\n",
              "      <td>0.427027</td>\n",
              "      <td>25.7</td>\n",
              "    </tr>\n",
              "    <tr>\n",
              "      <th>493</th>\n",
              "      <td>0</td>\n",
              "      <td>0</td>\n",
              "      <td>0</td>\n",
              "      <td>0</td>\n",
              "      <td>1</td>\n",
              "      <td>0</td>\n",
              "      <td>0</td>\n",
              "      <td>0</td>\n",
              "      <td>0</td>\n",
              "      <td>0</td>\n",
              "      <td>...</td>\n",
              "      <td>0</td>\n",
              "      <td>0</td>\n",
              "      <td>0</td>\n",
              "      <td>0</td>\n",
              "      <td>1</td>\n",
              "      <td>0</td>\n",
              "      <td>1</td>\n",
              "      <td>0</td>\n",
              "      <td>0.751351</td>\n",
              "      <td>27.1</td>\n",
              "    </tr>\n",
              "    <tr>\n",
              "      <th>162</th>\n",
              "      <td>0</td>\n",
              "      <td>0</td>\n",
              "      <td>0</td>\n",
              "      <td>0</td>\n",
              "      <td>0</td>\n",
              "      <td>1</td>\n",
              "      <td>0</td>\n",
              "      <td>0</td>\n",
              "      <td>0</td>\n",
              "      <td>0</td>\n",
              "      <td>...</td>\n",
              "      <td>0</td>\n",
              "      <td>0</td>\n",
              "      <td>0</td>\n",
              "      <td>1</td>\n",
              "      <td>0</td>\n",
              "      <td>0</td>\n",
              "      <td>1</td>\n",
              "      <td>0</td>\n",
              "      <td>0.867647</td>\n",
              "      <td>26.7</td>\n",
              "    </tr>\n",
              "    <tr>\n",
              "      <th>588</th>\n",
              "      <td>0</td>\n",
              "      <td>0</td>\n",
              "      <td>0</td>\n",
              "      <td>0</td>\n",
              "      <td>0</td>\n",
              "      <td>0</td>\n",
              "      <td>0</td>\n",
              "      <td>0</td>\n",
              "      <td>1</td>\n",
              "      <td>0</td>\n",
              "      <td>...</td>\n",
              "      <td>0</td>\n",
              "      <td>0</td>\n",
              "      <td>1</td>\n",
              "      <td>0</td>\n",
              "      <td>1</td>\n",
              "      <td>0</td>\n",
              "      <td>1</td>\n",
              "      <td>0</td>\n",
              "      <td>0.589189</td>\n",
              "      <td>21.6</td>\n",
              "    </tr>\n",
              "  </tbody>\n",
              "</table>\n",
              "<p>5 rows × 26 columns</p>\n",
              "</div>\n",
              "      <button class=\"colab-df-convert\" onclick=\"convertToInteractive('df-9b693159-5787-46fd-af8c-6e1400d77baf')\"\n",
              "              title=\"Convert this dataframe to an interactive table.\"\n",
              "              style=\"display:none;\">\n",
              "\n",
              "  <svg xmlns=\"http://www.w3.org/2000/svg\" height=\"24px\"viewBox=\"0 0 24 24\"\n",
              "       width=\"24px\">\n",
              "    <path d=\"M0 0h24v24H0V0z\" fill=\"none\"/>\n",
              "    <path d=\"M18.56 5.44l.94 2.06.94-2.06 2.06-.94-2.06-.94-.94-2.06-.94 2.06-2.06.94zm-11 1L8.5 8.5l.94-2.06 2.06-.94-2.06-.94L8.5 2.5l-.94 2.06-2.06.94zm10 10l.94 2.06.94-2.06 2.06-.94-2.06-.94-.94-2.06-.94 2.06-2.06.94z\"/><path d=\"M17.41 7.96l-1.37-1.37c-.4-.4-.92-.59-1.43-.59-.52 0-1.04.2-1.43.59L10.3 9.45l-7.72 7.72c-.78.78-.78 2.05 0 2.83L4 21.41c.39.39.9.59 1.41.59.51 0 1.02-.2 1.41-.59l7.78-7.78 2.81-2.81c.8-.78.8-2.07 0-2.86zM5.41 20L4 18.59l7.72-7.72 1.47 1.35L5.41 20z\"/>\n",
              "  </svg>\n",
              "      </button>\n",
              "\n",
              "\n",
              "\n",
              "    <div id=\"df-289ef95a-db17-4dc3-b536-2542c7991574\">\n",
              "      <button class=\"colab-df-quickchart\" onclick=\"quickchart('df-289ef95a-db17-4dc3-b536-2542c7991574')\"\n",
              "              title=\"Suggest charts.\"\n",
              "              style=\"display:none;\">\n",
              "\n",
              "<svg xmlns=\"http://www.w3.org/2000/svg\" height=\"24px\"viewBox=\"0 0 24 24\"\n",
              "     width=\"24px\">\n",
              "    <g>\n",
              "        <path d=\"M19 3H5c-1.1 0-2 .9-2 2v14c0 1.1.9 2 2 2h14c1.1 0 2-.9 2-2V5c0-1.1-.9-2-2-2zM9 17H7v-7h2v7zm4 0h-2V7h2v10zm4 0h-2v-4h2v4z\"/>\n",
              "    </g>\n",
              "</svg>\n",
              "      </button>\n",
              "    </div>\n",
              "\n",
              "<style>\n",
              "  .colab-df-quickchart {\n",
              "    background-color: #E8F0FE;\n",
              "    border: none;\n",
              "    border-radius: 50%;\n",
              "    cursor: pointer;\n",
              "    display: none;\n",
              "    fill: #1967D2;\n",
              "    height: 32px;\n",
              "    padding: 0 0 0 0;\n",
              "    width: 32px;\n",
              "  }\n",
              "\n",
              "  .colab-df-quickchart:hover {\n",
              "    background-color: #E2EBFA;\n",
              "    box-shadow: 0px 1px 2px rgba(60, 64, 67, 0.3), 0px 1px 3px 1px rgba(60, 64, 67, 0.15);\n",
              "    fill: #174EA6;\n",
              "  }\n",
              "\n",
              "  [theme=dark] .colab-df-quickchart {\n",
              "    background-color: #3B4455;\n",
              "    fill: #D2E3FC;\n",
              "  }\n",
              "\n",
              "  [theme=dark] .colab-df-quickchart:hover {\n",
              "    background-color: #434B5C;\n",
              "    box-shadow: 0px 1px 3px 1px rgba(0, 0, 0, 0.15);\n",
              "    filter: drop-shadow(0px 1px 2px rgba(0, 0, 0, 0.3));\n",
              "    fill: #FFFFFF;\n",
              "  }\n",
              "</style>\n",
              "\n",
              "    <script>\n",
              "      async function quickchart(key) {\n",
              "        const containerElement = document.querySelector('#' + key);\n",
              "        const charts = await google.colab.kernel.invokeFunction(\n",
              "            'suggestCharts', [key], {});\n",
              "      }\n",
              "    </script>\n",
              "\n",
              "      <script>\n",
              "\n",
              "function displayQuickchartButton(domScope) {\n",
              "  let quickchartButtonEl =\n",
              "    domScope.querySelector('#df-289ef95a-db17-4dc3-b536-2542c7991574 button.colab-df-quickchart');\n",
              "  quickchartButtonEl.style.display =\n",
              "    google.colab.kernel.accessAllowed ? 'block' : 'none';\n",
              "}\n",
              "\n",
              "        displayQuickchartButton(document);\n",
              "      </script>\n",
              "      <style>\n",
              "    .colab-df-container {\n",
              "      display:flex;\n",
              "      flex-wrap:wrap;\n",
              "      gap: 12px;\n",
              "    }\n",
              "\n",
              "    .colab-df-convert {\n",
              "      background-color: #E8F0FE;\n",
              "      border: none;\n",
              "      border-radius: 50%;\n",
              "      cursor: pointer;\n",
              "      display: none;\n",
              "      fill: #1967D2;\n",
              "      height: 32px;\n",
              "      padding: 0 0 0 0;\n",
              "      width: 32px;\n",
              "    }\n",
              "\n",
              "    .colab-df-convert:hover {\n",
              "      background-color: #E2EBFA;\n",
              "      box-shadow: 0px 1px 2px rgba(60, 64, 67, 0.3), 0px 1px 3px 1px rgba(60, 64, 67, 0.15);\n",
              "      fill: #174EA6;\n",
              "    }\n",
              "\n",
              "    [theme=dark] .colab-df-convert {\n",
              "      background-color: #3B4455;\n",
              "      fill: #D2E3FC;\n",
              "    }\n",
              "\n",
              "    [theme=dark] .colab-df-convert:hover {\n",
              "      background-color: #434B5C;\n",
              "      box-shadow: 0px 1px 3px 1px rgba(0, 0, 0, 0.15);\n",
              "      filter: drop-shadow(0px 1px 2px rgba(0, 0, 0, 0.3));\n",
              "      fill: #FFFFFF;\n",
              "    }\n",
              "  </style>\n",
              "\n",
              "      <script>\n",
              "        const buttonEl =\n",
              "          document.querySelector('#df-9b693159-5787-46fd-af8c-6e1400d77baf button.colab-df-convert');\n",
              "        buttonEl.style.display =\n",
              "          google.colab.kernel.accessAllowed ? 'block' : 'none';\n",
              "\n",
              "        async function convertToInteractive(key) {\n",
              "          const element = document.querySelector('#df-9b693159-5787-46fd-af8c-6e1400d77baf');\n",
              "          const dataTable =\n",
              "            await google.colab.kernel.invokeFunction('convertToInteractive',\n",
              "                                                     [key], {});\n",
              "          if (!dataTable) return;\n",
              "\n",
              "          const docLinkHtml = 'Like what you see? Visit the ' +\n",
              "            '<a target=\"_blank\" href=https://colab.research.google.com/notebooks/data_table.ipynb>data table notebook</a>'\n",
              "            + ' to learn more about interactive tables.';\n",
              "          element.innerHTML = '';\n",
              "          dataTable['output_type'] = 'display_data';\n",
              "          await google.colab.output.renderOutput(dataTable, element);\n",
              "          const docLink = document.createElement('div');\n",
              "          docLink.innerHTML = docLinkHtml;\n",
              "          element.appendChild(docLink);\n",
              "        }\n",
              "      </script>\n",
              "    </div>\n",
              "  </div>\n"
            ]
          },
          "metadata": {},
          "execution_count": 182
        }
      ]
    },
    {
      "cell_type": "markdown",
      "source": [
        "#### Training and test datasets"
      ],
      "metadata": {
        "id": "vM1tGLukjr5W"
      }
    },
    {
      "cell_type": "code",
      "metadata": {
        "id": "5Of2N8-2jr5W"
      },
      "source": [
        "training_dataset3b = df_weatherCollisionsDNNMix3b_input.sample(frac=0.8, random_state=0)\n",
        "test_dataset3b = df_weatherCollisionsDNNMix3b_input.drop(training_dataset3b.index)"
      ],
      "execution_count": 183,
      "outputs": []
    },
    {
      "cell_type": "code",
      "source": [
        "training_features3b = training_dataset3b.copy()\n",
        "test_features3b = test_dataset3b.copy()\n",
        "\n",
        "training_labels3b = training_features3b.pop('scaledCollisions')\n",
        "test_labels3b = test_features3b.pop('scaledCollisions')"
      ],
      "metadata": {
        "id": "4M3_pRF2jr5X"
      },
      "execution_count": 184,
      "outputs": []
    },
    {
      "cell_type": "code",
      "source": [
        "# A scale is not required here, but the constant will be useful in the assignment.\n",
        "SCALE_NUM_COLLISIONS = 1.0"
      ],
      "metadata": {
        "id": "_BLKxFtfjr5X"
      },
      "execution_count": 185,
      "outputs": []
    },
    {
      "cell_type": "code",
      "source": [
        "training_labels3b = training_labels3b/SCALE_NUM_COLLISIONS\n",
        "test_labels3b = test_labels3b/SCALE_NUM_COLLISIONS"
      ],
      "metadata": {
        "id": "nqLj5grJjr5X"
      },
      "execution_count": 186,
      "outputs": []
    },
    {
      "cell_type": "code",
      "source": [
        "#for col in df_weatherCollisionsDNNMix3a_input.columns:\n",
        " #   print(col)\n",
        "# 21 excluding scaled collisions"
      ],
      "metadata": {
        "id": "qkZ36nEIjr5Y"
      },
      "execution_count": 187,
      "outputs": []
    },
    {
      "cell_type": "markdown",
      "source": [
        "## Model specification"
      ],
      "metadata": {
        "id": "2oTxTqtPLP04"
      }
    },
    {
      "cell_type": "code",
      "source": [
        "normaliser3b = tf.keras.layers.Normalization(axis=-1)\n",
        "normaliser3b.adapt(np.array(training_features3b))"
      ],
      "metadata": {
        "id": "Aj-Dtrjcjr5Y"
      },
      "execution_count": 188,
      "outputs": []
    },
    {
      "cell_type": "code",
      "source": [
        "# Normalisation layer (approx 24 inputs), 2 layers of x, with 1 output.\n",
        "# can be adjusted to improve the net.\n",
        "dnn_model_3b = keras.Sequential([\n",
        "      normaliser3b,\n",
        "      layers.Dense(52, activation='relu'),\n",
        "      layers.Dense(52, activation='relu'),\n",
        "      layers.Dense(1)\n",
        "  ])\n",
        "\n",
        "dnn_model_3b.compile(loss='mean_absolute_error',\n",
        "                optimizer=tf.keras.optimizers.Adam(0.001))"
      ],
      "metadata": {
        "id": "4TwmDOKmjr5Y"
      },
      "execution_count": 189,
      "outputs": []
    },
    {
      "cell_type": "code",
      "source": [
        "# Print out the statistics\n",
        "dnn_model_3b.summary()"
      ],
      "metadata": {
        "colab": {
          "base_uri": "https://localhost:8080/"
        },
        "id": "_3kp-NqgwQMf",
        "outputId": "ee497962-0d80-4cec-94af-2878f11ce1fe"
      },
      "execution_count": 190,
      "outputs": [
        {
          "output_type": "stream",
          "name": "stdout",
          "text": [
            "Model: \"sequential_5\"\n",
            "_________________________________________________________________\n",
            " Layer (type)                Output Shape              Param #   \n",
            "=================================================================\n",
            " normalization_5 (Normalizat  (None, 25)               51        \n",
            " ion)                                                            \n",
            "                                                                 \n",
            " dense_15 (Dense)            (None, 52)                1352      \n",
            "                                                                 \n",
            " dense_16 (Dense)            (None, 52)                2756      \n",
            "                                                                 \n",
            " dense_17 (Dense)            (None, 1)                 53        \n",
            "                                                                 \n",
            "=================================================================\n",
            "Total params: 4,212\n",
            "Trainable params: 4,161\n",
            "Non-trainable params: 51\n",
            "_________________________________________________________________\n"
          ]
        }
      ]
    },
    {
      "cell_type": "markdown",
      "source": [
        "#### Train the model"
      ],
      "metadata": {
        "id": "FxbzeWMBjr5Y"
      }
    },
    {
      "cell_type": "markdown",
      "source": [
        "We call fit() to train the model by slicing the data into \"batches\" of size batch_size, and repeatedly iterated over the dataset for 100 epochs.\n",
        "This specifies to use 20% of the data for validation."
      ],
      "metadata": {
        "id": "4HmEFRcPjr5Y"
      }
    },
    {
      "cell_type": "code",
      "source": [
        "# Fit the model\n",
        "%%time\n",
        "history3b = dnn_model_3b.fit(\n",
        "    training_features3b,\n",
        "    training_labels3b,\n",
        "    validation_split=0.2,\n",
        "    verbose=0,\n",
        "    epochs=100)"
      ],
      "metadata": {
        "outputId": "1bfdaa3d-3b7a-44ca-f769-7e5f9049c320",
        "colab": {
          "base_uri": "https://localhost:8080/"
        },
        "id": "z8iNuQQZjr5Y"
      },
      "execution_count": 191,
      "outputs": [
        {
          "output_type": "stream",
          "name": "stdout",
          "text": [
            "CPU times: user 6.6 s, sys: 261 ms, total: 6.86 s\n",
            "Wall time: 11 s\n"
          ]
        }
      ]
    },
    {
      "cell_type": "markdown",
      "source": [
        "The returned history object holds a record of the loss values and metric values during training."
      ],
      "metadata": {
        "id": "VI3VYnO-jr5Y"
      }
    },
    {
      "cell_type": "code",
      "source": [
        "#history3a.history"
      ],
      "metadata": {
        "id": "YzB_7yFTjr5Z"
      },
      "execution_count": 192,
      "outputs": []
    },
    {
      "cell_type": "markdown",
      "source": [
        "#### Evaluate the model on the test data (0.15077701210975647)\n"
      ],
      "metadata": {
        "id": "DXq5qCdGjr5Z"
      }
    },
    {
      "cell_type": "code",
      "source": [
        "# remember, we want to minimise this. The model with the lowest is the best.\n",
        "dnn_model_3b_results = dnn_model_3b.evaluate(test_features3b, test_labels3b, verbose=1)\n",
        "print(dnn_model_3b_results)"
      ],
      "metadata": {
        "outputId": "0f5ab8d1-9854-4547-a2b7-7ac65841339d",
        "colab": {
          "base_uri": "https://localhost:8080/"
        },
        "id": "5zce1qxwjr5Z"
      },
      "execution_count": 193,
      "outputs": [
        {
          "output_type": "stream",
          "name": "stdout",
          "text": [
            "6/6 [==============================] - 0s 2ms/step - loss: 0.1295\n",
            "0.12952043116092682\n"
          ]
        }
      ]
    },
    {
      "cell_type": "markdown",
      "source": [
        "### Make predictions for model 3b based on test data"
      ],
      "metadata": {
        "id": "4W-og52X1xc7"
      }
    },
    {
      "cell_type": "code",
      "source": [
        "# Make the predictions by the model on tHE TEST data\n",
        "print(\"Generate predictions for 10 samples\")\n",
        "linear_day_predictions3bTD = dnn_model_3b.predict(test_features3b[:10])*SCALE_NUM_COLLISIONS\n",
        "linear_day_predictions3bTD\n",
        "#print(\"predictions shape:\", linear_day_predictions2TD.shape)"
      ],
      "metadata": {
        "colab": {
          "base_uri": "https://localhost:8080/"
        },
        "outputId": "2beedce8-16bc-48c9-b064-e3071cecd547",
        "id": "WgNXxYck1xdD"
      },
      "execution_count": 194,
      "outputs": [
        {
          "output_type": "stream",
          "name": "stdout",
          "text": [
            "Generate predictions for 10 samples\n",
            "1/1 [==============================] - 0s 69ms/step\n"
          ]
        },
        {
          "output_type": "execute_result",
          "data": {
            "text/plain": [
              "array([[0.56875694],\n",
              "       [0.47769523],\n",
              "       [0.8579083 ],\n",
              "       [0.63440657],\n",
              "       [0.4907653 ],\n",
              "       [0.99786633],\n",
              "       [0.51811427],\n",
              "       [0.62324536],\n",
              "       [0.725953  ],\n",
              "       [0.39410603]], dtype=float32)"
            ]
          },
          "metadata": {},
          "execution_count": 194
        }
      ]
    },
    {
      "cell_type": "markdown",
      "source": [
        "#### Convert to collisions"
      ],
      "metadata": {
        "id": "9u2bD6Cj1xdD"
      }
    },
    {
      "cell_type": "code",
      "source": [
        "# Make the predictions by the model on the TEST DATA data and convert based on scaledCollisions for 2022\n",
        "linear_day_predictions3bTDConverted = dnn_model_3b.predict(test_features3b[:10])*a22 +b22\n",
        "#*a22 +b22 is is to convert scaled collisions based on the values for 2022\n",
        "linear_day_predictions3bTDConverted"
      ],
      "metadata": {
        "colab": {
          "base_uri": "https://localhost:8080/"
        },
        "outputId": "b608a9dd-fbc1-445c-8b5b-1818984cca47",
        "id": "GAvUPmF51xdD"
      },
      "execution_count": 195,
      "outputs": [
        {
          "output_type": "stream",
          "name": "stdout",
          "text": [
            "1/1 [==============================] - 0s 23ms/step\n"
          ]
        },
        {
          "output_type": "execute_result",
          "data": {
            "text/plain": [
              "array([[285.22003],\n",
              "       [268.37363],\n",
              "       [338.71304],\n",
              "       [297.3652 ],\n",
              "       [270.79156],\n",
              "       [364.6053 ],\n",
              "       [275.85114],\n",
              "       [295.30038],\n",
              "       [314.3013 ],\n",
              "       [252.9096 ]], dtype=float32)"
            ]
          },
          "metadata": {},
          "execution_count": 195
        }
      ]
    },
    {
      "cell_type": "markdown",
      "source": [
        "#### Sample scaled collision output and collisions from a test run on validation data"
      ],
      "metadata": {
        "id": "25aP3ASIY1RO"
      }
    },
    {
      "cell_type": "markdown",
      "source": [
        "We will save a specific set of results and calculate the number of collisions for 2021-2023."
      ],
      "metadata": {
        "id": "82wyhDQobKjY"
      }
    },
    {
      "cell_type": "code",
      "source": [
        "mod3bResultEx  = pd.DataFrame.from_dict(data =\n",
        "\t\t\t\t{'Validation result for 10 records from a test run' : [0.20464997,0.29833424,0.6112495,0.61998713,0.9944446,0.70855606,0.4484783,0.5267235,0.36377603,0.626534]})\n",
        "mod3bResultEx\n"
      ],
      "metadata": {
        "colab": {
          "base_uri": "https://localhost:8080/",
          "height": 363
        },
        "id": "55dFq4I3YBTr",
        "outputId": "e34318aa-b4f8-4263-cb7a-1313b9f4c80c"
      },
      "execution_count": 196,
      "outputs": [
        {
          "output_type": "execute_result",
          "data": {
            "text/plain": [
              "   Validation result for 10 records from a test run\n",
              "0                                          0.204650\n",
              "1                                          0.298334\n",
              "2                                          0.611250\n",
              "3                                          0.619987\n",
              "4                                          0.994445\n",
              "5                                          0.708556\n",
              "6                                          0.448478\n",
              "7                                          0.526724\n",
              "8                                          0.363776\n",
              "9                                          0.626534"
            ],
            "text/html": [
              "\n",
              "\n",
              "  <div id=\"df-e6f83931-e06d-4a74-bc26-bc1de6d4fa99\">\n",
              "    <div class=\"colab-df-container\">\n",
              "      <div>\n",
              "<style scoped>\n",
              "    .dataframe tbody tr th:only-of-type {\n",
              "        vertical-align: middle;\n",
              "    }\n",
              "\n",
              "    .dataframe tbody tr th {\n",
              "        vertical-align: top;\n",
              "    }\n",
              "\n",
              "    .dataframe thead th {\n",
              "        text-align: right;\n",
              "    }\n",
              "</style>\n",
              "<table border=\"1\" class=\"dataframe\">\n",
              "  <thead>\n",
              "    <tr style=\"text-align: right;\">\n",
              "      <th></th>\n",
              "      <th>Validation result for 10 records from a test run</th>\n",
              "    </tr>\n",
              "  </thead>\n",
              "  <tbody>\n",
              "    <tr>\n",
              "      <th>0</th>\n",
              "      <td>0.204650</td>\n",
              "    </tr>\n",
              "    <tr>\n",
              "      <th>1</th>\n",
              "      <td>0.298334</td>\n",
              "    </tr>\n",
              "    <tr>\n",
              "      <th>2</th>\n",
              "      <td>0.611250</td>\n",
              "    </tr>\n",
              "    <tr>\n",
              "      <th>3</th>\n",
              "      <td>0.619987</td>\n",
              "    </tr>\n",
              "    <tr>\n",
              "      <th>4</th>\n",
              "      <td>0.994445</td>\n",
              "    </tr>\n",
              "    <tr>\n",
              "      <th>5</th>\n",
              "      <td>0.708556</td>\n",
              "    </tr>\n",
              "    <tr>\n",
              "      <th>6</th>\n",
              "      <td>0.448478</td>\n",
              "    </tr>\n",
              "    <tr>\n",
              "      <th>7</th>\n",
              "      <td>0.526724</td>\n",
              "    </tr>\n",
              "    <tr>\n",
              "      <th>8</th>\n",
              "      <td>0.363776</td>\n",
              "    </tr>\n",
              "    <tr>\n",
              "      <th>9</th>\n",
              "      <td>0.626534</td>\n",
              "    </tr>\n",
              "  </tbody>\n",
              "</table>\n",
              "</div>\n",
              "      <button class=\"colab-df-convert\" onclick=\"convertToInteractive('df-e6f83931-e06d-4a74-bc26-bc1de6d4fa99')\"\n",
              "              title=\"Convert this dataframe to an interactive table.\"\n",
              "              style=\"display:none;\">\n",
              "\n",
              "  <svg xmlns=\"http://www.w3.org/2000/svg\" height=\"24px\"viewBox=\"0 0 24 24\"\n",
              "       width=\"24px\">\n",
              "    <path d=\"M0 0h24v24H0V0z\" fill=\"none\"/>\n",
              "    <path d=\"M18.56 5.44l.94 2.06.94-2.06 2.06-.94-2.06-.94-.94-2.06-.94 2.06-2.06.94zm-11 1L8.5 8.5l.94-2.06 2.06-.94-2.06-.94L8.5 2.5l-.94 2.06-2.06.94zm10 10l.94 2.06.94-2.06 2.06-.94-2.06-.94-.94-2.06-.94 2.06-2.06.94z\"/><path d=\"M17.41 7.96l-1.37-1.37c-.4-.4-.92-.59-1.43-.59-.52 0-1.04.2-1.43.59L10.3 9.45l-7.72 7.72c-.78.78-.78 2.05 0 2.83L4 21.41c.39.39.9.59 1.41.59.51 0 1.02-.2 1.41-.59l7.78-7.78 2.81-2.81c.8-.78.8-2.07 0-2.86zM5.41 20L4 18.59l7.72-7.72 1.47 1.35L5.41 20z\"/>\n",
              "  </svg>\n",
              "      </button>\n",
              "\n",
              "\n",
              "\n",
              "    <div id=\"df-cd22a3e2-1a1c-4b1d-83e8-f637d028ed26\">\n",
              "      <button class=\"colab-df-quickchart\" onclick=\"quickchart('df-cd22a3e2-1a1c-4b1d-83e8-f637d028ed26')\"\n",
              "              title=\"Suggest charts.\"\n",
              "              style=\"display:none;\">\n",
              "\n",
              "<svg xmlns=\"http://www.w3.org/2000/svg\" height=\"24px\"viewBox=\"0 0 24 24\"\n",
              "     width=\"24px\">\n",
              "    <g>\n",
              "        <path d=\"M19 3H5c-1.1 0-2 .9-2 2v14c0 1.1.9 2 2 2h14c1.1 0 2-.9 2-2V5c0-1.1-.9-2-2-2zM9 17H7v-7h2v7zm4 0h-2V7h2v10zm4 0h-2v-4h2v4z\"/>\n",
              "    </g>\n",
              "</svg>\n",
              "      </button>\n",
              "    </div>\n",
              "\n",
              "<style>\n",
              "  .colab-df-quickchart {\n",
              "    background-color: #E8F0FE;\n",
              "    border: none;\n",
              "    border-radius: 50%;\n",
              "    cursor: pointer;\n",
              "    display: none;\n",
              "    fill: #1967D2;\n",
              "    height: 32px;\n",
              "    padding: 0 0 0 0;\n",
              "    width: 32px;\n",
              "  }\n",
              "\n",
              "  .colab-df-quickchart:hover {\n",
              "    background-color: #E2EBFA;\n",
              "    box-shadow: 0px 1px 2px rgba(60, 64, 67, 0.3), 0px 1px 3px 1px rgba(60, 64, 67, 0.15);\n",
              "    fill: #174EA6;\n",
              "  }\n",
              "\n",
              "  [theme=dark] .colab-df-quickchart {\n",
              "    background-color: #3B4455;\n",
              "    fill: #D2E3FC;\n",
              "  }\n",
              "\n",
              "  [theme=dark] .colab-df-quickchart:hover {\n",
              "    background-color: #434B5C;\n",
              "    box-shadow: 0px 1px 3px 1px rgba(0, 0, 0, 0.15);\n",
              "    filter: drop-shadow(0px 1px 2px rgba(0, 0, 0, 0.3));\n",
              "    fill: #FFFFFF;\n",
              "  }\n",
              "</style>\n",
              "\n",
              "    <script>\n",
              "      async function quickchart(key) {\n",
              "        const containerElement = document.querySelector('#' + key);\n",
              "        const charts = await google.colab.kernel.invokeFunction(\n",
              "            'suggestCharts', [key], {});\n",
              "      }\n",
              "    </script>\n",
              "\n",
              "      <script>\n",
              "\n",
              "function displayQuickchartButton(domScope) {\n",
              "  let quickchartButtonEl =\n",
              "    domScope.querySelector('#df-cd22a3e2-1a1c-4b1d-83e8-f637d028ed26 button.colab-df-quickchart');\n",
              "  quickchartButtonEl.style.display =\n",
              "    google.colab.kernel.accessAllowed ? 'block' : 'none';\n",
              "}\n",
              "\n",
              "        displayQuickchartButton(document);\n",
              "      </script>\n",
              "      <style>\n",
              "    .colab-df-container {\n",
              "      display:flex;\n",
              "      flex-wrap:wrap;\n",
              "      gap: 12px;\n",
              "    }\n",
              "\n",
              "    .colab-df-convert {\n",
              "      background-color: #E8F0FE;\n",
              "      border: none;\n",
              "      border-radius: 50%;\n",
              "      cursor: pointer;\n",
              "      display: none;\n",
              "      fill: #1967D2;\n",
              "      height: 32px;\n",
              "      padding: 0 0 0 0;\n",
              "      width: 32px;\n",
              "    }\n",
              "\n",
              "    .colab-df-convert:hover {\n",
              "      background-color: #E2EBFA;\n",
              "      box-shadow: 0px 1px 2px rgba(60, 64, 67, 0.3), 0px 1px 3px 1px rgba(60, 64, 67, 0.15);\n",
              "      fill: #174EA6;\n",
              "    }\n",
              "\n",
              "    [theme=dark] .colab-df-convert {\n",
              "      background-color: #3B4455;\n",
              "      fill: #D2E3FC;\n",
              "    }\n",
              "\n",
              "    [theme=dark] .colab-df-convert:hover {\n",
              "      background-color: #434B5C;\n",
              "      box-shadow: 0px 1px 3px 1px rgba(0, 0, 0, 0.15);\n",
              "      filter: drop-shadow(0px 1px 2px rgba(0, 0, 0, 0.3));\n",
              "      fill: #FFFFFF;\n",
              "    }\n",
              "  </style>\n",
              "\n",
              "      <script>\n",
              "        const buttonEl =\n",
              "          document.querySelector('#df-e6f83931-e06d-4a74-bc26-bc1de6d4fa99 button.colab-df-convert');\n",
              "        buttonEl.style.display =\n",
              "          google.colab.kernel.accessAllowed ? 'block' : 'none';\n",
              "\n",
              "        async function convertToInteractive(key) {\n",
              "          const element = document.querySelector('#df-e6f83931-e06d-4a74-bc26-bc1de6d4fa99');\n",
              "          const dataTable =\n",
              "            await google.colab.kernel.invokeFunction('convertToInteractive',\n",
              "                                                     [key], {});\n",
              "          if (!dataTable) return;\n",
              "\n",
              "          const docLinkHtml = 'Like what you see? Visit the ' +\n",
              "            '<a target=\"_blank\" href=https://colab.research.google.com/notebooks/data_table.ipynb>data table notebook</a>'\n",
              "            + ' to learn more about interactive tables.';\n",
              "          element.innerHTML = '';\n",
              "          dataTable['output_type'] = 'display_data';\n",
              "          await google.colab.output.renderOutput(dataTable, element);\n",
              "          const docLink = document.createElement('div');\n",
              "          docLink.innerHTML = docLinkHtml;\n",
              "          element.appendChild(docLink);\n",
              "        }\n",
              "      </script>\n",
              "    </div>\n",
              "  </div>\n"
            ]
          },
          "metadata": {},
          "execution_count": 196
        }
      ]
    },
    {
      "cell_type": "code",
      "source": [
        "# Convert scaled collisions to collisions based on 2022 min and max records\n",
        "mod3bResultEx21 = np.round((mod3bResultEx[:10])*a21 +b21)\n",
        "mod3bResultEx21"
      ],
      "metadata": {
        "colab": {
          "base_uri": "https://localhost:8080/",
          "height": 363
        },
        "id": "Q7UXbx4sZ8bd",
        "outputId": "db1deb65-d639-477c-8af5-8d1449759018"
      },
      "execution_count": 197,
      "outputs": [
        {
          "output_type": "execute_result",
          "data": {
            "text/plain": [
              "   Validation result for 10 records from a test run\n",
              "0                                             226.0\n",
              "1                                             245.0\n",
              "2                                             309.0\n",
              "3                                             310.0\n",
              "4                                             387.0\n",
              "5                                             329.0\n",
              "6                                             275.0\n",
              "7                                             291.0\n",
              "8                                             258.0\n",
              "9                                             312.0"
            ],
            "text/html": [
              "\n",
              "\n",
              "  <div id=\"df-5f946d3b-659f-45df-a36a-e4bfb9f9773e\">\n",
              "    <div class=\"colab-df-container\">\n",
              "      <div>\n",
              "<style scoped>\n",
              "    .dataframe tbody tr th:only-of-type {\n",
              "        vertical-align: middle;\n",
              "    }\n",
              "\n",
              "    .dataframe tbody tr th {\n",
              "        vertical-align: top;\n",
              "    }\n",
              "\n",
              "    .dataframe thead th {\n",
              "        text-align: right;\n",
              "    }\n",
              "</style>\n",
              "<table border=\"1\" class=\"dataframe\">\n",
              "  <thead>\n",
              "    <tr style=\"text-align: right;\">\n",
              "      <th></th>\n",
              "      <th>Validation result for 10 records from a test run</th>\n",
              "    </tr>\n",
              "  </thead>\n",
              "  <tbody>\n",
              "    <tr>\n",
              "      <th>0</th>\n",
              "      <td>226.0</td>\n",
              "    </tr>\n",
              "    <tr>\n",
              "      <th>1</th>\n",
              "      <td>245.0</td>\n",
              "    </tr>\n",
              "    <tr>\n",
              "      <th>2</th>\n",
              "      <td>309.0</td>\n",
              "    </tr>\n",
              "    <tr>\n",
              "      <th>3</th>\n",
              "      <td>310.0</td>\n",
              "    </tr>\n",
              "    <tr>\n",
              "      <th>4</th>\n",
              "      <td>387.0</td>\n",
              "    </tr>\n",
              "    <tr>\n",
              "      <th>5</th>\n",
              "      <td>329.0</td>\n",
              "    </tr>\n",
              "    <tr>\n",
              "      <th>6</th>\n",
              "      <td>275.0</td>\n",
              "    </tr>\n",
              "    <tr>\n",
              "      <th>7</th>\n",
              "      <td>291.0</td>\n",
              "    </tr>\n",
              "    <tr>\n",
              "      <th>8</th>\n",
              "      <td>258.0</td>\n",
              "    </tr>\n",
              "    <tr>\n",
              "      <th>9</th>\n",
              "      <td>312.0</td>\n",
              "    </tr>\n",
              "  </tbody>\n",
              "</table>\n",
              "</div>\n",
              "      <button class=\"colab-df-convert\" onclick=\"convertToInteractive('df-5f946d3b-659f-45df-a36a-e4bfb9f9773e')\"\n",
              "              title=\"Convert this dataframe to an interactive table.\"\n",
              "              style=\"display:none;\">\n",
              "\n",
              "  <svg xmlns=\"http://www.w3.org/2000/svg\" height=\"24px\"viewBox=\"0 0 24 24\"\n",
              "       width=\"24px\">\n",
              "    <path d=\"M0 0h24v24H0V0z\" fill=\"none\"/>\n",
              "    <path d=\"M18.56 5.44l.94 2.06.94-2.06 2.06-.94-2.06-.94-.94-2.06-.94 2.06-2.06.94zm-11 1L8.5 8.5l.94-2.06 2.06-.94-2.06-.94L8.5 2.5l-.94 2.06-2.06.94zm10 10l.94 2.06.94-2.06 2.06-.94-2.06-.94-.94-2.06-.94 2.06-2.06.94z\"/><path d=\"M17.41 7.96l-1.37-1.37c-.4-.4-.92-.59-1.43-.59-.52 0-1.04.2-1.43.59L10.3 9.45l-7.72 7.72c-.78.78-.78 2.05 0 2.83L4 21.41c.39.39.9.59 1.41.59.51 0 1.02-.2 1.41-.59l7.78-7.78 2.81-2.81c.8-.78.8-2.07 0-2.86zM5.41 20L4 18.59l7.72-7.72 1.47 1.35L5.41 20z\"/>\n",
              "  </svg>\n",
              "      </button>\n",
              "\n",
              "\n",
              "\n",
              "    <div id=\"df-f445ce36-6a6f-48f9-8ef7-75e5358de5f6\">\n",
              "      <button class=\"colab-df-quickchart\" onclick=\"quickchart('df-f445ce36-6a6f-48f9-8ef7-75e5358de5f6')\"\n",
              "              title=\"Suggest charts.\"\n",
              "              style=\"display:none;\">\n",
              "\n",
              "<svg xmlns=\"http://www.w3.org/2000/svg\" height=\"24px\"viewBox=\"0 0 24 24\"\n",
              "     width=\"24px\">\n",
              "    <g>\n",
              "        <path d=\"M19 3H5c-1.1 0-2 .9-2 2v14c0 1.1.9 2 2 2h14c1.1 0 2-.9 2-2V5c0-1.1-.9-2-2-2zM9 17H7v-7h2v7zm4 0h-2V7h2v10zm4 0h-2v-4h2v4z\"/>\n",
              "    </g>\n",
              "</svg>\n",
              "      </button>\n",
              "    </div>\n",
              "\n",
              "<style>\n",
              "  .colab-df-quickchart {\n",
              "    background-color: #E8F0FE;\n",
              "    border: none;\n",
              "    border-radius: 50%;\n",
              "    cursor: pointer;\n",
              "    display: none;\n",
              "    fill: #1967D2;\n",
              "    height: 32px;\n",
              "    padding: 0 0 0 0;\n",
              "    width: 32px;\n",
              "  }\n",
              "\n",
              "  .colab-df-quickchart:hover {\n",
              "    background-color: #E2EBFA;\n",
              "    box-shadow: 0px 1px 2px rgba(60, 64, 67, 0.3), 0px 1px 3px 1px rgba(60, 64, 67, 0.15);\n",
              "    fill: #174EA6;\n",
              "  }\n",
              "\n",
              "  [theme=dark] .colab-df-quickchart {\n",
              "    background-color: #3B4455;\n",
              "    fill: #D2E3FC;\n",
              "  }\n",
              "\n",
              "  [theme=dark] .colab-df-quickchart:hover {\n",
              "    background-color: #434B5C;\n",
              "    box-shadow: 0px 1px 3px 1px rgba(0, 0, 0, 0.15);\n",
              "    filter: drop-shadow(0px 1px 2px rgba(0, 0, 0, 0.3));\n",
              "    fill: #FFFFFF;\n",
              "  }\n",
              "</style>\n",
              "\n",
              "    <script>\n",
              "      async function quickchart(key) {\n",
              "        const containerElement = document.querySelector('#' + key);\n",
              "        const charts = await google.colab.kernel.invokeFunction(\n",
              "            'suggestCharts', [key], {});\n",
              "      }\n",
              "    </script>\n",
              "\n",
              "      <script>\n",
              "\n",
              "function displayQuickchartButton(domScope) {\n",
              "  let quickchartButtonEl =\n",
              "    domScope.querySelector('#df-f445ce36-6a6f-48f9-8ef7-75e5358de5f6 button.colab-df-quickchart');\n",
              "  quickchartButtonEl.style.display =\n",
              "    google.colab.kernel.accessAllowed ? 'block' : 'none';\n",
              "}\n",
              "\n",
              "        displayQuickchartButton(document);\n",
              "      </script>\n",
              "      <style>\n",
              "    .colab-df-container {\n",
              "      display:flex;\n",
              "      flex-wrap:wrap;\n",
              "      gap: 12px;\n",
              "    }\n",
              "\n",
              "    .colab-df-convert {\n",
              "      background-color: #E8F0FE;\n",
              "      border: none;\n",
              "      border-radius: 50%;\n",
              "      cursor: pointer;\n",
              "      display: none;\n",
              "      fill: #1967D2;\n",
              "      height: 32px;\n",
              "      padding: 0 0 0 0;\n",
              "      width: 32px;\n",
              "    }\n",
              "\n",
              "    .colab-df-convert:hover {\n",
              "      background-color: #E2EBFA;\n",
              "      box-shadow: 0px 1px 2px rgba(60, 64, 67, 0.3), 0px 1px 3px 1px rgba(60, 64, 67, 0.15);\n",
              "      fill: #174EA6;\n",
              "    }\n",
              "\n",
              "    [theme=dark] .colab-df-convert {\n",
              "      background-color: #3B4455;\n",
              "      fill: #D2E3FC;\n",
              "    }\n",
              "\n",
              "    [theme=dark] .colab-df-convert:hover {\n",
              "      background-color: #434B5C;\n",
              "      box-shadow: 0px 1px 3px 1px rgba(0, 0, 0, 0.15);\n",
              "      filter: drop-shadow(0px 1px 2px rgba(0, 0, 0, 0.3));\n",
              "      fill: #FFFFFF;\n",
              "    }\n",
              "  </style>\n",
              "\n",
              "      <script>\n",
              "        const buttonEl =\n",
              "          document.querySelector('#df-5f946d3b-659f-45df-a36a-e4bfb9f9773e button.colab-df-convert');\n",
              "        buttonEl.style.display =\n",
              "          google.colab.kernel.accessAllowed ? 'block' : 'none';\n",
              "\n",
              "        async function convertToInteractive(key) {\n",
              "          const element = document.querySelector('#df-5f946d3b-659f-45df-a36a-e4bfb9f9773e');\n",
              "          const dataTable =\n",
              "            await google.colab.kernel.invokeFunction('convertToInteractive',\n",
              "                                                     [key], {});\n",
              "          if (!dataTable) return;\n",
              "\n",
              "          const docLinkHtml = 'Like what you see? Visit the ' +\n",
              "            '<a target=\"_blank\" href=https://colab.research.google.com/notebooks/data_table.ipynb>data table notebook</a>'\n",
              "            + ' to learn more about interactive tables.';\n",
              "          element.innerHTML = '';\n",
              "          dataTable['output_type'] = 'display_data';\n",
              "          await google.colab.output.renderOutput(dataTable, element);\n",
              "          const docLink = document.createElement('div');\n",
              "          docLink.innerHTML = docLinkHtml;\n",
              "          element.appendChild(docLink);\n",
              "        }\n",
              "      </script>\n",
              "    </div>\n",
              "  </div>\n"
            ]
          },
          "metadata": {},
          "execution_count": 197
        }
      ]
    },
    {
      "cell_type": "code",
      "source": [
        "# Convert scaled collisions to collisions based on 2022 min and max records\n",
        "mod3bResultEx22 = np.round((mod3bResultEx[:10])*a22 +b22)\n",
        "mod3bResultEx22"
      ],
      "metadata": {
        "outputId": "d53420fd-8ac4-43f6-91e7-ddca304bb3e2",
        "colab": {
          "base_uri": "https://localhost:8080/",
          "height": 363
        },
        "id": "4pRdVIUyZ8vQ"
      },
      "execution_count": 198,
      "outputs": [
        {
          "output_type": "execute_result",
          "data": {
            "text/plain": [
              "   Validation result for 10 records from a test run\n",
              "0                                             218.0\n",
              "1                                             235.0\n",
              "2                                             293.0\n",
              "3                                             295.0\n",
              "4                                             364.0\n",
              "5                                             311.0\n",
              "6                                             263.0\n",
              "7                                             277.0\n",
              "8                                             247.0\n",
              "9                                             296.0"
            ],
            "text/html": [
              "\n",
              "\n",
              "  <div id=\"df-2da1d37c-a820-4e54-94b3-1572d37a1bbe\">\n",
              "    <div class=\"colab-df-container\">\n",
              "      <div>\n",
              "<style scoped>\n",
              "    .dataframe tbody tr th:only-of-type {\n",
              "        vertical-align: middle;\n",
              "    }\n",
              "\n",
              "    .dataframe tbody tr th {\n",
              "        vertical-align: top;\n",
              "    }\n",
              "\n",
              "    .dataframe thead th {\n",
              "        text-align: right;\n",
              "    }\n",
              "</style>\n",
              "<table border=\"1\" class=\"dataframe\">\n",
              "  <thead>\n",
              "    <tr style=\"text-align: right;\">\n",
              "      <th></th>\n",
              "      <th>Validation result for 10 records from a test run</th>\n",
              "    </tr>\n",
              "  </thead>\n",
              "  <tbody>\n",
              "    <tr>\n",
              "      <th>0</th>\n",
              "      <td>218.0</td>\n",
              "    </tr>\n",
              "    <tr>\n",
              "      <th>1</th>\n",
              "      <td>235.0</td>\n",
              "    </tr>\n",
              "    <tr>\n",
              "      <th>2</th>\n",
              "      <td>293.0</td>\n",
              "    </tr>\n",
              "    <tr>\n",
              "      <th>3</th>\n",
              "      <td>295.0</td>\n",
              "    </tr>\n",
              "    <tr>\n",
              "      <th>4</th>\n",
              "      <td>364.0</td>\n",
              "    </tr>\n",
              "    <tr>\n",
              "      <th>5</th>\n",
              "      <td>311.0</td>\n",
              "    </tr>\n",
              "    <tr>\n",
              "      <th>6</th>\n",
              "      <td>263.0</td>\n",
              "    </tr>\n",
              "    <tr>\n",
              "      <th>7</th>\n",
              "      <td>277.0</td>\n",
              "    </tr>\n",
              "    <tr>\n",
              "      <th>8</th>\n",
              "      <td>247.0</td>\n",
              "    </tr>\n",
              "    <tr>\n",
              "      <th>9</th>\n",
              "      <td>296.0</td>\n",
              "    </tr>\n",
              "  </tbody>\n",
              "</table>\n",
              "</div>\n",
              "      <button class=\"colab-df-convert\" onclick=\"convertToInteractive('df-2da1d37c-a820-4e54-94b3-1572d37a1bbe')\"\n",
              "              title=\"Convert this dataframe to an interactive table.\"\n",
              "              style=\"display:none;\">\n",
              "\n",
              "  <svg xmlns=\"http://www.w3.org/2000/svg\" height=\"24px\"viewBox=\"0 0 24 24\"\n",
              "       width=\"24px\">\n",
              "    <path d=\"M0 0h24v24H0V0z\" fill=\"none\"/>\n",
              "    <path d=\"M18.56 5.44l.94 2.06.94-2.06 2.06-.94-2.06-.94-.94-2.06-.94 2.06-2.06.94zm-11 1L8.5 8.5l.94-2.06 2.06-.94-2.06-.94L8.5 2.5l-.94 2.06-2.06.94zm10 10l.94 2.06.94-2.06 2.06-.94-2.06-.94-.94-2.06-.94 2.06-2.06.94z\"/><path d=\"M17.41 7.96l-1.37-1.37c-.4-.4-.92-.59-1.43-.59-.52 0-1.04.2-1.43.59L10.3 9.45l-7.72 7.72c-.78.78-.78 2.05 0 2.83L4 21.41c.39.39.9.59 1.41.59.51 0 1.02-.2 1.41-.59l7.78-7.78 2.81-2.81c.8-.78.8-2.07 0-2.86zM5.41 20L4 18.59l7.72-7.72 1.47 1.35L5.41 20z\"/>\n",
              "  </svg>\n",
              "      </button>\n",
              "\n",
              "\n",
              "\n",
              "    <div id=\"df-ac78cc50-8e87-4638-9057-26b07cba894f\">\n",
              "      <button class=\"colab-df-quickchart\" onclick=\"quickchart('df-ac78cc50-8e87-4638-9057-26b07cba894f')\"\n",
              "              title=\"Suggest charts.\"\n",
              "              style=\"display:none;\">\n",
              "\n",
              "<svg xmlns=\"http://www.w3.org/2000/svg\" height=\"24px\"viewBox=\"0 0 24 24\"\n",
              "     width=\"24px\">\n",
              "    <g>\n",
              "        <path d=\"M19 3H5c-1.1 0-2 .9-2 2v14c0 1.1.9 2 2 2h14c1.1 0 2-.9 2-2V5c0-1.1-.9-2-2-2zM9 17H7v-7h2v7zm4 0h-2V7h2v10zm4 0h-2v-4h2v4z\"/>\n",
              "    </g>\n",
              "</svg>\n",
              "      </button>\n",
              "    </div>\n",
              "\n",
              "<style>\n",
              "  .colab-df-quickchart {\n",
              "    background-color: #E8F0FE;\n",
              "    border: none;\n",
              "    border-radius: 50%;\n",
              "    cursor: pointer;\n",
              "    display: none;\n",
              "    fill: #1967D2;\n",
              "    height: 32px;\n",
              "    padding: 0 0 0 0;\n",
              "    width: 32px;\n",
              "  }\n",
              "\n",
              "  .colab-df-quickchart:hover {\n",
              "    background-color: #E2EBFA;\n",
              "    box-shadow: 0px 1px 2px rgba(60, 64, 67, 0.3), 0px 1px 3px 1px rgba(60, 64, 67, 0.15);\n",
              "    fill: #174EA6;\n",
              "  }\n",
              "\n",
              "  [theme=dark] .colab-df-quickchart {\n",
              "    background-color: #3B4455;\n",
              "    fill: #D2E3FC;\n",
              "  }\n",
              "\n",
              "  [theme=dark] .colab-df-quickchart:hover {\n",
              "    background-color: #434B5C;\n",
              "    box-shadow: 0px 1px 3px 1px rgba(0, 0, 0, 0.15);\n",
              "    filter: drop-shadow(0px 1px 2px rgba(0, 0, 0, 0.3));\n",
              "    fill: #FFFFFF;\n",
              "  }\n",
              "</style>\n",
              "\n",
              "    <script>\n",
              "      async function quickchart(key) {\n",
              "        const containerElement = document.querySelector('#' + key);\n",
              "        const charts = await google.colab.kernel.invokeFunction(\n",
              "            'suggestCharts', [key], {});\n",
              "      }\n",
              "    </script>\n",
              "\n",
              "      <script>\n",
              "\n",
              "function displayQuickchartButton(domScope) {\n",
              "  let quickchartButtonEl =\n",
              "    domScope.querySelector('#df-ac78cc50-8e87-4638-9057-26b07cba894f button.colab-df-quickchart');\n",
              "  quickchartButtonEl.style.display =\n",
              "    google.colab.kernel.accessAllowed ? 'block' : 'none';\n",
              "}\n",
              "\n",
              "        displayQuickchartButton(document);\n",
              "      </script>\n",
              "      <style>\n",
              "    .colab-df-container {\n",
              "      display:flex;\n",
              "      flex-wrap:wrap;\n",
              "      gap: 12px;\n",
              "    }\n",
              "\n",
              "    .colab-df-convert {\n",
              "      background-color: #E8F0FE;\n",
              "      border: none;\n",
              "      border-radius: 50%;\n",
              "      cursor: pointer;\n",
              "      display: none;\n",
              "      fill: #1967D2;\n",
              "      height: 32px;\n",
              "      padding: 0 0 0 0;\n",
              "      width: 32px;\n",
              "    }\n",
              "\n",
              "    .colab-df-convert:hover {\n",
              "      background-color: #E2EBFA;\n",
              "      box-shadow: 0px 1px 2px rgba(60, 64, 67, 0.3), 0px 1px 3px 1px rgba(60, 64, 67, 0.15);\n",
              "      fill: #174EA6;\n",
              "    }\n",
              "\n",
              "    [theme=dark] .colab-df-convert {\n",
              "      background-color: #3B4455;\n",
              "      fill: #D2E3FC;\n",
              "    }\n",
              "\n",
              "    [theme=dark] .colab-df-convert:hover {\n",
              "      background-color: #434B5C;\n",
              "      box-shadow: 0px 1px 3px 1px rgba(0, 0, 0, 0.15);\n",
              "      filter: drop-shadow(0px 1px 2px rgba(0, 0, 0, 0.3));\n",
              "      fill: #FFFFFF;\n",
              "    }\n",
              "  </style>\n",
              "\n",
              "      <script>\n",
              "        const buttonEl =\n",
              "          document.querySelector('#df-2da1d37c-a820-4e54-94b3-1572d37a1bbe button.colab-df-convert');\n",
              "        buttonEl.style.display =\n",
              "          google.colab.kernel.accessAllowed ? 'block' : 'none';\n",
              "\n",
              "        async function convertToInteractive(key) {\n",
              "          const element = document.querySelector('#df-2da1d37c-a820-4e54-94b3-1572d37a1bbe');\n",
              "          const dataTable =\n",
              "            await google.colab.kernel.invokeFunction('convertToInteractive',\n",
              "                                                     [key], {});\n",
              "          if (!dataTable) return;\n",
              "\n",
              "          const docLinkHtml = 'Like what you see? Visit the ' +\n",
              "            '<a target=\"_blank\" href=https://colab.research.google.com/notebooks/data_table.ipynb>data table notebook</a>'\n",
              "            + ' to learn more about interactive tables.';\n",
              "          element.innerHTML = '';\n",
              "          dataTable['output_type'] = 'display_data';\n",
              "          await google.colab.output.renderOutput(dataTable, element);\n",
              "          const docLink = document.createElement('div');\n",
              "          docLink.innerHTML = docLinkHtml;\n",
              "          element.appendChild(docLink);\n",
              "        }\n",
              "      </script>\n",
              "    </div>\n",
              "  </div>\n"
            ]
          },
          "metadata": {},
          "execution_count": 198
        }
      ]
    },
    {
      "cell_type": "code",
      "source": [
        "# Convert scaled collisions to collisions based on 2023 min and max records\n",
        "mod3bResultEx23 = np.round((mod3bResultEx[:10])*a23 +b23)\n",
        "mod3bResultEx23"
      ],
      "metadata": {
        "colab": {
          "base_uri": "https://localhost:8080/",
          "height": 363
        },
        "id": "1q-2wuDiaK-w",
        "outputId": "0d84b89c-703e-4f82-d4aa-3b6ea797183f"
      },
      "execution_count": 199,
      "outputs": [
        {
          "output_type": "execute_result",
          "data": {
            "text/plain": [
              "   Validation result for 10 records from a test run\n",
              "0                                             166.0\n",
              "1                                             183.0\n",
              "2                                             242.0\n",
              "3                                             243.0\n",
              "4                                             313.0\n",
              "5                                             260.0\n",
              "6                                             211.0\n",
              "7                                             226.0\n",
              "8                                             196.0\n",
              "9                                             245.0"
            ],
            "text/html": [
              "\n",
              "\n",
              "  <div id=\"df-c96e1a87-47a8-47a3-abfa-19f320fad7c4\">\n",
              "    <div class=\"colab-df-container\">\n",
              "      <div>\n",
              "<style scoped>\n",
              "    .dataframe tbody tr th:only-of-type {\n",
              "        vertical-align: middle;\n",
              "    }\n",
              "\n",
              "    .dataframe tbody tr th {\n",
              "        vertical-align: top;\n",
              "    }\n",
              "\n",
              "    .dataframe thead th {\n",
              "        text-align: right;\n",
              "    }\n",
              "</style>\n",
              "<table border=\"1\" class=\"dataframe\">\n",
              "  <thead>\n",
              "    <tr style=\"text-align: right;\">\n",
              "      <th></th>\n",
              "      <th>Validation result for 10 records from a test run</th>\n",
              "    </tr>\n",
              "  </thead>\n",
              "  <tbody>\n",
              "    <tr>\n",
              "      <th>0</th>\n",
              "      <td>166.0</td>\n",
              "    </tr>\n",
              "    <tr>\n",
              "      <th>1</th>\n",
              "      <td>183.0</td>\n",
              "    </tr>\n",
              "    <tr>\n",
              "      <th>2</th>\n",
              "      <td>242.0</td>\n",
              "    </tr>\n",
              "    <tr>\n",
              "      <th>3</th>\n",
              "      <td>243.0</td>\n",
              "    </tr>\n",
              "    <tr>\n",
              "      <th>4</th>\n",
              "      <td>313.0</td>\n",
              "    </tr>\n",
              "    <tr>\n",
              "      <th>5</th>\n",
              "      <td>260.0</td>\n",
              "    </tr>\n",
              "    <tr>\n",
              "      <th>6</th>\n",
              "      <td>211.0</td>\n",
              "    </tr>\n",
              "    <tr>\n",
              "      <th>7</th>\n",
              "      <td>226.0</td>\n",
              "    </tr>\n",
              "    <tr>\n",
              "      <th>8</th>\n",
              "      <td>196.0</td>\n",
              "    </tr>\n",
              "    <tr>\n",
              "      <th>9</th>\n",
              "      <td>245.0</td>\n",
              "    </tr>\n",
              "  </tbody>\n",
              "</table>\n",
              "</div>\n",
              "      <button class=\"colab-df-convert\" onclick=\"convertToInteractive('df-c96e1a87-47a8-47a3-abfa-19f320fad7c4')\"\n",
              "              title=\"Convert this dataframe to an interactive table.\"\n",
              "              style=\"display:none;\">\n",
              "\n",
              "  <svg xmlns=\"http://www.w3.org/2000/svg\" height=\"24px\"viewBox=\"0 0 24 24\"\n",
              "       width=\"24px\">\n",
              "    <path d=\"M0 0h24v24H0V0z\" fill=\"none\"/>\n",
              "    <path d=\"M18.56 5.44l.94 2.06.94-2.06 2.06-.94-2.06-.94-.94-2.06-.94 2.06-2.06.94zm-11 1L8.5 8.5l.94-2.06 2.06-.94-2.06-.94L8.5 2.5l-.94 2.06-2.06.94zm10 10l.94 2.06.94-2.06 2.06-.94-2.06-.94-.94-2.06-.94 2.06-2.06.94z\"/><path d=\"M17.41 7.96l-1.37-1.37c-.4-.4-.92-.59-1.43-.59-.52 0-1.04.2-1.43.59L10.3 9.45l-7.72 7.72c-.78.78-.78 2.05 0 2.83L4 21.41c.39.39.9.59 1.41.59.51 0 1.02-.2 1.41-.59l7.78-7.78 2.81-2.81c.8-.78.8-2.07 0-2.86zM5.41 20L4 18.59l7.72-7.72 1.47 1.35L5.41 20z\"/>\n",
              "  </svg>\n",
              "      </button>\n",
              "\n",
              "\n",
              "\n",
              "    <div id=\"df-24fb92af-be7e-48aa-9c86-015be63791a8\">\n",
              "      <button class=\"colab-df-quickchart\" onclick=\"quickchart('df-24fb92af-be7e-48aa-9c86-015be63791a8')\"\n",
              "              title=\"Suggest charts.\"\n",
              "              style=\"display:none;\">\n",
              "\n",
              "<svg xmlns=\"http://www.w3.org/2000/svg\" height=\"24px\"viewBox=\"0 0 24 24\"\n",
              "     width=\"24px\">\n",
              "    <g>\n",
              "        <path d=\"M19 3H5c-1.1 0-2 .9-2 2v14c0 1.1.9 2 2 2h14c1.1 0 2-.9 2-2V5c0-1.1-.9-2-2-2zM9 17H7v-7h2v7zm4 0h-2V7h2v10zm4 0h-2v-4h2v4z\"/>\n",
              "    </g>\n",
              "</svg>\n",
              "      </button>\n",
              "    </div>\n",
              "\n",
              "<style>\n",
              "  .colab-df-quickchart {\n",
              "    background-color: #E8F0FE;\n",
              "    border: none;\n",
              "    border-radius: 50%;\n",
              "    cursor: pointer;\n",
              "    display: none;\n",
              "    fill: #1967D2;\n",
              "    height: 32px;\n",
              "    padding: 0 0 0 0;\n",
              "    width: 32px;\n",
              "  }\n",
              "\n",
              "  .colab-df-quickchart:hover {\n",
              "    background-color: #E2EBFA;\n",
              "    box-shadow: 0px 1px 2px rgba(60, 64, 67, 0.3), 0px 1px 3px 1px rgba(60, 64, 67, 0.15);\n",
              "    fill: #174EA6;\n",
              "  }\n",
              "\n",
              "  [theme=dark] .colab-df-quickchart {\n",
              "    background-color: #3B4455;\n",
              "    fill: #D2E3FC;\n",
              "  }\n",
              "\n",
              "  [theme=dark] .colab-df-quickchart:hover {\n",
              "    background-color: #434B5C;\n",
              "    box-shadow: 0px 1px 3px 1px rgba(0, 0, 0, 0.15);\n",
              "    filter: drop-shadow(0px 1px 2px rgba(0, 0, 0, 0.3));\n",
              "    fill: #FFFFFF;\n",
              "  }\n",
              "</style>\n",
              "\n",
              "    <script>\n",
              "      async function quickchart(key) {\n",
              "        const containerElement = document.querySelector('#' + key);\n",
              "        const charts = await google.colab.kernel.invokeFunction(\n",
              "            'suggestCharts', [key], {});\n",
              "      }\n",
              "    </script>\n",
              "\n",
              "      <script>\n",
              "\n",
              "function displayQuickchartButton(domScope) {\n",
              "  let quickchartButtonEl =\n",
              "    domScope.querySelector('#df-24fb92af-be7e-48aa-9c86-015be63791a8 button.colab-df-quickchart');\n",
              "  quickchartButtonEl.style.display =\n",
              "    google.colab.kernel.accessAllowed ? 'block' : 'none';\n",
              "}\n",
              "\n",
              "        displayQuickchartButton(document);\n",
              "      </script>\n",
              "      <style>\n",
              "    .colab-df-container {\n",
              "      display:flex;\n",
              "      flex-wrap:wrap;\n",
              "      gap: 12px;\n",
              "    }\n",
              "\n",
              "    .colab-df-convert {\n",
              "      background-color: #E8F0FE;\n",
              "      border: none;\n",
              "      border-radius: 50%;\n",
              "      cursor: pointer;\n",
              "      display: none;\n",
              "      fill: #1967D2;\n",
              "      height: 32px;\n",
              "      padding: 0 0 0 0;\n",
              "      width: 32px;\n",
              "    }\n",
              "\n",
              "    .colab-df-convert:hover {\n",
              "      background-color: #E2EBFA;\n",
              "      box-shadow: 0px 1px 2px rgba(60, 64, 67, 0.3), 0px 1px 3px 1px rgba(60, 64, 67, 0.15);\n",
              "      fill: #174EA6;\n",
              "    }\n",
              "\n",
              "    [theme=dark] .colab-df-convert {\n",
              "      background-color: #3B4455;\n",
              "      fill: #D2E3FC;\n",
              "    }\n",
              "\n",
              "    [theme=dark] .colab-df-convert:hover {\n",
              "      background-color: #434B5C;\n",
              "      box-shadow: 0px 1px 3px 1px rgba(0, 0, 0, 0.15);\n",
              "      filter: drop-shadow(0px 1px 2px rgba(0, 0, 0, 0.3));\n",
              "      fill: #FFFFFF;\n",
              "    }\n",
              "  </style>\n",
              "\n",
              "      <script>\n",
              "        const buttonEl =\n",
              "          document.querySelector('#df-c96e1a87-47a8-47a3-abfa-19f320fad7c4 button.colab-df-convert');\n",
              "        buttonEl.style.display =\n",
              "          google.colab.kernel.accessAllowed ? 'block' : 'none';\n",
              "\n",
              "        async function convertToInteractive(key) {\n",
              "          const element = document.querySelector('#df-c96e1a87-47a8-47a3-abfa-19f320fad7c4');\n",
              "          const dataTable =\n",
              "            await google.colab.kernel.invokeFunction('convertToInteractive',\n",
              "                                                     [key], {});\n",
              "          if (!dataTable) return;\n",
              "\n",
              "          const docLinkHtml = 'Like what you see? Visit the ' +\n",
              "            '<a target=\"_blank\" href=https://colab.research.google.com/notebooks/data_table.ipynb>data table notebook</a>'\n",
              "            + ' to learn more about interactive tables.';\n",
              "          element.innerHTML = '';\n",
              "          dataTable['output_type'] = 'display_data';\n",
              "          await google.colab.output.renderOutput(dataTable, element);\n",
              "          const docLink = document.createElement('div');\n",
              "          docLink.innerHTML = docLinkHtml;\n",
              "          element.appendChild(docLink);\n",
              "        }\n",
              "      </script>\n",
              "    </div>\n",
              "  </div>\n"
            ]
          },
          "metadata": {},
          "execution_count": 199
        }
      ]
    },
    {
      "cell_type": "markdown",
      "source": [
        "## Note re further one-hot encoded DNN datasets"
      ],
      "metadata": {
        "id": "l3mnUz3br1HV"
      }
    },
    {
      "cell_type": "markdown",
      "source": [
        " We had forther DNN datasets for colour-coded precipitation scales and beaufort wind scale based wind categories. These have not been included here as yet.  "
      ],
      "metadata": {
        "id": "X_wa8Yo7sL0M"
      }
    },
    {
      "cell_type": "markdown",
      "source": [
        "# Closing comment\n",
        "The examples demonstrate how DNNs can predict results that are in line with an existing pattern and take interactions between elements into account.\n",
        "Some of the DNN models predicted results that were reasonably close and in some case surprisingly close to the recorded results for the matching test records. Overall, the models would be over simplistic, e.g. they can't quantify the human and behavioural aspects that are a large contributing factor. A factor in the results may be that the validation data was also 'cleaned' together with the training data so many anomalies were removed and handled. This also reduced the quantity of records. The validation data was not fully 'unseen'. An improvement would be to test the models on the later data for 2023 that was made available since."
      ],
      "metadata": {
        "id": "iDABfh7YxS-f"
      }
    },
    {
      "cell_type": "markdown",
      "source": [
        "# References / resources\n",
        "- Keras relu https://keras.io/api/layers/activation_layers/relu/"
      ],
      "metadata": {
        "id": "E5gbp5vAImhy"
      }
    }
  ]
}